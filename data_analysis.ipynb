{
  "nbformat": 4,
  "nbformat_minor": 0,
  "metadata": {
    "colab": {
      "provenance": [],
      "collapsed_sections": [
        "Cl4FmGKpRANp",
        "hU-BIUETRImS",
        "bbrWA8SsRSpk",
        "F-VG4BzvRcRS",
        "IaxnvQxPRgmM"
      ]
    },
    "kernelspec": {
      "name": "python3",
      "display_name": "Python 3"
    },
    "language_info": {
      "name": "python"
    }
  },
  "cells": [
    {
      "cell_type": "markdown",
      "source": [
        "# US State Food and Demographic Data Analysis\n",
        "\n",
        "John Platt\n",
        "\n",
        "Matt McClements\n",
        "\n",
        "December 6, 2022\n",
        "\n",
        "In this notebook, given a database, we aim to analyze data on obesity scores, socioeconomic status and fast food popularity across each state to answer our main question:\n",
        "\n",
        "**How is fast food restaurant choice across the US states affected by the number of given fast food restaurants in each state, obesity rates, unemployment rates, and median household income?**\n",
        "\n",
        "\n",
        "\n"
      ],
      "metadata": {
        "id": "tgK4JayJlvAC"
      }
    },
    {
      "cell_type": "markdown",
      "source": [
        "# Our Database (US_State_Food.db)\n",
        "\n",
        "Our database has six different tables described in the table below.\n",
        "\n",
        "Here is a **needed** link to download our database-https://drive.google.com/file/d/1mrtOndnzf2zMonpI70WKeDyNZOZlWGTG/view?usp=sharing"
      ],
      "metadata": {
        "id": "dyrsR5zboCKQ"
      }
    },
    {
      "cell_type": "markdown",
      "source": [
        "Database Table Name|Description|Primary key\n",
        "-|-|-\n",
        "obesity_by_state|Shows the overall obesity score and overall rank for each US State (50 rows)|StateID\n",
        "category_by_state|Shows the rank for different health categories across each state (150 rows)|CategoryID\n",
        "state_numfastfood|Shows the number of certain fast food restaurants per 100,000 people in each state (500 rows)|FastFoodID\n",
        "state_fast_food|Shows the data for all fast food restaurants, full service restaurants, and most popular fast food restaurants in each state (50 rows)|StateID\n",
        "state_medincome|Shows the data for current median income across each state (50 rows)|StateID\n",
        "state_unemp|Shows the data for the unemployment rate in 2021 and 2022 across each state (100 rows)|unempID"
      ],
      "metadata": {
        "id": "YaKk28llcC6C"
      }
    },
    {
      "cell_type": "markdown",
      "source": [
        "# Functions we are using to perform analysis\n",
        "\n",
        "Since we want to create all sorts of plots that describe and analyze our data, we will create functions (all involve extracting data from our database) that help to break this complex problem into smaller pieces."
      ],
      "metadata": {
        "id": "cAdaCX4VPkJe"
      }
    },
    {
      "cell_type": "markdown",
      "source": [
        "# execute_sql(db, sql_q)\n",
        "\n",
        "Takes in the data base and an sql query to output a pandas dataframe\n"
      ],
      "metadata": {
        "id": "fxUQ-3QkcOly"
      }
    },
    {
      "cell_type": "code",
      "source": [
        "def execute_sql(db, sql_q):\n",
        "  import sqlite3 as sql\n",
        "  conn = sql.connect(db)\n",
        "  cur = conn.cursor()\n",
        "  result = cur.execute(sql_q)\n",
        "\n",
        "  return result.fetchall()"
      ],
      "metadata": {
        "id": "X8iKAVwacMEM"
      },
      "execution_count": null,
      "outputs": []
    },
    {
      "cell_type": "markdown",
      "source": [
        "# execute_sqldf(queryStatement,dbFile,columnList) function\n",
        "\n",
        "This function will allow us to obtain any subset of data from our database sorted and filtered however we like. This function returns the subset of data obtained from our database as a pandas dataframe."
      ],
      "metadata": {
        "id": "PfchxVzhQdfr"
      }
    },
    {
      "cell_type": "code",
      "source": [
        "def execute_sqldf(queryStatement,dbFile,columnList):\n",
        "  '''Given a query, database, and list of columns we are selecting, return a dataframe that illustrates the query execution'''\n",
        "  import sqlite3 as sql\n",
        "  import pandas as pd\n",
        "  connection=sql.connect(dbFile)\n",
        "  cursor=connection.cursor()\n",
        "  exe=cursor.execute(queryStatement)\n",
        "  return pd.DataFrame(exe.fetchall(),columns=columnList)"
      ],
      "metadata": {
        "id": "AosVM-2MPnxN"
      },
      "execution_count": null,
      "outputs": []
    },
    {
      "cell_type": "markdown",
      "source": [
        "# rankbycategory(state,dbFile) function\n",
        "\n",
        "This function allows us to determine where a given state in the US ranks for our three given categories (Food & Fitness, Health Consequences, Obesity & Overweight Prevalence). It prints the rankings for all three categories of a given State. There is no return statement."
      ],
      "metadata": {
        "id": "pmG62tjwQoWQ"
      }
    },
    {
      "cell_type": "code",
      "execution_count": null,
      "metadata": {
        "id": "bXLi0oDka1Av"
      },
      "outputs": [],
      "source": [
        "def rankbycategory(state,dbFile):\n",
        "  '''Given a state and database, determine the rankings for a given state across all three categories. There is no return. This function prints\n",
        "  the rankings for the different categories for a state.'''\n",
        "  import sqlite3 as sql\n",
        "  import pandas as pd\n",
        "  connection=sql.connect(dbFile)\n",
        "  cursor=connection.cursor()\n",
        "  exe=cursor.execute('SELECT * FROM category_by_state')\n",
        "  cat_df=pd.DataFrame(exe.fetchall(),columns=['CategoryID','State','Category','Ranking'])\n",
        "  print(cat_df.loc[cat_df['State']==state,['State','Category','Ranking']].set_index('State'))"
      ]
    },
    {
      "cell_type": "markdown",
      "source": [
        "# state_comp_boxplots(db,table1,table2,tab1_cols,tab2_cols,cat_var,num_var) function\n",
        "\n",
        "This function allows us to combine subsets of data extracted from two different tables in our database that have 50 rows and create comparative boxplots that will show distributions of a numerical variable across different versions of a categorical variable (categorical variable from our combined data on x axis and numerical variable from our combined data on y axis). It returns nothing. The output of the function is the comparative boxplots being displayed."
      ],
      "metadata": {
        "id": "bP4jR4sFQum2"
      }
    },
    {
      "cell_type": "code",
      "source": [
        "def state_comp_boxplots(db,table1,table2,tab1_cols,tab2_cols,cat_var,num_var,xlab,ylab):\n",
        "  '''\n",
        "  Given a database, two tables from that database, subsets of data from the two tables, a categorical variable to be on the x axis\n",
        "  of the comparative boxplots, and a numerical variable to be on the y axis, create comparative boxplots that display distributions of a numerical\n",
        "  variable across different versions of a categorical variable. This function assumes we are grabbing data from the tables of our database with\n",
        "  stateID as the primary key and we want/need to combine data from two different tables. It also assumes that one of our tables has data on the most\n",
        "  popular fast food restaurant in each state.\n",
        "  Parameters:\n",
        "  db - string - Our database file\n",
        "  table1 - string - The name of the first table we want to extract data from\n",
        "  table2 - string - The name of the second table we want to extract data from\n",
        "  tab1_cols - string - The set of columns we want to extract from the first table\n",
        "  tab2_cols - string - The set of columns we want to extract from the second table\n",
        "  cat_var - string - The categorical variable for our comparative boxplots\n",
        "  num_var - string - The numerical variable for our comparative boxplots\n",
        "  xlab - string - The x label for our plots\n",
        "  ylab - string - The y label for our plots\n",
        "  Return:\n",
        "  None. The output of the function is the comparative boxplots being displayed\n",
        "  '''\n",
        "  import pandas as pd\n",
        "  import plotly.express as px\n",
        "  #Obtain pandas dataframe by selecting certain columns from the first table\n",
        "  df1=execute_sqldf(f'SELECT {tab1_cols} FROM {table1}',db,tab1_cols.split(',')).set_index('StateID')\n",
        "  #Obtain pandas dataframe by selecting certain columns from the second table\n",
        "  df2=execute_sqldf(f'SELECT {tab2_cols} FROM {table2}',db,tab2_cols.split(',')).set_index('StateID')\n",
        "  #Combine the two pandas dataframes\n",
        "  comb_df=pd.concat([df1,df2],axis=1,sort=True)\n",
        "  #Create comparative boxplots\n",
        "  fig=px.box(comb_df,x=cat_var,y=num_var, color='mostPopular',hover_data=['State'])\n",
        "  fig.update_xaxes(title_text=xlab)\n",
        "  fig.update_yaxes(title_text=ylab)\n",
        "  fig.show()"
      ],
      "metadata": {
        "id": "_Zr0g1qIP1Tu"
      },
      "execution_count": null,
      "outputs": []
    },
    {
      "cell_type": "markdown",
      "source": [
        "# state_comp_boxplots2(db,table1,table2,tab1_cols,tab2_cols,cat_var,num_var) function\n",
        "\n",
        "This function allows us to combine subsets of data of different lengths extracted from two different tables in our database that and create comparative boxplots that will show distributions of a numerical variable across different versions of a categorical variable (categorical variable from our combined data on x axis and numerical variable from our combined data on y axis). It returns nothing. The output of the function is the comparative boxplots being displayed."
      ],
      "metadata": {
        "id": "iHu-lDzMQ1TQ"
      }
    },
    {
      "cell_type": "code",
      "source": [
        "def state_comp_boxplots2(db,table1,table2,tab1_cols,tab2_cols,cat_var,num_var,xlab,ylab):\n",
        "  '''\n",
        "  Given a database, two tables from that database, subsets of data from the two tables, a categorical variable to be on the x axis\n",
        "  of the comparative boxplots, and a numerical variable to be on the y axis, create comparative boxplots that display distributions of a numerical\n",
        "  variable across different versions of a categorical variable. This function assumes we want/need to combine data from two different tables and one of those tables\n",
        "  includes unemployment data across different years.\n",
        "  Parameters:\n",
        "  db - string - Our database file\n",
        "  table1 - string - The name of the first table we want to extract data from\n",
        "  table2 - string - The name of the second table we want to extract data from\n",
        "  tab1_cols - string - The set of columns we want to extract from the first table\n",
        "  tab2_cols - string - The set of columns we want to extract from the second table\n",
        "  cat_var - string - The categorical variable for our comparative boxplots\n",
        "  num_var - string - The numerical variable for our comparative boxplots\n",
        "  xlab - string - The x label for our plots\n",
        "  ylab - string - The y label for our plots\n",
        "  Return:\n",
        "  None. The output of the function is the comparative boxplots being displayed\n",
        "  '''\n",
        "  import pandas as pd\n",
        "  import plotly.express as px\n",
        "  #Obtain pandas dataframe by selecting certain columns from the first table\n",
        "  df1=execute_sqldf(f'SELECT {tab1_cols} FROM {table1}',db,tab1_cols.split(',')).set_index('State')\n",
        "  #Obtain pandas dataframe by selecting certain columns from the second table\n",
        "  df2=execute_sqldf(f'SELECT {tab2_cols} FROM {table2}',db,tab2_cols.split(',')).set_index('State')\n",
        "  #Combine the two pandas dataframes\n",
        "  comb_df=df1.join(df2,how='inner')\n",
        "  #Add state as column\n",
        "  comb_df['State']=comb_df.index\n",
        "  #Create comparative boxplots\n",
        "  fig=px.box(comb_df,x=cat_var,y=num_var,color='Unemp_Year', hover_data=['State'])\n",
        "  fig.update_xaxes(title_text=xlab)\n",
        "  fig.update_yaxes(title_text=ylab)\n",
        "  fig.show()"
      ],
      "metadata": {
        "id": "w1_7yx3HP5w8"
      },
      "execution_count": null,
      "outputs": []
    },
    {
      "cell_type": "markdown",
      "source": [
        "# state_barplots(db,table,cols,cat_var,num_var,color_var) function\n",
        "\n",
        "This function extracts a single subset of data in our database and creates a bar plot (categorical variable on x axis and numerical variable on y axis) colored by one of the variables in the subset of data. It has no return. It displays the bar plots."
      ],
      "metadata": {
        "id": "_eehtK-wQ7Nv"
      }
    },
    {
      "cell_type": "code",
      "source": [
        "def state_barplots(db,table,cols,cat_var,num_var,color_var,xlab,ylab):\n",
        "  '''\n",
        "  Given a database, two tables from that database, subsets of data from the two tables, a categorical variable to be on the x axis\n",
        "  of the barplot, and a numerical variable to be on the y axis, create a barplot that display a numerical\n",
        "  variable across different versions of a categorical variable. This function assumes we don't want/need to combine data from two different tables.\n",
        "  Parameters:\n",
        "  db - string - Our database file\n",
        "  table - string - The name of the first table we want to extract data from\n",
        "  cols - string - The set of columns we want to extract from the first table\n",
        "  cat_var - string - The categorical variable for our barplot\n",
        "  num_var - string - The numerical variable for our barplot\n",
        "  xlab - string - The x axis label for our plots\n",
        "  ylab - string- The y axis label for our plots\n",
        "  Return:\n",
        "  None. The output of the function is the barplots being displayed\n",
        "  '''\n",
        "  import pandas as pd\n",
        "  import plotly.express as px\n",
        "  #Obtain pandas dataframe by selecting certain columns from the first table\n",
        "  df=execute_sqldf(f'SELECT {cols} FROM {table}',db,cols.split(','))\n",
        "  #Create barplot\n",
        "  fig=px.bar(df, x=cat_var, y=num_var, color=color_var)\n",
        "  fig.update_xaxes(title_text=xlab)\n",
        "  fig.update_yaxes(title_text=ylab)\n",
        "  fig.show()"
      ],
      "metadata": {
        "id": "CTZcIhRCP-hu"
      },
      "execution_count": null,
      "outputs": []
    },
    {
      "cell_type": "markdown",
      "source": [
        "# state_barplots2(db,table1,table2,tab1_cols,tab2_cols,cat_var,num_var) function\n",
        "This function extracts and combines two subsets of data extracted from our database and creates a bar plot (categorical variable on x axis and numerical variable on y axis) colored by one of the variables in the combined data. It has no return. It displays the bar plots."
      ],
      "metadata": {
        "id": "Cl4FmGKpRANp"
      }
    },
    {
      "cell_type": "code",
      "source": [
        "def state_barplots2(db,table1,table2,tab1_cols,tab2_cols,cat_var,num_var,xlab,ylab):\n",
        "  '''\n",
        "  Given a database, two tables from that database, subsets of data from the two tables, a categorical variable to be on the x axis\n",
        "  of the barplots, a numerical variable to be on the y axis, and a color var, create barplots that display distributions of a numerical\n",
        "  variable across different versions of a categorical variable. This function assumes we want/need to combine data from two different tables and one of those tables\n",
        "  includes data on most popular fast food restaurant.\n",
        "  Parameters:\n",
        "  db - string - Our database file\n",
        "  table1 - string - The name of the first table we want to extract data from\n",
        "  table2 - string - The name of the second table we want to extract data from\n",
        "  tab1_cols - string - The set of columns we want to extract from the first table\n",
        "  tab2_cols - string - The set of columns we want to extract from the second table\n",
        "  cat_var - string - The categorical variable for our barplots\n",
        "  num_var - string - The numerical variable for our barplots\n",
        "  xlab - string - The x axis label for our plots\n",
        "  ylab - string - The y axis label for our plots\n",
        "  Return:\n",
        "  None. The output of the function is the barplots being displayed\n",
        "  '''\n",
        "  import pandas as pd\n",
        "  import plotly.express as px\n",
        "  #Obtain pandas dataframe by selecting certain columns from the first table\n",
        "  df1=execute_sqldf(f'SELECT {tab1_cols} FROM {table1}',db,tab1_cols.split(',')).set_index('State')\n",
        "  #Obtain pandas dataframe by selecting certain columns from the second table\n",
        "  df2=execute_sqldf(f'SELECT {tab2_cols} FROM {table2}',db,tab2_cols.split(',')).set_index('State')\n",
        "  #Combine the two pandas dataframes\n",
        "  comb_df=df1.join(df2,how='inner')\n",
        "  #Add state as column\n",
        "  comb_df['State']=comb_df.index\n",
        "  #Create barplots\n",
        "  fig=px.bar(comb_df,x=cat_var,y=num_var,color='mostPopular')\n",
        "  fig.update_xaxes(title_text=xlab)\n",
        "  fig.update_yaxes(title_text=ylab)\n",
        "  fig.show()"
      ],
      "metadata": {
        "id": "VoisI4W_QBow"
      },
      "execution_count": null,
      "outputs": []
    },
    {
      "cell_type": "markdown",
      "source": [
        "# facet_state_barplots(db,table,cols,cat_var,num_var,color_var,facet_var) function\n",
        "This function extracts and combines two subsets of data extracted from our database and creates a bar plot (categorical variable on x axis and numerical variable on y axis) colored by one of the variables in the combined data and facet wrapped by another variable. It has no return. It displays the bar plots."
      ],
      "metadata": {
        "id": "hU-BIUETRImS"
      }
    },
    {
      "cell_type": "code",
      "source": [
        "def facet_state_barplots2(db,table1,table2,tab1_cols,tab2_cols,cat_var,num_var,facet_var,xlab,ylab):\n",
        "  '''\n",
        "  Given a database, two tables from that database, subsets of data from the two tables, a categorical variable to be on the x axis\n",
        "  of the barplots, a numerical variable to be on the y axis, and a color var, create barplots that display distributions of a numerical\n",
        "  variable across different versions of a categorical variable. This function assumes we want/need to combine data from two different tables and one of those tables\n",
        "  includes data on most popular fast food restaurant.\n",
        "  Parameters:\n",
        "  db - string - Our database file\n",
        "  table1 - string - The name of the first table we want to extract data from\n",
        "  table2 - string - The name of the second table we want to extract data from\n",
        "  tab1_cols - string - The set of columns we want to extract from the first table\n",
        "  tab2_cols - string - The set of columns we want to extract from the second table\n",
        "  cat_var - string - The categorical variable for our barplots\n",
        "  num_var - string - The numerical variable for our barplots\n",
        "  xlab - string - The x axis label for our plots\n",
        "  ylab - string - The y axis label for our plots\n",
        "  Return:\n",
        "  None. The output of the function is the barplots being displayed\n",
        "  '''\n",
        "  import pandas as pd\n",
        "  import plotly.express as px\n",
        "  #Obtain pandas dataframe by selecting certain columns from the first table\n",
        "  df1=execute_sqldf(f'SELECT {tab1_cols} FROM {table1}',db,tab1_cols.split(',')).set_index('State')\n",
        "  #Obtain pandas dataframe by selecting certain columns from the second table\n",
        "  df2=execute_sqldf(f'SELECT {tab2_cols} FROM {table2}',db,tab2_cols.split(',')).set_index('State')\n",
        "  #Combine the two pandas dataframes\n",
        "  comb_df=df1.join(df2,how='inner')\n",
        "  #Add state as column\n",
        "  comb_df['State']=comb_df.index\n",
        "  #Create barplots\n",
        "  fig=px.bar(comb_df,x=cat_var,y=num_var,color='mostPopular',facet_col=facet_var)\n",
        "  fig.update_xaxes(title_text=xlab)\n",
        "  fig.update_yaxes(title_text=ylab)\n",
        "  fig.show()"
      ],
      "metadata": {
        "id": "ssQgt7_dQFYm"
      },
      "execution_count": null,
      "outputs": []
    },
    {
      "cell_type": "markdown",
      "source": [
        "# state_sidebysidebarplots(db,table,cols,cat_var,num_var,color_var,column) function\n",
        "This function extracts a single subset of data in our database and creates side by side bar plots (categorical variable on x axis and numerical variable on y axis) colored by one of the variables in the subset of data. It has no return. It displays the side by side bar plots."
      ],
      "metadata": {
        "id": "bbrWA8SsRSpk"
      }
    },
    {
      "cell_type": "code",
      "source": [
        "def state_sidebysidebarplots(db,table,cols,cat_var,num_var,color_var,column,xlab,ylab):\n",
        "  '''\n",
        "  Given a database, a table from that database, subsets of data from the table, a categorical variable to be on the x axis\n",
        "  of the barplot, and a numerical variable to be on the y axis, create a side by side barplot that display a numerical\n",
        "  variable across different versions of a categorical variable. This function assumes we don't want/need to combine data from two different tables.\n",
        "  Parameters:\n",
        "  db - string - Our database file\n",
        "  table - string - The name of the first table we want to extract data from\n",
        "  cols - string - The set of columns we want to extract from the first table\n",
        "  cat_var - string - The categorical variable for our barplot\n",
        "  num_var - string - The numerical variable for our barplot\n",
        "  color_var - string - The variable we are coloring each of our bars by\n",
        "  column - string - column for the bar plots to be grouped by\n",
        "  xlab - string - The x axis label for our plots\n",
        "  ylab - string- The y axis label for our plots\n",
        "  Return:\n",
        "  None. The output of the function is the barplots being displayed\n",
        "  '''\n",
        "  import pandas as pd\n",
        "  import plotly.express as px\n",
        "  #Obtain pandas dataframe by selecting certain columns from the first table\n",
        "  df=execute_sqldf(f'SELECT {cols} FROM {table}',db,cols.split(','))\n",
        "  df[column]=df[column].astype('string')\n",
        "  #Create side by side barplot\n",
        "  fig=px.bar(df, x=cat_var, y=num_var, color=color_var, barmode='group')\n",
        "  fig.show()"
      ],
      "metadata": {
        "id": "WlM9yKYNQJia"
      },
      "execution_count": null,
      "outputs": []
    },
    {
      "cell_type": "markdown",
      "source": [
        "# state_stackedbarplots(db,table,cols,cat_var,num_var,color_var,column) function\n",
        "\n",
        "This function extracts a single subset of data in our database and creates stacked bar plots (categorical variable on x axis and numerical variable on y axis) colored by one of the variables in the subset of data. It has no return. It displays the stacked bar plots."
      ],
      "metadata": {
        "id": "F-VG4BzvRcRS"
      }
    },
    {
      "cell_type": "code",
      "source": [
        "def state_stackedbarplots(db,table,cols,cat_var,num_var,color_var,column,xlab,ylab):\n",
        "  '''\n",
        "  Given a database, a table from that database, subsets of data from the table, a categorical variable to be on the x axis\n",
        "  of the barplot, and a numerical variable to be on the y axis, create a stacked barplot that display a numerical\n",
        "  variable across different versions of a categorical variable. This function assumes we don't want/need to combine data from two different tables.\n",
        "  Parameters:\n",
        "  db - string - Our database file\n",
        "  table - string - The name of the first table we want to extract data from\n",
        "  ols - string - The set of columns we want to extract from the first table\n",
        "  cat_var - string - The categorical variable for our barplot\n",
        "  num_var - string - The numerical variable for our barplot\n",
        "  color_var - string - The variable we are coloring each of our bars by\n",
        "  column - string - column for the bar plots to be grouped by\n",
        "  xlab - string - The x axis label for all of our plots\n",
        "  ylab - string - The y axis label for all of our plots\n",
        "  Return:\n",
        "  None. The output of the function is the barplots being displayed\n",
        "  '''\n",
        "  import pandas as pd\n",
        "  import plotly.express as px\n",
        "  #Obtain pandas dataframe by selecting certain columns from the first table\n",
        "  df=execute_sqldf(f'SELECT {cols} FROM {table}',db,cols.split(','))\n",
        "  df[column]=df[column].astype('string')\n",
        "  #Create side by side barplot\n",
        "  fig=px.bar(df, x=cat_var, y=num_var, color=color_var)\n",
        "  fig.show()"
      ],
      "metadata": {
        "id": "lVfMIbfnQN0t"
      },
      "execution_count": null,
      "outputs": []
    },
    {
      "cell_type": "markdown",
      "source": [
        "# facet_state_stackedbarplots(db,table1,table2,tab1_cols,tab2_cols,cat_var,num_var,facet_var) function\n",
        "\n",
        "This function extracts and combines two subsets of data extracted from our database and creates stacked bar plots (categorical variable on x axis and numerical variable on y axis) colored by one of the variables in the combined data and facet wrapped by another variable. It has no return. It displays the bar plots."
      ],
      "metadata": {
        "id": "IaxnvQxPRgmM"
      }
    },
    {
      "cell_type": "code",
      "source": [
        "def facet_state_stackedbarplots(db,table1,table2,tab1_cols,tab2_cols,cat_var,num_var,facet_var,color_var):\n",
        "  '''\n",
        "  Given a database, two tables from that database, subsets of data from the two tables, a categorical variable to be on the x axis\n",
        "  of the barplots, a numerical variable to be on the y axis, and a color var, create barplots that display distributions of a numerical\n",
        "  variable across different versions of a categorical variable. This function assumes we want/need to combine data from two different tables and one of those tables\n",
        "  includes data on most popular fast food restaurant.\n",
        "  Parameters:\n",
        "  db - string - Our database file\n",
        "  table1 - string - The name of the first table we want to extract data from\n",
        "  table2 - string - The name of the second table we want to extract data from\n",
        "  tab1_cols - string - The set of columns we want to extract from the first table\n",
        "  tab2_cols - string - The set of columns we want to extract from the second table\n",
        "  cat_var - string - The categorical variable for our barplots\n",
        "  num_var - string - The numerical variable for our barplots\n",
        "  xlab - string - The x axis label for our plots\n",
        "  ylab - string - The y axis label for our plots\n",
        "  Return:\n",
        "  None. The output of the function is the barplots being displayed\n",
        "  '''\n",
        "  import pandas as pd\n",
        "  import plotly.express as px\n",
        "  #Obtain pandas dataframe by selecting certain columns from the first table\n",
        "  df1=execute_sqldf(f'SELECT {tab1_cols} FROM {table1}',db,tab1_cols.split(',')).set_index('State')\n",
        "  #Obtain pandas dataframe by selecting certain columns from the second table\n",
        "  df2=execute_sqldf(f'SELECT {tab2_cols} FROM {table2}',db,tab2_cols.split(',')).set_index('State')\n",
        "  #Combine the two pandas dataframes\n",
        "  comb_df=df1.join(df2,how='inner')\n",
        "  #Add state as column\n",
        "  comb_df['State']=comb_df.index\n",
        "  #Create barplots\n",
        "  fig=px.bar(comb_df,x=cat_var,y=num_var,color=color_var,facet_col=facet_var,facet_col_wrap=4)\n",
        "  fig.show()"
      ],
      "metadata": {
        "id": "n-uJ65McQQ6c"
      },
      "execution_count": null,
      "outputs": []
    },
    {
      "cell_type": "markdown",
      "source": [
        "# mostpop(resturant) Function\n",
        "\n",
        "This function takes in the parameter \"restauant\" and outputs the States, along with their stateID and total obesity score based on which resturant is used."
      ],
      "metadata": {
        "id": "AbDQVINYEHwC"
      }
    },
    {
      "cell_type": "code",
      "source": [
        "def mostpop(restaurant):\n",
        "  '''\n",
        "  Parameters:\n",
        "  restaurant - string - a fast food restaurant\n",
        "\n",
        "  '''\n",
        "  db = 'US_State_Food.db'\n",
        "  table = 'obesity_by_state'\n",
        "  cols = 'StateID, State, Total_Score'\n",
        "\n",
        "\n",
        "  qry = f'SELECT {cols} FROM {table} '\n",
        "  data1 = execute_sql(db, qry)\n",
        "\n",
        "  frame1 = pd.DataFrame(data1, columns = cols.split(','))\n",
        "# creates a pandas dataframe from the obesity_by_state data with the columns StateID, State, and Total_Score\n",
        "  db = 'US_State_Food.db'\n",
        "  table = 'state_fast_food'\n",
        "  cols = 'mostPopular'\n",
        "\n",
        "\n",
        "  qry = f'SELECT {cols} FROM {table} '\n",
        "  data3 = execute_sql(db, qry)\n",
        "\n",
        "  frame2 = pd.DataFrame(data3, columns = cols.split(','))\n",
        "# creates a pandas dataframe from the state_fast_food data with the column mostPopular\n",
        "  master = pd.concat([frame1, frame2], axis = 1)\n",
        "# concatenates the two above dataframes into one\n",
        "  final = master.loc[master[\"mostPopular\"] == restaurant ,:]\n",
        "# looks into the concatenated data and finds the states that corresponds to to most popular restaurant inputed into the \"restaurant\" parameter\n",
        "\n",
        "  return final\n"
      ],
      "metadata": {
        "id": "Q4ztSJk_EFaM"
      },
      "execution_count": null,
      "outputs": []
    },
    {
      "cell_type": "markdown",
      "source": [
        "# Data Analysis\n",
        "In this section, given the functions above, we now perform analysis on our state food data to answer the main question:\n",
        "\n",
        "**How is fast food restaurant choice across the US states affected by the number of given fast food restaurants in each state, obesity rates, unemployment rates, and median household income?**"
      ],
      "metadata": {
        "id": "ttwWZWo7nqnS"
      }
    },
    {
      "cell_type": "markdown",
      "source": [
        "# Cloropleth map for favorite fast food restaurant by state"
      ],
      "metadata": {
        "id": "Qkt8B0F1aNuv"
      }
    },
    {
      "cell_type": "markdown",
      "source": [
        "Here we have a map that shows the distribution of most popular fast food resturant for each state. We obtain the locations for each state in the map by adding a state_abb column to our state_fast_food dataframe. We use the px.cloropleth function below to create the cloropleth map with a selected color sequence of length 12, setting our locations to the data of the state_abb column, the color that the states will be colored by is chosen by our mostPopular variable, etc. As we can see, Chick-fil-a is the most popular resturant by a long shot with McDonalds and In and Out being some of the runner ups. We can also see in this plot that there are some regional trends to take into account. For example the entire southwest and all of the southeast except for West Virginia perfered the same fast food resturant. Also, the southern part of the western region all perfered in and out."
      ],
      "metadata": {
        "id": "GEaMYsUpjaVU"
      }
    },
    {
      "cell_type": "code",
      "source": [
        "import plotly.express as px\n",
        "cols='State,mostPopular'\n",
        "db='US_State_Food.db'\n",
        "df=execute_sqldf(f\"SELECT {cols} FROM state_fast_food\",db,cols.split(','))\n",
        "#Add state abbreviation column to df corresponding to each state in state column\n",
        "df['State_abb']=['AL','AK','AZ','AR','CA','CO','CT','DE','FL','GA',\n",
        "           'HI','ID','IL','IN','IA','KS','KY','LA','ME','MD','MA',\n",
        "           'MI','MN','MS','MO','MT','NE','NV','NH','NJ','NM',\n",
        "           'NY','NC','ND','OH','OK','OR','PA','RI','SC','SD','TN','TX',\n",
        "           'UT','VT','VA','WA','WV','WI','WY']\n",
        "fig = px.choropleth(df,\n",
        "                    locations='State_abb',\n",
        "                    locationmode=\"USA-states\",\n",
        "                   scope=\"usa\",\n",
        "                   color='mostPopular',\n",
        "                    color_discrete_sequence=['red','orange','blue','purple','yellow','green','brown','pink','lightblue','lightpink','gold','lightgreen']\n",
        "                    )\n",
        "fig.show()"
      ],
      "metadata": {
        "colab": {
          "base_uri": "https://localhost:8080/",
          "height": 542
        },
        "id": "pJHzGpPHaLJN",
        "outputId": "52635f5a-28b6-44a0-fa2c-39ef688c175a"
      },
      "execution_count": null,
      "outputs": [
        {
          "output_type": "display_data",
          "data": {
            "text/html": [
              "<html>\n",
              "<head><meta charset=\"utf-8\" /></head>\n",
              "<body>\n",
              "    <div>            <script src=\"https://cdnjs.cloudflare.com/ajax/libs/mathjax/2.7.5/MathJax.js?config=TeX-AMS-MML_SVG\"></script><script type=\"text/javascript\">if (window.MathJax) {MathJax.Hub.Config({SVG: {font: \"STIX-Web\"}});}</script>                <script type=\"text/javascript\">window.PlotlyConfig = {MathJaxConfig: 'local'};</script>\n",
              "        <script src=\"https://cdn.plot.ly/plotly-2.8.3.min.js\"></script>                <div id=\"61f4272a-13a5-4792-b6dd-57240b920220\" class=\"plotly-graph-div\" style=\"height:525px; width:100%;\"></div>            <script type=\"text/javascript\">                                    window.PLOTLYENV=window.PLOTLYENV || {};                                    if (document.getElementById(\"61f4272a-13a5-4792-b6dd-57240b920220\")) {                    Plotly.newPlot(                        \"61f4272a-13a5-4792-b6dd-57240b920220\",                        [{\"colorscale\":[[0.0,\"red\"],[1.0,\"red\"]],\"geo\":\"geo\",\"hovertemplate\":\"mostPopular=Chick-Fil-A<br>State_abb=%{location}<extra></extra>\",\"locationmode\":\"USA-states\",\"locations\":[\"AL\",\"AR\",\"CO\",\"DE\",\"FL\",\"GA\",\"ID\",\"KY\",\"LA\",\"MD\",\"MS\",\"MO\",\"NM\",\"NC\",\"OH\",\"OK\",\"PA\",\"SC\",\"TN\",\"TX\",\"VA\"],\"name\":\"Chick-Fil-A\",\"showlegend\":true,\"showscale\":false,\"z\":[1,1,1,1,1,1,1,1,1,1,1,1,1,1,1,1,1,1,1,1,1],\"type\":\"choropleth\"},{\"colorscale\":[[0.0,\"orange\"],[1.0,\"orange\"]],\"geo\":\"geo\",\"hovertemplate\":\"mostPopular=McDonald's<br>State_abb=%{location}<extra></extra>\",\"locationmode\":\"USA-states\",\"locations\":[\"AK\",\"IN\",\"ME\",\"MA\",\"MI\",\"NE\",\"NH\",\"ND\",\"RI\",\"SD\",\"WV\",\"WI\"],\"name\":\"McDonald's\",\"showlegend\":true,\"showscale\":false,\"z\":[1,1,1,1,1,1,1,1,1,1,1,1],\"type\":\"choropleth\"},{\"colorscale\":[[0.0,\"blue\"],[1.0,\"blue\"]],\"geo\":\"geo\",\"hovertemplate\":\"mostPopular=In-N-Out<br>State_abb=%{location}<extra></extra>\",\"locationmode\":\"USA-states\",\"locations\":[\"AZ\",\"CA\",\"NV\",\"UT\"],\"name\":\"In-N-Out\",\"showlegend\":true,\"showscale\":false,\"z\":[1,1,1,1],\"type\":\"choropleth\"},{\"colorscale\":[[0.0,\"purple\"],[1.0,\"purple\"]],\"geo\":\"geo\",\"hovertemplate\":\"mostPopular=Panda Express<br>State_abb=%{location}<extra></extra>\",\"locationmode\":\"USA-states\",\"locations\":[\"CT\",\"HI\",\"MN\",\"NJ\",\"OR\"],\"name\":\"Panda Express\",\"showlegend\":true,\"showscale\":false,\"z\":[1,1,1,1,1],\"type\":\"choropleth\"},{\"colorscale\":[[0.0,\"yellow\"],[1.0,\"yellow\"]],\"geo\":\"geo\",\"hovertemplate\":\"mostPopular=White Castle<br>State_abb=%{location}<extra></extra>\",\"locationmode\":\"USA-states\",\"locations\":[\"IL\"],\"name\":\"White Castle\",\"showlegend\":true,\"showscale\":false,\"z\":[1],\"type\":\"choropleth\"},{\"colorscale\":[[0.0,\"green\"],[1.0,\"green\"]],\"geo\":\"geo\",\"hovertemplate\":\"mostPopular=Wendy's<br>State_abb=%{location}<extra></extra>\",\"locationmode\":\"USA-states\",\"locations\":[\"IA\"],\"name\":\"Wendy's\",\"showlegend\":true,\"showscale\":false,\"z\":[1],\"type\":\"choropleth\"},{\"colorscale\":[[0.0,\"brown\"],[1.0,\"brown\"]],\"geo\":\"geo\",\"hovertemplate\":\"mostPopular=Jack In the Box<br>State_abb=%{location}<extra></extra>\",\"locationmode\":\"USA-states\",\"locations\":[\"KS\"],\"name\":\"Jack In the Box\",\"showlegend\":true,\"showscale\":false,\"z\":[1],\"type\":\"choropleth\"},{\"colorscale\":[[0.0,\"pink\"],[1.0,\"pink\"]],\"geo\":\"geo\",\"hovertemplate\":\"mostPopular=Sonic<br>State_abb=%{location}<extra></extra>\",\"locationmode\":\"USA-states\",\"locations\":[\"MT\"],\"name\":\"Sonic\",\"showlegend\":true,\"showscale\":false,\"z\":[1],\"type\":\"choropleth\"},{\"colorscale\":[[0.0,\"lightblue\"],[1.0,\"lightblue\"]],\"geo\":\"geo\",\"hovertemplate\":\"mostPopular=Church's<br>State_abb=%{location}<extra></extra>\",\"locationmode\":\"USA-states\",\"locations\":[\"NY\"],\"name\":\"Church's\",\"showlegend\":true,\"showscale\":false,\"z\":[1],\"type\":\"choropleth\"},{\"colorscale\":[[0.0,\"lightpink\"],[1.0,\"lightpink\"]],\"geo\":\"geo\",\"hovertemplate\":\"mostPopular=Taco Bell<br>State_abb=%{location}<extra></extra>\",\"locationmode\":\"USA-states\",\"locations\":[\"VT\"],\"name\":\"Taco Bell\",\"showlegend\":true,\"showscale\":false,\"z\":[1],\"type\":\"choropleth\"},{\"colorscale\":[[0.0,\"gold\"],[1.0,\"gold\"]],\"geo\":\"geo\",\"hovertemplate\":\"mostPopular=Charley's<br>State_abb=%{location}<extra></extra>\",\"locationmode\":\"USA-states\",\"locations\":[\"WA\"],\"name\":\"Charley's\",\"showlegend\":true,\"showscale\":false,\"z\":[1],\"type\":\"choropleth\"},{\"colorscale\":[[0.0,\"lightgreen\"],[1.0,\"lightgreen\"]],\"geo\":\"geo\",\"hovertemplate\":\"mostPopular=Carl's Jr<br>State_abb=%{location}<extra></extra>\",\"locationmode\":\"USA-states\",\"locations\":[\"WY\"],\"name\":\"Carl's Jr\",\"showlegend\":true,\"showscale\":false,\"z\":[1],\"type\":\"choropleth\"}],                        {\"template\":{\"data\":{\"bar\":[{\"error_x\":{\"color\":\"#2a3f5f\"},\"error_y\":{\"color\":\"#2a3f5f\"},\"marker\":{\"line\":{\"color\":\"#E5ECF6\",\"width\":0.5},\"pattern\":{\"fillmode\":\"overlay\",\"size\":10,\"solidity\":0.2}},\"type\":\"bar\"}],\"barpolar\":[{\"marker\":{\"line\":{\"color\":\"#E5ECF6\",\"width\":0.5},\"pattern\":{\"fillmode\":\"overlay\",\"size\":10,\"solidity\":0.2}},\"type\":\"barpolar\"}],\"carpet\":[{\"aaxis\":{\"endlinecolor\":\"#2a3f5f\",\"gridcolor\":\"white\",\"linecolor\":\"white\",\"minorgridcolor\":\"white\",\"startlinecolor\":\"#2a3f5f\"},\"baxis\":{\"endlinecolor\":\"#2a3f5f\",\"gridcolor\":\"white\",\"linecolor\":\"white\",\"minorgridcolor\":\"white\",\"startlinecolor\":\"#2a3f5f\"},\"type\":\"carpet\"}],\"choropleth\":[{\"colorbar\":{\"outlinewidth\":0,\"ticks\":\"\"},\"type\":\"choropleth\"}],\"contour\":[{\"colorbar\":{\"outlinewidth\":0,\"ticks\":\"\"},\"colorscale\":[[0.0,\"#0d0887\"],[0.1111111111111111,\"#46039f\"],[0.2222222222222222,\"#7201a8\"],[0.3333333333333333,\"#9c179e\"],[0.4444444444444444,\"#bd3786\"],[0.5555555555555556,\"#d8576b\"],[0.6666666666666666,\"#ed7953\"],[0.7777777777777778,\"#fb9f3a\"],[0.8888888888888888,\"#fdca26\"],[1.0,\"#f0f921\"]],\"type\":\"contour\"}],\"contourcarpet\":[{\"colorbar\":{\"outlinewidth\":0,\"ticks\":\"\"},\"type\":\"contourcarpet\"}],\"heatmap\":[{\"colorbar\":{\"outlinewidth\":0,\"ticks\":\"\"},\"colorscale\":[[0.0,\"#0d0887\"],[0.1111111111111111,\"#46039f\"],[0.2222222222222222,\"#7201a8\"],[0.3333333333333333,\"#9c179e\"],[0.4444444444444444,\"#bd3786\"],[0.5555555555555556,\"#d8576b\"],[0.6666666666666666,\"#ed7953\"],[0.7777777777777778,\"#fb9f3a\"],[0.8888888888888888,\"#fdca26\"],[1.0,\"#f0f921\"]],\"type\":\"heatmap\"}],\"heatmapgl\":[{\"colorbar\":{\"outlinewidth\":0,\"ticks\":\"\"},\"colorscale\":[[0.0,\"#0d0887\"],[0.1111111111111111,\"#46039f\"],[0.2222222222222222,\"#7201a8\"],[0.3333333333333333,\"#9c179e\"],[0.4444444444444444,\"#bd3786\"],[0.5555555555555556,\"#d8576b\"],[0.6666666666666666,\"#ed7953\"],[0.7777777777777778,\"#fb9f3a\"],[0.8888888888888888,\"#fdca26\"],[1.0,\"#f0f921\"]],\"type\":\"heatmapgl\"}],\"histogram\":[{\"marker\":{\"pattern\":{\"fillmode\":\"overlay\",\"size\":10,\"solidity\":0.2}},\"type\":\"histogram\"}],\"histogram2d\":[{\"colorbar\":{\"outlinewidth\":0,\"ticks\":\"\"},\"colorscale\":[[0.0,\"#0d0887\"],[0.1111111111111111,\"#46039f\"],[0.2222222222222222,\"#7201a8\"],[0.3333333333333333,\"#9c179e\"],[0.4444444444444444,\"#bd3786\"],[0.5555555555555556,\"#d8576b\"],[0.6666666666666666,\"#ed7953\"],[0.7777777777777778,\"#fb9f3a\"],[0.8888888888888888,\"#fdca26\"],[1.0,\"#f0f921\"]],\"type\":\"histogram2d\"}],\"histogram2dcontour\":[{\"colorbar\":{\"outlinewidth\":0,\"ticks\":\"\"},\"colorscale\":[[0.0,\"#0d0887\"],[0.1111111111111111,\"#46039f\"],[0.2222222222222222,\"#7201a8\"],[0.3333333333333333,\"#9c179e\"],[0.4444444444444444,\"#bd3786\"],[0.5555555555555556,\"#d8576b\"],[0.6666666666666666,\"#ed7953\"],[0.7777777777777778,\"#fb9f3a\"],[0.8888888888888888,\"#fdca26\"],[1.0,\"#f0f921\"]],\"type\":\"histogram2dcontour\"}],\"mesh3d\":[{\"colorbar\":{\"outlinewidth\":0,\"ticks\":\"\"},\"type\":\"mesh3d\"}],\"parcoords\":[{\"line\":{\"colorbar\":{\"outlinewidth\":0,\"ticks\":\"\"}},\"type\":\"parcoords\"}],\"pie\":[{\"automargin\":true,\"type\":\"pie\"}],\"scatter\":[{\"marker\":{\"colorbar\":{\"outlinewidth\":0,\"ticks\":\"\"}},\"type\":\"scatter\"}],\"scatter3d\":[{\"line\":{\"colorbar\":{\"outlinewidth\":0,\"ticks\":\"\"}},\"marker\":{\"colorbar\":{\"outlinewidth\":0,\"ticks\":\"\"}},\"type\":\"scatter3d\"}],\"scattercarpet\":[{\"marker\":{\"colorbar\":{\"outlinewidth\":0,\"ticks\":\"\"}},\"type\":\"scattercarpet\"}],\"scattergeo\":[{\"marker\":{\"colorbar\":{\"outlinewidth\":0,\"ticks\":\"\"}},\"type\":\"scattergeo\"}],\"scattergl\":[{\"marker\":{\"colorbar\":{\"outlinewidth\":0,\"ticks\":\"\"}},\"type\":\"scattergl\"}],\"scattermapbox\":[{\"marker\":{\"colorbar\":{\"outlinewidth\":0,\"ticks\":\"\"}},\"type\":\"scattermapbox\"}],\"scatterpolar\":[{\"marker\":{\"colorbar\":{\"outlinewidth\":0,\"ticks\":\"\"}},\"type\":\"scatterpolar\"}],\"scatterpolargl\":[{\"marker\":{\"colorbar\":{\"outlinewidth\":0,\"ticks\":\"\"}},\"type\":\"scatterpolargl\"}],\"scatterternary\":[{\"marker\":{\"colorbar\":{\"outlinewidth\":0,\"ticks\":\"\"}},\"type\":\"scatterternary\"}],\"surface\":[{\"colorbar\":{\"outlinewidth\":0,\"ticks\":\"\"},\"colorscale\":[[0.0,\"#0d0887\"],[0.1111111111111111,\"#46039f\"],[0.2222222222222222,\"#7201a8\"],[0.3333333333333333,\"#9c179e\"],[0.4444444444444444,\"#bd3786\"],[0.5555555555555556,\"#d8576b\"],[0.6666666666666666,\"#ed7953\"],[0.7777777777777778,\"#fb9f3a\"],[0.8888888888888888,\"#fdca26\"],[1.0,\"#f0f921\"]],\"type\":\"surface\"}],\"table\":[{\"cells\":{\"fill\":{\"color\":\"#EBF0F8\"},\"line\":{\"color\":\"white\"}},\"header\":{\"fill\":{\"color\":\"#C8D4E3\"},\"line\":{\"color\":\"white\"}},\"type\":\"table\"}]},\"layout\":{\"annotationdefaults\":{\"arrowcolor\":\"#2a3f5f\",\"arrowhead\":0,\"arrowwidth\":1},\"autotypenumbers\":\"strict\",\"coloraxis\":{\"colorbar\":{\"outlinewidth\":0,\"ticks\":\"\"}},\"colorscale\":{\"diverging\":[[0,\"#8e0152\"],[0.1,\"#c51b7d\"],[0.2,\"#de77ae\"],[0.3,\"#f1b6da\"],[0.4,\"#fde0ef\"],[0.5,\"#f7f7f7\"],[0.6,\"#e6f5d0\"],[0.7,\"#b8e186\"],[0.8,\"#7fbc41\"],[0.9,\"#4d9221\"],[1,\"#276419\"]],\"sequential\":[[0.0,\"#0d0887\"],[0.1111111111111111,\"#46039f\"],[0.2222222222222222,\"#7201a8\"],[0.3333333333333333,\"#9c179e\"],[0.4444444444444444,\"#bd3786\"],[0.5555555555555556,\"#d8576b\"],[0.6666666666666666,\"#ed7953\"],[0.7777777777777778,\"#fb9f3a\"],[0.8888888888888888,\"#fdca26\"],[1.0,\"#f0f921\"]],\"sequentialminus\":[[0.0,\"#0d0887\"],[0.1111111111111111,\"#46039f\"],[0.2222222222222222,\"#7201a8\"],[0.3333333333333333,\"#9c179e\"],[0.4444444444444444,\"#bd3786\"],[0.5555555555555556,\"#d8576b\"],[0.6666666666666666,\"#ed7953\"],[0.7777777777777778,\"#fb9f3a\"],[0.8888888888888888,\"#fdca26\"],[1.0,\"#f0f921\"]]},\"colorway\":[\"#636efa\",\"#EF553B\",\"#00cc96\",\"#ab63fa\",\"#FFA15A\",\"#19d3f3\",\"#FF6692\",\"#B6E880\",\"#FF97FF\",\"#FECB52\"],\"font\":{\"color\":\"#2a3f5f\"},\"geo\":{\"bgcolor\":\"white\",\"lakecolor\":\"white\",\"landcolor\":\"#E5ECF6\",\"showlakes\":true,\"showland\":true,\"subunitcolor\":\"white\"},\"hoverlabel\":{\"align\":\"left\"},\"hovermode\":\"closest\",\"mapbox\":{\"style\":\"light\"},\"paper_bgcolor\":\"white\",\"plot_bgcolor\":\"#E5ECF6\",\"polar\":{\"angularaxis\":{\"gridcolor\":\"white\",\"linecolor\":\"white\",\"ticks\":\"\"},\"bgcolor\":\"#E5ECF6\",\"radialaxis\":{\"gridcolor\":\"white\",\"linecolor\":\"white\",\"ticks\":\"\"}},\"scene\":{\"xaxis\":{\"backgroundcolor\":\"#E5ECF6\",\"gridcolor\":\"white\",\"gridwidth\":2,\"linecolor\":\"white\",\"showbackground\":true,\"ticks\":\"\",\"zerolinecolor\":\"white\"},\"yaxis\":{\"backgroundcolor\":\"#E5ECF6\",\"gridcolor\":\"white\",\"gridwidth\":2,\"linecolor\":\"white\",\"showbackground\":true,\"ticks\":\"\",\"zerolinecolor\":\"white\"},\"zaxis\":{\"backgroundcolor\":\"#E5ECF6\",\"gridcolor\":\"white\",\"gridwidth\":2,\"linecolor\":\"white\",\"showbackground\":true,\"ticks\":\"\",\"zerolinecolor\":\"white\"}},\"shapedefaults\":{\"line\":{\"color\":\"#2a3f5f\"}},\"ternary\":{\"aaxis\":{\"gridcolor\":\"white\",\"linecolor\":\"white\",\"ticks\":\"\"},\"baxis\":{\"gridcolor\":\"white\",\"linecolor\":\"white\",\"ticks\":\"\"},\"bgcolor\":\"#E5ECF6\",\"caxis\":{\"gridcolor\":\"white\",\"linecolor\":\"white\",\"ticks\":\"\"}},\"title\":{\"x\":0.05},\"xaxis\":{\"automargin\":true,\"gridcolor\":\"white\",\"linecolor\":\"white\",\"ticks\":\"\",\"title\":{\"standoff\":15},\"zerolinecolor\":\"white\",\"zerolinewidth\":2},\"yaxis\":{\"automargin\":true,\"gridcolor\":\"white\",\"linecolor\":\"white\",\"ticks\":\"\",\"title\":{\"standoff\":15},\"zerolinecolor\":\"white\",\"zerolinewidth\":2}}},\"geo\":{\"domain\":{\"x\":[0.0,1.0],\"y\":[0.0,1.0]},\"center\":{},\"scope\":\"usa\"},\"legend\":{\"title\":{\"text\":\"mostPopular\"},\"tracegroupgap\":0},\"margin\":{\"t\":60}},                        {\"responsive\": true}                    ).then(function(){\n",
              "                            \n",
              "var gd = document.getElementById('61f4272a-13a5-4792-b6dd-57240b920220');\n",
              "var x = new MutationObserver(function (mutations, observer) {{\n",
              "        var display = window.getComputedStyle(gd).display;\n",
              "        if (!display || display === 'none') {{\n",
              "            console.log([gd, 'removed!']);\n",
              "            Plotly.purge(gd);\n",
              "            observer.disconnect();\n",
              "        }}\n",
              "}});\n",
              "\n",
              "// Listen for the removal of the full notebook cells\n",
              "var notebookContainer = gd.closest('#notebook-container');\n",
              "if (notebookContainer) {{\n",
              "    x.observe(notebookContainer, {childList: true});\n",
              "}}\n",
              "\n",
              "// Listen for the clearing of the current output cell\n",
              "var outputEl = gd.closest('.output');\n",
              "if (outputEl) {{\n",
              "    x.observe(outputEl, {childList: true});\n",
              "}}\n",
              "\n",
              "                        })                };                            </script>        </div>\n",
              "</body>\n",
              "</html>"
            ]
          },
          "metadata": {}
        }
      ]
    },
    {
      "cell_type": "markdown",
      "source": [
        "# Use value_counts() function to see specific quantities\n",
        "\n",
        "We also want to see the precise numbers for how many states have Chick-Fil-A as their favorite fast food restaurant, McDonald's as their favorite, Panda Express, etc. So, here we extract the mostPopular column from the state_fast_food data in the database, convert that column to a series, and then do a value counts on the mostPopular series to see the counts of different favorite fast food restaurants.\n",
        "\n",
        "Chick-Fil-A, McDonalds, and Panda Express support the cloropleth map above as the three most common favorite restaurants in our data with 21 states, 12 states, and 5 states respectively."
      ],
      "metadata": {
        "id": "DZy-J7lAa5lE"
      }
    },
    {
      "cell_type": "code",
      "source": [
        "import pandas as pd\n",
        "db='US_State_Food.db'\n",
        "cols='State,mostPopular'\n",
        "df=execute_sqldf(f\"SELECT {cols} FROM state_fast_food\",db,cols.split(','))\n",
        "s=pd.Series(df['mostPopular'])\n",
        "s.value_counts()"
      ],
      "metadata": {
        "colab": {
          "base_uri": "https://localhost:8080/"
        },
        "id": "YfyEJXt1a6r3",
        "outputId": "f721fe2b-3913-4a47-85e4-226d4a4c4447"
      },
      "execution_count": null,
      "outputs": [
        {
          "output_type": "execute_result",
          "data": {
            "text/plain": [
              "Chick-Fil-A        21\n",
              "McDonald's         12\n",
              "Panda Express       5\n",
              "In-N-Out            4\n",
              "White Castle        1\n",
              "Wendy's             1\n",
              "Jack In the Box     1\n",
              "Sonic               1\n",
              "Church's            1\n",
              "Taco Bell           1\n",
              "Charley's           1\n",
              "Carl's Jr           1\n",
              "Name: mostPopular, dtype: int64"
            ]
          },
          "metadata": {},
          "execution_count": 53
        }
      ]
    },
    {
      "cell_type": "markdown",
      "source": [
        "# Stacked bar plots to show the different category rankings for each state"
      ],
      "metadata": {
        "id": "2bh0OcwbassG"
      }
    },
    {
      "cell_type": "markdown",
      "source": [
        "In this plot we used a stacked bar plot to show the distribution of total category ranking for each state. We do this by calling our category_by_state table and other necessary parameters in our state_stackedbarplots function. Some key takeaway are that West Virginia and Mississippi have the lowest ranking total for all 3 categories with their combined rankings in the stacked bar plot below being the lowest out of all states. This means that these two states are considered some of the most obese and least healthiest states in America."
      ],
      "metadata": {
        "id": "RYnwMMlZjcQf"
      }
    },
    {
      "cell_type": "code",
      "source": [
        "db='US_State_Food.db'\n",
        "table='category_by_state'\n",
        "cols='State,Category,Ranking'\n",
        "cat_var='State'\n",
        "num_var='Ranking'\n",
        "color_var='Category'\n",
        "state_stackedbarplots(db,table,cols,cat_var,num_var,color_var,'Category','State','Ranking')"
      ],
      "metadata": {
        "colab": {
          "base_uri": "https://localhost:8080/",
          "height": 542
        },
        "id": "RCHG4grEa1Dj",
        "outputId": "f6142b05-d212-4731-de85-d0e8e4b1f449"
      },
      "execution_count": null,
      "outputs": [
        {
          "output_type": "display_data",
          "data": {
            "text/html": [
              "<html>\n",
              "<head><meta charset=\"utf-8\" /></head>\n",
              "<body>\n",
              "    <div>            <script src=\"https://cdnjs.cloudflare.com/ajax/libs/mathjax/2.7.5/MathJax.js?config=TeX-AMS-MML_SVG\"></script><script type=\"text/javascript\">if (window.MathJax) {MathJax.Hub.Config({SVG: {font: \"STIX-Web\"}});}</script>                <script type=\"text/javascript\">window.PlotlyConfig = {MathJaxConfig: 'local'};</script>\n",
              "        <script src=\"https://cdn.plot.ly/plotly-2.8.3.min.js\"></script>                <div id=\"c56ae93e-933b-4a70-8a90-72863f7e438a\" class=\"plotly-graph-div\" style=\"height:525px; width:100%;\"></div>            <script type=\"text/javascript\">                                    window.PLOTLYENV=window.PLOTLYENV || {};                                    if (document.getElementById(\"c56ae93e-933b-4a70-8a90-72863f7e438a\")) {                    Plotly.newPlot(                        \"c56ae93e-933b-4a70-8a90-72863f7e438a\",                        [{\"alignmentgroup\":\"True\",\"hovertemplate\":\"Category=Food & Fitness<br>State=%{x}<br>Ranking=%{y}<extra></extra>\",\"legendgroup\":\"Food & Fitness\",\"marker\":{\"color\":\"#636efa\",\"pattern\":{\"shape\":\"\"}},\"name\":\"Food & Fitness\",\"offsetgroup\":\"Food & Fitness\",\"orientation\":\"v\",\"showlegend\":true,\"textposition\":\"auto\",\"x\":[\"Alabama\",\"Alaska\",\"Arizona\",\"Arkansas\",\"California\",\"Colorado\",\"Connecticut\",\"Delaware\",\"Florida\",\"Georgia\",\"Hawaii\",\"Idaho\",\"Illinois\",\"Indiana\",\"Iowa\",\"Kansas\",\"Kentucky\",\"Louisiana\",\"Maine\",\"Maryland\",\"Massachusetts\",\"Michigan\",\"Minnesota\",\"Mississippi\",\"Missouri\",\"Montana\",\"Nebraska\",\"Nevada\",\"New Hampshire\",\"New Jersey\",\"New Mexico\",\"New York\",\"North Carolina\",\"North Dakota\",\"Ohio\",\"Oklahoma\",\"Oregon\",\"Pennsylvania\",\"Rhode Island\",\"South Carolina\",\"South Dakota\",\"Tennessee\",\"Texas\",\"Utah\",\"Vermont\",\"Virginia\",\"Washington\",\"West Virginia\",\"Wisconsin\",\"Wyoming\"],\"xaxis\":\"x\",\"y\":[3,46,25,6,26,19,38,22,11,8,41,44,12,16,33,36,5,4,45,30,51,21,39,1,17,29,50,28,42,37,35,27,18,40,14,15,23,20,32,2,48,10,13,34,49,7,43,9,24,47],\"yaxis\":\"y\",\"type\":\"bar\"},{\"alignmentgroup\":\"True\",\"hovertemplate\":\"Category=Health Consequences<br>State=%{x}<br>Ranking=%{y}<extra></extra>\",\"legendgroup\":\"Health Consequences\",\"marker\":{\"color\":\"#EF553B\",\"pattern\":{\"shape\":\"\"}},\"name\":\"Health Consequences\",\"offsetgroup\":\"Health Consequences\",\"orientation\":\"v\",\"showlegend\":true,\"textposition\":\"auto\",\"x\":[\"Alabama\",\"Alaska\",\"Arizona\",\"Arkansas\",\"California\",\"Colorado\",\"Connecticut\",\"Delaware\",\"Florida\",\"Georgia\",\"Hawaii\",\"Idaho\",\"Illinois\",\"Indiana\",\"Iowa\",\"Kansas\",\"Kentucky\",\"Louisiana\",\"Maine\",\"Maryland\",\"Massachusetts\",\"Michigan\",\"Minnesota\",\"Mississippi\",\"Missouri\",\"Montana\",\"Nebraska\",\"Nevada\",\"New Hampshire\",\"New Jersey\",\"New Mexico\",\"New York\",\"North Carolina\",\"North Dakota\",\"Ohio\",\"Oklahoma\",\"Oregon\",\"Pennsylvania\",\"Rhode Island\",\"South Carolina\",\"South Dakota\",\"Tennessee\",\"Texas\",\"Utah\",\"Vermont\",\"Virginia\",\"Washington\",\"West Virginia\",\"Wisconsin\",\"Wyoming\"],\"xaxis\":\"x\",\"y\":[11,43,47,17,49,48,37,3,36,28,51,16,41,27,19,7,8,26,2,15,45,24,42,10,23,6,40,30,5,25,39,38,21,14,18,32,33,31,9,22,46,12,34,50,4,20,35,1,29,13],\"yaxis\":\"y\",\"type\":\"bar\"},{\"alignmentgroup\":\"True\",\"hovertemplate\":\"Category=Obesity & Overweight Prevalence<br>State=%{x}<br>Ranking=%{y}<extra></extra>\",\"legendgroup\":\"Obesity & Overweight Prevalence\",\"marker\":{\"color\":\"#00cc96\",\"pattern\":{\"shape\":\"\"}},\"name\":\"Obesity & Overweight Prevalence\",\"offsetgroup\":\"Obesity & Overweight Prevalence\",\"orientation\":\"v\",\"showlegend\":true,\"textposition\":\"auto\",\"x\":[\"Alabama\",\"Alaska\",\"Arizona\",\"Arkansas\",\"California\",\"Colorado\",\"Connecticut\",\"Delaware\",\"Florida\",\"Georgia\",\"Hawaii\",\"Idaho\",\"Illinois\",\"Indiana\",\"Iowa\",\"Kansas\",\"Kentucky\",\"Louisiana\",\"Maine\",\"Maryland\",\"Massachusetts\",\"Michigan\",\"Minnesota\",\"Mississippi\",\"Missouri\",\"Montana\",\"Nebraska\",\"Nevada\",\"New Hampshire\",\"New Jersey\",\"New Mexico\",\"New York\",\"North Carolina\",\"North Dakota\",\"Ohio\",\"Oklahoma\",\"Oregon\",\"Pennsylvania\",\"Rhode Island\",\"South Carolina\",\"South Dakota\",\"Tennessee\",\"Texas\",\"Utah\",\"Vermont\",\"Virginia\",\"Washington\",\"West Virginia\",\"Wisconsin\",\"Wyoming\"],\"xaxis\":\"x\",\"y\":[5,23,35,3,38,51,33,14,31,11,44,40,22,17,15,21,4,7,34,28,47,20,45,2,12,48,32,36,41,42,19,43,16,26,13,8,30,25,27,10,18,6,9,49,46,24,37,1,29,39],\"yaxis\":\"y\",\"type\":\"bar\"}],                        {\"template\":{\"data\":{\"bar\":[{\"error_x\":{\"color\":\"#2a3f5f\"},\"error_y\":{\"color\":\"#2a3f5f\"},\"marker\":{\"line\":{\"color\":\"#E5ECF6\",\"width\":0.5},\"pattern\":{\"fillmode\":\"overlay\",\"size\":10,\"solidity\":0.2}},\"type\":\"bar\"}],\"barpolar\":[{\"marker\":{\"line\":{\"color\":\"#E5ECF6\",\"width\":0.5},\"pattern\":{\"fillmode\":\"overlay\",\"size\":10,\"solidity\":0.2}},\"type\":\"barpolar\"}],\"carpet\":[{\"aaxis\":{\"endlinecolor\":\"#2a3f5f\",\"gridcolor\":\"white\",\"linecolor\":\"white\",\"minorgridcolor\":\"white\",\"startlinecolor\":\"#2a3f5f\"},\"baxis\":{\"endlinecolor\":\"#2a3f5f\",\"gridcolor\":\"white\",\"linecolor\":\"white\",\"minorgridcolor\":\"white\",\"startlinecolor\":\"#2a3f5f\"},\"type\":\"carpet\"}],\"choropleth\":[{\"colorbar\":{\"outlinewidth\":0,\"ticks\":\"\"},\"type\":\"choropleth\"}],\"contour\":[{\"colorbar\":{\"outlinewidth\":0,\"ticks\":\"\"},\"colorscale\":[[0.0,\"#0d0887\"],[0.1111111111111111,\"#46039f\"],[0.2222222222222222,\"#7201a8\"],[0.3333333333333333,\"#9c179e\"],[0.4444444444444444,\"#bd3786\"],[0.5555555555555556,\"#d8576b\"],[0.6666666666666666,\"#ed7953\"],[0.7777777777777778,\"#fb9f3a\"],[0.8888888888888888,\"#fdca26\"],[1.0,\"#f0f921\"]],\"type\":\"contour\"}],\"contourcarpet\":[{\"colorbar\":{\"outlinewidth\":0,\"ticks\":\"\"},\"type\":\"contourcarpet\"}],\"heatmap\":[{\"colorbar\":{\"outlinewidth\":0,\"ticks\":\"\"},\"colorscale\":[[0.0,\"#0d0887\"],[0.1111111111111111,\"#46039f\"],[0.2222222222222222,\"#7201a8\"],[0.3333333333333333,\"#9c179e\"],[0.4444444444444444,\"#bd3786\"],[0.5555555555555556,\"#d8576b\"],[0.6666666666666666,\"#ed7953\"],[0.7777777777777778,\"#fb9f3a\"],[0.8888888888888888,\"#fdca26\"],[1.0,\"#f0f921\"]],\"type\":\"heatmap\"}],\"heatmapgl\":[{\"colorbar\":{\"outlinewidth\":0,\"ticks\":\"\"},\"colorscale\":[[0.0,\"#0d0887\"],[0.1111111111111111,\"#46039f\"],[0.2222222222222222,\"#7201a8\"],[0.3333333333333333,\"#9c179e\"],[0.4444444444444444,\"#bd3786\"],[0.5555555555555556,\"#d8576b\"],[0.6666666666666666,\"#ed7953\"],[0.7777777777777778,\"#fb9f3a\"],[0.8888888888888888,\"#fdca26\"],[1.0,\"#f0f921\"]],\"type\":\"heatmapgl\"}],\"histogram\":[{\"marker\":{\"pattern\":{\"fillmode\":\"overlay\",\"size\":10,\"solidity\":0.2}},\"type\":\"histogram\"}],\"histogram2d\":[{\"colorbar\":{\"outlinewidth\":0,\"ticks\":\"\"},\"colorscale\":[[0.0,\"#0d0887\"],[0.1111111111111111,\"#46039f\"],[0.2222222222222222,\"#7201a8\"],[0.3333333333333333,\"#9c179e\"],[0.4444444444444444,\"#bd3786\"],[0.5555555555555556,\"#d8576b\"],[0.6666666666666666,\"#ed7953\"],[0.7777777777777778,\"#fb9f3a\"],[0.8888888888888888,\"#fdca26\"],[1.0,\"#f0f921\"]],\"type\":\"histogram2d\"}],\"histogram2dcontour\":[{\"colorbar\":{\"outlinewidth\":0,\"ticks\":\"\"},\"colorscale\":[[0.0,\"#0d0887\"],[0.1111111111111111,\"#46039f\"],[0.2222222222222222,\"#7201a8\"],[0.3333333333333333,\"#9c179e\"],[0.4444444444444444,\"#bd3786\"],[0.5555555555555556,\"#d8576b\"],[0.6666666666666666,\"#ed7953\"],[0.7777777777777778,\"#fb9f3a\"],[0.8888888888888888,\"#fdca26\"],[1.0,\"#f0f921\"]],\"type\":\"histogram2dcontour\"}],\"mesh3d\":[{\"colorbar\":{\"outlinewidth\":0,\"ticks\":\"\"},\"type\":\"mesh3d\"}],\"parcoords\":[{\"line\":{\"colorbar\":{\"outlinewidth\":0,\"ticks\":\"\"}},\"type\":\"parcoords\"}],\"pie\":[{\"automargin\":true,\"type\":\"pie\"}],\"scatter\":[{\"marker\":{\"colorbar\":{\"outlinewidth\":0,\"ticks\":\"\"}},\"type\":\"scatter\"}],\"scatter3d\":[{\"line\":{\"colorbar\":{\"outlinewidth\":0,\"ticks\":\"\"}},\"marker\":{\"colorbar\":{\"outlinewidth\":0,\"ticks\":\"\"}},\"type\":\"scatter3d\"}],\"scattercarpet\":[{\"marker\":{\"colorbar\":{\"outlinewidth\":0,\"ticks\":\"\"}},\"type\":\"scattercarpet\"}],\"scattergeo\":[{\"marker\":{\"colorbar\":{\"outlinewidth\":0,\"ticks\":\"\"}},\"type\":\"scattergeo\"}],\"scattergl\":[{\"marker\":{\"colorbar\":{\"outlinewidth\":0,\"ticks\":\"\"}},\"type\":\"scattergl\"}],\"scattermapbox\":[{\"marker\":{\"colorbar\":{\"outlinewidth\":0,\"ticks\":\"\"}},\"type\":\"scattermapbox\"}],\"scatterpolar\":[{\"marker\":{\"colorbar\":{\"outlinewidth\":0,\"ticks\":\"\"}},\"type\":\"scatterpolar\"}],\"scatterpolargl\":[{\"marker\":{\"colorbar\":{\"outlinewidth\":0,\"ticks\":\"\"}},\"type\":\"scatterpolargl\"}],\"scatterternary\":[{\"marker\":{\"colorbar\":{\"outlinewidth\":0,\"ticks\":\"\"}},\"type\":\"scatterternary\"}],\"surface\":[{\"colorbar\":{\"outlinewidth\":0,\"ticks\":\"\"},\"colorscale\":[[0.0,\"#0d0887\"],[0.1111111111111111,\"#46039f\"],[0.2222222222222222,\"#7201a8\"],[0.3333333333333333,\"#9c179e\"],[0.4444444444444444,\"#bd3786\"],[0.5555555555555556,\"#d8576b\"],[0.6666666666666666,\"#ed7953\"],[0.7777777777777778,\"#fb9f3a\"],[0.8888888888888888,\"#fdca26\"],[1.0,\"#f0f921\"]],\"type\":\"surface\"}],\"table\":[{\"cells\":{\"fill\":{\"color\":\"#EBF0F8\"},\"line\":{\"color\":\"white\"}},\"header\":{\"fill\":{\"color\":\"#C8D4E3\"},\"line\":{\"color\":\"white\"}},\"type\":\"table\"}]},\"layout\":{\"annotationdefaults\":{\"arrowcolor\":\"#2a3f5f\",\"arrowhead\":0,\"arrowwidth\":1},\"autotypenumbers\":\"strict\",\"coloraxis\":{\"colorbar\":{\"outlinewidth\":0,\"ticks\":\"\"}},\"colorscale\":{\"diverging\":[[0,\"#8e0152\"],[0.1,\"#c51b7d\"],[0.2,\"#de77ae\"],[0.3,\"#f1b6da\"],[0.4,\"#fde0ef\"],[0.5,\"#f7f7f7\"],[0.6,\"#e6f5d0\"],[0.7,\"#b8e186\"],[0.8,\"#7fbc41\"],[0.9,\"#4d9221\"],[1,\"#276419\"]],\"sequential\":[[0.0,\"#0d0887\"],[0.1111111111111111,\"#46039f\"],[0.2222222222222222,\"#7201a8\"],[0.3333333333333333,\"#9c179e\"],[0.4444444444444444,\"#bd3786\"],[0.5555555555555556,\"#d8576b\"],[0.6666666666666666,\"#ed7953\"],[0.7777777777777778,\"#fb9f3a\"],[0.8888888888888888,\"#fdca26\"],[1.0,\"#f0f921\"]],\"sequentialminus\":[[0.0,\"#0d0887\"],[0.1111111111111111,\"#46039f\"],[0.2222222222222222,\"#7201a8\"],[0.3333333333333333,\"#9c179e\"],[0.4444444444444444,\"#bd3786\"],[0.5555555555555556,\"#d8576b\"],[0.6666666666666666,\"#ed7953\"],[0.7777777777777778,\"#fb9f3a\"],[0.8888888888888888,\"#fdca26\"],[1.0,\"#f0f921\"]]},\"colorway\":[\"#636efa\",\"#EF553B\",\"#00cc96\",\"#ab63fa\",\"#FFA15A\",\"#19d3f3\",\"#FF6692\",\"#B6E880\",\"#FF97FF\",\"#FECB52\"],\"font\":{\"color\":\"#2a3f5f\"},\"geo\":{\"bgcolor\":\"white\",\"lakecolor\":\"white\",\"landcolor\":\"#E5ECF6\",\"showlakes\":true,\"showland\":true,\"subunitcolor\":\"white\"},\"hoverlabel\":{\"align\":\"left\"},\"hovermode\":\"closest\",\"mapbox\":{\"style\":\"light\"},\"paper_bgcolor\":\"white\",\"plot_bgcolor\":\"#E5ECF6\",\"polar\":{\"angularaxis\":{\"gridcolor\":\"white\",\"linecolor\":\"white\",\"ticks\":\"\"},\"bgcolor\":\"#E5ECF6\",\"radialaxis\":{\"gridcolor\":\"white\",\"linecolor\":\"white\",\"ticks\":\"\"}},\"scene\":{\"xaxis\":{\"backgroundcolor\":\"#E5ECF6\",\"gridcolor\":\"white\",\"gridwidth\":2,\"linecolor\":\"white\",\"showbackground\":true,\"ticks\":\"\",\"zerolinecolor\":\"white\"},\"yaxis\":{\"backgroundcolor\":\"#E5ECF6\",\"gridcolor\":\"white\",\"gridwidth\":2,\"linecolor\":\"white\",\"showbackground\":true,\"ticks\":\"\",\"zerolinecolor\":\"white\"},\"zaxis\":{\"backgroundcolor\":\"#E5ECF6\",\"gridcolor\":\"white\",\"gridwidth\":2,\"linecolor\":\"white\",\"showbackground\":true,\"ticks\":\"\",\"zerolinecolor\":\"white\"}},\"shapedefaults\":{\"line\":{\"color\":\"#2a3f5f\"}},\"ternary\":{\"aaxis\":{\"gridcolor\":\"white\",\"linecolor\":\"white\",\"ticks\":\"\"},\"baxis\":{\"gridcolor\":\"white\",\"linecolor\":\"white\",\"ticks\":\"\"},\"bgcolor\":\"#E5ECF6\",\"caxis\":{\"gridcolor\":\"white\",\"linecolor\":\"white\",\"ticks\":\"\"}},\"title\":{\"x\":0.05},\"xaxis\":{\"automargin\":true,\"gridcolor\":\"white\",\"linecolor\":\"white\",\"ticks\":\"\",\"title\":{\"standoff\":15},\"zerolinecolor\":\"white\",\"zerolinewidth\":2},\"yaxis\":{\"automargin\":true,\"gridcolor\":\"white\",\"linecolor\":\"white\",\"ticks\":\"\",\"title\":{\"standoff\":15},\"zerolinecolor\":\"white\",\"zerolinewidth\":2}}},\"xaxis\":{\"anchor\":\"y\",\"domain\":[0.0,1.0],\"title\":{\"text\":\"State\"}},\"yaxis\":{\"anchor\":\"x\",\"domain\":[0.0,1.0],\"title\":{\"text\":\"Ranking\"}},\"legend\":{\"title\":{\"text\":\"Category\"},\"tracegroupgap\":0},\"margin\":{\"t\":60},\"barmode\":\"relative\"},                        {\"responsive\": true}                    ).then(function(){\n",
              "                            \n",
              "var gd = document.getElementById('c56ae93e-933b-4a70-8a90-72863f7e438a');\n",
              "var x = new MutationObserver(function (mutations, observer) {{\n",
              "        var display = window.getComputedStyle(gd).display;\n",
              "        if (!display || display === 'none') {{\n",
              "            console.log([gd, 'removed!']);\n",
              "            Plotly.purge(gd);\n",
              "            observer.disconnect();\n",
              "        }}\n",
              "}});\n",
              "\n",
              "// Listen for the removal of the full notebook cells\n",
              "var notebookContainer = gd.closest('#notebook-container');\n",
              "if (notebookContainer) {{\n",
              "    x.observe(notebookContainer, {childList: true});\n",
              "}}\n",
              "\n",
              "// Listen for the clearing of the current output cell\n",
              "var outputEl = gd.closest('.output');\n",
              "if (outputEl) {{\n",
              "    x.observe(outputEl, {childList: true});\n",
              "}}\n",
              "\n",
              "                        })                };                            </script>        </div>\n",
              "</body>\n",
              "</html>"
            ]
          },
          "metadata": {}
        }
      ]
    },
    {
      "cell_type": "markdown",
      "source": [
        "# Query showing total obesity scores from highest to lowest with their corresponding state\n",
        "\n",
        "Here, to answer which states have the highest total obesity score in our data, we query the necessary subset of data from the obesity_by_state table (the state and total score columns). Then, we order this subset by total obesity score in descending order and display the result as a pandas dataframe (at the top of the dataframe are the states with the highest obesity score).\n",
        "\n",
        "We can see that the states of West Virginia, Mississipi, Kentucky, Arkansas, and Alabama have the five highest obesity scores in our data."
      ],
      "metadata": {
        "id": "5dADYdwsbeU5"
      }
    },
    {
      "cell_type": "code",
      "source": [
        "import pandas as pd\n",
        "\n",
        "db = 'US_State_Food.db'\n",
        "table = 'obesity_by_state'\n",
        "cols = 'StateID, State, Total_Score'\n",
        "ord = 'Total_Score'\n",
        "\n",
        "qry = f'SELECT {cols} FROM {table} ORDER BY {ord} DESC'\n",
        "data5 = execute_sql(db, qry)\n",
        "\n",
        "pd.DataFrame(data5, columns = cols.split(','))"
      ],
      "metadata": {
        "id": "uyETK-qabdJQ",
        "colab": {
          "base_uri": "https://localhost:8080/",
          "height": 1000
        },
        "outputId": "9986e9de-0cd3-4957-dea7-871ef4638154"
      },
      "execution_count": null,
      "outputs": [
        {
          "output_type": "execute_result",
          "data": {
            "text/plain": [
              "    StateID           State   Total_Score\n",
              "0       148   West Virginia         74.60\n",
              "1       124     Mississippi         72.33\n",
              "2       117        Kentucky         68.99\n",
              "3       104        Arkansas         68.95\n",
              "4       101         Alabama         68.63\n",
              "5       142       Tennessee         67.46\n",
              "6       118       Louisiana         65.66\n",
              "7       108        Delaware         63.99\n",
              "8       136        Oklahoma         63.71\n",
              "9       140  South Carolina         63.43\n",
              "10      110         Georgia         62.27\n",
              "11      143           Texas         62.08\n",
              "12      135            Ohio         61.99\n",
              "13      125        Missouri         61.51\n",
              "14      133  North Carolina         60.13\n",
              "15      115            Iowa         60.10\n",
              "16      116          Kansas         59.98\n",
              "17      122        Michigan         58.32\n",
              "18      114         Indiana         58.12\n",
              "19      146        Virginia         57.71\n",
              "20      119           Maine         57.53\n",
              "21      139    Rhode Island         57.41\n",
              "22      113        Illinois         56.73\n",
              "23      131      New Mexico         56.56\n",
              "24      120        Maryland         56.47\n",
              "25      134    North Dakota         56.12\n",
              "26      138    Pennsylvania         56.02\n",
              "27      149       Wisconsin         55.51\n",
              "28      129   New Hampshire         55.39\n",
              "29      141    South Dakota         54.75\n",
              "30      109         Florida         54.63\n",
              "31      128          Nevada         54.01\n",
              "32      137          Oregon         53.88\n",
              "33      102          Alaska         53.84\n",
              "34      145         Vermont         53.38\n",
              "35      112           Idaho         52.71\n",
              "36      126         Montana         52.71\n",
              "37      107     Connecticut         52.69\n",
              "38      150         Wyoming         52.66\n",
              "39      130      New Jersey         52.43\n",
              "40      127        Nebraska         51.91\n",
              "41      147      Washington         51.17\n",
              "42      103         Arizona         51.12\n",
              "43      132        New York         50.93\n",
              "44      105      California         49.97\n",
              "45      123       Minnesota         48.27\n",
              "46      111          Hawaii         47.00\n",
              "47      121   Massachusetts         45.90\n",
              "48      144            Utah         43.47\n",
              "49      106        Colorado         43.23"
            ],
            "text/html": [
              "\n",
              "  <div id=\"df-402661e8-d045-4422-a0a0-2c70ebaacf30\">\n",
              "    <div class=\"colab-df-container\">\n",
              "      <div>\n",
              "<style scoped>\n",
              "    .dataframe tbody tr th:only-of-type {\n",
              "        vertical-align: middle;\n",
              "    }\n",
              "\n",
              "    .dataframe tbody tr th {\n",
              "        vertical-align: top;\n",
              "    }\n",
              "\n",
              "    .dataframe thead th {\n",
              "        text-align: right;\n",
              "    }\n",
              "</style>\n",
              "<table border=\"1\" class=\"dataframe\">\n",
              "  <thead>\n",
              "    <tr style=\"text-align: right;\">\n",
              "      <th></th>\n",
              "      <th>StateID</th>\n",
              "      <th>State</th>\n",
              "      <th>Total_Score</th>\n",
              "    </tr>\n",
              "  </thead>\n",
              "  <tbody>\n",
              "    <tr>\n",
              "      <th>0</th>\n",
              "      <td>148</td>\n",
              "      <td>West Virginia</td>\n",
              "      <td>74.60</td>\n",
              "    </tr>\n",
              "    <tr>\n",
              "      <th>1</th>\n",
              "      <td>124</td>\n",
              "      <td>Mississippi</td>\n",
              "      <td>72.33</td>\n",
              "    </tr>\n",
              "    <tr>\n",
              "      <th>2</th>\n",
              "      <td>117</td>\n",
              "      <td>Kentucky</td>\n",
              "      <td>68.99</td>\n",
              "    </tr>\n",
              "    <tr>\n",
              "      <th>3</th>\n",
              "      <td>104</td>\n",
              "      <td>Arkansas</td>\n",
              "      <td>68.95</td>\n",
              "    </tr>\n",
              "    <tr>\n",
              "      <th>4</th>\n",
              "      <td>101</td>\n",
              "      <td>Alabama</td>\n",
              "      <td>68.63</td>\n",
              "    </tr>\n",
              "    <tr>\n",
              "      <th>5</th>\n",
              "      <td>142</td>\n",
              "      <td>Tennessee</td>\n",
              "      <td>67.46</td>\n",
              "    </tr>\n",
              "    <tr>\n",
              "      <th>6</th>\n",
              "      <td>118</td>\n",
              "      <td>Louisiana</td>\n",
              "      <td>65.66</td>\n",
              "    </tr>\n",
              "    <tr>\n",
              "      <th>7</th>\n",
              "      <td>108</td>\n",
              "      <td>Delaware</td>\n",
              "      <td>63.99</td>\n",
              "    </tr>\n",
              "    <tr>\n",
              "      <th>8</th>\n",
              "      <td>136</td>\n",
              "      <td>Oklahoma</td>\n",
              "      <td>63.71</td>\n",
              "    </tr>\n",
              "    <tr>\n",
              "      <th>9</th>\n",
              "      <td>140</td>\n",
              "      <td>South Carolina</td>\n",
              "      <td>63.43</td>\n",
              "    </tr>\n",
              "    <tr>\n",
              "      <th>10</th>\n",
              "      <td>110</td>\n",
              "      <td>Georgia</td>\n",
              "      <td>62.27</td>\n",
              "    </tr>\n",
              "    <tr>\n",
              "      <th>11</th>\n",
              "      <td>143</td>\n",
              "      <td>Texas</td>\n",
              "      <td>62.08</td>\n",
              "    </tr>\n",
              "    <tr>\n",
              "      <th>12</th>\n",
              "      <td>135</td>\n",
              "      <td>Ohio</td>\n",
              "      <td>61.99</td>\n",
              "    </tr>\n",
              "    <tr>\n",
              "      <th>13</th>\n",
              "      <td>125</td>\n",
              "      <td>Missouri</td>\n",
              "      <td>61.51</td>\n",
              "    </tr>\n",
              "    <tr>\n",
              "      <th>14</th>\n",
              "      <td>133</td>\n",
              "      <td>North Carolina</td>\n",
              "      <td>60.13</td>\n",
              "    </tr>\n",
              "    <tr>\n",
              "      <th>15</th>\n",
              "      <td>115</td>\n",
              "      <td>Iowa</td>\n",
              "      <td>60.10</td>\n",
              "    </tr>\n",
              "    <tr>\n",
              "      <th>16</th>\n",
              "      <td>116</td>\n",
              "      <td>Kansas</td>\n",
              "      <td>59.98</td>\n",
              "    </tr>\n",
              "    <tr>\n",
              "      <th>17</th>\n",
              "      <td>122</td>\n",
              "      <td>Michigan</td>\n",
              "      <td>58.32</td>\n",
              "    </tr>\n",
              "    <tr>\n",
              "      <th>18</th>\n",
              "      <td>114</td>\n",
              "      <td>Indiana</td>\n",
              "      <td>58.12</td>\n",
              "    </tr>\n",
              "    <tr>\n",
              "      <th>19</th>\n",
              "      <td>146</td>\n",
              "      <td>Virginia</td>\n",
              "      <td>57.71</td>\n",
              "    </tr>\n",
              "    <tr>\n",
              "      <th>20</th>\n",
              "      <td>119</td>\n",
              "      <td>Maine</td>\n",
              "      <td>57.53</td>\n",
              "    </tr>\n",
              "    <tr>\n",
              "      <th>21</th>\n",
              "      <td>139</td>\n",
              "      <td>Rhode Island</td>\n",
              "      <td>57.41</td>\n",
              "    </tr>\n",
              "    <tr>\n",
              "      <th>22</th>\n",
              "      <td>113</td>\n",
              "      <td>Illinois</td>\n",
              "      <td>56.73</td>\n",
              "    </tr>\n",
              "    <tr>\n",
              "      <th>23</th>\n",
              "      <td>131</td>\n",
              "      <td>New Mexico</td>\n",
              "      <td>56.56</td>\n",
              "    </tr>\n",
              "    <tr>\n",
              "      <th>24</th>\n",
              "      <td>120</td>\n",
              "      <td>Maryland</td>\n",
              "      <td>56.47</td>\n",
              "    </tr>\n",
              "    <tr>\n",
              "      <th>25</th>\n",
              "      <td>134</td>\n",
              "      <td>North Dakota</td>\n",
              "      <td>56.12</td>\n",
              "    </tr>\n",
              "    <tr>\n",
              "      <th>26</th>\n",
              "      <td>138</td>\n",
              "      <td>Pennsylvania</td>\n",
              "      <td>56.02</td>\n",
              "    </tr>\n",
              "    <tr>\n",
              "      <th>27</th>\n",
              "      <td>149</td>\n",
              "      <td>Wisconsin</td>\n",
              "      <td>55.51</td>\n",
              "    </tr>\n",
              "    <tr>\n",
              "      <th>28</th>\n",
              "      <td>129</td>\n",
              "      <td>New Hampshire</td>\n",
              "      <td>55.39</td>\n",
              "    </tr>\n",
              "    <tr>\n",
              "      <th>29</th>\n",
              "      <td>141</td>\n",
              "      <td>South Dakota</td>\n",
              "      <td>54.75</td>\n",
              "    </tr>\n",
              "    <tr>\n",
              "      <th>30</th>\n",
              "      <td>109</td>\n",
              "      <td>Florida</td>\n",
              "      <td>54.63</td>\n",
              "    </tr>\n",
              "    <tr>\n",
              "      <th>31</th>\n",
              "      <td>128</td>\n",
              "      <td>Nevada</td>\n",
              "      <td>54.01</td>\n",
              "    </tr>\n",
              "    <tr>\n",
              "      <th>32</th>\n",
              "      <td>137</td>\n",
              "      <td>Oregon</td>\n",
              "      <td>53.88</td>\n",
              "    </tr>\n",
              "    <tr>\n",
              "      <th>33</th>\n",
              "      <td>102</td>\n",
              "      <td>Alaska</td>\n",
              "      <td>53.84</td>\n",
              "    </tr>\n",
              "    <tr>\n",
              "      <th>34</th>\n",
              "      <td>145</td>\n",
              "      <td>Vermont</td>\n",
              "      <td>53.38</td>\n",
              "    </tr>\n",
              "    <tr>\n",
              "      <th>35</th>\n",
              "      <td>112</td>\n",
              "      <td>Idaho</td>\n",
              "      <td>52.71</td>\n",
              "    </tr>\n",
              "    <tr>\n",
              "      <th>36</th>\n",
              "      <td>126</td>\n",
              "      <td>Montana</td>\n",
              "      <td>52.71</td>\n",
              "    </tr>\n",
              "    <tr>\n",
              "      <th>37</th>\n",
              "      <td>107</td>\n",
              "      <td>Connecticut</td>\n",
              "      <td>52.69</td>\n",
              "    </tr>\n",
              "    <tr>\n",
              "      <th>38</th>\n",
              "      <td>150</td>\n",
              "      <td>Wyoming</td>\n",
              "      <td>52.66</td>\n",
              "    </tr>\n",
              "    <tr>\n",
              "      <th>39</th>\n",
              "      <td>130</td>\n",
              "      <td>New Jersey</td>\n",
              "      <td>52.43</td>\n",
              "    </tr>\n",
              "    <tr>\n",
              "      <th>40</th>\n",
              "      <td>127</td>\n",
              "      <td>Nebraska</td>\n",
              "      <td>51.91</td>\n",
              "    </tr>\n",
              "    <tr>\n",
              "      <th>41</th>\n",
              "      <td>147</td>\n",
              "      <td>Washington</td>\n",
              "      <td>51.17</td>\n",
              "    </tr>\n",
              "    <tr>\n",
              "      <th>42</th>\n",
              "      <td>103</td>\n",
              "      <td>Arizona</td>\n",
              "      <td>51.12</td>\n",
              "    </tr>\n",
              "    <tr>\n",
              "      <th>43</th>\n",
              "      <td>132</td>\n",
              "      <td>New York</td>\n",
              "      <td>50.93</td>\n",
              "    </tr>\n",
              "    <tr>\n",
              "      <th>44</th>\n",
              "      <td>105</td>\n",
              "      <td>California</td>\n",
              "      <td>49.97</td>\n",
              "    </tr>\n",
              "    <tr>\n",
              "      <th>45</th>\n",
              "      <td>123</td>\n",
              "      <td>Minnesota</td>\n",
              "      <td>48.27</td>\n",
              "    </tr>\n",
              "    <tr>\n",
              "      <th>46</th>\n",
              "      <td>111</td>\n",
              "      <td>Hawaii</td>\n",
              "      <td>47.00</td>\n",
              "    </tr>\n",
              "    <tr>\n",
              "      <th>47</th>\n",
              "      <td>121</td>\n",
              "      <td>Massachusetts</td>\n",
              "      <td>45.90</td>\n",
              "    </tr>\n",
              "    <tr>\n",
              "      <th>48</th>\n",
              "      <td>144</td>\n",
              "      <td>Utah</td>\n",
              "      <td>43.47</td>\n",
              "    </tr>\n",
              "    <tr>\n",
              "      <th>49</th>\n",
              "      <td>106</td>\n",
              "      <td>Colorado</td>\n",
              "      <td>43.23</td>\n",
              "    </tr>\n",
              "  </tbody>\n",
              "</table>\n",
              "</div>\n",
              "      <button class=\"colab-df-convert\" onclick=\"convertToInteractive('df-402661e8-d045-4422-a0a0-2c70ebaacf30')\"\n",
              "              title=\"Convert this dataframe to an interactive table.\"\n",
              "              style=\"display:none;\">\n",
              "        \n",
              "  <svg xmlns=\"http://www.w3.org/2000/svg\" height=\"24px\"viewBox=\"0 0 24 24\"\n",
              "       width=\"24px\">\n",
              "    <path d=\"M0 0h24v24H0V0z\" fill=\"none\"/>\n",
              "    <path d=\"M18.56 5.44l.94 2.06.94-2.06 2.06-.94-2.06-.94-.94-2.06-.94 2.06-2.06.94zm-11 1L8.5 8.5l.94-2.06 2.06-.94-2.06-.94L8.5 2.5l-.94 2.06-2.06.94zm10 10l.94 2.06.94-2.06 2.06-.94-2.06-.94-.94-2.06-.94 2.06-2.06.94z\"/><path d=\"M17.41 7.96l-1.37-1.37c-.4-.4-.92-.59-1.43-.59-.52 0-1.04.2-1.43.59L10.3 9.45l-7.72 7.72c-.78.78-.78 2.05 0 2.83L4 21.41c.39.39.9.59 1.41.59.51 0 1.02-.2 1.41-.59l7.78-7.78 2.81-2.81c.8-.78.8-2.07 0-2.86zM5.41 20L4 18.59l7.72-7.72 1.47 1.35L5.41 20z\"/>\n",
              "  </svg>\n",
              "      </button>\n",
              "      \n",
              "  <style>\n",
              "    .colab-df-container {\n",
              "      display:flex;\n",
              "      flex-wrap:wrap;\n",
              "      gap: 12px;\n",
              "    }\n",
              "\n",
              "    .colab-df-convert {\n",
              "      background-color: #E8F0FE;\n",
              "      border: none;\n",
              "      border-radius: 50%;\n",
              "      cursor: pointer;\n",
              "      display: none;\n",
              "      fill: #1967D2;\n",
              "      height: 32px;\n",
              "      padding: 0 0 0 0;\n",
              "      width: 32px;\n",
              "    }\n",
              "\n",
              "    .colab-df-convert:hover {\n",
              "      background-color: #E2EBFA;\n",
              "      box-shadow: 0px 1px 2px rgba(60, 64, 67, 0.3), 0px 1px 3px 1px rgba(60, 64, 67, 0.15);\n",
              "      fill: #174EA6;\n",
              "    }\n",
              "\n",
              "    [theme=dark] .colab-df-convert {\n",
              "      background-color: #3B4455;\n",
              "      fill: #D2E3FC;\n",
              "    }\n",
              "\n",
              "    [theme=dark] .colab-df-convert:hover {\n",
              "      background-color: #434B5C;\n",
              "      box-shadow: 0px 1px 3px 1px rgba(0, 0, 0, 0.15);\n",
              "      filter: drop-shadow(0px 1px 2px rgba(0, 0, 0, 0.3));\n",
              "      fill: #FFFFFF;\n",
              "    }\n",
              "  </style>\n",
              "\n",
              "      <script>\n",
              "        const buttonEl =\n",
              "          document.querySelector('#df-402661e8-d045-4422-a0a0-2c70ebaacf30 button.colab-df-convert');\n",
              "        buttonEl.style.display =\n",
              "          google.colab.kernel.accessAllowed ? 'block' : 'none';\n",
              "\n",
              "        async function convertToInteractive(key) {\n",
              "          const element = document.querySelector('#df-402661e8-d045-4422-a0a0-2c70ebaacf30');\n",
              "          const dataTable =\n",
              "            await google.colab.kernel.invokeFunction('convertToInteractive',\n",
              "                                                     [key], {});\n",
              "          if (!dataTable) return;\n",
              "\n",
              "          const docLinkHtml = 'Like what you see? Visit the ' +\n",
              "            '<a target=\"_blank\" href=https://colab.research.google.com/notebooks/data_table.ipynb>data table notebook</a>'\n",
              "            + ' to learn more about interactive tables.';\n",
              "          element.innerHTML = '';\n",
              "          dataTable['output_type'] = 'display_data';\n",
              "          await google.colab.output.renderOutput(dataTable, element);\n",
              "          const docLink = document.createElement('div');\n",
              "          docLink.innerHTML = docLinkHtml;\n",
              "          element.appendChild(docLink);\n",
              "        }\n",
              "      </script>\n",
              "    </div>\n",
              "  </div>\n",
              "  "
            ]
          },
          "metadata": {},
          "execution_count": 55
        }
      ]
    },
    {
      "cell_type": "markdown",
      "source": [
        "# Bar plot that shows the total obesity scores for each state and favorite fast food restaurant"
      ],
      "metadata": {
        "id": "EqVqxqaidM37"
      }
    },
    {
      "cell_type": "markdown",
      "source": [
        "This plot shows each states total obesity score based on which fast food resturant they claimed is their favorite. We created this plot from combining our state_fast_food data with our obesity_by_state data in the state_barplots2 function. We can see that a large majority of the states who have their favorite resturant as Chick-fil-a, have generally higher obesity scores than many of the other states. There is obviously an outlier in the McDonalds and West Virginia obesity score, but overall Chick-fil-a has the most obese states."
      ],
      "metadata": {
        "id": "6rQaBrMrjg5I"
      }
    },
    {
      "cell_type": "code",
      "source": [
        "db='US_State_Food.db'\n",
        "cols1='State,mostPopular'\n",
        "cols2='State,Total_Score'\n",
        "table1='state_fast_food'\n",
        "table2='obesity_by_state'\n",
        "cat_var='State'\n",
        "num_var='Total_Score'\n",
        "state_barplots2(db,table1,table2,cols1,cols2,cat_var,num_var,'State','Total Obesity Score')"
      ],
      "metadata": {
        "colab": {
          "base_uri": "https://localhost:8080/",
          "height": 542
        },
        "id": "ZkNKcQP0dWnh",
        "outputId": "795aee7e-bee7-4f47-e9e7-b8eb24a0a7e3"
      },
      "execution_count": null,
      "outputs": [
        {
          "output_type": "display_data",
          "data": {
            "text/html": [
              "<html>\n",
              "<head><meta charset=\"utf-8\" /></head>\n",
              "<body>\n",
              "    <div>            <script src=\"https://cdnjs.cloudflare.com/ajax/libs/mathjax/2.7.5/MathJax.js?config=TeX-AMS-MML_SVG\"></script><script type=\"text/javascript\">if (window.MathJax) {MathJax.Hub.Config({SVG: {font: \"STIX-Web\"}});}</script>                <script type=\"text/javascript\">window.PlotlyConfig = {MathJaxConfig: 'local'};</script>\n",
              "        <script src=\"https://cdn.plot.ly/plotly-2.8.3.min.js\"></script>                <div id=\"89865efb-2def-43c6-bc3b-3e067bf02608\" class=\"plotly-graph-div\" style=\"height:525px; width:100%;\"></div>            <script type=\"text/javascript\">                                    window.PLOTLYENV=window.PLOTLYENV || {};                                    if (document.getElementById(\"89865efb-2def-43c6-bc3b-3e067bf02608\")) {                    Plotly.newPlot(                        \"89865efb-2def-43c6-bc3b-3e067bf02608\",                        [{\"alignmentgroup\":\"True\",\"hovertemplate\":\"mostPopular=Chick-Fil-A<br>State=%{x}<br>Total_Score=%{y}<extra></extra>\",\"legendgroup\":\"Chick-Fil-A\",\"marker\":{\"color\":\"#636efa\",\"pattern\":{\"shape\":\"\"}},\"name\":\"Chick-Fil-A\",\"offsetgroup\":\"Chick-Fil-A\",\"orientation\":\"v\",\"showlegend\":true,\"textposition\":\"auto\",\"x\":[\"Alabama\",\"Arkansas\",\"Colorado\",\"Delaware\",\"Florida\",\"Georgia\",\"Idaho\",\"Kentucky\",\"Louisiana\",\"Maryland\",\"Mississippi\",\"Missouri\",\"New Mexico\",\"North Carolina\",\"Ohio\",\"Oklahoma\",\"Pennsylvania\",\"South Carolina\",\"Tennessee\",\"Texas\",\"Virginia\"],\"xaxis\":\"x\",\"y\":[68.63,68.95,43.23,63.99,54.63,62.27,52.71,68.99,65.66,56.47,72.33,61.51,56.56,60.13,61.99,63.71,56.02,63.43,67.46,62.08,57.71],\"yaxis\":\"y\",\"type\":\"bar\"},{\"alignmentgroup\":\"True\",\"hovertemplate\":\"mostPopular=McDonald's<br>State=%{x}<br>Total_Score=%{y}<extra></extra>\",\"legendgroup\":\"McDonald's\",\"marker\":{\"color\":\"#EF553B\",\"pattern\":{\"shape\":\"\"}},\"name\":\"McDonald's\",\"offsetgroup\":\"McDonald's\",\"orientation\":\"v\",\"showlegend\":true,\"textposition\":\"auto\",\"x\":[\"Alaska\",\"Indiana\",\"Maine\",\"Massachusetts\",\"Michigan\",\"Nebraska\",\"New Hampshire\",\"North Dakota\",\"Rhode Island\",\"South Dakota\",\"West Virginia\",\"Wisconsin\"],\"xaxis\":\"x\",\"y\":[53.84,58.12,57.53,45.9,58.32,51.91,55.39,56.12,57.41,54.75,74.6,55.51],\"yaxis\":\"y\",\"type\":\"bar\"},{\"alignmentgroup\":\"True\",\"hovertemplate\":\"mostPopular=In-N-Out<br>State=%{x}<br>Total_Score=%{y}<extra></extra>\",\"legendgroup\":\"In-N-Out\",\"marker\":{\"color\":\"#00cc96\",\"pattern\":{\"shape\":\"\"}},\"name\":\"In-N-Out\",\"offsetgroup\":\"In-N-Out\",\"orientation\":\"v\",\"showlegend\":true,\"textposition\":\"auto\",\"x\":[\"Arizona\",\"California\",\"Nevada\",\"Utah\"],\"xaxis\":\"x\",\"y\":[51.12,49.97,54.01,43.47],\"yaxis\":\"y\",\"type\":\"bar\"},{\"alignmentgroup\":\"True\",\"hovertemplate\":\"mostPopular=Panda Express<br>State=%{x}<br>Total_Score=%{y}<extra></extra>\",\"legendgroup\":\"Panda Express\",\"marker\":{\"color\":\"#ab63fa\",\"pattern\":{\"shape\":\"\"}},\"name\":\"Panda Express\",\"offsetgroup\":\"Panda Express\",\"orientation\":\"v\",\"showlegend\":true,\"textposition\":\"auto\",\"x\":[\"Connecticut\",\"Hawaii\",\"Minnesota\",\"New Jersey\",\"Oregon\"],\"xaxis\":\"x\",\"y\":[52.69,47.0,48.27,52.43,53.88],\"yaxis\":\"y\",\"type\":\"bar\"},{\"alignmentgroup\":\"True\",\"hovertemplate\":\"mostPopular=White Castle<br>State=%{x}<br>Total_Score=%{y}<extra></extra>\",\"legendgroup\":\"White Castle\",\"marker\":{\"color\":\"#FFA15A\",\"pattern\":{\"shape\":\"\"}},\"name\":\"White Castle\",\"offsetgroup\":\"White Castle\",\"orientation\":\"v\",\"showlegend\":true,\"textposition\":\"auto\",\"x\":[\"Illinois\"],\"xaxis\":\"x\",\"y\":[56.73],\"yaxis\":\"y\",\"type\":\"bar\"},{\"alignmentgroup\":\"True\",\"hovertemplate\":\"mostPopular=Wendy's<br>State=%{x}<br>Total_Score=%{y}<extra></extra>\",\"legendgroup\":\"Wendy's\",\"marker\":{\"color\":\"#19d3f3\",\"pattern\":{\"shape\":\"\"}},\"name\":\"Wendy's\",\"offsetgroup\":\"Wendy's\",\"orientation\":\"v\",\"showlegend\":true,\"textposition\":\"auto\",\"x\":[\"Iowa\"],\"xaxis\":\"x\",\"y\":[60.1],\"yaxis\":\"y\",\"type\":\"bar\"},{\"alignmentgroup\":\"True\",\"hovertemplate\":\"mostPopular=Jack In the Box<br>State=%{x}<br>Total_Score=%{y}<extra></extra>\",\"legendgroup\":\"Jack In the Box\",\"marker\":{\"color\":\"#FF6692\",\"pattern\":{\"shape\":\"\"}},\"name\":\"Jack In the Box\",\"offsetgroup\":\"Jack In the Box\",\"orientation\":\"v\",\"showlegend\":true,\"textposition\":\"auto\",\"x\":[\"Kansas\"],\"xaxis\":\"x\",\"y\":[59.98],\"yaxis\":\"y\",\"type\":\"bar\"},{\"alignmentgroup\":\"True\",\"hovertemplate\":\"mostPopular=Sonic<br>State=%{x}<br>Total_Score=%{y}<extra></extra>\",\"legendgroup\":\"Sonic\",\"marker\":{\"color\":\"#B6E880\",\"pattern\":{\"shape\":\"\"}},\"name\":\"Sonic\",\"offsetgroup\":\"Sonic\",\"orientation\":\"v\",\"showlegend\":true,\"textposition\":\"auto\",\"x\":[\"Montana\"],\"xaxis\":\"x\",\"y\":[52.71],\"yaxis\":\"y\",\"type\":\"bar\"},{\"alignmentgroup\":\"True\",\"hovertemplate\":\"mostPopular=Church's<br>State=%{x}<br>Total_Score=%{y}<extra></extra>\",\"legendgroup\":\"Church's\",\"marker\":{\"color\":\"#FF97FF\",\"pattern\":{\"shape\":\"\"}},\"name\":\"Church's\",\"offsetgroup\":\"Church's\",\"orientation\":\"v\",\"showlegend\":true,\"textposition\":\"auto\",\"x\":[\"New York\"],\"xaxis\":\"x\",\"y\":[50.93],\"yaxis\":\"y\",\"type\":\"bar\"},{\"alignmentgroup\":\"True\",\"hovertemplate\":\"mostPopular=Taco Bell<br>State=%{x}<br>Total_Score=%{y}<extra></extra>\",\"legendgroup\":\"Taco Bell\",\"marker\":{\"color\":\"#FECB52\",\"pattern\":{\"shape\":\"\"}},\"name\":\"Taco Bell\",\"offsetgroup\":\"Taco Bell\",\"orientation\":\"v\",\"showlegend\":true,\"textposition\":\"auto\",\"x\":[\"Vermont\"],\"xaxis\":\"x\",\"y\":[53.38],\"yaxis\":\"y\",\"type\":\"bar\"},{\"alignmentgroup\":\"True\",\"hovertemplate\":\"mostPopular=Charley's<br>State=%{x}<br>Total_Score=%{y}<extra></extra>\",\"legendgroup\":\"Charley's\",\"marker\":{\"color\":\"#636efa\",\"pattern\":{\"shape\":\"\"}},\"name\":\"Charley's\",\"offsetgroup\":\"Charley's\",\"orientation\":\"v\",\"showlegend\":true,\"textposition\":\"auto\",\"x\":[\"Washington\"],\"xaxis\":\"x\",\"y\":[51.17],\"yaxis\":\"y\",\"type\":\"bar\"},{\"alignmentgroup\":\"True\",\"hovertemplate\":\"mostPopular=Carl's Jr<br>State=%{x}<br>Total_Score=%{y}<extra></extra>\",\"legendgroup\":\"Carl's Jr\",\"marker\":{\"color\":\"#EF553B\",\"pattern\":{\"shape\":\"\"}},\"name\":\"Carl's Jr\",\"offsetgroup\":\"Carl's Jr\",\"orientation\":\"v\",\"showlegend\":true,\"textposition\":\"auto\",\"x\":[\"Wyoming\"],\"xaxis\":\"x\",\"y\":[52.66],\"yaxis\":\"y\",\"type\":\"bar\"}],                        {\"template\":{\"data\":{\"bar\":[{\"error_x\":{\"color\":\"#2a3f5f\"},\"error_y\":{\"color\":\"#2a3f5f\"},\"marker\":{\"line\":{\"color\":\"#E5ECF6\",\"width\":0.5},\"pattern\":{\"fillmode\":\"overlay\",\"size\":10,\"solidity\":0.2}},\"type\":\"bar\"}],\"barpolar\":[{\"marker\":{\"line\":{\"color\":\"#E5ECF6\",\"width\":0.5},\"pattern\":{\"fillmode\":\"overlay\",\"size\":10,\"solidity\":0.2}},\"type\":\"barpolar\"}],\"carpet\":[{\"aaxis\":{\"endlinecolor\":\"#2a3f5f\",\"gridcolor\":\"white\",\"linecolor\":\"white\",\"minorgridcolor\":\"white\",\"startlinecolor\":\"#2a3f5f\"},\"baxis\":{\"endlinecolor\":\"#2a3f5f\",\"gridcolor\":\"white\",\"linecolor\":\"white\",\"minorgridcolor\":\"white\",\"startlinecolor\":\"#2a3f5f\"},\"type\":\"carpet\"}],\"choropleth\":[{\"colorbar\":{\"outlinewidth\":0,\"ticks\":\"\"},\"type\":\"choropleth\"}],\"contour\":[{\"colorbar\":{\"outlinewidth\":0,\"ticks\":\"\"},\"colorscale\":[[0.0,\"#0d0887\"],[0.1111111111111111,\"#46039f\"],[0.2222222222222222,\"#7201a8\"],[0.3333333333333333,\"#9c179e\"],[0.4444444444444444,\"#bd3786\"],[0.5555555555555556,\"#d8576b\"],[0.6666666666666666,\"#ed7953\"],[0.7777777777777778,\"#fb9f3a\"],[0.8888888888888888,\"#fdca26\"],[1.0,\"#f0f921\"]],\"type\":\"contour\"}],\"contourcarpet\":[{\"colorbar\":{\"outlinewidth\":0,\"ticks\":\"\"},\"type\":\"contourcarpet\"}],\"heatmap\":[{\"colorbar\":{\"outlinewidth\":0,\"ticks\":\"\"},\"colorscale\":[[0.0,\"#0d0887\"],[0.1111111111111111,\"#46039f\"],[0.2222222222222222,\"#7201a8\"],[0.3333333333333333,\"#9c179e\"],[0.4444444444444444,\"#bd3786\"],[0.5555555555555556,\"#d8576b\"],[0.6666666666666666,\"#ed7953\"],[0.7777777777777778,\"#fb9f3a\"],[0.8888888888888888,\"#fdca26\"],[1.0,\"#f0f921\"]],\"type\":\"heatmap\"}],\"heatmapgl\":[{\"colorbar\":{\"outlinewidth\":0,\"ticks\":\"\"},\"colorscale\":[[0.0,\"#0d0887\"],[0.1111111111111111,\"#46039f\"],[0.2222222222222222,\"#7201a8\"],[0.3333333333333333,\"#9c179e\"],[0.4444444444444444,\"#bd3786\"],[0.5555555555555556,\"#d8576b\"],[0.6666666666666666,\"#ed7953\"],[0.7777777777777778,\"#fb9f3a\"],[0.8888888888888888,\"#fdca26\"],[1.0,\"#f0f921\"]],\"type\":\"heatmapgl\"}],\"histogram\":[{\"marker\":{\"pattern\":{\"fillmode\":\"overlay\",\"size\":10,\"solidity\":0.2}},\"type\":\"histogram\"}],\"histogram2d\":[{\"colorbar\":{\"outlinewidth\":0,\"ticks\":\"\"},\"colorscale\":[[0.0,\"#0d0887\"],[0.1111111111111111,\"#46039f\"],[0.2222222222222222,\"#7201a8\"],[0.3333333333333333,\"#9c179e\"],[0.4444444444444444,\"#bd3786\"],[0.5555555555555556,\"#d8576b\"],[0.6666666666666666,\"#ed7953\"],[0.7777777777777778,\"#fb9f3a\"],[0.8888888888888888,\"#fdca26\"],[1.0,\"#f0f921\"]],\"type\":\"histogram2d\"}],\"histogram2dcontour\":[{\"colorbar\":{\"outlinewidth\":0,\"ticks\":\"\"},\"colorscale\":[[0.0,\"#0d0887\"],[0.1111111111111111,\"#46039f\"],[0.2222222222222222,\"#7201a8\"],[0.3333333333333333,\"#9c179e\"],[0.4444444444444444,\"#bd3786\"],[0.5555555555555556,\"#d8576b\"],[0.6666666666666666,\"#ed7953\"],[0.7777777777777778,\"#fb9f3a\"],[0.8888888888888888,\"#fdca26\"],[1.0,\"#f0f921\"]],\"type\":\"histogram2dcontour\"}],\"mesh3d\":[{\"colorbar\":{\"outlinewidth\":0,\"ticks\":\"\"},\"type\":\"mesh3d\"}],\"parcoords\":[{\"line\":{\"colorbar\":{\"outlinewidth\":0,\"ticks\":\"\"}},\"type\":\"parcoords\"}],\"pie\":[{\"automargin\":true,\"type\":\"pie\"}],\"scatter\":[{\"marker\":{\"colorbar\":{\"outlinewidth\":0,\"ticks\":\"\"}},\"type\":\"scatter\"}],\"scatter3d\":[{\"line\":{\"colorbar\":{\"outlinewidth\":0,\"ticks\":\"\"}},\"marker\":{\"colorbar\":{\"outlinewidth\":0,\"ticks\":\"\"}},\"type\":\"scatter3d\"}],\"scattercarpet\":[{\"marker\":{\"colorbar\":{\"outlinewidth\":0,\"ticks\":\"\"}},\"type\":\"scattercarpet\"}],\"scattergeo\":[{\"marker\":{\"colorbar\":{\"outlinewidth\":0,\"ticks\":\"\"}},\"type\":\"scattergeo\"}],\"scattergl\":[{\"marker\":{\"colorbar\":{\"outlinewidth\":0,\"ticks\":\"\"}},\"type\":\"scattergl\"}],\"scattermapbox\":[{\"marker\":{\"colorbar\":{\"outlinewidth\":0,\"ticks\":\"\"}},\"type\":\"scattermapbox\"}],\"scatterpolar\":[{\"marker\":{\"colorbar\":{\"outlinewidth\":0,\"ticks\":\"\"}},\"type\":\"scatterpolar\"}],\"scatterpolargl\":[{\"marker\":{\"colorbar\":{\"outlinewidth\":0,\"ticks\":\"\"}},\"type\":\"scatterpolargl\"}],\"scatterternary\":[{\"marker\":{\"colorbar\":{\"outlinewidth\":0,\"ticks\":\"\"}},\"type\":\"scatterternary\"}],\"surface\":[{\"colorbar\":{\"outlinewidth\":0,\"ticks\":\"\"},\"colorscale\":[[0.0,\"#0d0887\"],[0.1111111111111111,\"#46039f\"],[0.2222222222222222,\"#7201a8\"],[0.3333333333333333,\"#9c179e\"],[0.4444444444444444,\"#bd3786\"],[0.5555555555555556,\"#d8576b\"],[0.6666666666666666,\"#ed7953\"],[0.7777777777777778,\"#fb9f3a\"],[0.8888888888888888,\"#fdca26\"],[1.0,\"#f0f921\"]],\"type\":\"surface\"}],\"table\":[{\"cells\":{\"fill\":{\"color\":\"#EBF0F8\"},\"line\":{\"color\":\"white\"}},\"header\":{\"fill\":{\"color\":\"#C8D4E3\"},\"line\":{\"color\":\"white\"}},\"type\":\"table\"}]},\"layout\":{\"annotationdefaults\":{\"arrowcolor\":\"#2a3f5f\",\"arrowhead\":0,\"arrowwidth\":1},\"autotypenumbers\":\"strict\",\"coloraxis\":{\"colorbar\":{\"outlinewidth\":0,\"ticks\":\"\"}},\"colorscale\":{\"diverging\":[[0,\"#8e0152\"],[0.1,\"#c51b7d\"],[0.2,\"#de77ae\"],[0.3,\"#f1b6da\"],[0.4,\"#fde0ef\"],[0.5,\"#f7f7f7\"],[0.6,\"#e6f5d0\"],[0.7,\"#b8e186\"],[0.8,\"#7fbc41\"],[0.9,\"#4d9221\"],[1,\"#276419\"]],\"sequential\":[[0.0,\"#0d0887\"],[0.1111111111111111,\"#46039f\"],[0.2222222222222222,\"#7201a8\"],[0.3333333333333333,\"#9c179e\"],[0.4444444444444444,\"#bd3786\"],[0.5555555555555556,\"#d8576b\"],[0.6666666666666666,\"#ed7953\"],[0.7777777777777778,\"#fb9f3a\"],[0.8888888888888888,\"#fdca26\"],[1.0,\"#f0f921\"]],\"sequentialminus\":[[0.0,\"#0d0887\"],[0.1111111111111111,\"#46039f\"],[0.2222222222222222,\"#7201a8\"],[0.3333333333333333,\"#9c179e\"],[0.4444444444444444,\"#bd3786\"],[0.5555555555555556,\"#d8576b\"],[0.6666666666666666,\"#ed7953\"],[0.7777777777777778,\"#fb9f3a\"],[0.8888888888888888,\"#fdca26\"],[1.0,\"#f0f921\"]]},\"colorway\":[\"#636efa\",\"#EF553B\",\"#00cc96\",\"#ab63fa\",\"#FFA15A\",\"#19d3f3\",\"#FF6692\",\"#B6E880\",\"#FF97FF\",\"#FECB52\"],\"font\":{\"color\":\"#2a3f5f\"},\"geo\":{\"bgcolor\":\"white\",\"lakecolor\":\"white\",\"landcolor\":\"#E5ECF6\",\"showlakes\":true,\"showland\":true,\"subunitcolor\":\"white\"},\"hoverlabel\":{\"align\":\"left\"},\"hovermode\":\"closest\",\"mapbox\":{\"style\":\"light\"},\"paper_bgcolor\":\"white\",\"plot_bgcolor\":\"#E5ECF6\",\"polar\":{\"angularaxis\":{\"gridcolor\":\"white\",\"linecolor\":\"white\",\"ticks\":\"\"},\"bgcolor\":\"#E5ECF6\",\"radialaxis\":{\"gridcolor\":\"white\",\"linecolor\":\"white\",\"ticks\":\"\"}},\"scene\":{\"xaxis\":{\"backgroundcolor\":\"#E5ECF6\",\"gridcolor\":\"white\",\"gridwidth\":2,\"linecolor\":\"white\",\"showbackground\":true,\"ticks\":\"\",\"zerolinecolor\":\"white\"},\"yaxis\":{\"backgroundcolor\":\"#E5ECF6\",\"gridcolor\":\"white\",\"gridwidth\":2,\"linecolor\":\"white\",\"showbackground\":true,\"ticks\":\"\",\"zerolinecolor\":\"white\"},\"zaxis\":{\"backgroundcolor\":\"#E5ECF6\",\"gridcolor\":\"white\",\"gridwidth\":2,\"linecolor\":\"white\",\"showbackground\":true,\"ticks\":\"\",\"zerolinecolor\":\"white\"}},\"shapedefaults\":{\"line\":{\"color\":\"#2a3f5f\"}},\"ternary\":{\"aaxis\":{\"gridcolor\":\"white\",\"linecolor\":\"white\",\"ticks\":\"\"},\"baxis\":{\"gridcolor\":\"white\",\"linecolor\":\"white\",\"ticks\":\"\"},\"bgcolor\":\"#E5ECF6\",\"caxis\":{\"gridcolor\":\"white\",\"linecolor\":\"white\",\"ticks\":\"\"}},\"title\":{\"x\":0.05},\"xaxis\":{\"automargin\":true,\"gridcolor\":\"white\",\"linecolor\":\"white\",\"ticks\":\"\",\"title\":{\"standoff\":15},\"zerolinecolor\":\"white\",\"zerolinewidth\":2},\"yaxis\":{\"automargin\":true,\"gridcolor\":\"white\",\"linecolor\":\"white\",\"ticks\":\"\",\"title\":{\"standoff\":15},\"zerolinecolor\":\"white\",\"zerolinewidth\":2}}},\"xaxis\":{\"anchor\":\"y\",\"domain\":[0.0,1.0],\"title\":{\"text\":\"State\"}},\"yaxis\":{\"anchor\":\"x\",\"domain\":[0.0,1.0],\"title\":{\"text\":\"Total Obesity Score\"}},\"legend\":{\"title\":{\"text\":\"mostPopular\"},\"tracegroupgap\":0},\"margin\":{\"t\":60},\"barmode\":\"relative\"},                        {\"responsive\": true}                    ).then(function(){\n",
              "                            \n",
              "var gd = document.getElementById('89865efb-2def-43c6-bc3b-3e067bf02608');\n",
              "var x = new MutationObserver(function (mutations, observer) {{\n",
              "        var display = window.getComputedStyle(gd).display;\n",
              "        if (!display || display === 'none') {{\n",
              "            console.log([gd, 'removed!']);\n",
              "            Plotly.purge(gd);\n",
              "            observer.disconnect();\n",
              "        }}\n",
              "}});\n",
              "\n",
              "// Listen for the removal of the full notebook cells\n",
              "var notebookContainer = gd.closest('#notebook-container');\n",
              "if (notebookContainer) {{\n",
              "    x.observe(notebookContainer, {childList: true});\n",
              "}}\n",
              "\n",
              "// Listen for the clearing of the current output cell\n",
              "var outputEl = gd.closest('.output');\n",
              "if (outputEl) {{\n",
              "    x.observe(outputEl, {childList: true});\n",
              "}}\n",
              "\n",
              "                        })                };                            </script>        </div>\n",
              "</body>\n",
              "</html>"
            ]
          },
          "metadata": {}
        }
      ]
    },
    {
      "cell_type": "markdown",
      "source": [
        "# Comparative boxplots that show the distribution of total obesity score across each favorite fastfood restaurant\n",
        "\n",
        "Here we call our state_comp_boxplots function to create comparative boxplots that support and complement the barplots above. Necessary subsets of data from our state_fast_food table (State and mostPopular fields) and our obesity_by_state (State and Total_Score fields) table are combined. Then, we create comparative boxplots that show the distribution of total obesity score across the different favorite fast food restaurants in our data.\n",
        "\n",
        "Based on these boxplots, it appears generally that the most obese states in our data go to Chick-Fil-A and McDonalds despite the Chick-Fil-A distribution of total score demonstrating disproportionately high levels of variability (IQR of 10 and range of about 42) compared to the rest of our distributions. We can also see that the state with the highest obesity score in our data of West Virginia (outlier) rated McDonalds as its favorite fast food restaurant.\n",
        "\n"
      ],
      "metadata": {
        "id": "XMZwm18tdluf"
      }
    },
    {
      "cell_type": "code",
      "source": [
        "db='US_State_Food.db'\n",
        "cols1='StateID,State,mostPopular'\n",
        "cols2='StateID,Total_Score'\n",
        "table1='state_fast_food'\n",
        "table2='obesity_by_state'\n",
        "cat_var='mostPopular'\n",
        "num_var='Total_Score'\n",
        "state_comp_boxplots(db,table1,table2,cols1,cols2,cat_var,num_var,'Most Popular Fast Food Restaurant','Total Obesity Score')"
      ],
      "metadata": {
        "id": "DDK6mCp6dqgC",
        "outputId": "b2bdf9bc-2d84-4608-8816-50a60b6acc7a",
        "colab": {
          "base_uri": "https://localhost:8080/",
          "height": 542
        }
      },
      "execution_count": null,
      "outputs": [
        {
          "output_type": "display_data",
          "data": {
            "text/html": [
              "<html>\n",
              "<head><meta charset=\"utf-8\" /></head>\n",
              "<body>\n",
              "    <div>            <script src=\"https://cdnjs.cloudflare.com/ajax/libs/mathjax/2.7.5/MathJax.js?config=TeX-AMS-MML_SVG\"></script><script type=\"text/javascript\">if (window.MathJax) {MathJax.Hub.Config({SVG: {font: \"STIX-Web\"}});}</script>                <script type=\"text/javascript\">window.PlotlyConfig = {MathJaxConfig: 'local'};</script>\n",
              "        <script src=\"https://cdn.plot.ly/plotly-2.8.3.min.js\"></script>                <div id=\"1a858d50-dc65-4f60-baa1-a15d7eced34b\" class=\"plotly-graph-div\" style=\"height:525px; width:100%;\"></div>            <script type=\"text/javascript\">                                    window.PLOTLYENV=window.PLOTLYENV || {};                                    if (document.getElementById(\"1a858d50-dc65-4f60-baa1-a15d7eced34b\")) {                    Plotly.newPlot(                        \"1a858d50-dc65-4f60-baa1-a15d7eced34b\",                        [{\"alignmentgroup\":\"True\",\"customdata\":[[\"Alabama\"],[\"Arkansas\"],[\"Colorado\"],[\"Delaware\"],[\"Florida\"],[\"Georgia\"],[\"Idaho\"],[\"Kentucky\"],[\"Louisiana\"],[\"Maryland\"],[\"Mississippi\"],[\"Missouri\"],[\"New Mexico\"],[\"North Carolina\"],[\"Ohio\"],[\"Oklahoma\"],[\"Pennsylvania\"],[\"South Carolina\"],[\"Tennessee\"],[\"Texas\"],[\"Virginia\"]],\"hovertemplate\":\"mostPopular=%{x}<br>Total_Score=%{y}<br>State=%{customdata[0]}<extra></extra>\",\"legendgroup\":\"Chick-Fil-A\",\"marker\":{\"color\":\"#636efa\"},\"name\":\"Chick-Fil-A\",\"notched\":false,\"offsetgroup\":\"Chick-Fil-A\",\"orientation\":\"v\",\"showlegend\":true,\"x\":[\"Chick-Fil-A\",\"Chick-Fil-A\",\"Chick-Fil-A\",\"Chick-Fil-A\",\"Chick-Fil-A\",\"Chick-Fil-A\",\"Chick-Fil-A\",\"Chick-Fil-A\",\"Chick-Fil-A\",\"Chick-Fil-A\",\"Chick-Fil-A\",\"Chick-Fil-A\",\"Chick-Fil-A\",\"Chick-Fil-A\",\"Chick-Fil-A\",\"Chick-Fil-A\",\"Chick-Fil-A\",\"Chick-Fil-A\",\"Chick-Fil-A\",\"Chick-Fil-A\",\"Chick-Fil-A\"],\"x0\":\" \",\"xaxis\":\"x\",\"y\":[68.63,68.95,43.23,63.99,54.63,62.27,52.71,68.99,65.66,56.47,72.33,61.51,56.56,60.13,61.99,63.71,56.02,63.43,67.46,62.08,57.71],\"y0\":\" \",\"yaxis\":\"y\",\"type\":\"box\"},{\"alignmentgroup\":\"True\",\"customdata\":[[\"Alaska\"],[\"Indiana\"],[\"Maine\"],[\"Massachusetts\"],[\"Michigan\"],[\"Nebraska\"],[\"New Hampshire\"],[\"North Dakota\"],[\"Rhode Island\"],[\"South Dakota\"],[\"West Virginia\"],[\"Wisconsin\"]],\"hovertemplate\":\"mostPopular=%{x}<br>Total_Score=%{y}<br>State=%{customdata[0]}<extra></extra>\",\"legendgroup\":\"McDonald's\",\"marker\":{\"color\":\"#EF553B\"},\"name\":\"McDonald's\",\"notched\":false,\"offsetgroup\":\"McDonald's\",\"orientation\":\"v\",\"showlegend\":true,\"x\":[\"McDonald's\",\"McDonald's\",\"McDonald's\",\"McDonald's\",\"McDonald's\",\"McDonald's\",\"McDonald's\",\"McDonald's\",\"McDonald's\",\"McDonald's\",\"McDonald's\",\"McDonald's\"],\"x0\":\" \",\"xaxis\":\"x\",\"y\":[53.84,58.12,57.53,45.9,58.32,51.91,55.39,56.12,57.41,54.75,74.6,55.51],\"y0\":\" \",\"yaxis\":\"y\",\"type\":\"box\"},{\"alignmentgroup\":\"True\",\"customdata\":[[\"Arizona\"],[\"California\"],[\"Nevada\"],[\"Utah\"]],\"hovertemplate\":\"mostPopular=%{x}<br>Total_Score=%{y}<br>State=%{customdata[0]}<extra></extra>\",\"legendgroup\":\"In-N-Out\",\"marker\":{\"color\":\"#00cc96\"},\"name\":\"In-N-Out\",\"notched\":false,\"offsetgroup\":\"In-N-Out\",\"orientation\":\"v\",\"showlegend\":true,\"x\":[\"In-N-Out\",\"In-N-Out\",\"In-N-Out\",\"In-N-Out\"],\"x0\":\" \",\"xaxis\":\"x\",\"y\":[51.12,49.97,54.01,43.47],\"y0\":\" \",\"yaxis\":\"y\",\"type\":\"box\"},{\"alignmentgroup\":\"True\",\"customdata\":[[\"Connecticut\"],[\"Hawaii\"],[\"Minnesota\"],[\"New Jersey\"],[\"Oregon\"]],\"hovertemplate\":\"mostPopular=%{x}<br>Total_Score=%{y}<br>State=%{customdata[0]}<extra></extra>\",\"legendgroup\":\"Panda Express\",\"marker\":{\"color\":\"#ab63fa\"},\"name\":\"Panda Express\",\"notched\":false,\"offsetgroup\":\"Panda Express\",\"orientation\":\"v\",\"showlegend\":true,\"x\":[\"Panda Express\",\"Panda Express\",\"Panda Express\",\"Panda Express\",\"Panda Express\"],\"x0\":\" \",\"xaxis\":\"x\",\"y\":[52.69,47.0,48.27,52.43,53.88],\"y0\":\" \",\"yaxis\":\"y\",\"type\":\"box\"},{\"alignmentgroup\":\"True\",\"customdata\":[[\"Illinois\"]],\"hovertemplate\":\"mostPopular=%{x}<br>Total_Score=%{y}<br>State=%{customdata[0]}<extra></extra>\",\"legendgroup\":\"White Castle\",\"marker\":{\"color\":\"#FFA15A\"},\"name\":\"White Castle\",\"notched\":false,\"offsetgroup\":\"White Castle\",\"orientation\":\"v\",\"showlegend\":true,\"x\":[\"White Castle\"],\"x0\":\" \",\"xaxis\":\"x\",\"y\":[56.73],\"y0\":\" \",\"yaxis\":\"y\",\"type\":\"box\"},{\"alignmentgroup\":\"True\",\"customdata\":[[\"Iowa\"]],\"hovertemplate\":\"mostPopular=%{x}<br>Total_Score=%{y}<br>State=%{customdata[0]}<extra></extra>\",\"legendgroup\":\"Wendy's\",\"marker\":{\"color\":\"#19d3f3\"},\"name\":\"Wendy's\",\"notched\":false,\"offsetgroup\":\"Wendy's\",\"orientation\":\"v\",\"showlegend\":true,\"x\":[\"Wendy's\"],\"x0\":\" \",\"xaxis\":\"x\",\"y\":[60.1],\"y0\":\" \",\"yaxis\":\"y\",\"type\":\"box\"},{\"alignmentgroup\":\"True\",\"customdata\":[[\"Kansas\"]],\"hovertemplate\":\"mostPopular=%{x}<br>Total_Score=%{y}<br>State=%{customdata[0]}<extra></extra>\",\"legendgroup\":\"Jack In the Box\",\"marker\":{\"color\":\"#FF6692\"},\"name\":\"Jack In the Box\",\"notched\":false,\"offsetgroup\":\"Jack In the Box\",\"orientation\":\"v\",\"showlegend\":true,\"x\":[\"Jack In the Box\"],\"x0\":\" \",\"xaxis\":\"x\",\"y\":[59.98],\"y0\":\" \",\"yaxis\":\"y\",\"type\":\"box\"},{\"alignmentgroup\":\"True\",\"customdata\":[[\"Montana\"]],\"hovertemplate\":\"mostPopular=%{x}<br>Total_Score=%{y}<br>State=%{customdata[0]}<extra></extra>\",\"legendgroup\":\"Sonic\",\"marker\":{\"color\":\"#B6E880\"},\"name\":\"Sonic\",\"notched\":false,\"offsetgroup\":\"Sonic\",\"orientation\":\"v\",\"showlegend\":true,\"x\":[\"Sonic\"],\"x0\":\" \",\"xaxis\":\"x\",\"y\":[52.71],\"y0\":\" \",\"yaxis\":\"y\",\"type\":\"box\"},{\"alignmentgroup\":\"True\",\"customdata\":[[\"New York\"]],\"hovertemplate\":\"mostPopular=%{x}<br>Total_Score=%{y}<br>State=%{customdata[0]}<extra></extra>\",\"legendgroup\":\"Church's\",\"marker\":{\"color\":\"#FF97FF\"},\"name\":\"Church's\",\"notched\":false,\"offsetgroup\":\"Church's\",\"orientation\":\"v\",\"showlegend\":true,\"x\":[\"Church's\"],\"x0\":\" \",\"xaxis\":\"x\",\"y\":[50.93],\"y0\":\" \",\"yaxis\":\"y\",\"type\":\"box\"},{\"alignmentgroup\":\"True\",\"customdata\":[[\"Vermont\"]],\"hovertemplate\":\"mostPopular=%{x}<br>Total_Score=%{y}<br>State=%{customdata[0]}<extra></extra>\",\"legendgroup\":\"Taco Bell\",\"marker\":{\"color\":\"#FECB52\"},\"name\":\"Taco Bell\",\"notched\":false,\"offsetgroup\":\"Taco Bell\",\"orientation\":\"v\",\"showlegend\":true,\"x\":[\"Taco Bell\"],\"x0\":\" \",\"xaxis\":\"x\",\"y\":[53.38],\"y0\":\" \",\"yaxis\":\"y\",\"type\":\"box\"},{\"alignmentgroup\":\"True\",\"customdata\":[[\"Washington\"]],\"hovertemplate\":\"mostPopular=%{x}<br>Total_Score=%{y}<br>State=%{customdata[0]}<extra></extra>\",\"legendgroup\":\"Charley's\",\"marker\":{\"color\":\"#636efa\"},\"name\":\"Charley's\",\"notched\":false,\"offsetgroup\":\"Charley's\",\"orientation\":\"v\",\"showlegend\":true,\"x\":[\"Charley's\"],\"x0\":\" \",\"xaxis\":\"x\",\"y\":[51.17],\"y0\":\" \",\"yaxis\":\"y\",\"type\":\"box\"},{\"alignmentgroup\":\"True\",\"customdata\":[[\"Wyoming\"]],\"hovertemplate\":\"mostPopular=%{x}<br>Total_Score=%{y}<br>State=%{customdata[0]}<extra></extra>\",\"legendgroup\":\"Carl's Jr\",\"marker\":{\"color\":\"#EF553B\"},\"name\":\"Carl's Jr\",\"notched\":false,\"offsetgroup\":\"Carl's Jr\",\"orientation\":\"v\",\"showlegend\":true,\"x\":[\"Carl's Jr\"],\"x0\":\" \",\"xaxis\":\"x\",\"y\":[52.66],\"y0\":\" \",\"yaxis\":\"y\",\"type\":\"box\"}],                        {\"template\":{\"data\":{\"bar\":[{\"error_x\":{\"color\":\"#2a3f5f\"},\"error_y\":{\"color\":\"#2a3f5f\"},\"marker\":{\"line\":{\"color\":\"#E5ECF6\",\"width\":0.5},\"pattern\":{\"fillmode\":\"overlay\",\"size\":10,\"solidity\":0.2}},\"type\":\"bar\"}],\"barpolar\":[{\"marker\":{\"line\":{\"color\":\"#E5ECF6\",\"width\":0.5},\"pattern\":{\"fillmode\":\"overlay\",\"size\":10,\"solidity\":0.2}},\"type\":\"barpolar\"}],\"carpet\":[{\"aaxis\":{\"endlinecolor\":\"#2a3f5f\",\"gridcolor\":\"white\",\"linecolor\":\"white\",\"minorgridcolor\":\"white\",\"startlinecolor\":\"#2a3f5f\"},\"baxis\":{\"endlinecolor\":\"#2a3f5f\",\"gridcolor\":\"white\",\"linecolor\":\"white\",\"minorgridcolor\":\"white\",\"startlinecolor\":\"#2a3f5f\"},\"type\":\"carpet\"}],\"choropleth\":[{\"colorbar\":{\"outlinewidth\":0,\"ticks\":\"\"},\"type\":\"choropleth\"}],\"contour\":[{\"colorbar\":{\"outlinewidth\":0,\"ticks\":\"\"},\"colorscale\":[[0.0,\"#0d0887\"],[0.1111111111111111,\"#46039f\"],[0.2222222222222222,\"#7201a8\"],[0.3333333333333333,\"#9c179e\"],[0.4444444444444444,\"#bd3786\"],[0.5555555555555556,\"#d8576b\"],[0.6666666666666666,\"#ed7953\"],[0.7777777777777778,\"#fb9f3a\"],[0.8888888888888888,\"#fdca26\"],[1.0,\"#f0f921\"]],\"type\":\"contour\"}],\"contourcarpet\":[{\"colorbar\":{\"outlinewidth\":0,\"ticks\":\"\"},\"type\":\"contourcarpet\"}],\"heatmap\":[{\"colorbar\":{\"outlinewidth\":0,\"ticks\":\"\"},\"colorscale\":[[0.0,\"#0d0887\"],[0.1111111111111111,\"#46039f\"],[0.2222222222222222,\"#7201a8\"],[0.3333333333333333,\"#9c179e\"],[0.4444444444444444,\"#bd3786\"],[0.5555555555555556,\"#d8576b\"],[0.6666666666666666,\"#ed7953\"],[0.7777777777777778,\"#fb9f3a\"],[0.8888888888888888,\"#fdca26\"],[1.0,\"#f0f921\"]],\"type\":\"heatmap\"}],\"heatmapgl\":[{\"colorbar\":{\"outlinewidth\":0,\"ticks\":\"\"},\"colorscale\":[[0.0,\"#0d0887\"],[0.1111111111111111,\"#46039f\"],[0.2222222222222222,\"#7201a8\"],[0.3333333333333333,\"#9c179e\"],[0.4444444444444444,\"#bd3786\"],[0.5555555555555556,\"#d8576b\"],[0.6666666666666666,\"#ed7953\"],[0.7777777777777778,\"#fb9f3a\"],[0.8888888888888888,\"#fdca26\"],[1.0,\"#f0f921\"]],\"type\":\"heatmapgl\"}],\"histogram\":[{\"marker\":{\"pattern\":{\"fillmode\":\"overlay\",\"size\":10,\"solidity\":0.2}},\"type\":\"histogram\"}],\"histogram2d\":[{\"colorbar\":{\"outlinewidth\":0,\"ticks\":\"\"},\"colorscale\":[[0.0,\"#0d0887\"],[0.1111111111111111,\"#46039f\"],[0.2222222222222222,\"#7201a8\"],[0.3333333333333333,\"#9c179e\"],[0.4444444444444444,\"#bd3786\"],[0.5555555555555556,\"#d8576b\"],[0.6666666666666666,\"#ed7953\"],[0.7777777777777778,\"#fb9f3a\"],[0.8888888888888888,\"#fdca26\"],[1.0,\"#f0f921\"]],\"type\":\"histogram2d\"}],\"histogram2dcontour\":[{\"colorbar\":{\"outlinewidth\":0,\"ticks\":\"\"},\"colorscale\":[[0.0,\"#0d0887\"],[0.1111111111111111,\"#46039f\"],[0.2222222222222222,\"#7201a8\"],[0.3333333333333333,\"#9c179e\"],[0.4444444444444444,\"#bd3786\"],[0.5555555555555556,\"#d8576b\"],[0.6666666666666666,\"#ed7953\"],[0.7777777777777778,\"#fb9f3a\"],[0.8888888888888888,\"#fdca26\"],[1.0,\"#f0f921\"]],\"type\":\"histogram2dcontour\"}],\"mesh3d\":[{\"colorbar\":{\"outlinewidth\":0,\"ticks\":\"\"},\"type\":\"mesh3d\"}],\"parcoords\":[{\"line\":{\"colorbar\":{\"outlinewidth\":0,\"ticks\":\"\"}},\"type\":\"parcoords\"}],\"pie\":[{\"automargin\":true,\"type\":\"pie\"}],\"scatter\":[{\"marker\":{\"colorbar\":{\"outlinewidth\":0,\"ticks\":\"\"}},\"type\":\"scatter\"}],\"scatter3d\":[{\"line\":{\"colorbar\":{\"outlinewidth\":0,\"ticks\":\"\"}},\"marker\":{\"colorbar\":{\"outlinewidth\":0,\"ticks\":\"\"}},\"type\":\"scatter3d\"}],\"scattercarpet\":[{\"marker\":{\"colorbar\":{\"outlinewidth\":0,\"ticks\":\"\"}},\"type\":\"scattercarpet\"}],\"scattergeo\":[{\"marker\":{\"colorbar\":{\"outlinewidth\":0,\"ticks\":\"\"}},\"type\":\"scattergeo\"}],\"scattergl\":[{\"marker\":{\"colorbar\":{\"outlinewidth\":0,\"ticks\":\"\"}},\"type\":\"scattergl\"}],\"scattermapbox\":[{\"marker\":{\"colorbar\":{\"outlinewidth\":0,\"ticks\":\"\"}},\"type\":\"scattermapbox\"}],\"scatterpolar\":[{\"marker\":{\"colorbar\":{\"outlinewidth\":0,\"ticks\":\"\"}},\"type\":\"scatterpolar\"}],\"scatterpolargl\":[{\"marker\":{\"colorbar\":{\"outlinewidth\":0,\"ticks\":\"\"}},\"type\":\"scatterpolargl\"}],\"scatterternary\":[{\"marker\":{\"colorbar\":{\"outlinewidth\":0,\"ticks\":\"\"}},\"type\":\"scatterternary\"}],\"surface\":[{\"colorbar\":{\"outlinewidth\":0,\"ticks\":\"\"},\"colorscale\":[[0.0,\"#0d0887\"],[0.1111111111111111,\"#46039f\"],[0.2222222222222222,\"#7201a8\"],[0.3333333333333333,\"#9c179e\"],[0.4444444444444444,\"#bd3786\"],[0.5555555555555556,\"#d8576b\"],[0.6666666666666666,\"#ed7953\"],[0.7777777777777778,\"#fb9f3a\"],[0.8888888888888888,\"#fdca26\"],[1.0,\"#f0f921\"]],\"type\":\"surface\"}],\"table\":[{\"cells\":{\"fill\":{\"color\":\"#EBF0F8\"},\"line\":{\"color\":\"white\"}},\"header\":{\"fill\":{\"color\":\"#C8D4E3\"},\"line\":{\"color\":\"white\"}},\"type\":\"table\"}]},\"layout\":{\"annotationdefaults\":{\"arrowcolor\":\"#2a3f5f\",\"arrowhead\":0,\"arrowwidth\":1},\"autotypenumbers\":\"strict\",\"coloraxis\":{\"colorbar\":{\"outlinewidth\":0,\"ticks\":\"\"}},\"colorscale\":{\"diverging\":[[0,\"#8e0152\"],[0.1,\"#c51b7d\"],[0.2,\"#de77ae\"],[0.3,\"#f1b6da\"],[0.4,\"#fde0ef\"],[0.5,\"#f7f7f7\"],[0.6,\"#e6f5d0\"],[0.7,\"#b8e186\"],[0.8,\"#7fbc41\"],[0.9,\"#4d9221\"],[1,\"#276419\"]],\"sequential\":[[0.0,\"#0d0887\"],[0.1111111111111111,\"#46039f\"],[0.2222222222222222,\"#7201a8\"],[0.3333333333333333,\"#9c179e\"],[0.4444444444444444,\"#bd3786\"],[0.5555555555555556,\"#d8576b\"],[0.6666666666666666,\"#ed7953\"],[0.7777777777777778,\"#fb9f3a\"],[0.8888888888888888,\"#fdca26\"],[1.0,\"#f0f921\"]],\"sequentialminus\":[[0.0,\"#0d0887\"],[0.1111111111111111,\"#46039f\"],[0.2222222222222222,\"#7201a8\"],[0.3333333333333333,\"#9c179e\"],[0.4444444444444444,\"#bd3786\"],[0.5555555555555556,\"#d8576b\"],[0.6666666666666666,\"#ed7953\"],[0.7777777777777778,\"#fb9f3a\"],[0.8888888888888888,\"#fdca26\"],[1.0,\"#f0f921\"]]},\"colorway\":[\"#636efa\",\"#EF553B\",\"#00cc96\",\"#ab63fa\",\"#FFA15A\",\"#19d3f3\",\"#FF6692\",\"#B6E880\",\"#FF97FF\",\"#FECB52\"],\"font\":{\"color\":\"#2a3f5f\"},\"geo\":{\"bgcolor\":\"white\",\"lakecolor\":\"white\",\"landcolor\":\"#E5ECF6\",\"showlakes\":true,\"showland\":true,\"subunitcolor\":\"white\"},\"hoverlabel\":{\"align\":\"left\"},\"hovermode\":\"closest\",\"mapbox\":{\"style\":\"light\"},\"paper_bgcolor\":\"white\",\"plot_bgcolor\":\"#E5ECF6\",\"polar\":{\"angularaxis\":{\"gridcolor\":\"white\",\"linecolor\":\"white\",\"ticks\":\"\"},\"bgcolor\":\"#E5ECF6\",\"radialaxis\":{\"gridcolor\":\"white\",\"linecolor\":\"white\",\"ticks\":\"\"}},\"scene\":{\"xaxis\":{\"backgroundcolor\":\"#E5ECF6\",\"gridcolor\":\"white\",\"gridwidth\":2,\"linecolor\":\"white\",\"showbackground\":true,\"ticks\":\"\",\"zerolinecolor\":\"white\"},\"yaxis\":{\"backgroundcolor\":\"#E5ECF6\",\"gridcolor\":\"white\",\"gridwidth\":2,\"linecolor\":\"white\",\"showbackground\":true,\"ticks\":\"\",\"zerolinecolor\":\"white\"},\"zaxis\":{\"backgroundcolor\":\"#E5ECF6\",\"gridcolor\":\"white\",\"gridwidth\":2,\"linecolor\":\"white\",\"showbackground\":true,\"ticks\":\"\",\"zerolinecolor\":\"white\"}},\"shapedefaults\":{\"line\":{\"color\":\"#2a3f5f\"}},\"ternary\":{\"aaxis\":{\"gridcolor\":\"white\",\"linecolor\":\"white\",\"ticks\":\"\"},\"baxis\":{\"gridcolor\":\"white\",\"linecolor\":\"white\",\"ticks\":\"\"},\"bgcolor\":\"#E5ECF6\",\"caxis\":{\"gridcolor\":\"white\",\"linecolor\":\"white\",\"ticks\":\"\"}},\"title\":{\"x\":0.05},\"xaxis\":{\"automargin\":true,\"gridcolor\":\"white\",\"linecolor\":\"white\",\"ticks\":\"\",\"title\":{\"standoff\":15},\"zerolinecolor\":\"white\",\"zerolinewidth\":2},\"yaxis\":{\"automargin\":true,\"gridcolor\":\"white\",\"linecolor\":\"white\",\"ticks\":\"\",\"title\":{\"standoff\":15},\"zerolinecolor\":\"white\",\"zerolinewidth\":2}}},\"xaxis\":{\"anchor\":\"y\",\"domain\":[0.0,1.0],\"title\":{\"text\":\"Most Popular Fast Food Restaurant\"},\"categoryorder\":\"array\",\"categoryarray\":[\"Chick-Fil-A\",\"McDonald's\",\"In-N-Out\",\"Panda Express\",\"White Castle\",\"Wendy's\",\"Jack In the Box\",\"Sonic\",\"Church's\",\"Taco Bell\",\"Charley's\",\"Carl's Jr\"]},\"yaxis\":{\"anchor\":\"x\",\"domain\":[0.0,1.0],\"title\":{\"text\":\"Total Obesity Score\"}},\"legend\":{\"title\":{\"text\":\"mostPopular\"},\"tracegroupgap\":0},\"margin\":{\"t\":60},\"boxmode\":\"overlay\"},                        {\"responsive\": true}                    ).then(function(){\n",
              "                            \n",
              "var gd = document.getElementById('1a858d50-dc65-4f60-baa1-a15d7eced34b');\n",
              "var x = new MutationObserver(function (mutations, observer) {{\n",
              "        var display = window.getComputedStyle(gd).display;\n",
              "        if (!display || display === 'none') {{\n",
              "            console.log([gd, 'removed!']);\n",
              "            Plotly.purge(gd);\n",
              "            observer.disconnect();\n",
              "        }}\n",
              "}});\n",
              "\n",
              "// Listen for the removal of the full notebook cells\n",
              "var notebookContainer = gd.closest('#notebook-container');\n",
              "if (notebookContainer) {{\n",
              "    x.observe(notebookContainer, {childList: true});\n",
              "}}\n",
              "\n",
              "// Listen for the clearing of the current output cell\n",
              "var outputEl = gd.closest('.output');\n",
              "if (outputEl) {{\n",
              "    x.observe(outputEl, {childList: true});\n",
              "}}\n",
              "\n",
              "                        })                };                            </script>        </div>\n",
              "</body>\n",
              "</html>"
            ]
          },
          "metadata": {}
        }
      ]
    },
    {
      "cell_type": "markdown",
      "source": [
        "# The effect of household income on the total obesity score of each state."
      ],
      "metadata": {
        "id": "HBW5zIgHePCw"
      }
    },
    {
      "cell_type": "markdown",
      "source": [
        "This scatterplot demonstrates the relationship between total obesity score in all states and the median household income of all states. This was created from combining our obesity_by_state data with our state_medincome data and then utilizing the data from our combined table in the px.scatter function. As we can see, there seems to be a direct correlation between a states total obesity score and median household income. The more obese a state is, the lower it's median household income tends to be."
      ],
      "metadata": {
        "id": "6c9MEEP0jnY2"
      }
    },
    {
      "cell_type": "code",
      "source": [
        "import pandas as pd\n",
        "\n",
        "db = 'US_State_Food.db'\n",
        "table = 'obesity_by_state'\n",
        "cols = 'StateID, State, Total_Score'\n",
        "\n",
        "\n",
        "qry = f'SELECT {cols} FROM {table} '\n",
        "data1 = execute_sql(db, qry)\n",
        "\n",
        "frame1 = pd.DataFrame(data1, columns = cols.split(','))\n",
        "\n",
        "\n",
        "db = 'US_State_Food.db'\n",
        "table = 'state_medincome'\n",
        "cols = ' HouseholdIncome'\n",
        "\n",
        "qry = f'SELECT {cols} FROM {table} '\n",
        "data2 = execute_sql(db, qry)\n",
        "\n",
        "frame3 = pd.DataFrame(data2, columns = cols.split(','))\n",
        "\n",
        "plot = pd.concat ([frame1, frame3], axis = 1)\n",
        "# x and y given as DataFrame columns\n",
        "import plotly.express as px\n",
        "fig = px.scatter(plot, x=\" HouseholdIncome\", y=\" Total_Score\", trendline=\"ols\", hover_data= [' State'])\n",
        "fig.update_xaxes(title_text='Median Household Income')\n",
        "fig.update_yaxes(title_text='Total Obesity Score')\n",
        "fig.show()"
      ],
      "metadata": {
        "id": "2z_bim9YeOeL",
        "colab": {
          "base_uri": "https://localhost:8080/",
          "height": 542
        },
        "outputId": "866bfc02-ee87-4ee5-9c8a-42491f9e6d5f"
      },
      "execution_count": null,
      "outputs": [
        {
          "output_type": "display_data",
          "data": {
            "text/html": [
              "<html>\n",
              "<head><meta charset=\"utf-8\" /></head>\n",
              "<body>\n",
              "    <div>            <script src=\"https://cdnjs.cloudflare.com/ajax/libs/mathjax/2.7.5/MathJax.js?config=TeX-AMS-MML_SVG\"></script><script type=\"text/javascript\">if (window.MathJax) {MathJax.Hub.Config({SVG: {font: \"STIX-Web\"}});}</script>                <script type=\"text/javascript\">window.PlotlyConfig = {MathJaxConfig: 'local'};</script>\n",
              "        <script src=\"https://cdn.plot.ly/plotly-2.8.3.min.js\"></script>                <div id=\"fdbed549-d09a-4770-9fa4-ef071d57c9a6\" class=\"plotly-graph-div\" style=\"height:525px; width:100%;\"></div>            <script type=\"text/javascript\">                                    window.PLOTLYENV=window.PLOTLYENV || {};                                    if (document.getElementById(\"fdbed549-d09a-4770-9fa4-ef071d57c9a6\")) {                    Plotly.newPlot(                        \"fdbed549-d09a-4770-9fa4-ef071d57c9a6\",                        [{\"customdata\":[[\"Alabama\"],[\"Alaska\"],[\"Arizona\"],[\"Arkansas\"],[\"California\"],[\"Colorado\"],[\"Connecticut\"],[\"Delaware\"],[\"Florida\"],[\"Georgia\"],[\"Hawaii\"],[\"Idaho\"],[\"Illinois\"],[\"Indiana\"],[\"Iowa\"],[\"Kansas\"],[\"Kentucky\"],[\"Louisiana\"],[\"Maine\"],[\"Maryland\"],[\"Massachusetts\"],[\"Michigan\"],[\"Minnesota\"],[\"Mississippi\"],[\"Missouri\"],[\"Montana\"],[\"Nebraska\"],[\"Nevada\"],[\"New Hampshire\"],[\"New Jersey\"],[\"New Mexico\"],[\"New York\"],[\"North Carolina\"],[\"North Dakota\"],[\"Ohio\"],[\"Oklahoma\"],[\"Oregon\"],[\"Pennsylvania\"],[\"Rhode Island\"],[\"South Carolina\"],[\"South Dakota\"],[\"Tennessee\"],[\"Texas\"],[\"Utah\"],[\"Vermont\"],[\"Virginia\"],[\"Washington\"],[\"West Virginia\"],[\"Wisconsin\"],[\"Wyoming\"]],\"hovertemplate\":\" HouseholdIncome=%{x}<br> Total_Score=%{y}<br> State=%{customdata[0]}<extra></extra>\",\"legendgroup\":\"\",\"marker\":{\"color\":\"#636efa\",\"symbol\":\"circle\"},\"mode\":\"markers\",\"name\":\"\",\"orientation\":\"v\",\"showlegend\":false,\"x\":[52035,77790,61529,49475,78672,75231,79855,69110,57703,61224,83173,58915,68428,58235,61836,61091,52238,50800,59489,87063,84385,59234,73382,46511,57290,56539,63015,62043,77923,85245,51243,71117,56642,65315,58116,53840,65667,63627,70305,54864,59896,54833,63826,74197,63477,76398,77006,48037,63293,65304],\"xaxis\":\"x\",\"y\":[68.63,53.84,51.12,68.95,49.97,43.23,52.69,63.99,54.63,62.27,47.0,52.71,56.73,58.12,60.1,59.98,68.99,65.66,57.53,56.47,45.9,58.32,48.27,72.33,61.51,52.71,51.91,54.01,55.39,52.43,56.56,50.93,60.13,56.12,61.99,63.71,53.88,56.02,57.41,63.43,54.75,67.46,62.08,43.47,53.38,57.71,51.17,74.6,55.51,52.66],\"yaxis\":\"y\",\"type\":\"scatter\"},{\"hovertemplate\":\"<b>OLS trendline</b><br> Total_Score = -0.00047626 *  HouseholdIncome + 87.8999<br>R<sup>2</sup>=0.508061<br><br> HouseholdIncome=%{x}<br> Total_Score=%{y} <b>(trend)</b><extra></extra>\",\"legendgroup\":\"\",\"marker\":{\"color\":\"#636efa\",\"symbol\":\"circle\"},\"mode\":\"lines\",\"name\":\"\",\"showlegend\":false,\"x\":[46511,48037,49475,50800,51243,52035,52238,53840,54833,54864,56539,56642,57290,57703,58116,58235,58915,59234,59489,59896,61091,61224,61529,61836,62043,63015,63293,63477,63627,63826,65304,65315,65667,68428,69110,70305,71117,73382,74197,75231,76398,77006,77790,77923,78672,79855,83173,84385,85245,87063],\"xaxis\":\"x\",\"y\":[65.74856820876924,65.02179534490563,64.33693336703153,63.70588877684851,63.49490556669675,63.11770759279113,63.021026798974404,62.25805816993803,61.78513192235181,61.77036786024187,60.97263224623692,60.923577459226465,60.614960935121864,60.41826552701198,60.22157011890211,60.16489517080265,59.84103832452004,59.689111362808056,59.56766504545208,59.37382719775058,58.8046964164157,58.74135382736337,58.59609450660426,58.449882665709026,58.351296831620054,57.88837204546315,57.75597174654173,57.6683398940182,57.5969008838088,57.50212513026433,56.79821274966773,56.792973888919036,56.625330344960986,55.31037629703999,54.98556693062125,54.416436149286376,54.0297129740195,52.950983919857585,52.56283196438652,52.07037905400973,51.51458355458061,51.22501743319851,50.85162953983739,50.78828695078506,50.431568159806126,49.868152499288,48.287921593456105,47.710694390964164,47.30111073243028,46.43526992869237],\"yaxis\":\"y\",\"type\":\"scatter\"}],                        {\"template\":{\"data\":{\"bar\":[{\"error_x\":{\"color\":\"#2a3f5f\"},\"error_y\":{\"color\":\"#2a3f5f\"},\"marker\":{\"line\":{\"color\":\"#E5ECF6\",\"width\":0.5},\"pattern\":{\"fillmode\":\"overlay\",\"size\":10,\"solidity\":0.2}},\"type\":\"bar\"}],\"barpolar\":[{\"marker\":{\"line\":{\"color\":\"#E5ECF6\",\"width\":0.5},\"pattern\":{\"fillmode\":\"overlay\",\"size\":10,\"solidity\":0.2}},\"type\":\"barpolar\"}],\"carpet\":[{\"aaxis\":{\"endlinecolor\":\"#2a3f5f\",\"gridcolor\":\"white\",\"linecolor\":\"white\",\"minorgridcolor\":\"white\",\"startlinecolor\":\"#2a3f5f\"},\"baxis\":{\"endlinecolor\":\"#2a3f5f\",\"gridcolor\":\"white\",\"linecolor\":\"white\",\"minorgridcolor\":\"white\",\"startlinecolor\":\"#2a3f5f\"},\"type\":\"carpet\"}],\"choropleth\":[{\"colorbar\":{\"outlinewidth\":0,\"ticks\":\"\"},\"type\":\"choropleth\"}],\"contour\":[{\"colorbar\":{\"outlinewidth\":0,\"ticks\":\"\"},\"colorscale\":[[0.0,\"#0d0887\"],[0.1111111111111111,\"#46039f\"],[0.2222222222222222,\"#7201a8\"],[0.3333333333333333,\"#9c179e\"],[0.4444444444444444,\"#bd3786\"],[0.5555555555555556,\"#d8576b\"],[0.6666666666666666,\"#ed7953\"],[0.7777777777777778,\"#fb9f3a\"],[0.8888888888888888,\"#fdca26\"],[1.0,\"#f0f921\"]],\"type\":\"contour\"}],\"contourcarpet\":[{\"colorbar\":{\"outlinewidth\":0,\"ticks\":\"\"},\"type\":\"contourcarpet\"}],\"heatmap\":[{\"colorbar\":{\"outlinewidth\":0,\"ticks\":\"\"},\"colorscale\":[[0.0,\"#0d0887\"],[0.1111111111111111,\"#46039f\"],[0.2222222222222222,\"#7201a8\"],[0.3333333333333333,\"#9c179e\"],[0.4444444444444444,\"#bd3786\"],[0.5555555555555556,\"#d8576b\"],[0.6666666666666666,\"#ed7953\"],[0.7777777777777778,\"#fb9f3a\"],[0.8888888888888888,\"#fdca26\"],[1.0,\"#f0f921\"]],\"type\":\"heatmap\"}],\"heatmapgl\":[{\"colorbar\":{\"outlinewidth\":0,\"ticks\":\"\"},\"colorscale\":[[0.0,\"#0d0887\"],[0.1111111111111111,\"#46039f\"],[0.2222222222222222,\"#7201a8\"],[0.3333333333333333,\"#9c179e\"],[0.4444444444444444,\"#bd3786\"],[0.5555555555555556,\"#d8576b\"],[0.6666666666666666,\"#ed7953\"],[0.7777777777777778,\"#fb9f3a\"],[0.8888888888888888,\"#fdca26\"],[1.0,\"#f0f921\"]],\"type\":\"heatmapgl\"}],\"histogram\":[{\"marker\":{\"pattern\":{\"fillmode\":\"overlay\",\"size\":10,\"solidity\":0.2}},\"type\":\"histogram\"}],\"histogram2d\":[{\"colorbar\":{\"outlinewidth\":0,\"ticks\":\"\"},\"colorscale\":[[0.0,\"#0d0887\"],[0.1111111111111111,\"#46039f\"],[0.2222222222222222,\"#7201a8\"],[0.3333333333333333,\"#9c179e\"],[0.4444444444444444,\"#bd3786\"],[0.5555555555555556,\"#d8576b\"],[0.6666666666666666,\"#ed7953\"],[0.7777777777777778,\"#fb9f3a\"],[0.8888888888888888,\"#fdca26\"],[1.0,\"#f0f921\"]],\"type\":\"histogram2d\"}],\"histogram2dcontour\":[{\"colorbar\":{\"outlinewidth\":0,\"ticks\":\"\"},\"colorscale\":[[0.0,\"#0d0887\"],[0.1111111111111111,\"#46039f\"],[0.2222222222222222,\"#7201a8\"],[0.3333333333333333,\"#9c179e\"],[0.4444444444444444,\"#bd3786\"],[0.5555555555555556,\"#d8576b\"],[0.6666666666666666,\"#ed7953\"],[0.7777777777777778,\"#fb9f3a\"],[0.8888888888888888,\"#fdca26\"],[1.0,\"#f0f921\"]],\"type\":\"histogram2dcontour\"}],\"mesh3d\":[{\"colorbar\":{\"outlinewidth\":0,\"ticks\":\"\"},\"type\":\"mesh3d\"}],\"parcoords\":[{\"line\":{\"colorbar\":{\"outlinewidth\":0,\"ticks\":\"\"}},\"type\":\"parcoords\"}],\"pie\":[{\"automargin\":true,\"type\":\"pie\"}],\"scatter\":[{\"marker\":{\"colorbar\":{\"outlinewidth\":0,\"ticks\":\"\"}},\"type\":\"scatter\"}],\"scatter3d\":[{\"line\":{\"colorbar\":{\"outlinewidth\":0,\"ticks\":\"\"}},\"marker\":{\"colorbar\":{\"outlinewidth\":0,\"ticks\":\"\"}},\"type\":\"scatter3d\"}],\"scattercarpet\":[{\"marker\":{\"colorbar\":{\"outlinewidth\":0,\"ticks\":\"\"}},\"type\":\"scattercarpet\"}],\"scattergeo\":[{\"marker\":{\"colorbar\":{\"outlinewidth\":0,\"ticks\":\"\"}},\"type\":\"scattergeo\"}],\"scattergl\":[{\"marker\":{\"colorbar\":{\"outlinewidth\":0,\"ticks\":\"\"}},\"type\":\"scattergl\"}],\"scattermapbox\":[{\"marker\":{\"colorbar\":{\"outlinewidth\":0,\"ticks\":\"\"}},\"type\":\"scattermapbox\"}],\"scatterpolar\":[{\"marker\":{\"colorbar\":{\"outlinewidth\":0,\"ticks\":\"\"}},\"type\":\"scatterpolar\"}],\"scatterpolargl\":[{\"marker\":{\"colorbar\":{\"outlinewidth\":0,\"ticks\":\"\"}},\"type\":\"scatterpolargl\"}],\"scatterternary\":[{\"marker\":{\"colorbar\":{\"outlinewidth\":0,\"ticks\":\"\"}},\"type\":\"scatterternary\"}],\"surface\":[{\"colorbar\":{\"outlinewidth\":0,\"ticks\":\"\"},\"colorscale\":[[0.0,\"#0d0887\"],[0.1111111111111111,\"#46039f\"],[0.2222222222222222,\"#7201a8\"],[0.3333333333333333,\"#9c179e\"],[0.4444444444444444,\"#bd3786\"],[0.5555555555555556,\"#d8576b\"],[0.6666666666666666,\"#ed7953\"],[0.7777777777777778,\"#fb9f3a\"],[0.8888888888888888,\"#fdca26\"],[1.0,\"#f0f921\"]],\"type\":\"surface\"}],\"table\":[{\"cells\":{\"fill\":{\"color\":\"#EBF0F8\"},\"line\":{\"color\":\"white\"}},\"header\":{\"fill\":{\"color\":\"#C8D4E3\"},\"line\":{\"color\":\"white\"}},\"type\":\"table\"}]},\"layout\":{\"annotationdefaults\":{\"arrowcolor\":\"#2a3f5f\",\"arrowhead\":0,\"arrowwidth\":1},\"autotypenumbers\":\"strict\",\"coloraxis\":{\"colorbar\":{\"outlinewidth\":0,\"ticks\":\"\"}},\"colorscale\":{\"diverging\":[[0,\"#8e0152\"],[0.1,\"#c51b7d\"],[0.2,\"#de77ae\"],[0.3,\"#f1b6da\"],[0.4,\"#fde0ef\"],[0.5,\"#f7f7f7\"],[0.6,\"#e6f5d0\"],[0.7,\"#b8e186\"],[0.8,\"#7fbc41\"],[0.9,\"#4d9221\"],[1,\"#276419\"]],\"sequential\":[[0.0,\"#0d0887\"],[0.1111111111111111,\"#46039f\"],[0.2222222222222222,\"#7201a8\"],[0.3333333333333333,\"#9c179e\"],[0.4444444444444444,\"#bd3786\"],[0.5555555555555556,\"#d8576b\"],[0.6666666666666666,\"#ed7953\"],[0.7777777777777778,\"#fb9f3a\"],[0.8888888888888888,\"#fdca26\"],[1.0,\"#f0f921\"]],\"sequentialminus\":[[0.0,\"#0d0887\"],[0.1111111111111111,\"#46039f\"],[0.2222222222222222,\"#7201a8\"],[0.3333333333333333,\"#9c179e\"],[0.4444444444444444,\"#bd3786\"],[0.5555555555555556,\"#d8576b\"],[0.6666666666666666,\"#ed7953\"],[0.7777777777777778,\"#fb9f3a\"],[0.8888888888888888,\"#fdca26\"],[1.0,\"#f0f921\"]]},\"colorway\":[\"#636efa\",\"#EF553B\",\"#00cc96\",\"#ab63fa\",\"#FFA15A\",\"#19d3f3\",\"#FF6692\",\"#B6E880\",\"#FF97FF\",\"#FECB52\"],\"font\":{\"color\":\"#2a3f5f\"},\"geo\":{\"bgcolor\":\"white\",\"lakecolor\":\"white\",\"landcolor\":\"#E5ECF6\",\"showlakes\":true,\"showland\":true,\"subunitcolor\":\"white\"},\"hoverlabel\":{\"align\":\"left\"},\"hovermode\":\"closest\",\"mapbox\":{\"style\":\"light\"},\"paper_bgcolor\":\"white\",\"plot_bgcolor\":\"#E5ECF6\",\"polar\":{\"angularaxis\":{\"gridcolor\":\"white\",\"linecolor\":\"white\",\"ticks\":\"\"},\"bgcolor\":\"#E5ECF6\",\"radialaxis\":{\"gridcolor\":\"white\",\"linecolor\":\"white\",\"ticks\":\"\"}},\"scene\":{\"xaxis\":{\"backgroundcolor\":\"#E5ECF6\",\"gridcolor\":\"white\",\"gridwidth\":2,\"linecolor\":\"white\",\"showbackground\":true,\"ticks\":\"\",\"zerolinecolor\":\"white\"},\"yaxis\":{\"backgroundcolor\":\"#E5ECF6\",\"gridcolor\":\"white\",\"gridwidth\":2,\"linecolor\":\"white\",\"showbackground\":true,\"ticks\":\"\",\"zerolinecolor\":\"white\"},\"zaxis\":{\"backgroundcolor\":\"#E5ECF6\",\"gridcolor\":\"white\",\"gridwidth\":2,\"linecolor\":\"white\",\"showbackground\":true,\"ticks\":\"\",\"zerolinecolor\":\"white\"}},\"shapedefaults\":{\"line\":{\"color\":\"#2a3f5f\"}},\"ternary\":{\"aaxis\":{\"gridcolor\":\"white\",\"linecolor\":\"white\",\"ticks\":\"\"},\"baxis\":{\"gridcolor\":\"white\",\"linecolor\":\"white\",\"ticks\":\"\"},\"bgcolor\":\"#E5ECF6\",\"caxis\":{\"gridcolor\":\"white\",\"linecolor\":\"white\",\"ticks\":\"\"}},\"title\":{\"x\":0.05},\"xaxis\":{\"automargin\":true,\"gridcolor\":\"white\",\"linecolor\":\"white\",\"ticks\":\"\",\"title\":{\"standoff\":15},\"zerolinecolor\":\"white\",\"zerolinewidth\":2},\"yaxis\":{\"automargin\":true,\"gridcolor\":\"white\",\"linecolor\":\"white\",\"ticks\":\"\",\"title\":{\"standoff\":15},\"zerolinecolor\":\"white\",\"zerolinewidth\":2}}},\"xaxis\":{\"anchor\":\"y\",\"domain\":[0.0,1.0],\"title\":{\"text\":\"Median Household Income\"}},\"yaxis\":{\"anchor\":\"x\",\"domain\":[0.0,1.0],\"title\":{\"text\":\"Total Obesity Score\"}},\"legend\":{\"tracegroupgap\":0},\"margin\":{\"t\":60}},                        {\"responsive\": true}                    ).then(function(){\n",
              "                            \n",
              "var gd = document.getElementById('fdbed549-d09a-4770-9fa4-ef071d57c9a6');\n",
              "var x = new MutationObserver(function (mutations, observer) {{\n",
              "        var display = window.getComputedStyle(gd).display;\n",
              "        if (!display || display === 'none') {{\n",
              "            console.log([gd, 'removed!']);\n",
              "            Plotly.purge(gd);\n",
              "            observer.disconnect();\n",
              "        }}\n",
              "}});\n",
              "\n",
              "// Listen for the removal of the full notebook cells\n",
              "var notebookContainer = gd.closest('#notebook-container');\n",
              "if (notebookContainer) {{\n",
              "    x.observe(notebookContainer, {childList: true});\n",
              "}}\n",
              "\n",
              "// Listen for the clearing of the current output cell\n",
              "var outputEl = gd.closest('.output');\n",
              "if (outputEl) {{\n",
              "    x.observe(outputEl, {childList: true});\n",
              "}}\n",
              "\n",
              "                        })                };                            </script>        </div>\n",
              "</body>\n",
              "</html>"
            ]
          },
          "metadata": {}
        }
      ]
    },
    {
      "cell_type": "markdown",
      "source": [
        "# Query that shows the median income of any state from highest to lowest\n",
        "\n",
        "Here, to answer which states have the highest median income in our data, we query the necessary subset of data from the state_medincome table (the state and HouseholdIncome columns). Then, we order this subset by total median income in descending order and display the result as a pandas dataframe (at the top of the dataframe are the states with the highest median income).\n",
        "\n",
        "We can see that the states of Maryland, New Jersey, Massachusetts, Hawaii, and Connecticut have the five highest median incomes in our data."
      ],
      "metadata": {
        "id": "FXSHnqdaeuTD"
      }
    },
    {
      "cell_type": "code",
      "source": [
        "db = 'US_State_Food.db'\n",
        "table = 'state_medincome'\n",
        "cols = 'State, HouseholdIncome'\n",
        "ord = 'HouseholdIncome'\n",
        "\n",
        "qry = f'SELECT {cols} FROM {table} ORDER BY {ord} DESC'\n",
        "data2 = execute_sql(db, qry)\n",
        "\n",
        "frame3 = pd.DataFrame(data2, columns = cols.split(','))\n",
        "frame3"
      ],
      "metadata": {
        "id": "knwyZsd7eWAd",
        "colab": {
          "base_uri": "https://localhost:8080/",
          "height": 1000
        },
        "outputId": "84edfa9b-5a0d-4ea4-def5-706da5471517"
      },
      "execution_count": null,
      "outputs": [
        {
          "output_type": "execute_result",
          "data": {
            "text/plain": [
              "             State   HouseholdIncome\n",
              "0         Maryland             87063\n",
              "1       New Jersey             85245\n",
              "2    Massachusetts             84385\n",
              "3           Hawaii             83173\n",
              "4      Connecticut             79855\n",
              "5       California             78672\n",
              "6    New Hampshire             77923\n",
              "7           Alaska             77790\n",
              "8       Washington             77006\n",
              "9         Virginia             76398\n",
              "10        Colorado             75231\n",
              "11            Utah             74197\n",
              "12       Minnesota             73382\n",
              "13        New York             71117\n",
              "14    Rhode Island             70305\n",
              "15        Delaware             69110\n",
              "16        Illinois             68428\n",
              "17          Oregon             65667\n",
              "18    North Dakota             65315\n",
              "19         Wyoming             65304\n",
              "20           Texas             63826\n",
              "21    Pennsylvania             63627\n",
              "22         Vermont             63477\n",
              "23       Wisconsin             63293\n",
              "24        Nebraska             63015\n",
              "25          Nevada             62043\n",
              "26            Iowa             61836\n",
              "27         Arizona             61529\n",
              "28         Georgia             61224\n",
              "29          Kansas             61091\n",
              "30    South Dakota             59896\n",
              "31           Maine             59489\n",
              "32        Michigan             59234\n",
              "33           Idaho             58915\n",
              "34         Indiana             58235\n",
              "35            Ohio             58116\n",
              "36         Florida             57703\n",
              "37        Missouri             57290\n",
              "38  North Carolina             56642\n",
              "39         Montana             56539\n",
              "40  South Carolina             54864\n",
              "41       Tennessee             54833\n",
              "42        Oklahoma             53840\n",
              "43        Kentucky             52238\n",
              "44         Alabama             52035\n",
              "45      New Mexico             51243\n",
              "46       Louisiana             50800\n",
              "47        Arkansas             49475\n",
              "48   West Virginia             48037\n",
              "49     Mississippi             46511"
            ],
            "text/html": [
              "\n",
              "  <div id=\"df-7786a420-63b0-4163-9de9-0b219ff6881e\">\n",
              "    <div class=\"colab-df-container\">\n",
              "      <div>\n",
              "<style scoped>\n",
              "    .dataframe tbody tr th:only-of-type {\n",
              "        vertical-align: middle;\n",
              "    }\n",
              "\n",
              "    .dataframe tbody tr th {\n",
              "        vertical-align: top;\n",
              "    }\n",
              "\n",
              "    .dataframe thead th {\n",
              "        text-align: right;\n",
              "    }\n",
              "</style>\n",
              "<table border=\"1\" class=\"dataframe\">\n",
              "  <thead>\n",
              "    <tr style=\"text-align: right;\">\n",
              "      <th></th>\n",
              "      <th>State</th>\n",
              "      <th>HouseholdIncome</th>\n",
              "    </tr>\n",
              "  </thead>\n",
              "  <tbody>\n",
              "    <tr>\n",
              "      <th>0</th>\n",
              "      <td>Maryland</td>\n",
              "      <td>87063</td>\n",
              "    </tr>\n",
              "    <tr>\n",
              "      <th>1</th>\n",
              "      <td>New Jersey</td>\n",
              "      <td>85245</td>\n",
              "    </tr>\n",
              "    <tr>\n",
              "      <th>2</th>\n",
              "      <td>Massachusetts</td>\n",
              "      <td>84385</td>\n",
              "    </tr>\n",
              "    <tr>\n",
              "      <th>3</th>\n",
              "      <td>Hawaii</td>\n",
              "      <td>83173</td>\n",
              "    </tr>\n",
              "    <tr>\n",
              "      <th>4</th>\n",
              "      <td>Connecticut</td>\n",
              "      <td>79855</td>\n",
              "    </tr>\n",
              "    <tr>\n",
              "      <th>5</th>\n",
              "      <td>California</td>\n",
              "      <td>78672</td>\n",
              "    </tr>\n",
              "    <tr>\n",
              "      <th>6</th>\n",
              "      <td>New Hampshire</td>\n",
              "      <td>77923</td>\n",
              "    </tr>\n",
              "    <tr>\n",
              "      <th>7</th>\n",
              "      <td>Alaska</td>\n",
              "      <td>77790</td>\n",
              "    </tr>\n",
              "    <tr>\n",
              "      <th>8</th>\n",
              "      <td>Washington</td>\n",
              "      <td>77006</td>\n",
              "    </tr>\n",
              "    <tr>\n",
              "      <th>9</th>\n",
              "      <td>Virginia</td>\n",
              "      <td>76398</td>\n",
              "    </tr>\n",
              "    <tr>\n",
              "      <th>10</th>\n",
              "      <td>Colorado</td>\n",
              "      <td>75231</td>\n",
              "    </tr>\n",
              "    <tr>\n",
              "      <th>11</th>\n",
              "      <td>Utah</td>\n",
              "      <td>74197</td>\n",
              "    </tr>\n",
              "    <tr>\n",
              "      <th>12</th>\n",
              "      <td>Minnesota</td>\n",
              "      <td>73382</td>\n",
              "    </tr>\n",
              "    <tr>\n",
              "      <th>13</th>\n",
              "      <td>New York</td>\n",
              "      <td>71117</td>\n",
              "    </tr>\n",
              "    <tr>\n",
              "      <th>14</th>\n",
              "      <td>Rhode Island</td>\n",
              "      <td>70305</td>\n",
              "    </tr>\n",
              "    <tr>\n",
              "      <th>15</th>\n",
              "      <td>Delaware</td>\n",
              "      <td>69110</td>\n",
              "    </tr>\n",
              "    <tr>\n",
              "      <th>16</th>\n",
              "      <td>Illinois</td>\n",
              "      <td>68428</td>\n",
              "    </tr>\n",
              "    <tr>\n",
              "      <th>17</th>\n",
              "      <td>Oregon</td>\n",
              "      <td>65667</td>\n",
              "    </tr>\n",
              "    <tr>\n",
              "      <th>18</th>\n",
              "      <td>North Dakota</td>\n",
              "      <td>65315</td>\n",
              "    </tr>\n",
              "    <tr>\n",
              "      <th>19</th>\n",
              "      <td>Wyoming</td>\n",
              "      <td>65304</td>\n",
              "    </tr>\n",
              "    <tr>\n",
              "      <th>20</th>\n",
              "      <td>Texas</td>\n",
              "      <td>63826</td>\n",
              "    </tr>\n",
              "    <tr>\n",
              "      <th>21</th>\n",
              "      <td>Pennsylvania</td>\n",
              "      <td>63627</td>\n",
              "    </tr>\n",
              "    <tr>\n",
              "      <th>22</th>\n",
              "      <td>Vermont</td>\n",
              "      <td>63477</td>\n",
              "    </tr>\n",
              "    <tr>\n",
              "      <th>23</th>\n",
              "      <td>Wisconsin</td>\n",
              "      <td>63293</td>\n",
              "    </tr>\n",
              "    <tr>\n",
              "      <th>24</th>\n",
              "      <td>Nebraska</td>\n",
              "      <td>63015</td>\n",
              "    </tr>\n",
              "    <tr>\n",
              "      <th>25</th>\n",
              "      <td>Nevada</td>\n",
              "      <td>62043</td>\n",
              "    </tr>\n",
              "    <tr>\n",
              "      <th>26</th>\n",
              "      <td>Iowa</td>\n",
              "      <td>61836</td>\n",
              "    </tr>\n",
              "    <tr>\n",
              "      <th>27</th>\n",
              "      <td>Arizona</td>\n",
              "      <td>61529</td>\n",
              "    </tr>\n",
              "    <tr>\n",
              "      <th>28</th>\n",
              "      <td>Georgia</td>\n",
              "      <td>61224</td>\n",
              "    </tr>\n",
              "    <tr>\n",
              "      <th>29</th>\n",
              "      <td>Kansas</td>\n",
              "      <td>61091</td>\n",
              "    </tr>\n",
              "    <tr>\n",
              "      <th>30</th>\n",
              "      <td>South Dakota</td>\n",
              "      <td>59896</td>\n",
              "    </tr>\n",
              "    <tr>\n",
              "      <th>31</th>\n",
              "      <td>Maine</td>\n",
              "      <td>59489</td>\n",
              "    </tr>\n",
              "    <tr>\n",
              "      <th>32</th>\n",
              "      <td>Michigan</td>\n",
              "      <td>59234</td>\n",
              "    </tr>\n",
              "    <tr>\n",
              "      <th>33</th>\n",
              "      <td>Idaho</td>\n",
              "      <td>58915</td>\n",
              "    </tr>\n",
              "    <tr>\n",
              "      <th>34</th>\n",
              "      <td>Indiana</td>\n",
              "      <td>58235</td>\n",
              "    </tr>\n",
              "    <tr>\n",
              "      <th>35</th>\n",
              "      <td>Ohio</td>\n",
              "      <td>58116</td>\n",
              "    </tr>\n",
              "    <tr>\n",
              "      <th>36</th>\n",
              "      <td>Florida</td>\n",
              "      <td>57703</td>\n",
              "    </tr>\n",
              "    <tr>\n",
              "      <th>37</th>\n",
              "      <td>Missouri</td>\n",
              "      <td>57290</td>\n",
              "    </tr>\n",
              "    <tr>\n",
              "      <th>38</th>\n",
              "      <td>North Carolina</td>\n",
              "      <td>56642</td>\n",
              "    </tr>\n",
              "    <tr>\n",
              "      <th>39</th>\n",
              "      <td>Montana</td>\n",
              "      <td>56539</td>\n",
              "    </tr>\n",
              "    <tr>\n",
              "      <th>40</th>\n",
              "      <td>South Carolina</td>\n",
              "      <td>54864</td>\n",
              "    </tr>\n",
              "    <tr>\n",
              "      <th>41</th>\n",
              "      <td>Tennessee</td>\n",
              "      <td>54833</td>\n",
              "    </tr>\n",
              "    <tr>\n",
              "      <th>42</th>\n",
              "      <td>Oklahoma</td>\n",
              "      <td>53840</td>\n",
              "    </tr>\n",
              "    <tr>\n",
              "      <th>43</th>\n",
              "      <td>Kentucky</td>\n",
              "      <td>52238</td>\n",
              "    </tr>\n",
              "    <tr>\n",
              "      <th>44</th>\n",
              "      <td>Alabama</td>\n",
              "      <td>52035</td>\n",
              "    </tr>\n",
              "    <tr>\n",
              "      <th>45</th>\n",
              "      <td>New Mexico</td>\n",
              "      <td>51243</td>\n",
              "    </tr>\n",
              "    <tr>\n",
              "      <th>46</th>\n",
              "      <td>Louisiana</td>\n",
              "      <td>50800</td>\n",
              "    </tr>\n",
              "    <tr>\n",
              "      <th>47</th>\n",
              "      <td>Arkansas</td>\n",
              "      <td>49475</td>\n",
              "    </tr>\n",
              "    <tr>\n",
              "      <th>48</th>\n",
              "      <td>West Virginia</td>\n",
              "      <td>48037</td>\n",
              "    </tr>\n",
              "    <tr>\n",
              "      <th>49</th>\n",
              "      <td>Mississippi</td>\n",
              "      <td>46511</td>\n",
              "    </tr>\n",
              "  </tbody>\n",
              "</table>\n",
              "</div>\n",
              "      <button class=\"colab-df-convert\" onclick=\"convertToInteractive('df-7786a420-63b0-4163-9de9-0b219ff6881e')\"\n",
              "              title=\"Convert this dataframe to an interactive table.\"\n",
              "              style=\"display:none;\">\n",
              "        \n",
              "  <svg xmlns=\"http://www.w3.org/2000/svg\" height=\"24px\"viewBox=\"0 0 24 24\"\n",
              "       width=\"24px\">\n",
              "    <path d=\"M0 0h24v24H0V0z\" fill=\"none\"/>\n",
              "    <path d=\"M18.56 5.44l.94 2.06.94-2.06 2.06-.94-2.06-.94-.94-2.06-.94 2.06-2.06.94zm-11 1L8.5 8.5l.94-2.06 2.06-.94-2.06-.94L8.5 2.5l-.94 2.06-2.06.94zm10 10l.94 2.06.94-2.06 2.06-.94-2.06-.94-.94-2.06-.94 2.06-2.06.94z\"/><path d=\"M17.41 7.96l-1.37-1.37c-.4-.4-.92-.59-1.43-.59-.52 0-1.04.2-1.43.59L10.3 9.45l-7.72 7.72c-.78.78-.78 2.05 0 2.83L4 21.41c.39.39.9.59 1.41.59.51 0 1.02-.2 1.41-.59l7.78-7.78 2.81-2.81c.8-.78.8-2.07 0-2.86zM5.41 20L4 18.59l7.72-7.72 1.47 1.35L5.41 20z\"/>\n",
              "  </svg>\n",
              "      </button>\n",
              "      \n",
              "  <style>\n",
              "    .colab-df-container {\n",
              "      display:flex;\n",
              "      flex-wrap:wrap;\n",
              "      gap: 12px;\n",
              "    }\n",
              "\n",
              "    .colab-df-convert {\n",
              "      background-color: #E8F0FE;\n",
              "      border: none;\n",
              "      border-radius: 50%;\n",
              "      cursor: pointer;\n",
              "      display: none;\n",
              "      fill: #1967D2;\n",
              "      height: 32px;\n",
              "      padding: 0 0 0 0;\n",
              "      width: 32px;\n",
              "    }\n",
              "\n",
              "    .colab-df-convert:hover {\n",
              "      background-color: #E2EBFA;\n",
              "      box-shadow: 0px 1px 2px rgba(60, 64, 67, 0.3), 0px 1px 3px 1px rgba(60, 64, 67, 0.15);\n",
              "      fill: #174EA6;\n",
              "    }\n",
              "\n",
              "    [theme=dark] .colab-df-convert {\n",
              "      background-color: #3B4455;\n",
              "      fill: #D2E3FC;\n",
              "    }\n",
              "\n",
              "    [theme=dark] .colab-df-convert:hover {\n",
              "      background-color: #434B5C;\n",
              "      box-shadow: 0px 1px 3px 1px rgba(0, 0, 0, 0.15);\n",
              "      filter: drop-shadow(0px 1px 2px rgba(0, 0, 0, 0.3));\n",
              "      fill: #FFFFFF;\n",
              "    }\n",
              "  </style>\n",
              "\n",
              "      <script>\n",
              "        const buttonEl =\n",
              "          document.querySelector('#df-7786a420-63b0-4163-9de9-0b219ff6881e button.colab-df-convert');\n",
              "        buttonEl.style.display =\n",
              "          google.colab.kernel.accessAllowed ? 'block' : 'none';\n",
              "\n",
              "        async function convertToInteractive(key) {\n",
              "          const element = document.querySelector('#df-7786a420-63b0-4163-9de9-0b219ff6881e');\n",
              "          const dataTable =\n",
              "            await google.colab.kernel.invokeFunction('convertToInteractive',\n",
              "                                                     [key], {});\n",
              "          if (!dataTable) return;\n",
              "\n",
              "          const docLinkHtml = 'Like what you see? Visit the ' +\n",
              "            '<a target=\"_blank\" href=https://colab.research.google.com/notebooks/data_table.ipynb>data table notebook</a>'\n",
              "            + ' to learn more about interactive tables.';\n",
              "          element.innerHTML = '';\n",
              "          dataTable['output_type'] = 'display_data';\n",
              "          await google.colab.output.renderOutput(dataTable, element);\n",
              "          const docLink = document.createElement('div');\n",
              "          docLink.innerHTML = docLinkHtml;\n",
              "          element.appendChild(docLink);\n",
              "        }\n",
              "      </script>\n",
              "    </div>\n",
              "  </div>\n",
              "  "
            ]
          },
          "metadata": {},
          "execution_count": 59
        }
      ]
    },
    {
      "cell_type": "markdown",
      "source": [
        "# Bar plot that shows the median household income for each state and favorite fast food restaurant\n",
        "Here, to support our comparative boxplots below and to further look into the correlation between median income and fast food restaurant choice, we call the state_barplots2 function. What the does is combine needed subsets of data from our state_fast_food table and our state_medincome table in. Then, we create barplots that show median income numbers across each state and which more/less wealthy states have a certain favorite fast food restaurant.\n",
        "\n",
        "We can see in the barplot below that states that rated their favorite fast food restaurant as In-N-Out, Panda Express, or McDonalds generally demonstrated higher levels of median household income. We see lower levels of median income for Chick-Fil-A states and states that have a unique favorite fast food restaurant (Carl's Jr, Taco Bell, Wendy's...). We can see that our boxplots below support these findings."
      ],
      "metadata": {
        "id": "SIKExjBRgi2y"
      }
    },
    {
      "cell_type": "code",
      "source": [
        "db='US_State_Food.db'\n",
        "cols1='State,mostPopular'\n",
        "cols2='State,HouseholdIncome'\n",
        "table1='state_fast_food'\n",
        "table2='state_medincome'\n",
        "cat_var='State'\n",
        "num_var='HouseholdIncome'\n",
        "state_barplots2(db,table1,table2,cols1,cols2,cat_var,num_var,'State','Median Household Income')"
      ],
      "metadata": {
        "colab": {
          "base_uri": "https://localhost:8080/",
          "height": 542
        },
        "id": "GDMY7zt4giS9",
        "outputId": "42474ae9-2fa7-4d79-a43f-e0da2fa2e447"
      },
      "execution_count": null,
      "outputs": [
        {
          "output_type": "display_data",
          "data": {
            "text/html": [
              "<html>\n",
              "<head><meta charset=\"utf-8\" /></head>\n",
              "<body>\n",
              "    <div>            <script src=\"https://cdnjs.cloudflare.com/ajax/libs/mathjax/2.7.5/MathJax.js?config=TeX-AMS-MML_SVG\"></script><script type=\"text/javascript\">if (window.MathJax) {MathJax.Hub.Config({SVG: {font: \"STIX-Web\"}});}</script>                <script type=\"text/javascript\">window.PlotlyConfig = {MathJaxConfig: 'local'};</script>\n",
              "        <script src=\"https://cdn.plot.ly/plotly-2.8.3.min.js\"></script>                <div id=\"5ea13c65-b46e-4d37-8845-54c5698afdd5\" class=\"plotly-graph-div\" style=\"height:525px; width:100%;\"></div>            <script type=\"text/javascript\">                                    window.PLOTLYENV=window.PLOTLYENV || {};                                    if (document.getElementById(\"5ea13c65-b46e-4d37-8845-54c5698afdd5\")) {                    Plotly.newPlot(                        \"5ea13c65-b46e-4d37-8845-54c5698afdd5\",                        [{\"alignmentgroup\":\"True\",\"hovertemplate\":\"mostPopular=Chick-Fil-A<br>State=%{x}<br>HouseholdIncome=%{y}<extra></extra>\",\"legendgroup\":\"Chick-Fil-A\",\"marker\":{\"color\":\"#636efa\",\"pattern\":{\"shape\":\"\"}},\"name\":\"Chick-Fil-A\",\"offsetgroup\":\"Chick-Fil-A\",\"orientation\":\"v\",\"showlegend\":true,\"textposition\":\"auto\",\"x\":[\"Alabama\",\"Arkansas\",\"Colorado\",\"Delaware\",\"Florida\",\"Georgia\",\"Idaho\",\"Kentucky\",\"Louisiana\",\"Maryland\",\"Mississippi\",\"Missouri\",\"New Mexico\",\"North Carolina\",\"Ohio\",\"Oklahoma\",\"Pennsylvania\",\"South Carolina\",\"Tennessee\",\"Texas\",\"Virginia\"],\"xaxis\":\"x\",\"y\":[52035,49475,75231,69110,57703,61224,58915,52238,50800,87063,46511,57290,51243,56642,58116,53840,63627,54864,54833,63826,76398],\"yaxis\":\"y\",\"type\":\"bar\"},{\"alignmentgroup\":\"True\",\"hovertemplate\":\"mostPopular=McDonald's<br>State=%{x}<br>HouseholdIncome=%{y}<extra></extra>\",\"legendgroup\":\"McDonald's\",\"marker\":{\"color\":\"#EF553B\",\"pattern\":{\"shape\":\"\"}},\"name\":\"McDonald's\",\"offsetgroup\":\"McDonald's\",\"orientation\":\"v\",\"showlegend\":true,\"textposition\":\"auto\",\"x\":[\"Alaska\",\"Indiana\",\"Maine\",\"Massachusetts\",\"Michigan\",\"Nebraska\",\"New Hampshire\",\"North Dakota\",\"Rhode Island\",\"South Dakota\",\"West Virginia\",\"Wisconsin\"],\"xaxis\":\"x\",\"y\":[77790,58235,59489,84385,59234,63015,77923,65315,70305,59896,48037,63293],\"yaxis\":\"y\",\"type\":\"bar\"},{\"alignmentgroup\":\"True\",\"hovertemplate\":\"mostPopular=In-N-Out<br>State=%{x}<br>HouseholdIncome=%{y}<extra></extra>\",\"legendgroup\":\"In-N-Out\",\"marker\":{\"color\":\"#00cc96\",\"pattern\":{\"shape\":\"\"}},\"name\":\"In-N-Out\",\"offsetgroup\":\"In-N-Out\",\"orientation\":\"v\",\"showlegend\":true,\"textposition\":\"auto\",\"x\":[\"Arizona\",\"California\",\"Nevada\",\"Utah\"],\"xaxis\":\"x\",\"y\":[61529,78672,62043,74197],\"yaxis\":\"y\",\"type\":\"bar\"},{\"alignmentgroup\":\"True\",\"hovertemplate\":\"mostPopular=Panda Express<br>State=%{x}<br>HouseholdIncome=%{y}<extra></extra>\",\"legendgroup\":\"Panda Express\",\"marker\":{\"color\":\"#ab63fa\",\"pattern\":{\"shape\":\"\"}},\"name\":\"Panda Express\",\"offsetgroup\":\"Panda Express\",\"orientation\":\"v\",\"showlegend\":true,\"textposition\":\"auto\",\"x\":[\"Connecticut\",\"Hawaii\",\"Minnesota\",\"New Jersey\",\"Oregon\"],\"xaxis\":\"x\",\"y\":[79855,83173,73382,85245,65667],\"yaxis\":\"y\",\"type\":\"bar\"},{\"alignmentgroup\":\"True\",\"hovertemplate\":\"mostPopular=White Castle<br>State=%{x}<br>HouseholdIncome=%{y}<extra></extra>\",\"legendgroup\":\"White Castle\",\"marker\":{\"color\":\"#FFA15A\",\"pattern\":{\"shape\":\"\"}},\"name\":\"White Castle\",\"offsetgroup\":\"White Castle\",\"orientation\":\"v\",\"showlegend\":true,\"textposition\":\"auto\",\"x\":[\"Illinois\"],\"xaxis\":\"x\",\"y\":[68428],\"yaxis\":\"y\",\"type\":\"bar\"},{\"alignmentgroup\":\"True\",\"hovertemplate\":\"mostPopular=Wendy's<br>State=%{x}<br>HouseholdIncome=%{y}<extra></extra>\",\"legendgroup\":\"Wendy's\",\"marker\":{\"color\":\"#19d3f3\",\"pattern\":{\"shape\":\"\"}},\"name\":\"Wendy's\",\"offsetgroup\":\"Wendy's\",\"orientation\":\"v\",\"showlegend\":true,\"textposition\":\"auto\",\"x\":[\"Iowa\"],\"xaxis\":\"x\",\"y\":[61836],\"yaxis\":\"y\",\"type\":\"bar\"},{\"alignmentgroup\":\"True\",\"hovertemplate\":\"mostPopular=Jack In the Box<br>State=%{x}<br>HouseholdIncome=%{y}<extra></extra>\",\"legendgroup\":\"Jack In the Box\",\"marker\":{\"color\":\"#FF6692\",\"pattern\":{\"shape\":\"\"}},\"name\":\"Jack In the Box\",\"offsetgroup\":\"Jack In the Box\",\"orientation\":\"v\",\"showlegend\":true,\"textposition\":\"auto\",\"x\":[\"Kansas\"],\"xaxis\":\"x\",\"y\":[61091],\"yaxis\":\"y\",\"type\":\"bar\"},{\"alignmentgroup\":\"True\",\"hovertemplate\":\"mostPopular=Sonic<br>State=%{x}<br>HouseholdIncome=%{y}<extra></extra>\",\"legendgroup\":\"Sonic\",\"marker\":{\"color\":\"#B6E880\",\"pattern\":{\"shape\":\"\"}},\"name\":\"Sonic\",\"offsetgroup\":\"Sonic\",\"orientation\":\"v\",\"showlegend\":true,\"textposition\":\"auto\",\"x\":[\"Montana\"],\"xaxis\":\"x\",\"y\":[56539],\"yaxis\":\"y\",\"type\":\"bar\"},{\"alignmentgroup\":\"True\",\"hovertemplate\":\"mostPopular=Church's<br>State=%{x}<br>HouseholdIncome=%{y}<extra></extra>\",\"legendgroup\":\"Church's\",\"marker\":{\"color\":\"#FF97FF\",\"pattern\":{\"shape\":\"\"}},\"name\":\"Church's\",\"offsetgroup\":\"Church's\",\"orientation\":\"v\",\"showlegend\":true,\"textposition\":\"auto\",\"x\":[\"New York\"],\"xaxis\":\"x\",\"y\":[71117],\"yaxis\":\"y\",\"type\":\"bar\"},{\"alignmentgroup\":\"True\",\"hovertemplate\":\"mostPopular=Taco Bell<br>State=%{x}<br>HouseholdIncome=%{y}<extra></extra>\",\"legendgroup\":\"Taco Bell\",\"marker\":{\"color\":\"#FECB52\",\"pattern\":{\"shape\":\"\"}},\"name\":\"Taco Bell\",\"offsetgroup\":\"Taco Bell\",\"orientation\":\"v\",\"showlegend\":true,\"textposition\":\"auto\",\"x\":[\"Vermont\"],\"xaxis\":\"x\",\"y\":[63477],\"yaxis\":\"y\",\"type\":\"bar\"},{\"alignmentgroup\":\"True\",\"hovertemplate\":\"mostPopular=Charley's<br>State=%{x}<br>HouseholdIncome=%{y}<extra></extra>\",\"legendgroup\":\"Charley's\",\"marker\":{\"color\":\"#636efa\",\"pattern\":{\"shape\":\"\"}},\"name\":\"Charley's\",\"offsetgroup\":\"Charley's\",\"orientation\":\"v\",\"showlegend\":true,\"textposition\":\"auto\",\"x\":[\"Washington\"],\"xaxis\":\"x\",\"y\":[77006],\"yaxis\":\"y\",\"type\":\"bar\"},{\"alignmentgroup\":\"True\",\"hovertemplate\":\"mostPopular=Carl's Jr<br>State=%{x}<br>HouseholdIncome=%{y}<extra></extra>\",\"legendgroup\":\"Carl's Jr\",\"marker\":{\"color\":\"#EF553B\",\"pattern\":{\"shape\":\"\"}},\"name\":\"Carl's Jr\",\"offsetgroup\":\"Carl's Jr\",\"orientation\":\"v\",\"showlegend\":true,\"textposition\":\"auto\",\"x\":[\"Wyoming\"],\"xaxis\":\"x\",\"y\":[65304],\"yaxis\":\"y\",\"type\":\"bar\"}],                        {\"template\":{\"data\":{\"bar\":[{\"error_x\":{\"color\":\"#2a3f5f\"},\"error_y\":{\"color\":\"#2a3f5f\"},\"marker\":{\"line\":{\"color\":\"#E5ECF6\",\"width\":0.5},\"pattern\":{\"fillmode\":\"overlay\",\"size\":10,\"solidity\":0.2}},\"type\":\"bar\"}],\"barpolar\":[{\"marker\":{\"line\":{\"color\":\"#E5ECF6\",\"width\":0.5},\"pattern\":{\"fillmode\":\"overlay\",\"size\":10,\"solidity\":0.2}},\"type\":\"barpolar\"}],\"carpet\":[{\"aaxis\":{\"endlinecolor\":\"#2a3f5f\",\"gridcolor\":\"white\",\"linecolor\":\"white\",\"minorgridcolor\":\"white\",\"startlinecolor\":\"#2a3f5f\"},\"baxis\":{\"endlinecolor\":\"#2a3f5f\",\"gridcolor\":\"white\",\"linecolor\":\"white\",\"minorgridcolor\":\"white\",\"startlinecolor\":\"#2a3f5f\"},\"type\":\"carpet\"}],\"choropleth\":[{\"colorbar\":{\"outlinewidth\":0,\"ticks\":\"\"},\"type\":\"choropleth\"}],\"contour\":[{\"colorbar\":{\"outlinewidth\":0,\"ticks\":\"\"},\"colorscale\":[[0.0,\"#0d0887\"],[0.1111111111111111,\"#46039f\"],[0.2222222222222222,\"#7201a8\"],[0.3333333333333333,\"#9c179e\"],[0.4444444444444444,\"#bd3786\"],[0.5555555555555556,\"#d8576b\"],[0.6666666666666666,\"#ed7953\"],[0.7777777777777778,\"#fb9f3a\"],[0.8888888888888888,\"#fdca26\"],[1.0,\"#f0f921\"]],\"type\":\"contour\"}],\"contourcarpet\":[{\"colorbar\":{\"outlinewidth\":0,\"ticks\":\"\"},\"type\":\"contourcarpet\"}],\"heatmap\":[{\"colorbar\":{\"outlinewidth\":0,\"ticks\":\"\"},\"colorscale\":[[0.0,\"#0d0887\"],[0.1111111111111111,\"#46039f\"],[0.2222222222222222,\"#7201a8\"],[0.3333333333333333,\"#9c179e\"],[0.4444444444444444,\"#bd3786\"],[0.5555555555555556,\"#d8576b\"],[0.6666666666666666,\"#ed7953\"],[0.7777777777777778,\"#fb9f3a\"],[0.8888888888888888,\"#fdca26\"],[1.0,\"#f0f921\"]],\"type\":\"heatmap\"}],\"heatmapgl\":[{\"colorbar\":{\"outlinewidth\":0,\"ticks\":\"\"},\"colorscale\":[[0.0,\"#0d0887\"],[0.1111111111111111,\"#46039f\"],[0.2222222222222222,\"#7201a8\"],[0.3333333333333333,\"#9c179e\"],[0.4444444444444444,\"#bd3786\"],[0.5555555555555556,\"#d8576b\"],[0.6666666666666666,\"#ed7953\"],[0.7777777777777778,\"#fb9f3a\"],[0.8888888888888888,\"#fdca26\"],[1.0,\"#f0f921\"]],\"type\":\"heatmapgl\"}],\"histogram\":[{\"marker\":{\"pattern\":{\"fillmode\":\"overlay\",\"size\":10,\"solidity\":0.2}},\"type\":\"histogram\"}],\"histogram2d\":[{\"colorbar\":{\"outlinewidth\":0,\"ticks\":\"\"},\"colorscale\":[[0.0,\"#0d0887\"],[0.1111111111111111,\"#46039f\"],[0.2222222222222222,\"#7201a8\"],[0.3333333333333333,\"#9c179e\"],[0.4444444444444444,\"#bd3786\"],[0.5555555555555556,\"#d8576b\"],[0.6666666666666666,\"#ed7953\"],[0.7777777777777778,\"#fb9f3a\"],[0.8888888888888888,\"#fdca26\"],[1.0,\"#f0f921\"]],\"type\":\"histogram2d\"}],\"histogram2dcontour\":[{\"colorbar\":{\"outlinewidth\":0,\"ticks\":\"\"},\"colorscale\":[[0.0,\"#0d0887\"],[0.1111111111111111,\"#46039f\"],[0.2222222222222222,\"#7201a8\"],[0.3333333333333333,\"#9c179e\"],[0.4444444444444444,\"#bd3786\"],[0.5555555555555556,\"#d8576b\"],[0.6666666666666666,\"#ed7953\"],[0.7777777777777778,\"#fb9f3a\"],[0.8888888888888888,\"#fdca26\"],[1.0,\"#f0f921\"]],\"type\":\"histogram2dcontour\"}],\"mesh3d\":[{\"colorbar\":{\"outlinewidth\":0,\"ticks\":\"\"},\"type\":\"mesh3d\"}],\"parcoords\":[{\"line\":{\"colorbar\":{\"outlinewidth\":0,\"ticks\":\"\"}},\"type\":\"parcoords\"}],\"pie\":[{\"automargin\":true,\"type\":\"pie\"}],\"scatter\":[{\"marker\":{\"colorbar\":{\"outlinewidth\":0,\"ticks\":\"\"}},\"type\":\"scatter\"}],\"scatter3d\":[{\"line\":{\"colorbar\":{\"outlinewidth\":0,\"ticks\":\"\"}},\"marker\":{\"colorbar\":{\"outlinewidth\":0,\"ticks\":\"\"}},\"type\":\"scatter3d\"}],\"scattercarpet\":[{\"marker\":{\"colorbar\":{\"outlinewidth\":0,\"ticks\":\"\"}},\"type\":\"scattercarpet\"}],\"scattergeo\":[{\"marker\":{\"colorbar\":{\"outlinewidth\":0,\"ticks\":\"\"}},\"type\":\"scattergeo\"}],\"scattergl\":[{\"marker\":{\"colorbar\":{\"outlinewidth\":0,\"ticks\":\"\"}},\"type\":\"scattergl\"}],\"scattermapbox\":[{\"marker\":{\"colorbar\":{\"outlinewidth\":0,\"ticks\":\"\"}},\"type\":\"scattermapbox\"}],\"scatterpolar\":[{\"marker\":{\"colorbar\":{\"outlinewidth\":0,\"ticks\":\"\"}},\"type\":\"scatterpolar\"}],\"scatterpolargl\":[{\"marker\":{\"colorbar\":{\"outlinewidth\":0,\"ticks\":\"\"}},\"type\":\"scatterpolargl\"}],\"scatterternary\":[{\"marker\":{\"colorbar\":{\"outlinewidth\":0,\"ticks\":\"\"}},\"type\":\"scatterternary\"}],\"surface\":[{\"colorbar\":{\"outlinewidth\":0,\"ticks\":\"\"},\"colorscale\":[[0.0,\"#0d0887\"],[0.1111111111111111,\"#46039f\"],[0.2222222222222222,\"#7201a8\"],[0.3333333333333333,\"#9c179e\"],[0.4444444444444444,\"#bd3786\"],[0.5555555555555556,\"#d8576b\"],[0.6666666666666666,\"#ed7953\"],[0.7777777777777778,\"#fb9f3a\"],[0.8888888888888888,\"#fdca26\"],[1.0,\"#f0f921\"]],\"type\":\"surface\"}],\"table\":[{\"cells\":{\"fill\":{\"color\":\"#EBF0F8\"},\"line\":{\"color\":\"white\"}},\"header\":{\"fill\":{\"color\":\"#C8D4E3\"},\"line\":{\"color\":\"white\"}},\"type\":\"table\"}]},\"layout\":{\"annotationdefaults\":{\"arrowcolor\":\"#2a3f5f\",\"arrowhead\":0,\"arrowwidth\":1},\"autotypenumbers\":\"strict\",\"coloraxis\":{\"colorbar\":{\"outlinewidth\":0,\"ticks\":\"\"}},\"colorscale\":{\"diverging\":[[0,\"#8e0152\"],[0.1,\"#c51b7d\"],[0.2,\"#de77ae\"],[0.3,\"#f1b6da\"],[0.4,\"#fde0ef\"],[0.5,\"#f7f7f7\"],[0.6,\"#e6f5d0\"],[0.7,\"#b8e186\"],[0.8,\"#7fbc41\"],[0.9,\"#4d9221\"],[1,\"#276419\"]],\"sequential\":[[0.0,\"#0d0887\"],[0.1111111111111111,\"#46039f\"],[0.2222222222222222,\"#7201a8\"],[0.3333333333333333,\"#9c179e\"],[0.4444444444444444,\"#bd3786\"],[0.5555555555555556,\"#d8576b\"],[0.6666666666666666,\"#ed7953\"],[0.7777777777777778,\"#fb9f3a\"],[0.8888888888888888,\"#fdca26\"],[1.0,\"#f0f921\"]],\"sequentialminus\":[[0.0,\"#0d0887\"],[0.1111111111111111,\"#46039f\"],[0.2222222222222222,\"#7201a8\"],[0.3333333333333333,\"#9c179e\"],[0.4444444444444444,\"#bd3786\"],[0.5555555555555556,\"#d8576b\"],[0.6666666666666666,\"#ed7953\"],[0.7777777777777778,\"#fb9f3a\"],[0.8888888888888888,\"#fdca26\"],[1.0,\"#f0f921\"]]},\"colorway\":[\"#636efa\",\"#EF553B\",\"#00cc96\",\"#ab63fa\",\"#FFA15A\",\"#19d3f3\",\"#FF6692\",\"#B6E880\",\"#FF97FF\",\"#FECB52\"],\"font\":{\"color\":\"#2a3f5f\"},\"geo\":{\"bgcolor\":\"white\",\"lakecolor\":\"white\",\"landcolor\":\"#E5ECF6\",\"showlakes\":true,\"showland\":true,\"subunitcolor\":\"white\"},\"hoverlabel\":{\"align\":\"left\"},\"hovermode\":\"closest\",\"mapbox\":{\"style\":\"light\"},\"paper_bgcolor\":\"white\",\"plot_bgcolor\":\"#E5ECF6\",\"polar\":{\"angularaxis\":{\"gridcolor\":\"white\",\"linecolor\":\"white\",\"ticks\":\"\"},\"bgcolor\":\"#E5ECF6\",\"radialaxis\":{\"gridcolor\":\"white\",\"linecolor\":\"white\",\"ticks\":\"\"}},\"scene\":{\"xaxis\":{\"backgroundcolor\":\"#E5ECF6\",\"gridcolor\":\"white\",\"gridwidth\":2,\"linecolor\":\"white\",\"showbackground\":true,\"ticks\":\"\",\"zerolinecolor\":\"white\"},\"yaxis\":{\"backgroundcolor\":\"#E5ECF6\",\"gridcolor\":\"white\",\"gridwidth\":2,\"linecolor\":\"white\",\"showbackground\":true,\"ticks\":\"\",\"zerolinecolor\":\"white\"},\"zaxis\":{\"backgroundcolor\":\"#E5ECF6\",\"gridcolor\":\"white\",\"gridwidth\":2,\"linecolor\":\"white\",\"showbackground\":true,\"ticks\":\"\",\"zerolinecolor\":\"white\"}},\"shapedefaults\":{\"line\":{\"color\":\"#2a3f5f\"}},\"ternary\":{\"aaxis\":{\"gridcolor\":\"white\",\"linecolor\":\"white\",\"ticks\":\"\"},\"baxis\":{\"gridcolor\":\"white\",\"linecolor\":\"white\",\"ticks\":\"\"},\"bgcolor\":\"#E5ECF6\",\"caxis\":{\"gridcolor\":\"white\",\"linecolor\":\"white\",\"ticks\":\"\"}},\"title\":{\"x\":0.05},\"xaxis\":{\"automargin\":true,\"gridcolor\":\"white\",\"linecolor\":\"white\",\"ticks\":\"\",\"title\":{\"standoff\":15},\"zerolinecolor\":\"white\",\"zerolinewidth\":2},\"yaxis\":{\"automargin\":true,\"gridcolor\":\"white\",\"linecolor\":\"white\",\"ticks\":\"\",\"title\":{\"standoff\":15},\"zerolinecolor\":\"white\",\"zerolinewidth\":2}}},\"xaxis\":{\"anchor\":\"y\",\"domain\":[0.0,1.0],\"title\":{\"text\":\"State\"}},\"yaxis\":{\"anchor\":\"x\",\"domain\":[0.0,1.0],\"title\":{\"text\":\"Median Household Income\"}},\"legend\":{\"title\":{\"text\":\"mostPopular\"},\"tracegroupgap\":0},\"margin\":{\"t\":60},\"barmode\":\"relative\"},                        {\"responsive\": true}                    ).then(function(){\n",
              "                            \n",
              "var gd = document.getElementById('5ea13c65-b46e-4d37-8845-54c5698afdd5');\n",
              "var x = new MutationObserver(function (mutations, observer) {{\n",
              "        var display = window.getComputedStyle(gd).display;\n",
              "        if (!display || display === 'none') {{\n",
              "            console.log([gd, 'removed!']);\n",
              "            Plotly.purge(gd);\n",
              "            observer.disconnect();\n",
              "        }}\n",
              "}});\n",
              "\n",
              "// Listen for the removal of the full notebook cells\n",
              "var notebookContainer = gd.closest('#notebook-container');\n",
              "if (notebookContainer) {{\n",
              "    x.observe(notebookContainer, {childList: true});\n",
              "}}\n",
              "\n",
              "// Listen for the clearing of the current output cell\n",
              "var outputEl = gd.closest('.output');\n",
              "if (outputEl) {{\n",
              "    x.observe(outputEl, {childList: true});\n",
              "}}\n",
              "\n",
              "                        })                };                            </script>        </div>\n",
              "</body>\n",
              "</html>"
            ]
          },
          "metadata": {}
        }
      ]
    },
    {
      "cell_type": "markdown",
      "source": [
        "# Comparative boxplots that show the distribution of median income across each favorite fastfood restaurant (shows what fastfood restaurant more wealthy states/less wealthy states tend to like more)"
      ],
      "metadata": {
        "id": "wdA8IHJNS4gI"
      }
    },
    {
      "cell_type": "markdown",
      "source": [
        "Here we have boxplots that show how a states most popular fast food resturant choice related to household income created from combining our state_fast_food data with our state_medincome data where we call that data along with our database inside the state_comp_boxplots function. To the very left of the plot it makes sense that Chick-fil-a is at the low end of the median household income scale because as we have already seen, the states who chose Chick-fil-a as their most popular actually tended to be generally more obese than other states. And since we know that high obesity rates in this case correlate to low median household income, it makes sense that Chick-fil-a is at the low end. And if we look at which favorite fast food restaurant states with higher median household income had, it appears that the favorites of In-N-Out and Panda Express corresponded to higher income states with McDonalds in the mix too. For the states that only had one favorite fast food restaurant, there didn't seem to be much of a correlation between median household income and fast food restaurant choice."
      ],
      "metadata": {
        "id": "R1k-wTKVju4E"
      }
    },
    {
      "cell_type": "code",
      "source": [
        "db='US_State_Food.db'\n",
        "cols1='StateID,State,mostPopular'\n",
        "cols2='StateID,HouseholdIncome'\n",
        "table1='state_fast_food'\n",
        "table2='state_medincome'\n",
        "cat_var='mostPopular'\n",
        "num_var='HouseholdIncome'\n",
        "state_comp_boxplots(db,table1,table2,cols1,cols2,cat_var,num_var,'Most Popular Fast Food Restaurant','Median Household Income')"
      ],
      "metadata": {
        "colab": {
          "base_uri": "https://localhost:8080/",
          "height": 542
        },
        "id": "kBFEt2KmTJ2z",
        "outputId": "2c1ee3d0-6d3d-4ff1-c8fd-af91a4f8c812"
      },
      "execution_count": null,
      "outputs": [
        {
          "output_type": "display_data",
          "data": {
            "text/html": [
              "<html>\n",
              "<head><meta charset=\"utf-8\" /></head>\n",
              "<body>\n",
              "    <div>            <script src=\"https://cdnjs.cloudflare.com/ajax/libs/mathjax/2.7.5/MathJax.js?config=TeX-AMS-MML_SVG\"></script><script type=\"text/javascript\">if (window.MathJax) {MathJax.Hub.Config({SVG: {font: \"STIX-Web\"}});}</script>                <script type=\"text/javascript\">window.PlotlyConfig = {MathJaxConfig: 'local'};</script>\n",
              "        <script src=\"https://cdn.plot.ly/plotly-2.8.3.min.js\"></script>                <div id=\"4bb040f5-26c4-4e48-97ed-f63ce07a4e02\" class=\"plotly-graph-div\" style=\"height:525px; width:100%;\"></div>            <script type=\"text/javascript\">                                    window.PLOTLYENV=window.PLOTLYENV || {};                                    if (document.getElementById(\"4bb040f5-26c4-4e48-97ed-f63ce07a4e02\")) {                    Plotly.newPlot(                        \"4bb040f5-26c4-4e48-97ed-f63ce07a4e02\",                        [{\"alignmentgroup\":\"True\",\"customdata\":[[\"Alabama\"],[\"Arkansas\"],[\"Colorado\"],[\"Delaware\"],[\"Florida\"],[\"Georgia\"],[\"Idaho\"],[\"Kentucky\"],[\"Louisiana\"],[\"Maryland\"],[\"Mississippi\"],[\"Missouri\"],[\"New Mexico\"],[\"North Carolina\"],[\"Ohio\"],[\"Oklahoma\"],[\"Pennsylvania\"],[\"South Carolina\"],[\"Tennessee\"],[\"Texas\"],[\"Virginia\"]],\"hovertemplate\":\"mostPopular=%{x}<br>HouseholdIncome=%{y}<br>State=%{customdata[0]}<extra></extra>\",\"legendgroup\":\"Chick-Fil-A\",\"marker\":{\"color\":\"#636efa\"},\"name\":\"Chick-Fil-A\",\"notched\":false,\"offsetgroup\":\"Chick-Fil-A\",\"orientation\":\"v\",\"showlegend\":true,\"x\":[\"Chick-Fil-A\",\"Chick-Fil-A\",\"Chick-Fil-A\",\"Chick-Fil-A\",\"Chick-Fil-A\",\"Chick-Fil-A\",\"Chick-Fil-A\",\"Chick-Fil-A\",\"Chick-Fil-A\",\"Chick-Fil-A\",\"Chick-Fil-A\",\"Chick-Fil-A\",\"Chick-Fil-A\",\"Chick-Fil-A\",\"Chick-Fil-A\",\"Chick-Fil-A\",\"Chick-Fil-A\",\"Chick-Fil-A\",\"Chick-Fil-A\",\"Chick-Fil-A\",\"Chick-Fil-A\"],\"x0\":\" \",\"xaxis\":\"x\",\"y\":[52035,49475,75231,69110,57703,61224,58915,52238,50800,87063,46511,57290,51243,56642,58116,53840,63627,54864,54833,63826,76398],\"y0\":\" \",\"yaxis\":\"y\",\"type\":\"box\"},{\"alignmentgroup\":\"True\",\"customdata\":[[\"Alaska\"],[\"Indiana\"],[\"Maine\"],[\"Massachusetts\"],[\"Michigan\"],[\"Nebraska\"],[\"New Hampshire\"],[\"North Dakota\"],[\"Rhode Island\"],[\"South Dakota\"],[\"West Virginia\"],[\"Wisconsin\"]],\"hovertemplate\":\"mostPopular=%{x}<br>HouseholdIncome=%{y}<br>State=%{customdata[0]}<extra></extra>\",\"legendgroup\":\"McDonald's\",\"marker\":{\"color\":\"#EF553B\"},\"name\":\"McDonald's\",\"notched\":false,\"offsetgroup\":\"McDonald's\",\"orientation\":\"v\",\"showlegend\":true,\"x\":[\"McDonald's\",\"McDonald's\",\"McDonald's\",\"McDonald's\",\"McDonald's\",\"McDonald's\",\"McDonald's\",\"McDonald's\",\"McDonald's\",\"McDonald's\",\"McDonald's\",\"McDonald's\"],\"x0\":\" \",\"xaxis\":\"x\",\"y\":[77790,58235,59489,84385,59234,63015,77923,65315,70305,59896,48037,63293],\"y0\":\" \",\"yaxis\":\"y\",\"type\":\"box\"},{\"alignmentgroup\":\"True\",\"customdata\":[[\"Arizona\"],[\"California\"],[\"Nevada\"],[\"Utah\"]],\"hovertemplate\":\"mostPopular=%{x}<br>HouseholdIncome=%{y}<br>State=%{customdata[0]}<extra></extra>\",\"legendgroup\":\"In-N-Out\",\"marker\":{\"color\":\"#00cc96\"},\"name\":\"In-N-Out\",\"notched\":false,\"offsetgroup\":\"In-N-Out\",\"orientation\":\"v\",\"showlegend\":true,\"x\":[\"In-N-Out\",\"In-N-Out\",\"In-N-Out\",\"In-N-Out\"],\"x0\":\" \",\"xaxis\":\"x\",\"y\":[61529,78672,62043,74197],\"y0\":\" \",\"yaxis\":\"y\",\"type\":\"box\"},{\"alignmentgroup\":\"True\",\"customdata\":[[\"Connecticut\"],[\"Hawaii\"],[\"Minnesota\"],[\"New Jersey\"],[\"Oregon\"]],\"hovertemplate\":\"mostPopular=%{x}<br>HouseholdIncome=%{y}<br>State=%{customdata[0]}<extra></extra>\",\"legendgroup\":\"Panda Express\",\"marker\":{\"color\":\"#ab63fa\"},\"name\":\"Panda Express\",\"notched\":false,\"offsetgroup\":\"Panda Express\",\"orientation\":\"v\",\"showlegend\":true,\"x\":[\"Panda Express\",\"Panda Express\",\"Panda Express\",\"Panda Express\",\"Panda Express\"],\"x0\":\" \",\"xaxis\":\"x\",\"y\":[79855,83173,73382,85245,65667],\"y0\":\" \",\"yaxis\":\"y\",\"type\":\"box\"},{\"alignmentgroup\":\"True\",\"customdata\":[[\"Illinois\"]],\"hovertemplate\":\"mostPopular=%{x}<br>HouseholdIncome=%{y}<br>State=%{customdata[0]}<extra></extra>\",\"legendgroup\":\"White Castle\",\"marker\":{\"color\":\"#FFA15A\"},\"name\":\"White Castle\",\"notched\":false,\"offsetgroup\":\"White Castle\",\"orientation\":\"v\",\"showlegend\":true,\"x\":[\"White Castle\"],\"x0\":\" \",\"xaxis\":\"x\",\"y\":[68428],\"y0\":\" \",\"yaxis\":\"y\",\"type\":\"box\"},{\"alignmentgroup\":\"True\",\"customdata\":[[\"Iowa\"]],\"hovertemplate\":\"mostPopular=%{x}<br>HouseholdIncome=%{y}<br>State=%{customdata[0]}<extra></extra>\",\"legendgroup\":\"Wendy's\",\"marker\":{\"color\":\"#19d3f3\"},\"name\":\"Wendy's\",\"notched\":false,\"offsetgroup\":\"Wendy's\",\"orientation\":\"v\",\"showlegend\":true,\"x\":[\"Wendy's\"],\"x0\":\" \",\"xaxis\":\"x\",\"y\":[61836],\"y0\":\" \",\"yaxis\":\"y\",\"type\":\"box\"},{\"alignmentgroup\":\"True\",\"customdata\":[[\"Kansas\"]],\"hovertemplate\":\"mostPopular=%{x}<br>HouseholdIncome=%{y}<br>State=%{customdata[0]}<extra></extra>\",\"legendgroup\":\"Jack In the Box\",\"marker\":{\"color\":\"#FF6692\"},\"name\":\"Jack In the Box\",\"notched\":false,\"offsetgroup\":\"Jack In the Box\",\"orientation\":\"v\",\"showlegend\":true,\"x\":[\"Jack In the Box\"],\"x0\":\" \",\"xaxis\":\"x\",\"y\":[61091],\"y0\":\" \",\"yaxis\":\"y\",\"type\":\"box\"},{\"alignmentgroup\":\"True\",\"customdata\":[[\"Montana\"]],\"hovertemplate\":\"mostPopular=%{x}<br>HouseholdIncome=%{y}<br>State=%{customdata[0]}<extra></extra>\",\"legendgroup\":\"Sonic\",\"marker\":{\"color\":\"#B6E880\"},\"name\":\"Sonic\",\"notched\":false,\"offsetgroup\":\"Sonic\",\"orientation\":\"v\",\"showlegend\":true,\"x\":[\"Sonic\"],\"x0\":\" \",\"xaxis\":\"x\",\"y\":[56539],\"y0\":\" \",\"yaxis\":\"y\",\"type\":\"box\"},{\"alignmentgroup\":\"True\",\"customdata\":[[\"New York\"]],\"hovertemplate\":\"mostPopular=%{x}<br>HouseholdIncome=%{y}<br>State=%{customdata[0]}<extra></extra>\",\"legendgroup\":\"Church's\",\"marker\":{\"color\":\"#FF97FF\"},\"name\":\"Church's\",\"notched\":false,\"offsetgroup\":\"Church's\",\"orientation\":\"v\",\"showlegend\":true,\"x\":[\"Church's\"],\"x0\":\" \",\"xaxis\":\"x\",\"y\":[71117],\"y0\":\" \",\"yaxis\":\"y\",\"type\":\"box\"},{\"alignmentgroup\":\"True\",\"customdata\":[[\"Vermont\"]],\"hovertemplate\":\"mostPopular=%{x}<br>HouseholdIncome=%{y}<br>State=%{customdata[0]}<extra></extra>\",\"legendgroup\":\"Taco Bell\",\"marker\":{\"color\":\"#FECB52\"},\"name\":\"Taco Bell\",\"notched\":false,\"offsetgroup\":\"Taco Bell\",\"orientation\":\"v\",\"showlegend\":true,\"x\":[\"Taco Bell\"],\"x0\":\" \",\"xaxis\":\"x\",\"y\":[63477],\"y0\":\" \",\"yaxis\":\"y\",\"type\":\"box\"},{\"alignmentgroup\":\"True\",\"customdata\":[[\"Washington\"]],\"hovertemplate\":\"mostPopular=%{x}<br>HouseholdIncome=%{y}<br>State=%{customdata[0]}<extra></extra>\",\"legendgroup\":\"Charley's\",\"marker\":{\"color\":\"#636efa\"},\"name\":\"Charley's\",\"notched\":false,\"offsetgroup\":\"Charley's\",\"orientation\":\"v\",\"showlegend\":true,\"x\":[\"Charley's\"],\"x0\":\" \",\"xaxis\":\"x\",\"y\":[77006],\"y0\":\" \",\"yaxis\":\"y\",\"type\":\"box\"},{\"alignmentgroup\":\"True\",\"customdata\":[[\"Wyoming\"]],\"hovertemplate\":\"mostPopular=%{x}<br>HouseholdIncome=%{y}<br>State=%{customdata[0]}<extra></extra>\",\"legendgroup\":\"Carl's Jr\",\"marker\":{\"color\":\"#EF553B\"},\"name\":\"Carl's Jr\",\"notched\":false,\"offsetgroup\":\"Carl's Jr\",\"orientation\":\"v\",\"showlegend\":true,\"x\":[\"Carl's Jr\"],\"x0\":\" \",\"xaxis\":\"x\",\"y\":[65304],\"y0\":\" \",\"yaxis\":\"y\",\"type\":\"box\"}],                        {\"template\":{\"data\":{\"bar\":[{\"error_x\":{\"color\":\"#2a3f5f\"},\"error_y\":{\"color\":\"#2a3f5f\"},\"marker\":{\"line\":{\"color\":\"#E5ECF6\",\"width\":0.5},\"pattern\":{\"fillmode\":\"overlay\",\"size\":10,\"solidity\":0.2}},\"type\":\"bar\"}],\"barpolar\":[{\"marker\":{\"line\":{\"color\":\"#E5ECF6\",\"width\":0.5},\"pattern\":{\"fillmode\":\"overlay\",\"size\":10,\"solidity\":0.2}},\"type\":\"barpolar\"}],\"carpet\":[{\"aaxis\":{\"endlinecolor\":\"#2a3f5f\",\"gridcolor\":\"white\",\"linecolor\":\"white\",\"minorgridcolor\":\"white\",\"startlinecolor\":\"#2a3f5f\"},\"baxis\":{\"endlinecolor\":\"#2a3f5f\",\"gridcolor\":\"white\",\"linecolor\":\"white\",\"minorgridcolor\":\"white\",\"startlinecolor\":\"#2a3f5f\"},\"type\":\"carpet\"}],\"choropleth\":[{\"colorbar\":{\"outlinewidth\":0,\"ticks\":\"\"},\"type\":\"choropleth\"}],\"contour\":[{\"colorbar\":{\"outlinewidth\":0,\"ticks\":\"\"},\"colorscale\":[[0.0,\"#0d0887\"],[0.1111111111111111,\"#46039f\"],[0.2222222222222222,\"#7201a8\"],[0.3333333333333333,\"#9c179e\"],[0.4444444444444444,\"#bd3786\"],[0.5555555555555556,\"#d8576b\"],[0.6666666666666666,\"#ed7953\"],[0.7777777777777778,\"#fb9f3a\"],[0.8888888888888888,\"#fdca26\"],[1.0,\"#f0f921\"]],\"type\":\"contour\"}],\"contourcarpet\":[{\"colorbar\":{\"outlinewidth\":0,\"ticks\":\"\"},\"type\":\"contourcarpet\"}],\"heatmap\":[{\"colorbar\":{\"outlinewidth\":0,\"ticks\":\"\"},\"colorscale\":[[0.0,\"#0d0887\"],[0.1111111111111111,\"#46039f\"],[0.2222222222222222,\"#7201a8\"],[0.3333333333333333,\"#9c179e\"],[0.4444444444444444,\"#bd3786\"],[0.5555555555555556,\"#d8576b\"],[0.6666666666666666,\"#ed7953\"],[0.7777777777777778,\"#fb9f3a\"],[0.8888888888888888,\"#fdca26\"],[1.0,\"#f0f921\"]],\"type\":\"heatmap\"}],\"heatmapgl\":[{\"colorbar\":{\"outlinewidth\":0,\"ticks\":\"\"},\"colorscale\":[[0.0,\"#0d0887\"],[0.1111111111111111,\"#46039f\"],[0.2222222222222222,\"#7201a8\"],[0.3333333333333333,\"#9c179e\"],[0.4444444444444444,\"#bd3786\"],[0.5555555555555556,\"#d8576b\"],[0.6666666666666666,\"#ed7953\"],[0.7777777777777778,\"#fb9f3a\"],[0.8888888888888888,\"#fdca26\"],[1.0,\"#f0f921\"]],\"type\":\"heatmapgl\"}],\"histogram\":[{\"marker\":{\"pattern\":{\"fillmode\":\"overlay\",\"size\":10,\"solidity\":0.2}},\"type\":\"histogram\"}],\"histogram2d\":[{\"colorbar\":{\"outlinewidth\":0,\"ticks\":\"\"},\"colorscale\":[[0.0,\"#0d0887\"],[0.1111111111111111,\"#46039f\"],[0.2222222222222222,\"#7201a8\"],[0.3333333333333333,\"#9c179e\"],[0.4444444444444444,\"#bd3786\"],[0.5555555555555556,\"#d8576b\"],[0.6666666666666666,\"#ed7953\"],[0.7777777777777778,\"#fb9f3a\"],[0.8888888888888888,\"#fdca26\"],[1.0,\"#f0f921\"]],\"type\":\"histogram2d\"}],\"histogram2dcontour\":[{\"colorbar\":{\"outlinewidth\":0,\"ticks\":\"\"},\"colorscale\":[[0.0,\"#0d0887\"],[0.1111111111111111,\"#46039f\"],[0.2222222222222222,\"#7201a8\"],[0.3333333333333333,\"#9c179e\"],[0.4444444444444444,\"#bd3786\"],[0.5555555555555556,\"#d8576b\"],[0.6666666666666666,\"#ed7953\"],[0.7777777777777778,\"#fb9f3a\"],[0.8888888888888888,\"#fdca26\"],[1.0,\"#f0f921\"]],\"type\":\"histogram2dcontour\"}],\"mesh3d\":[{\"colorbar\":{\"outlinewidth\":0,\"ticks\":\"\"},\"type\":\"mesh3d\"}],\"parcoords\":[{\"line\":{\"colorbar\":{\"outlinewidth\":0,\"ticks\":\"\"}},\"type\":\"parcoords\"}],\"pie\":[{\"automargin\":true,\"type\":\"pie\"}],\"scatter\":[{\"marker\":{\"colorbar\":{\"outlinewidth\":0,\"ticks\":\"\"}},\"type\":\"scatter\"}],\"scatter3d\":[{\"line\":{\"colorbar\":{\"outlinewidth\":0,\"ticks\":\"\"}},\"marker\":{\"colorbar\":{\"outlinewidth\":0,\"ticks\":\"\"}},\"type\":\"scatter3d\"}],\"scattercarpet\":[{\"marker\":{\"colorbar\":{\"outlinewidth\":0,\"ticks\":\"\"}},\"type\":\"scattercarpet\"}],\"scattergeo\":[{\"marker\":{\"colorbar\":{\"outlinewidth\":0,\"ticks\":\"\"}},\"type\":\"scattergeo\"}],\"scattergl\":[{\"marker\":{\"colorbar\":{\"outlinewidth\":0,\"ticks\":\"\"}},\"type\":\"scattergl\"}],\"scattermapbox\":[{\"marker\":{\"colorbar\":{\"outlinewidth\":0,\"ticks\":\"\"}},\"type\":\"scattermapbox\"}],\"scatterpolar\":[{\"marker\":{\"colorbar\":{\"outlinewidth\":0,\"ticks\":\"\"}},\"type\":\"scatterpolar\"}],\"scatterpolargl\":[{\"marker\":{\"colorbar\":{\"outlinewidth\":0,\"ticks\":\"\"}},\"type\":\"scatterpolargl\"}],\"scatterternary\":[{\"marker\":{\"colorbar\":{\"outlinewidth\":0,\"ticks\":\"\"}},\"type\":\"scatterternary\"}],\"surface\":[{\"colorbar\":{\"outlinewidth\":0,\"ticks\":\"\"},\"colorscale\":[[0.0,\"#0d0887\"],[0.1111111111111111,\"#46039f\"],[0.2222222222222222,\"#7201a8\"],[0.3333333333333333,\"#9c179e\"],[0.4444444444444444,\"#bd3786\"],[0.5555555555555556,\"#d8576b\"],[0.6666666666666666,\"#ed7953\"],[0.7777777777777778,\"#fb9f3a\"],[0.8888888888888888,\"#fdca26\"],[1.0,\"#f0f921\"]],\"type\":\"surface\"}],\"table\":[{\"cells\":{\"fill\":{\"color\":\"#EBF0F8\"},\"line\":{\"color\":\"white\"}},\"header\":{\"fill\":{\"color\":\"#C8D4E3\"},\"line\":{\"color\":\"white\"}},\"type\":\"table\"}]},\"layout\":{\"annotationdefaults\":{\"arrowcolor\":\"#2a3f5f\",\"arrowhead\":0,\"arrowwidth\":1},\"autotypenumbers\":\"strict\",\"coloraxis\":{\"colorbar\":{\"outlinewidth\":0,\"ticks\":\"\"}},\"colorscale\":{\"diverging\":[[0,\"#8e0152\"],[0.1,\"#c51b7d\"],[0.2,\"#de77ae\"],[0.3,\"#f1b6da\"],[0.4,\"#fde0ef\"],[0.5,\"#f7f7f7\"],[0.6,\"#e6f5d0\"],[0.7,\"#b8e186\"],[0.8,\"#7fbc41\"],[0.9,\"#4d9221\"],[1,\"#276419\"]],\"sequential\":[[0.0,\"#0d0887\"],[0.1111111111111111,\"#46039f\"],[0.2222222222222222,\"#7201a8\"],[0.3333333333333333,\"#9c179e\"],[0.4444444444444444,\"#bd3786\"],[0.5555555555555556,\"#d8576b\"],[0.6666666666666666,\"#ed7953\"],[0.7777777777777778,\"#fb9f3a\"],[0.8888888888888888,\"#fdca26\"],[1.0,\"#f0f921\"]],\"sequentialminus\":[[0.0,\"#0d0887\"],[0.1111111111111111,\"#46039f\"],[0.2222222222222222,\"#7201a8\"],[0.3333333333333333,\"#9c179e\"],[0.4444444444444444,\"#bd3786\"],[0.5555555555555556,\"#d8576b\"],[0.6666666666666666,\"#ed7953\"],[0.7777777777777778,\"#fb9f3a\"],[0.8888888888888888,\"#fdca26\"],[1.0,\"#f0f921\"]]},\"colorway\":[\"#636efa\",\"#EF553B\",\"#00cc96\",\"#ab63fa\",\"#FFA15A\",\"#19d3f3\",\"#FF6692\",\"#B6E880\",\"#FF97FF\",\"#FECB52\"],\"font\":{\"color\":\"#2a3f5f\"},\"geo\":{\"bgcolor\":\"white\",\"lakecolor\":\"white\",\"landcolor\":\"#E5ECF6\",\"showlakes\":true,\"showland\":true,\"subunitcolor\":\"white\"},\"hoverlabel\":{\"align\":\"left\"},\"hovermode\":\"closest\",\"mapbox\":{\"style\":\"light\"},\"paper_bgcolor\":\"white\",\"plot_bgcolor\":\"#E5ECF6\",\"polar\":{\"angularaxis\":{\"gridcolor\":\"white\",\"linecolor\":\"white\",\"ticks\":\"\"},\"bgcolor\":\"#E5ECF6\",\"radialaxis\":{\"gridcolor\":\"white\",\"linecolor\":\"white\",\"ticks\":\"\"}},\"scene\":{\"xaxis\":{\"backgroundcolor\":\"#E5ECF6\",\"gridcolor\":\"white\",\"gridwidth\":2,\"linecolor\":\"white\",\"showbackground\":true,\"ticks\":\"\",\"zerolinecolor\":\"white\"},\"yaxis\":{\"backgroundcolor\":\"#E5ECF6\",\"gridcolor\":\"white\",\"gridwidth\":2,\"linecolor\":\"white\",\"showbackground\":true,\"ticks\":\"\",\"zerolinecolor\":\"white\"},\"zaxis\":{\"backgroundcolor\":\"#E5ECF6\",\"gridcolor\":\"white\",\"gridwidth\":2,\"linecolor\":\"white\",\"showbackground\":true,\"ticks\":\"\",\"zerolinecolor\":\"white\"}},\"shapedefaults\":{\"line\":{\"color\":\"#2a3f5f\"}},\"ternary\":{\"aaxis\":{\"gridcolor\":\"white\",\"linecolor\":\"white\",\"ticks\":\"\"},\"baxis\":{\"gridcolor\":\"white\",\"linecolor\":\"white\",\"ticks\":\"\"},\"bgcolor\":\"#E5ECF6\",\"caxis\":{\"gridcolor\":\"white\",\"linecolor\":\"white\",\"ticks\":\"\"}},\"title\":{\"x\":0.05},\"xaxis\":{\"automargin\":true,\"gridcolor\":\"white\",\"linecolor\":\"white\",\"ticks\":\"\",\"title\":{\"standoff\":15},\"zerolinecolor\":\"white\",\"zerolinewidth\":2},\"yaxis\":{\"automargin\":true,\"gridcolor\":\"white\",\"linecolor\":\"white\",\"ticks\":\"\",\"title\":{\"standoff\":15},\"zerolinecolor\":\"white\",\"zerolinewidth\":2}}},\"xaxis\":{\"anchor\":\"y\",\"domain\":[0.0,1.0],\"title\":{\"text\":\"Most Popular Fast Food Restaurant\"},\"categoryorder\":\"array\",\"categoryarray\":[\"Chick-Fil-A\",\"McDonald's\",\"In-N-Out\",\"Panda Express\",\"White Castle\",\"Wendy's\",\"Jack In the Box\",\"Sonic\",\"Church's\",\"Taco Bell\",\"Charley's\",\"Carl's Jr\"]},\"yaxis\":{\"anchor\":\"x\",\"domain\":[0.0,1.0],\"title\":{\"text\":\"Median Household Income\"}},\"legend\":{\"title\":{\"text\":\"mostPopular\"},\"tracegroupgap\":0},\"margin\":{\"t\":60},\"boxmode\":\"overlay\"},                        {\"responsive\": true}                    ).then(function(){\n",
              "                            \n",
              "var gd = document.getElementById('4bb040f5-26c4-4e48-97ed-f63ce07a4e02');\n",
              "var x = new MutationObserver(function (mutations, observer) {{\n",
              "        var display = window.getComputedStyle(gd).display;\n",
              "        if (!display || display === 'none') {{\n",
              "            console.log([gd, 'removed!']);\n",
              "            Plotly.purge(gd);\n",
              "            observer.disconnect();\n",
              "        }}\n",
              "}});\n",
              "\n",
              "// Listen for the removal of the full notebook cells\n",
              "var notebookContainer = gd.closest('#notebook-container');\n",
              "if (notebookContainer) {{\n",
              "    x.observe(notebookContainer, {childList: true});\n",
              "}}\n",
              "\n",
              "// Listen for the clearing of the current output cell\n",
              "var outputEl = gd.closest('.output');\n",
              "if (outputEl) {{\n",
              "    x.observe(outputEl, {childList: true});\n",
              "}}\n",
              "\n",
              "                        })                };                            </script>        </div>\n",
              "</body>\n",
              "</html>"
            ]
          },
          "metadata": {}
        }
      ]
    },
    {
      "cell_type": "markdown",
      "source": [
        "# Query that shows unemployment rate from highest to lowest in any given year for any given state"
      ],
      "metadata": {
        "id": "Aec7lwpWd4kB"
      }
    },
    {
      "cell_type": "markdown",
      "source": [
        "Here we have a basic query that shows the unemployment rates for any year from highest to lowest given our state_unemp table. This gives us a good idea for which year has the highest unemployment rates. As we can see the top 5 highest unemployment rates were in 2021 and the bottom 5 were all in 2022.  "
      ],
      "metadata": {
        "id": "Hu0vq0pujzIg"
      }
    },
    {
      "cell_type": "code",
      "source": [
        "db = 'US_State_Food.db'\n",
        "table = 'state_unemp'\n",
        "cols = 'State, Unemp_Year, Unemployment_rate'\n",
        "ord = 'Unemployment_rate'\n",
        "\n",
        "qry = f'SELECT {cols} FROM {table} ORDER By {ord} Desc'\n",
        "data = execute_sql(db, qry)\n",
        "\n",
        "pd.DataFrame(data, columns = cols.split(','))"
      ],
      "metadata": {
        "id": "-dLrC7oWd4Cq",
        "colab": {
          "base_uri": "https://localhost:8080/",
          "height": 424
        },
        "outputId": "c8af4ad0-52bc-47cf-9fcb-32ca8fd2cf53"
      },
      "execution_count": null,
      "outputs": [
        {
          "output_type": "execute_result",
          "data": {
            "text/plain": [
              "            State   Unemp_Year   Unemployment_rate\n",
              "0      California         2021                 7.4\n",
              "1      New Mexico         2021                 7.0\n",
              "2        New York         2021                 6.9\n",
              "3          Nevada         2021                 6.6\n",
              "4      New Jersey         2021                 6.6\n",
              "..            ...          ...                 ...\n",
              "95        Vermont         2022                 2.1\n",
              "96       Nebraska         2022                 2.0\n",
              "97  New Hampshire         2022                 2.0\n",
              "98           Utah         2022                 2.0\n",
              "99      Minnesota         2022                 1.8\n",
              "\n",
              "[100 rows x 3 columns]"
            ],
            "text/html": [
              "\n",
              "  <div id=\"df-199bf858-dc76-41e5-8d7d-cd63de9e4b36\">\n",
              "    <div class=\"colab-df-container\">\n",
              "      <div>\n",
              "<style scoped>\n",
              "    .dataframe tbody tr th:only-of-type {\n",
              "        vertical-align: middle;\n",
              "    }\n",
              "\n",
              "    .dataframe tbody tr th {\n",
              "        vertical-align: top;\n",
              "    }\n",
              "\n",
              "    .dataframe thead th {\n",
              "        text-align: right;\n",
              "    }\n",
              "</style>\n",
              "<table border=\"1\" class=\"dataframe\">\n",
              "  <thead>\n",
              "    <tr style=\"text-align: right;\">\n",
              "      <th></th>\n",
              "      <th>State</th>\n",
              "      <th>Unemp_Year</th>\n",
              "      <th>Unemployment_rate</th>\n",
              "    </tr>\n",
              "  </thead>\n",
              "  <tbody>\n",
              "    <tr>\n",
              "      <th>0</th>\n",
              "      <td>California</td>\n",
              "      <td>2021</td>\n",
              "      <td>7.4</td>\n",
              "    </tr>\n",
              "    <tr>\n",
              "      <th>1</th>\n",
              "      <td>New Mexico</td>\n",
              "      <td>2021</td>\n",
              "      <td>7.0</td>\n",
              "    </tr>\n",
              "    <tr>\n",
              "      <th>2</th>\n",
              "      <td>New York</td>\n",
              "      <td>2021</td>\n",
              "      <td>6.9</td>\n",
              "    </tr>\n",
              "    <tr>\n",
              "      <th>3</th>\n",
              "      <td>Nevada</td>\n",
              "      <td>2021</td>\n",
              "      <td>6.6</td>\n",
              "    </tr>\n",
              "    <tr>\n",
              "      <th>4</th>\n",
              "      <td>New Jersey</td>\n",
              "      <td>2021</td>\n",
              "      <td>6.6</td>\n",
              "    </tr>\n",
              "    <tr>\n",
              "      <th>...</th>\n",
              "      <td>...</td>\n",
              "      <td>...</td>\n",
              "      <td>...</td>\n",
              "    </tr>\n",
              "    <tr>\n",
              "      <th>95</th>\n",
              "      <td>Vermont</td>\n",
              "      <td>2022</td>\n",
              "      <td>2.1</td>\n",
              "    </tr>\n",
              "    <tr>\n",
              "      <th>96</th>\n",
              "      <td>Nebraska</td>\n",
              "      <td>2022</td>\n",
              "      <td>2.0</td>\n",
              "    </tr>\n",
              "    <tr>\n",
              "      <th>97</th>\n",
              "      <td>New Hampshire</td>\n",
              "      <td>2022</td>\n",
              "      <td>2.0</td>\n",
              "    </tr>\n",
              "    <tr>\n",
              "      <th>98</th>\n",
              "      <td>Utah</td>\n",
              "      <td>2022</td>\n",
              "      <td>2.0</td>\n",
              "    </tr>\n",
              "    <tr>\n",
              "      <th>99</th>\n",
              "      <td>Minnesota</td>\n",
              "      <td>2022</td>\n",
              "      <td>1.8</td>\n",
              "    </tr>\n",
              "  </tbody>\n",
              "</table>\n",
              "<p>100 rows × 3 columns</p>\n",
              "</div>\n",
              "      <button class=\"colab-df-convert\" onclick=\"convertToInteractive('df-199bf858-dc76-41e5-8d7d-cd63de9e4b36')\"\n",
              "              title=\"Convert this dataframe to an interactive table.\"\n",
              "              style=\"display:none;\">\n",
              "        \n",
              "  <svg xmlns=\"http://www.w3.org/2000/svg\" height=\"24px\"viewBox=\"0 0 24 24\"\n",
              "       width=\"24px\">\n",
              "    <path d=\"M0 0h24v24H0V0z\" fill=\"none\"/>\n",
              "    <path d=\"M18.56 5.44l.94 2.06.94-2.06 2.06-.94-2.06-.94-.94-2.06-.94 2.06-2.06.94zm-11 1L8.5 8.5l.94-2.06 2.06-.94-2.06-.94L8.5 2.5l-.94 2.06-2.06.94zm10 10l.94 2.06.94-2.06 2.06-.94-2.06-.94-.94-2.06-.94 2.06-2.06.94z\"/><path d=\"M17.41 7.96l-1.37-1.37c-.4-.4-.92-.59-1.43-.59-.52 0-1.04.2-1.43.59L10.3 9.45l-7.72 7.72c-.78.78-.78 2.05 0 2.83L4 21.41c.39.39.9.59 1.41.59.51 0 1.02-.2 1.41-.59l7.78-7.78 2.81-2.81c.8-.78.8-2.07 0-2.86zM5.41 20L4 18.59l7.72-7.72 1.47 1.35L5.41 20z\"/>\n",
              "  </svg>\n",
              "      </button>\n",
              "      \n",
              "  <style>\n",
              "    .colab-df-container {\n",
              "      display:flex;\n",
              "      flex-wrap:wrap;\n",
              "      gap: 12px;\n",
              "    }\n",
              "\n",
              "    .colab-df-convert {\n",
              "      background-color: #E8F0FE;\n",
              "      border: none;\n",
              "      border-radius: 50%;\n",
              "      cursor: pointer;\n",
              "      display: none;\n",
              "      fill: #1967D2;\n",
              "      height: 32px;\n",
              "      padding: 0 0 0 0;\n",
              "      width: 32px;\n",
              "    }\n",
              "\n",
              "    .colab-df-convert:hover {\n",
              "      background-color: #E2EBFA;\n",
              "      box-shadow: 0px 1px 2px rgba(60, 64, 67, 0.3), 0px 1px 3px 1px rgba(60, 64, 67, 0.15);\n",
              "      fill: #174EA6;\n",
              "    }\n",
              "\n",
              "    [theme=dark] .colab-df-convert {\n",
              "      background-color: #3B4455;\n",
              "      fill: #D2E3FC;\n",
              "    }\n",
              "\n",
              "    [theme=dark] .colab-df-convert:hover {\n",
              "      background-color: #434B5C;\n",
              "      box-shadow: 0px 1px 3px 1px rgba(0, 0, 0, 0.15);\n",
              "      filter: drop-shadow(0px 1px 2px rgba(0, 0, 0, 0.3));\n",
              "      fill: #FFFFFF;\n",
              "    }\n",
              "  </style>\n",
              "\n",
              "      <script>\n",
              "        const buttonEl =\n",
              "          document.querySelector('#df-199bf858-dc76-41e5-8d7d-cd63de9e4b36 button.colab-df-convert');\n",
              "        buttonEl.style.display =\n",
              "          google.colab.kernel.accessAllowed ? 'block' : 'none';\n",
              "\n",
              "        async function convertToInteractive(key) {\n",
              "          const element = document.querySelector('#df-199bf858-dc76-41e5-8d7d-cd63de9e4b36');\n",
              "          const dataTable =\n",
              "            await google.colab.kernel.invokeFunction('convertToInteractive',\n",
              "                                                     [key], {});\n",
              "          if (!dataTable) return;\n",
              "\n",
              "          const docLinkHtml = 'Like what you see? Visit the ' +\n",
              "            '<a target=\"_blank\" href=https://colab.research.google.com/notebooks/data_table.ipynb>data table notebook</a>'\n",
              "            + ' to learn more about interactive tables.';\n",
              "          element.innerHTML = '';\n",
              "          dataTable['output_type'] = 'display_data';\n",
              "          await google.colab.output.renderOutput(dataTable, element);\n",
              "          const docLink = document.createElement('div');\n",
              "          docLink.innerHTML = docLinkHtml;\n",
              "          element.appendChild(docLink);\n",
              "        }\n",
              "      </script>\n",
              "    </div>\n",
              "  </div>\n",
              "  "
            ]
          },
          "metadata": {},
          "execution_count": 62
        }
      ]
    },
    {
      "cell_type": "markdown",
      "source": [
        "# How unemployment rate effects the total obesity scores of each state.\n",
        "Here, we combine our obesity_by_score data with our state_unemp data that are different lengths (50 rows vs 100 rows) with the join() function in order to obtain a dataframe with both unemployment across various years and the total obesity scores across each State. Then, from that combined dataframe, we create scatterplots that show the correlation between total score and unemployment across different years (2021 and 2022).\n",
        "\n",
        "Looking at the scatterplots below, it appears that across 2021 and 2022, there isn't much of a correlation between total score and unemployment rate."
      ],
      "metadata": {
        "id": "-1zGSHnVhTsW"
      }
    },
    {
      "cell_type": "code",
      "source": [
        "import pandas as pd\n",
        "db = 'US_State_Food.db'\n",
        "cols1 = 'State,Total_Score'\n",
        "table1 = 'obesity_by_state'\n",
        "cols2 = 'Unemployment_rate,Unemp_Year,State'\n",
        "table2 = 'state_unemp'\n",
        "qry1 = f'SELECT {cols1} FROM {table1}'\n",
        "qry2 = f'SELECT {cols2} FROM {table2}'\n",
        "df1 = pd.DataFrame(execute_sql(db, qry1), columns = cols1.split(',')).set_index('State')\n",
        "df2 = pd.DataFrame(execute_sql(db, qry2), columns = cols2.split(',')).set_index('State')\n",
        "comb_dfs = df1.join(df2, how = 'inner')\n",
        "fig = px.scatter(comb_dfs, x=\"Total_Score\", y=\"Unemployment_rate\", facet_col = 'Unemp_Year',trendline='ols')\n",
        "fig.update_xaxes(title_text='Total Obesity Score')\n",
        "fig.update_yaxes(title_text='Unemployment Rate')\n",
        "fig.show()"
      ],
      "metadata": {
        "id": "-ZAWT2vshTeB",
        "colab": {
          "base_uri": "https://localhost:8080/",
          "height": 542
        },
        "outputId": "59b4aa23-9e68-40c1-cd3d-08d3ba3b75cd"
      },
      "execution_count": null,
      "outputs": [
        {
          "output_type": "display_data",
          "data": {
            "text/html": [
              "<html>\n",
              "<head><meta charset=\"utf-8\" /></head>\n",
              "<body>\n",
              "    <div>            <script src=\"https://cdnjs.cloudflare.com/ajax/libs/mathjax/2.7.5/MathJax.js?config=TeX-AMS-MML_SVG\"></script><script type=\"text/javascript\">if (window.MathJax) {MathJax.Hub.Config({SVG: {font: \"STIX-Web\"}});}</script>                <script type=\"text/javascript\">window.PlotlyConfig = {MathJaxConfig: 'local'};</script>\n",
              "        <script src=\"https://cdn.plot.ly/plotly-2.8.3.min.js\"></script>                <div id=\"d671be93-3e2e-4770-96e5-1b5b928e22e9\" class=\"plotly-graph-div\" style=\"height:525px; width:100%;\"></div>            <script type=\"text/javascript\">                                    window.PLOTLYENV=window.PLOTLYENV || {};                                    if (document.getElementById(\"d671be93-3e2e-4770-96e5-1b5b928e22e9\")) {                    Plotly.newPlot(                        \"d671be93-3e2e-4770-96e5-1b5b928e22e9\",                        [{\"hovertemplate\":\"Unemp_Year=2022<br>Total_Score=%{x}<br>Unemployment_rate=%{y}<extra></extra>\",\"legendgroup\":\"\",\"marker\":{\"color\":\"#636efa\",\"symbol\":\"circle\"},\"mode\":\"markers\",\"name\":\"\",\"orientation\":\"v\",\"showlegend\":false,\"x\":[68.63,53.84,51.12,68.95,49.97,43.23,52.69,63.99,54.63,62.27,47.0,52.71,56.73,58.12,60.1,59.98,68.99,65.66,57.53,56.47,45.9,58.32,48.27,72.33,61.51,52.71,51.91,54.01,55.39,52.43,56.56,50.93,60.13,56.12,61.99,63.71,53.88,56.02,57.41,63.43,54.75,67.46,62.08,43.47,53.38,57.71,51.17,74.6,55.51,52.66],\"xaxis\":\"x\",\"y\":[2.6,4.5,3.3,3.3,3.9,3.3,3.7,4.4,2.7,2.8,4.1,2.6,4.4,2.6,2.5,2.4,3.7,3.6,2.8,3.9,3.5,4.2,1.8,3.6,2.5,2.7,2.0,4.4,2.0,3.7,4.5,4.4,3.4,2.3,3.9,3.0,3.5,4.3,2.7,3.2,2.3,3.3,4.0,2.0,2.1,2.7,3.7,3.7,3.0,3.0],\"yaxis\":\"y\",\"type\":\"scatter\"},{\"hovertemplate\":\"<b>OLS trendline</b><br>Unemployment_rate = 0.012403 * Total_Score + 2.54095<br>R<sup>2</sup>=0.012756<br><br>Unemp_Year=2022<br>Total_Score=%{x}<br>Unemployment_rate=%{y} <b>(trend)</b><extra></extra>\",\"legendgroup\":\"\",\"marker\":{\"color\":\"#636efa\",\"symbol\":\"circle\"},\"mode\":\"lines\",\"name\":\"\",\"showlegend\":false,\"x\":[43.23,43.47,45.9,47.0,48.27,49.97,50.93,51.12,51.17,51.91,52.43,52.66,52.69,52.71,52.71,53.38,53.84,53.88,54.01,54.63,54.75,55.39,55.51,56.02,56.12,56.47,56.56,56.73,57.41,57.53,57.71,58.12,58.32,59.98,60.1,60.13,61.51,61.99,62.08,62.27,63.43,63.71,63.99,65.66,67.46,68.63,68.95,68.99,72.33,74.6],\"xaxis\":\"x\",\"y\":[3.0771365726515922,3.0801132984332136,3.110252646972133,3.1238959734712326,3.1396478140656474,3.1607329550188012,3.172639858145288,3.174996432722405,3.1756165839269097,3.1847948217535764,3.1912443942804236,3.1940970898211445,3.194469180543847,3.194717241025649,3.194717241025649,3.2030272671660094,3.208732658247451,3.2092287792110543,3.210841172342766,3.2185310472786224,3.2200194101694333,3.227957345587091,3.229445708477902,3.235771250763848,3.2370115531728567,3.2413526116043885,3.2424688837724966,3.244577397867812,3.253011454249074,3.2544998171398847,3.2567323614761006,3.2618176013530378,3.264298206171056,3.2848872261606057,3.2863755890514166,3.2867476797741193,3.303863853018444,3.3098173045816877,3.310933576749796,3.313290151326913,3.3276776592714175,3.331150506016643,3.3346233527618683,3.355336402992319,3.377661846354482,3.3921733845398876,3.3961423522487166,3.3966384732123203,3.438064573673222,3.466219438357727],\"yaxis\":\"y\",\"type\":\"scatter\"},{\"hovertemplate\":\"Unemp_Year=2021<br>Total_Score=%{x}<br>Unemployment_rate=%{y}<extra></extra>\",\"legendgroup\":\"\",\"marker\":{\"color\":\"#636efa\",\"symbol\":\"circle\"},\"mode\":\"markers\",\"name\":\"\",\"orientation\":\"v\",\"showlegend\":false,\"x\":[68.63,53.84,51.12,68.95,49.97,43.23,52.69,63.99,54.63,62.27,47.0,52.71,56.73,58.12,60.1,59.98,68.99,65.66,57.53,56.47,45.9,58.32,48.27,72.33,61.51,52.71,51.91,54.01,55.39,52.43,56.56,50.93,60.13,56.12,61.99,63.71,53.88,56.02,57.41,63.43,54.75,67.46,62.08,43.47,53.38,57.71,51.17,74.6,55.51,52.66],\"xaxis\":\"x2\",\"y\":[3.4,6.5,4.9,4.0,7.4,5.6,6.3,5.5,4.5,3.9,5.5,3.6,6.2,3.7,4.4,3.4,4.8,5.5,4.9,6.1,5.7,6.2,3.3,5.6,4.3,3.5,2.5,6.6,3.5,6.6,7.0,6.9,4.9,3.4,5.1,3.9,5.1,6.4,6.0,4.0,3.2,4.2,5.6,2.7,3.3,3.8,5.2,5.1,3.8,4.5],\"yaxis\":\"y2\",\"type\":\"scatter\"},{\"hovertemplate\":\"<b>OLS trendline</b><br>Unemployment_rate = -0.0137653 * Total_Score + 5.62693<br>R<sup>2</sup>=0.006015<br><br>Unemp_Year=2021<br>Total_Score=%{x}<br>Unemployment_rate=%{y} <b>(trend)</b><extra></extra>\",\"legendgroup\":\"\",\"marker\":{\"color\":\"#636efa\",\"symbol\":\"circle\"},\"mode\":\"lines\",\"name\":\"\",\"showlegend\":false,\"x\":[43.23,43.47,45.9,47.0,48.27,49.97,50.93,51.12,51.17,51.91,52.43,52.66,52.69,52.71,52.71,53.38,53.84,53.88,54.01,54.63,54.75,55.39,55.51,56.02,56.12,56.47,56.56,56.73,57.41,57.53,57.71,58.12,58.32,59.98,60.1,60.13,61.51,61.99,62.08,62.27,63.43,63.71,63.99,65.66,67.46,68.63,68.95,68.99,72.33,74.6],\"xaxis\":\"x2\",\"y\":[5.031850396076089,5.0285467127639265,4.995096919228288,4.979955037380879,4.96247304652069,4.939071956392876,4.925857223144229,4.923241807188767,4.922553539832067,4.912367182952901,4.905209202443217,4.902043172602395,4.901630212188375,4.901354905245695,4.901354905245695,4.89213212266591,4.885800062984266,4.885249449098906,4.883459953971485,4.8749254387484005,4.873273597092319,4.864463774926554,4.862811933270473,4.855791606232129,4.854415071518728,4.849597200021826,4.848358318779765,4.846018209766984,4.836657773715858,4.835005932059778,4.832528169575657,4.826884377250713,4.824131307823912,4.801280831581459,4.7996289899253775,4.799216029511357,4.780219850466427,4.773612483842103,4.772373602600043,4.769758186644581,4.753790383969132,4.749936086771609,4.746081789574087,4.723093659860295,4.698316035019081,4.682210578872292,4.677805667789409,4.677255053904049,4.631278794476463,4.600031456482265],\"yaxis\":\"y2\",\"type\":\"scatter\"}],                        {\"template\":{\"data\":{\"bar\":[{\"error_x\":{\"color\":\"#2a3f5f\"},\"error_y\":{\"color\":\"#2a3f5f\"},\"marker\":{\"line\":{\"color\":\"#E5ECF6\",\"width\":0.5},\"pattern\":{\"fillmode\":\"overlay\",\"size\":10,\"solidity\":0.2}},\"type\":\"bar\"}],\"barpolar\":[{\"marker\":{\"line\":{\"color\":\"#E5ECF6\",\"width\":0.5},\"pattern\":{\"fillmode\":\"overlay\",\"size\":10,\"solidity\":0.2}},\"type\":\"barpolar\"}],\"carpet\":[{\"aaxis\":{\"endlinecolor\":\"#2a3f5f\",\"gridcolor\":\"white\",\"linecolor\":\"white\",\"minorgridcolor\":\"white\",\"startlinecolor\":\"#2a3f5f\"},\"baxis\":{\"endlinecolor\":\"#2a3f5f\",\"gridcolor\":\"white\",\"linecolor\":\"white\",\"minorgridcolor\":\"white\",\"startlinecolor\":\"#2a3f5f\"},\"type\":\"carpet\"}],\"choropleth\":[{\"colorbar\":{\"outlinewidth\":0,\"ticks\":\"\"},\"type\":\"choropleth\"}],\"contour\":[{\"colorbar\":{\"outlinewidth\":0,\"ticks\":\"\"},\"colorscale\":[[0.0,\"#0d0887\"],[0.1111111111111111,\"#46039f\"],[0.2222222222222222,\"#7201a8\"],[0.3333333333333333,\"#9c179e\"],[0.4444444444444444,\"#bd3786\"],[0.5555555555555556,\"#d8576b\"],[0.6666666666666666,\"#ed7953\"],[0.7777777777777778,\"#fb9f3a\"],[0.8888888888888888,\"#fdca26\"],[1.0,\"#f0f921\"]],\"type\":\"contour\"}],\"contourcarpet\":[{\"colorbar\":{\"outlinewidth\":0,\"ticks\":\"\"},\"type\":\"contourcarpet\"}],\"heatmap\":[{\"colorbar\":{\"outlinewidth\":0,\"ticks\":\"\"},\"colorscale\":[[0.0,\"#0d0887\"],[0.1111111111111111,\"#46039f\"],[0.2222222222222222,\"#7201a8\"],[0.3333333333333333,\"#9c179e\"],[0.4444444444444444,\"#bd3786\"],[0.5555555555555556,\"#d8576b\"],[0.6666666666666666,\"#ed7953\"],[0.7777777777777778,\"#fb9f3a\"],[0.8888888888888888,\"#fdca26\"],[1.0,\"#f0f921\"]],\"type\":\"heatmap\"}],\"heatmapgl\":[{\"colorbar\":{\"outlinewidth\":0,\"ticks\":\"\"},\"colorscale\":[[0.0,\"#0d0887\"],[0.1111111111111111,\"#46039f\"],[0.2222222222222222,\"#7201a8\"],[0.3333333333333333,\"#9c179e\"],[0.4444444444444444,\"#bd3786\"],[0.5555555555555556,\"#d8576b\"],[0.6666666666666666,\"#ed7953\"],[0.7777777777777778,\"#fb9f3a\"],[0.8888888888888888,\"#fdca26\"],[1.0,\"#f0f921\"]],\"type\":\"heatmapgl\"}],\"histogram\":[{\"marker\":{\"pattern\":{\"fillmode\":\"overlay\",\"size\":10,\"solidity\":0.2}},\"type\":\"histogram\"}],\"histogram2d\":[{\"colorbar\":{\"outlinewidth\":0,\"ticks\":\"\"},\"colorscale\":[[0.0,\"#0d0887\"],[0.1111111111111111,\"#46039f\"],[0.2222222222222222,\"#7201a8\"],[0.3333333333333333,\"#9c179e\"],[0.4444444444444444,\"#bd3786\"],[0.5555555555555556,\"#d8576b\"],[0.6666666666666666,\"#ed7953\"],[0.7777777777777778,\"#fb9f3a\"],[0.8888888888888888,\"#fdca26\"],[1.0,\"#f0f921\"]],\"type\":\"histogram2d\"}],\"histogram2dcontour\":[{\"colorbar\":{\"outlinewidth\":0,\"ticks\":\"\"},\"colorscale\":[[0.0,\"#0d0887\"],[0.1111111111111111,\"#46039f\"],[0.2222222222222222,\"#7201a8\"],[0.3333333333333333,\"#9c179e\"],[0.4444444444444444,\"#bd3786\"],[0.5555555555555556,\"#d8576b\"],[0.6666666666666666,\"#ed7953\"],[0.7777777777777778,\"#fb9f3a\"],[0.8888888888888888,\"#fdca26\"],[1.0,\"#f0f921\"]],\"type\":\"histogram2dcontour\"}],\"mesh3d\":[{\"colorbar\":{\"outlinewidth\":0,\"ticks\":\"\"},\"type\":\"mesh3d\"}],\"parcoords\":[{\"line\":{\"colorbar\":{\"outlinewidth\":0,\"ticks\":\"\"}},\"type\":\"parcoords\"}],\"pie\":[{\"automargin\":true,\"type\":\"pie\"}],\"scatter\":[{\"marker\":{\"colorbar\":{\"outlinewidth\":0,\"ticks\":\"\"}},\"type\":\"scatter\"}],\"scatter3d\":[{\"line\":{\"colorbar\":{\"outlinewidth\":0,\"ticks\":\"\"}},\"marker\":{\"colorbar\":{\"outlinewidth\":0,\"ticks\":\"\"}},\"type\":\"scatter3d\"}],\"scattercarpet\":[{\"marker\":{\"colorbar\":{\"outlinewidth\":0,\"ticks\":\"\"}},\"type\":\"scattercarpet\"}],\"scattergeo\":[{\"marker\":{\"colorbar\":{\"outlinewidth\":0,\"ticks\":\"\"}},\"type\":\"scattergeo\"}],\"scattergl\":[{\"marker\":{\"colorbar\":{\"outlinewidth\":0,\"ticks\":\"\"}},\"type\":\"scattergl\"}],\"scattermapbox\":[{\"marker\":{\"colorbar\":{\"outlinewidth\":0,\"ticks\":\"\"}},\"type\":\"scattermapbox\"}],\"scatterpolar\":[{\"marker\":{\"colorbar\":{\"outlinewidth\":0,\"ticks\":\"\"}},\"type\":\"scatterpolar\"}],\"scatterpolargl\":[{\"marker\":{\"colorbar\":{\"outlinewidth\":0,\"ticks\":\"\"}},\"type\":\"scatterpolargl\"}],\"scatterternary\":[{\"marker\":{\"colorbar\":{\"outlinewidth\":0,\"ticks\":\"\"}},\"type\":\"scatterternary\"}],\"surface\":[{\"colorbar\":{\"outlinewidth\":0,\"ticks\":\"\"},\"colorscale\":[[0.0,\"#0d0887\"],[0.1111111111111111,\"#46039f\"],[0.2222222222222222,\"#7201a8\"],[0.3333333333333333,\"#9c179e\"],[0.4444444444444444,\"#bd3786\"],[0.5555555555555556,\"#d8576b\"],[0.6666666666666666,\"#ed7953\"],[0.7777777777777778,\"#fb9f3a\"],[0.8888888888888888,\"#fdca26\"],[1.0,\"#f0f921\"]],\"type\":\"surface\"}],\"table\":[{\"cells\":{\"fill\":{\"color\":\"#EBF0F8\"},\"line\":{\"color\":\"white\"}},\"header\":{\"fill\":{\"color\":\"#C8D4E3\"},\"line\":{\"color\":\"white\"}},\"type\":\"table\"}]},\"layout\":{\"annotationdefaults\":{\"arrowcolor\":\"#2a3f5f\",\"arrowhead\":0,\"arrowwidth\":1},\"autotypenumbers\":\"strict\",\"coloraxis\":{\"colorbar\":{\"outlinewidth\":0,\"ticks\":\"\"}},\"colorscale\":{\"diverging\":[[0,\"#8e0152\"],[0.1,\"#c51b7d\"],[0.2,\"#de77ae\"],[0.3,\"#f1b6da\"],[0.4,\"#fde0ef\"],[0.5,\"#f7f7f7\"],[0.6,\"#e6f5d0\"],[0.7,\"#b8e186\"],[0.8,\"#7fbc41\"],[0.9,\"#4d9221\"],[1,\"#276419\"]],\"sequential\":[[0.0,\"#0d0887\"],[0.1111111111111111,\"#46039f\"],[0.2222222222222222,\"#7201a8\"],[0.3333333333333333,\"#9c179e\"],[0.4444444444444444,\"#bd3786\"],[0.5555555555555556,\"#d8576b\"],[0.6666666666666666,\"#ed7953\"],[0.7777777777777778,\"#fb9f3a\"],[0.8888888888888888,\"#fdca26\"],[1.0,\"#f0f921\"]],\"sequentialminus\":[[0.0,\"#0d0887\"],[0.1111111111111111,\"#46039f\"],[0.2222222222222222,\"#7201a8\"],[0.3333333333333333,\"#9c179e\"],[0.4444444444444444,\"#bd3786\"],[0.5555555555555556,\"#d8576b\"],[0.6666666666666666,\"#ed7953\"],[0.7777777777777778,\"#fb9f3a\"],[0.8888888888888888,\"#fdca26\"],[1.0,\"#f0f921\"]]},\"colorway\":[\"#636efa\",\"#EF553B\",\"#00cc96\",\"#ab63fa\",\"#FFA15A\",\"#19d3f3\",\"#FF6692\",\"#B6E880\",\"#FF97FF\",\"#FECB52\"],\"font\":{\"color\":\"#2a3f5f\"},\"geo\":{\"bgcolor\":\"white\",\"lakecolor\":\"white\",\"landcolor\":\"#E5ECF6\",\"showlakes\":true,\"showland\":true,\"subunitcolor\":\"white\"},\"hoverlabel\":{\"align\":\"left\"},\"hovermode\":\"closest\",\"mapbox\":{\"style\":\"light\"},\"paper_bgcolor\":\"white\",\"plot_bgcolor\":\"#E5ECF6\",\"polar\":{\"angularaxis\":{\"gridcolor\":\"white\",\"linecolor\":\"white\",\"ticks\":\"\"},\"bgcolor\":\"#E5ECF6\",\"radialaxis\":{\"gridcolor\":\"white\",\"linecolor\":\"white\",\"ticks\":\"\"}},\"scene\":{\"xaxis\":{\"backgroundcolor\":\"#E5ECF6\",\"gridcolor\":\"white\",\"gridwidth\":2,\"linecolor\":\"white\",\"showbackground\":true,\"ticks\":\"\",\"zerolinecolor\":\"white\"},\"yaxis\":{\"backgroundcolor\":\"#E5ECF6\",\"gridcolor\":\"white\",\"gridwidth\":2,\"linecolor\":\"white\",\"showbackground\":true,\"ticks\":\"\",\"zerolinecolor\":\"white\"},\"zaxis\":{\"backgroundcolor\":\"#E5ECF6\",\"gridcolor\":\"white\",\"gridwidth\":2,\"linecolor\":\"white\",\"showbackground\":true,\"ticks\":\"\",\"zerolinecolor\":\"white\"}},\"shapedefaults\":{\"line\":{\"color\":\"#2a3f5f\"}},\"ternary\":{\"aaxis\":{\"gridcolor\":\"white\",\"linecolor\":\"white\",\"ticks\":\"\"},\"baxis\":{\"gridcolor\":\"white\",\"linecolor\":\"white\",\"ticks\":\"\"},\"bgcolor\":\"#E5ECF6\",\"caxis\":{\"gridcolor\":\"white\",\"linecolor\":\"white\",\"ticks\":\"\"}},\"title\":{\"x\":0.05},\"xaxis\":{\"automargin\":true,\"gridcolor\":\"white\",\"linecolor\":\"white\",\"ticks\":\"\",\"title\":{\"standoff\":15},\"zerolinecolor\":\"white\",\"zerolinewidth\":2},\"yaxis\":{\"automargin\":true,\"gridcolor\":\"white\",\"linecolor\":\"white\",\"ticks\":\"\",\"title\":{\"standoff\":15},\"zerolinecolor\":\"white\",\"zerolinewidth\":2}}},\"xaxis\":{\"anchor\":\"y\",\"domain\":[0.0,0.49],\"title\":{\"text\":\"Total Obesity Score\"}},\"yaxis\":{\"anchor\":\"x\",\"domain\":[0.0,1.0],\"title\":{\"text\":\"Unemployment Rate\"}},\"xaxis2\":{\"anchor\":\"y2\",\"domain\":[0.51,1.0],\"matches\":\"x\",\"title\":{\"text\":\"Total Obesity Score\"}},\"yaxis2\":{\"anchor\":\"x2\",\"domain\":[0.0,1.0],\"matches\":\"y\",\"showticklabels\":false,\"title\":{\"text\":\"Unemployment Rate\"}},\"annotations\":[{\"font\":{},\"showarrow\":false,\"text\":\"Unemp_Year=2022\",\"x\":0.245,\"xanchor\":\"center\",\"xref\":\"paper\",\"y\":1.0,\"yanchor\":\"bottom\",\"yref\":\"paper\"},{\"font\":{},\"showarrow\":false,\"text\":\"Unemp_Year=2021\",\"x\":0.755,\"xanchor\":\"center\",\"xref\":\"paper\",\"y\":1.0,\"yanchor\":\"bottom\",\"yref\":\"paper\"}],\"legend\":{\"tracegroupgap\":0},\"margin\":{\"t\":60}},                        {\"responsive\": true}                    ).then(function(){\n",
              "                            \n",
              "var gd = document.getElementById('d671be93-3e2e-4770-96e5-1b5b928e22e9');\n",
              "var x = new MutationObserver(function (mutations, observer) {{\n",
              "        var display = window.getComputedStyle(gd).display;\n",
              "        if (!display || display === 'none') {{\n",
              "            console.log([gd, 'removed!']);\n",
              "            Plotly.purge(gd);\n",
              "            observer.disconnect();\n",
              "        }}\n",
              "}});\n",
              "\n",
              "// Listen for the removal of the full notebook cells\n",
              "var notebookContainer = gd.closest('#notebook-container');\n",
              "if (notebookContainer) {{\n",
              "    x.observe(notebookContainer, {childList: true});\n",
              "}}\n",
              "\n",
              "// Listen for the clearing of the current output cell\n",
              "var outputEl = gd.closest('.output');\n",
              "if (outputEl) {{\n",
              "    x.observe(outputEl, {childList: true});\n",
              "}}\n",
              "\n",
              "                        })                };                            </script>        </div>\n",
              "</body>\n",
              "</html>"
            ]
          },
          "metadata": {}
        }
      ]
    },
    {
      "cell_type": "markdown",
      "source": [
        "# Bar plots that show unemployment rate (2021 and 2022) and favorite fast food restaurant for each US State"
      ],
      "metadata": {
        "id": "UKyZ7OH_iCQ1"
      }
    },
    {
      "cell_type": "markdown",
      "source": [
        "Here we have 2 bar plots that show unemployment rates for each state in 2021 and 2022 based on most popular fast food resturant. We combine our state_fast_food data with the state_unemp data in order to accomplish this task which happens by calling our needed data in the facet_state_barplots2 function. Similarly to the scatterplot above, we can see that there are much higher unemployment rates in 2021 than 2022. Also in both graphs, the distribution of data seems to be pretty even across each graph showing no real correlation."
      ],
      "metadata": {
        "id": "lv9KGUQEj5pw"
      }
    },
    {
      "cell_type": "code",
      "source": [
        "db='US_State_Food.db'\n",
        "cols1='State,mostPopular'\n",
        "cols2='State,Unemployment_rate,Unemp_Year'\n",
        "table1='state_fast_food'\n",
        "table2='state_unemp'\n",
        "cat_var='State'\n",
        "num_var='Unemployment_rate'\n",
        "facet_var='Unemp_Year'\n",
        "facet_state_barplots2(db,table1,table2,cols1,cols2,cat_var,num_var,facet_var,'State','Unemployment Rate')"
      ],
      "metadata": {
        "colab": {
          "base_uri": "https://localhost:8080/",
          "height": 542
        },
        "id": "52-wWu1SiYzf",
        "outputId": "20e855d7-6892-4e8e-a145-87b240921c3b"
      },
      "execution_count": null,
      "outputs": [
        {
          "output_type": "display_data",
          "data": {
            "text/html": [
              "<html>\n",
              "<head><meta charset=\"utf-8\" /></head>\n",
              "<body>\n",
              "    <div>            <script src=\"https://cdnjs.cloudflare.com/ajax/libs/mathjax/2.7.5/MathJax.js?config=TeX-AMS-MML_SVG\"></script><script type=\"text/javascript\">if (window.MathJax) {MathJax.Hub.Config({SVG: {font: \"STIX-Web\"}});}</script>                <script type=\"text/javascript\">window.PlotlyConfig = {MathJaxConfig: 'local'};</script>\n",
              "        <script src=\"https://cdn.plot.ly/plotly-2.8.3.min.js\"></script>                <div id=\"165fa787-2989-4fe4-90f4-52d744c5ce02\" class=\"plotly-graph-div\" style=\"height:525px; width:100%;\"></div>            <script type=\"text/javascript\">                                    window.PLOTLYENV=window.PLOTLYENV || {};                                    if (document.getElementById(\"165fa787-2989-4fe4-90f4-52d744c5ce02\")) {                    Plotly.newPlot(                        \"165fa787-2989-4fe4-90f4-52d744c5ce02\",                        [{\"alignmentgroup\":\"True\",\"hovertemplate\":\"mostPopular=Chick-Fil-A<br>Unemp_Year=2022<br>State=%{x}<br>Unemployment_rate=%{y}<extra></extra>\",\"legendgroup\":\"Chick-Fil-A\",\"marker\":{\"color\":\"#636efa\",\"pattern\":{\"shape\":\"\"}},\"name\":\"Chick-Fil-A\",\"offsetgroup\":\"Chick-Fil-A\",\"orientation\":\"v\",\"showlegend\":true,\"textposition\":\"auto\",\"x\":[\"Alabama\",\"Arkansas\",\"Colorado\",\"Delaware\",\"Florida\",\"Georgia\",\"Idaho\",\"Kentucky\",\"Louisiana\",\"Maryland\",\"Mississippi\",\"Missouri\",\"New Mexico\",\"North Carolina\",\"Ohio\",\"Oklahoma\",\"Pennsylvania\",\"South Carolina\",\"Tennessee\",\"Texas\",\"Virginia\"],\"xaxis\":\"x\",\"y\":[2.6,3.3,3.3,4.4,2.7,2.8,2.6,3.7,3.6,3.9,3.6,2.5,4.5,3.4,3.9,3.0,4.3,3.2,3.3,4.0,2.7],\"yaxis\":\"y\",\"type\":\"bar\"},{\"alignmentgroup\":\"True\",\"hovertemplate\":\"mostPopular=Chick-Fil-A<br>Unemp_Year=2021<br>State=%{x}<br>Unemployment_rate=%{y}<extra></extra>\",\"legendgroup\":\"Chick-Fil-A\",\"marker\":{\"color\":\"#636efa\",\"pattern\":{\"shape\":\"\"}},\"name\":\"Chick-Fil-A\",\"offsetgroup\":\"Chick-Fil-A\",\"orientation\":\"v\",\"showlegend\":false,\"textposition\":\"auto\",\"x\":[\"Alabama\",\"Arkansas\",\"Colorado\",\"Delaware\",\"Florida\",\"Georgia\",\"Idaho\",\"Kentucky\",\"Louisiana\",\"Maryland\",\"Mississippi\",\"Missouri\",\"New Mexico\",\"North Carolina\",\"Ohio\",\"Oklahoma\",\"Pennsylvania\",\"South Carolina\",\"Tennessee\",\"Texas\",\"Virginia\"],\"xaxis\":\"x2\",\"y\":[3.4,4.0,5.6,5.5,4.5,3.9,3.6,4.8,5.5,6.1,5.6,4.3,7.0,4.9,5.1,3.9,6.4,4.0,4.2,5.6,3.8],\"yaxis\":\"y2\",\"type\":\"bar\"},{\"alignmentgroup\":\"True\",\"hovertemplate\":\"mostPopular=McDonald's<br>Unemp_Year=2022<br>State=%{x}<br>Unemployment_rate=%{y}<extra></extra>\",\"legendgroup\":\"McDonald's\",\"marker\":{\"color\":\"#EF553B\",\"pattern\":{\"shape\":\"\"}},\"name\":\"McDonald's\",\"offsetgroup\":\"McDonald's\",\"orientation\":\"v\",\"showlegend\":true,\"textposition\":\"auto\",\"x\":[\"Alaska\",\"Indiana\",\"Maine\",\"Massachusetts\",\"Michigan\",\"Nebraska\",\"New Hampshire\",\"North Dakota\",\"Rhode Island\",\"South Dakota\",\"West Virginia\",\"Wisconsin\"],\"xaxis\":\"x\",\"y\":[4.5,2.6,2.8,3.5,4.2,2.0,2.0,2.3,2.7,2.3,3.7,3.0],\"yaxis\":\"y\",\"type\":\"bar\"},{\"alignmentgroup\":\"True\",\"hovertemplate\":\"mostPopular=McDonald's<br>Unemp_Year=2021<br>State=%{x}<br>Unemployment_rate=%{y}<extra></extra>\",\"legendgroup\":\"McDonald's\",\"marker\":{\"color\":\"#EF553B\",\"pattern\":{\"shape\":\"\"}},\"name\":\"McDonald's\",\"offsetgroup\":\"McDonald's\",\"orientation\":\"v\",\"showlegend\":false,\"textposition\":\"auto\",\"x\":[\"Alaska\",\"Indiana\",\"Maine\",\"Massachusetts\",\"Michigan\",\"Nebraska\",\"New Hampshire\",\"North Dakota\",\"Rhode Island\",\"South Dakota\",\"West Virginia\",\"Wisconsin\"],\"xaxis\":\"x2\",\"y\":[6.5,3.7,4.9,5.7,6.2,2.5,3.5,3.4,6.0,3.2,5.1,3.8],\"yaxis\":\"y2\",\"type\":\"bar\"},{\"alignmentgroup\":\"True\",\"hovertemplate\":\"mostPopular=In-N-Out<br>Unemp_Year=2022<br>State=%{x}<br>Unemployment_rate=%{y}<extra></extra>\",\"legendgroup\":\"In-N-Out\",\"marker\":{\"color\":\"#00cc96\",\"pattern\":{\"shape\":\"\"}},\"name\":\"In-N-Out\",\"offsetgroup\":\"In-N-Out\",\"orientation\":\"v\",\"showlegend\":true,\"textposition\":\"auto\",\"x\":[\"Arizona\",\"California\",\"Nevada\",\"Utah\"],\"xaxis\":\"x\",\"y\":[3.3,3.9,4.4,2.0],\"yaxis\":\"y\",\"type\":\"bar\"},{\"alignmentgroup\":\"True\",\"hovertemplate\":\"mostPopular=In-N-Out<br>Unemp_Year=2021<br>State=%{x}<br>Unemployment_rate=%{y}<extra></extra>\",\"legendgroup\":\"In-N-Out\",\"marker\":{\"color\":\"#00cc96\",\"pattern\":{\"shape\":\"\"}},\"name\":\"In-N-Out\",\"offsetgroup\":\"In-N-Out\",\"orientation\":\"v\",\"showlegend\":false,\"textposition\":\"auto\",\"x\":[\"Arizona\",\"California\",\"Nevada\",\"Utah\"],\"xaxis\":\"x2\",\"y\":[4.9,7.4,6.6,2.7],\"yaxis\":\"y2\",\"type\":\"bar\"},{\"alignmentgroup\":\"True\",\"hovertemplate\":\"mostPopular=Panda Express<br>Unemp_Year=2022<br>State=%{x}<br>Unemployment_rate=%{y}<extra></extra>\",\"legendgroup\":\"Panda Express\",\"marker\":{\"color\":\"#ab63fa\",\"pattern\":{\"shape\":\"\"}},\"name\":\"Panda Express\",\"offsetgroup\":\"Panda Express\",\"orientation\":\"v\",\"showlegend\":true,\"textposition\":\"auto\",\"x\":[\"Connecticut\",\"Hawaii\",\"Minnesota\",\"New Jersey\",\"Oregon\"],\"xaxis\":\"x\",\"y\":[3.7,4.1,1.8,3.7,3.5],\"yaxis\":\"y\",\"type\":\"bar\"},{\"alignmentgroup\":\"True\",\"hovertemplate\":\"mostPopular=Panda Express<br>Unemp_Year=2021<br>State=%{x}<br>Unemployment_rate=%{y}<extra></extra>\",\"legendgroup\":\"Panda Express\",\"marker\":{\"color\":\"#ab63fa\",\"pattern\":{\"shape\":\"\"}},\"name\":\"Panda Express\",\"offsetgroup\":\"Panda Express\",\"orientation\":\"v\",\"showlegend\":false,\"textposition\":\"auto\",\"x\":[\"Connecticut\",\"Hawaii\",\"Minnesota\",\"New Jersey\",\"Oregon\"],\"xaxis\":\"x2\",\"y\":[6.3,5.5,3.3,6.6,5.1],\"yaxis\":\"y2\",\"type\":\"bar\"},{\"alignmentgroup\":\"True\",\"hovertemplate\":\"mostPopular=White Castle<br>Unemp_Year=2022<br>State=%{x}<br>Unemployment_rate=%{y}<extra></extra>\",\"legendgroup\":\"White Castle\",\"marker\":{\"color\":\"#FFA15A\",\"pattern\":{\"shape\":\"\"}},\"name\":\"White Castle\",\"offsetgroup\":\"White Castle\",\"orientation\":\"v\",\"showlegend\":true,\"textposition\":\"auto\",\"x\":[\"Illinois\"],\"xaxis\":\"x\",\"y\":[4.4],\"yaxis\":\"y\",\"type\":\"bar\"},{\"alignmentgroup\":\"True\",\"hovertemplate\":\"mostPopular=White Castle<br>Unemp_Year=2021<br>State=%{x}<br>Unemployment_rate=%{y}<extra></extra>\",\"legendgroup\":\"White Castle\",\"marker\":{\"color\":\"#FFA15A\",\"pattern\":{\"shape\":\"\"}},\"name\":\"White Castle\",\"offsetgroup\":\"White Castle\",\"orientation\":\"v\",\"showlegend\":false,\"textposition\":\"auto\",\"x\":[\"Illinois\"],\"xaxis\":\"x2\",\"y\":[6.2],\"yaxis\":\"y2\",\"type\":\"bar\"},{\"alignmentgroup\":\"True\",\"hovertemplate\":\"mostPopular=Wendy's<br>Unemp_Year=2022<br>State=%{x}<br>Unemployment_rate=%{y}<extra></extra>\",\"legendgroup\":\"Wendy's\",\"marker\":{\"color\":\"#19d3f3\",\"pattern\":{\"shape\":\"\"}},\"name\":\"Wendy's\",\"offsetgroup\":\"Wendy's\",\"orientation\":\"v\",\"showlegend\":true,\"textposition\":\"auto\",\"x\":[\"Iowa\"],\"xaxis\":\"x\",\"y\":[2.5],\"yaxis\":\"y\",\"type\":\"bar\"},{\"alignmentgroup\":\"True\",\"hovertemplate\":\"mostPopular=Wendy's<br>Unemp_Year=2021<br>State=%{x}<br>Unemployment_rate=%{y}<extra></extra>\",\"legendgroup\":\"Wendy's\",\"marker\":{\"color\":\"#19d3f3\",\"pattern\":{\"shape\":\"\"}},\"name\":\"Wendy's\",\"offsetgroup\":\"Wendy's\",\"orientation\":\"v\",\"showlegend\":false,\"textposition\":\"auto\",\"x\":[\"Iowa\"],\"xaxis\":\"x2\",\"y\":[4.4],\"yaxis\":\"y2\",\"type\":\"bar\"},{\"alignmentgroup\":\"True\",\"hovertemplate\":\"mostPopular=Jack In the Box<br>Unemp_Year=2022<br>State=%{x}<br>Unemployment_rate=%{y}<extra></extra>\",\"legendgroup\":\"Jack In the Box\",\"marker\":{\"color\":\"#FF6692\",\"pattern\":{\"shape\":\"\"}},\"name\":\"Jack In the Box\",\"offsetgroup\":\"Jack In the Box\",\"orientation\":\"v\",\"showlegend\":true,\"textposition\":\"auto\",\"x\":[\"Kansas\"],\"xaxis\":\"x\",\"y\":[2.4],\"yaxis\":\"y\",\"type\":\"bar\"},{\"alignmentgroup\":\"True\",\"hovertemplate\":\"mostPopular=Jack In the Box<br>Unemp_Year=2021<br>State=%{x}<br>Unemployment_rate=%{y}<extra></extra>\",\"legendgroup\":\"Jack In the Box\",\"marker\":{\"color\":\"#FF6692\",\"pattern\":{\"shape\":\"\"}},\"name\":\"Jack In the Box\",\"offsetgroup\":\"Jack In the Box\",\"orientation\":\"v\",\"showlegend\":false,\"textposition\":\"auto\",\"x\":[\"Kansas\"],\"xaxis\":\"x2\",\"y\":[3.4],\"yaxis\":\"y2\",\"type\":\"bar\"},{\"alignmentgroup\":\"True\",\"hovertemplate\":\"mostPopular=Sonic<br>Unemp_Year=2022<br>State=%{x}<br>Unemployment_rate=%{y}<extra></extra>\",\"legendgroup\":\"Sonic\",\"marker\":{\"color\":\"#B6E880\",\"pattern\":{\"shape\":\"\"}},\"name\":\"Sonic\",\"offsetgroup\":\"Sonic\",\"orientation\":\"v\",\"showlegend\":true,\"textposition\":\"auto\",\"x\":[\"Montana\"],\"xaxis\":\"x\",\"y\":[2.7],\"yaxis\":\"y\",\"type\":\"bar\"},{\"alignmentgroup\":\"True\",\"hovertemplate\":\"mostPopular=Sonic<br>Unemp_Year=2021<br>State=%{x}<br>Unemployment_rate=%{y}<extra></extra>\",\"legendgroup\":\"Sonic\",\"marker\":{\"color\":\"#B6E880\",\"pattern\":{\"shape\":\"\"}},\"name\":\"Sonic\",\"offsetgroup\":\"Sonic\",\"orientation\":\"v\",\"showlegend\":false,\"textposition\":\"auto\",\"x\":[\"Montana\"],\"xaxis\":\"x2\",\"y\":[3.5],\"yaxis\":\"y2\",\"type\":\"bar\"},{\"alignmentgroup\":\"True\",\"hovertemplate\":\"mostPopular=Church's<br>Unemp_Year=2022<br>State=%{x}<br>Unemployment_rate=%{y}<extra></extra>\",\"legendgroup\":\"Church's\",\"marker\":{\"color\":\"#FF97FF\",\"pattern\":{\"shape\":\"\"}},\"name\":\"Church's\",\"offsetgroup\":\"Church's\",\"orientation\":\"v\",\"showlegend\":true,\"textposition\":\"auto\",\"x\":[\"New York\"],\"xaxis\":\"x\",\"y\":[4.4],\"yaxis\":\"y\",\"type\":\"bar\"},{\"alignmentgroup\":\"True\",\"hovertemplate\":\"mostPopular=Church's<br>Unemp_Year=2021<br>State=%{x}<br>Unemployment_rate=%{y}<extra></extra>\",\"legendgroup\":\"Church's\",\"marker\":{\"color\":\"#FF97FF\",\"pattern\":{\"shape\":\"\"}},\"name\":\"Church's\",\"offsetgroup\":\"Church's\",\"orientation\":\"v\",\"showlegend\":false,\"textposition\":\"auto\",\"x\":[\"New York\"],\"xaxis\":\"x2\",\"y\":[6.9],\"yaxis\":\"y2\",\"type\":\"bar\"},{\"alignmentgroup\":\"True\",\"hovertemplate\":\"mostPopular=Taco Bell<br>Unemp_Year=2022<br>State=%{x}<br>Unemployment_rate=%{y}<extra></extra>\",\"legendgroup\":\"Taco Bell\",\"marker\":{\"color\":\"#FECB52\",\"pattern\":{\"shape\":\"\"}},\"name\":\"Taco Bell\",\"offsetgroup\":\"Taco Bell\",\"orientation\":\"v\",\"showlegend\":true,\"textposition\":\"auto\",\"x\":[\"Vermont\"],\"xaxis\":\"x\",\"y\":[2.1],\"yaxis\":\"y\",\"type\":\"bar\"},{\"alignmentgroup\":\"True\",\"hovertemplate\":\"mostPopular=Taco Bell<br>Unemp_Year=2021<br>State=%{x}<br>Unemployment_rate=%{y}<extra></extra>\",\"legendgroup\":\"Taco Bell\",\"marker\":{\"color\":\"#FECB52\",\"pattern\":{\"shape\":\"\"}},\"name\":\"Taco Bell\",\"offsetgroup\":\"Taco Bell\",\"orientation\":\"v\",\"showlegend\":false,\"textposition\":\"auto\",\"x\":[\"Vermont\"],\"xaxis\":\"x2\",\"y\":[3.3],\"yaxis\":\"y2\",\"type\":\"bar\"},{\"alignmentgroup\":\"True\",\"hovertemplate\":\"mostPopular=Charley's<br>Unemp_Year=2022<br>State=%{x}<br>Unemployment_rate=%{y}<extra></extra>\",\"legendgroup\":\"Charley's\",\"marker\":{\"color\":\"#636efa\",\"pattern\":{\"shape\":\"\"}},\"name\":\"Charley's\",\"offsetgroup\":\"Charley's\",\"orientation\":\"v\",\"showlegend\":true,\"textposition\":\"auto\",\"x\":[\"Washington\"],\"xaxis\":\"x\",\"y\":[3.7],\"yaxis\":\"y\",\"type\":\"bar\"},{\"alignmentgroup\":\"True\",\"hovertemplate\":\"mostPopular=Charley's<br>Unemp_Year=2021<br>State=%{x}<br>Unemployment_rate=%{y}<extra></extra>\",\"legendgroup\":\"Charley's\",\"marker\":{\"color\":\"#636efa\",\"pattern\":{\"shape\":\"\"}},\"name\":\"Charley's\",\"offsetgroup\":\"Charley's\",\"orientation\":\"v\",\"showlegend\":false,\"textposition\":\"auto\",\"x\":[\"Washington\"],\"xaxis\":\"x2\",\"y\":[5.2],\"yaxis\":\"y2\",\"type\":\"bar\"},{\"alignmentgroup\":\"True\",\"hovertemplate\":\"mostPopular=Carl's Jr<br>Unemp_Year=2022<br>State=%{x}<br>Unemployment_rate=%{y}<extra></extra>\",\"legendgroup\":\"Carl's Jr\",\"marker\":{\"color\":\"#EF553B\",\"pattern\":{\"shape\":\"\"}},\"name\":\"Carl's Jr\",\"offsetgroup\":\"Carl's Jr\",\"orientation\":\"v\",\"showlegend\":true,\"textposition\":\"auto\",\"x\":[\"Wyoming\"],\"xaxis\":\"x\",\"y\":[3.0],\"yaxis\":\"y\",\"type\":\"bar\"},{\"alignmentgroup\":\"True\",\"hovertemplate\":\"mostPopular=Carl's Jr<br>Unemp_Year=2021<br>State=%{x}<br>Unemployment_rate=%{y}<extra></extra>\",\"legendgroup\":\"Carl's Jr\",\"marker\":{\"color\":\"#EF553B\",\"pattern\":{\"shape\":\"\"}},\"name\":\"Carl's Jr\",\"offsetgroup\":\"Carl's Jr\",\"orientation\":\"v\",\"showlegend\":false,\"textposition\":\"auto\",\"x\":[\"Wyoming\"],\"xaxis\":\"x2\",\"y\":[4.5],\"yaxis\":\"y2\",\"type\":\"bar\"}],                        {\"template\":{\"data\":{\"bar\":[{\"error_x\":{\"color\":\"#2a3f5f\"},\"error_y\":{\"color\":\"#2a3f5f\"},\"marker\":{\"line\":{\"color\":\"#E5ECF6\",\"width\":0.5},\"pattern\":{\"fillmode\":\"overlay\",\"size\":10,\"solidity\":0.2}},\"type\":\"bar\"}],\"barpolar\":[{\"marker\":{\"line\":{\"color\":\"#E5ECF6\",\"width\":0.5},\"pattern\":{\"fillmode\":\"overlay\",\"size\":10,\"solidity\":0.2}},\"type\":\"barpolar\"}],\"carpet\":[{\"aaxis\":{\"endlinecolor\":\"#2a3f5f\",\"gridcolor\":\"white\",\"linecolor\":\"white\",\"minorgridcolor\":\"white\",\"startlinecolor\":\"#2a3f5f\"},\"baxis\":{\"endlinecolor\":\"#2a3f5f\",\"gridcolor\":\"white\",\"linecolor\":\"white\",\"minorgridcolor\":\"white\",\"startlinecolor\":\"#2a3f5f\"},\"type\":\"carpet\"}],\"choropleth\":[{\"colorbar\":{\"outlinewidth\":0,\"ticks\":\"\"},\"type\":\"choropleth\"}],\"contour\":[{\"colorbar\":{\"outlinewidth\":0,\"ticks\":\"\"},\"colorscale\":[[0.0,\"#0d0887\"],[0.1111111111111111,\"#46039f\"],[0.2222222222222222,\"#7201a8\"],[0.3333333333333333,\"#9c179e\"],[0.4444444444444444,\"#bd3786\"],[0.5555555555555556,\"#d8576b\"],[0.6666666666666666,\"#ed7953\"],[0.7777777777777778,\"#fb9f3a\"],[0.8888888888888888,\"#fdca26\"],[1.0,\"#f0f921\"]],\"type\":\"contour\"}],\"contourcarpet\":[{\"colorbar\":{\"outlinewidth\":0,\"ticks\":\"\"},\"type\":\"contourcarpet\"}],\"heatmap\":[{\"colorbar\":{\"outlinewidth\":0,\"ticks\":\"\"},\"colorscale\":[[0.0,\"#0d0887\"],[0.1111111111111111,\"#46039f\"],[0.2222222222222222,\"#7201a8\"],[0.3333333333333333,\"#9c179e\"],[0.4444444444444444,\"#bd3786\"],[0.5555555555555556,\"#d8576b\"],[0.6666666666666666,\"#ed7953\"],[0.7777777777777778,\"#fb9f3a\"],[0.8888888888888888,\"#fdca26\"],[1.0,\"#f0f921\"]],\"type\":\"heatmap\"}],\"heatmapgl\":[{\"colorbar\":{\"outlinewidth\":0,\"ticks\":\"\"},\"colorscale\":[[0.0,\"#0d0887\"],[0.1111111111111111,\"#46039f\"],[0.2222222222222222,\"#7201a8\"],[0.3333333333333333,\"#9c179e\"],[0.4444444444444444,\"#bd3786\"],[0.5555555555555556,\"#d8576b\"],[0.6666666666666666,\"#ed7953\"],[0.7777777777777778,\"#fb9f3a\"],[0.8888888888888888,\"#fdca26\"],[1.0,\"#f0f921\"]],\"type\":\"heatmapgl\"}],\"histogram\":[{\"marker\":{\"pattern\":{\"fillmode\":\"overlay\",\"size\":10,\"solidity\":0.2}},\"type\":\"histogram\"}],\"histogram2d\":[{\"colorbar\":{\"outlinewidth\":0,\"ticks\":\"\"},\"colorscale\":[[0.0,\"#0d0887\"],[0.1111111111111111,\"#46039f\"],[0.2222222222222222,\"#7201a8\"],[0.3333333333333333,\"#9c179e\"],[0.4444444444444444,\"#bd3786\"],[0.5555555555555556,\"#d8576b\"],[0.6666666666666666,\"#ed7953\"],[0.7777777777777778,\"#fb9f3a\"],[0.8888888888888888,\"#fdca26\"],[1.0,\"#f0f921\"]],\"type\":\"histogram2d\"}],\"histogram2dcontour\":[{\"colorbar\":{\"outlinewidth\":0,\"ticks\":\"\"},\"colorscale\":[[0.0,\"#0d0887\"],[0.1111111111111111,\"#46039f\"],[0.2222222222222222,\"#7201a8\"],[0.3333333333333333,\"#9c179e\"],[0.4444444444444444,\"#bd3786\"],[0.5555555555555556,\"#d8576b\"],[0.6666666666666666,\"#ed7953\"],[0.7777777777777778,\"#fb9f3a\"],[0.8888888888888888,\"#fdca26\"],[1.0,\"#f0f921\"]],\"type\":\"histogram2dcontour\"}],\"mesh3d\":[{\"colorbar\":{\"outlinewidth\":0,\"ticks\":\"\"},\"type\":\"mesh3d\"}],\"parcoords\":[{\"line\":{\"colorbar\":{\"outlinewidth\":0,\"ticks\":\"\"}},\"type\":\"parcoords\"}],\"pie\":[{\"automargin\":true,\"type\":\"pie\"}],\"scatter\":[{\"marker\":{\"colorbar\":{\"outlinewidth\":0,\"ticks\":\"\"}},\"type\":\"scatter\"}],\"scatter3d\":[{\"line\":{\"colorbar\":{\"outlinewidth\":0,\"ticks\":\"\"}},\"marker\":{\"colorbar\":{\"outlinewidth\":0,\"ticks\":\"\"}},\"type\":\"scatter3d\"}],\"scattercarpet\":[{\"marker\":{\"colorbar\":{\"outlinewidth\":0,\"ticks\":\"\"}},\"type\":\"scattercarpet\"}],\"scattergeo\":[{\"marker\":{\"colorbar\":{\"outlinewidth\":0,\"ticks\":\"\"}},\"type\":\"scattergeo\"}],\"scattergl\":[{\"marker\":{\"colorbar\":{\"outlinewidth\":0,\"ticks\":\"\"}},\"type\":\"scattergl\"}],\"scattermapbox\":[{\"marker\":{\"colorbar\":{\"outlinewidth\":0,\"ticks\":\"\"}},\"type\":\"scattermapbox\"}],\"scatterpolar\":[{\"marker\":{\"colorbar\":{\"outlinewidth\":0,\"ticks\":\"\"}},\"type\":\"scatterpolar\"}],\"scatterpolargl\":[{\"marker\":{\"colorbar\":{\"outlinewidth\":0,\"ticks\":\"\"}},\"type\":\"scatterpolargl\"}],\"scatterternary\":[{\"marker\":{\"colorbar\":{\"outlinewidth\":0,\"ticks\":\"\"}},\"type\":\"scatterternary\"}],\"surface\":[{\"colorbar\":{\"outlinewidth\":0,\"ticks\":\"\"},\"colorscale\":[[0.0,\"#0d0887\"],[0.1111111111111111,\"#46039f\"],[0.2222222222222222,\"#7201a8\"],[0.3333333333333333,\"#9c179e\"],[0.4444444444444444,\"#bd3786\"],[0.5555555555555556,\"#d8576b\"],[0.6666666666666666,\"#ed7953\"],[0.7777777777777778,\"#fb9f3a\"],[0.8888888888888888,\"#fdca26\"],[1.0,\"#f0f921\"]],\"type\":\"surface\"}],\"table\":[{\"cells\":{\"fill\":{\"color\":\"#EBF0F8\"},\"line\":{\"color\":\"white\"}},\"header\":{\"fill\":{\"color\":\"#C8D4E3\"},\"line\":{\"color\":\"white\"}},\"type\":\"table\"}]},\"layout\":{\"annotationdefaults\":{\"arrowcolor\":\"#2a3f5f\",\"arrowhead\":0,\"arrowwidth\":1},\"autotypenumbers\":\"strict\",\"coloraxis\":{\"colorbar\":{\"outlinewidth\":0,\"ticks\":\"\"}},\"colorscale\":{\"diverging\":[[0,\"#8e0152\"],[0.1,\"#c51b7d\"],[0.2,\"#de77ae\"],[0.3,\"#f1b6da\"],[0.4,\"#fde0ef\"],[0.5,\"#f7f7f7\"],[0.6,\"#e6f5d0\"],[0.7,\"#b8e186\"],[0.8,\"#7fbc41\"],[0.9,\"#4d9221\"],[1,\"#276419\"]],\"sequential\":[[0.0,\"#0d0887\"],[0.1111111111111111,\"#46039f\"],[0.2222222222222222,\"#7201a8\"],[0.3333333333333333,\"#9c179e\"],[0.4444444444444444,\"#bd3786\"],[0.5555555555555556,\"#d8576b\"],[0.6666666666666666,\"#ed7953\"],[0.7777777777777778,\"#fb9f3a\"],[0.8888888888888888,\"#fdca26\"],[1.0,\"#f0f921\"]],\"sequentialminus\":[[0.0,\"#0d0887\"],[0.1111111111111111,\"#46039f\"],[0.2222222222222222,\"#7201a8\"],[0.3333333333333333,\"#9c179e\"],[0.4444444444444444,\"#bd3786\"],[0.5555555555555556,\"#d8576b\"],[0.6666666666666666,\"#ed7953\"],[0.7777777777777778,\"#fb9f3a\"],[0.8888888888888888,\"#fdca26\"],[1.0,\"#f0f921\"]]},\"colorway\":[\"#636efa\",\"#EF553B\",\"#00cc96\",\"#ab63fa\",\"#FFA15A\",\"#19d3f3\",\"#FF6692\",\"#B6E880\",\"#FF97FF\",\"#FECB52\"],\"font\":{\"color\":\"#2a3f5f\"},\"geo\":{\"bgcolor\":\"white\",\"lakecolor\":\"white\",\"landcolor\":\"#E5ECF6\",\"showlakes\":true,\"showland\":true,\"subunitcolor\":\"white\"},\"hoverlabel\":{\"align\":\"left\"},\"hovermode\":\"closest\",\"mapbox\":{\"style\":\"light\"},\"paper_bgcolor\":\"white\",\"plot_bgcolor\":\"#E5ECF6\",\"polar\":{\"angularaxis\":{\"gridcolor\":\"white\",\"linecolor\":\"white\",\"ticks\":\"\"},\"bgcolor\":\"#E5ECF6\",\"radialaxis\":{\"gridcolor\":\"white\",\"linecolor\":\"white\",\"ticks\":\"\"}},\"scene\":{\"xaxis\":{\"backgroundcolor\":\"#E5ECF6\",\"gridcolor\":\"white\",\"gridwidth\":2,\"linecolor\":\"white\",\"showbackground\":true,\"ticks\":\"\",\"zerolinecolor\":\"white\"},\"yaxis\":{\"backgroundcolor\":\"#E5ECF6\",\"gridcolor\":\"white\",\"gridwidth\":2,\"linecolor\":\"white\",\"showbackground\":true,\"ticks\":\"\",\"zerolinecolor\":\"white\"},\"zaxis\":{\"backgroundcolor\":\"#E5ECF6\",\"gridcolor\":\"white\",\"gridwidth\":2,\"linecolor\":\"white\",\"showbackground\":true,\"ticks\":\"\",\"zerolinecolor\":\"white\"}},\"shapedefaults\":{\"line\":{\"color\":\"#2a3f5f\"}},\"ternary\":{\"aaxis\":{\"gridcolor\":\"white\",\"linecolor\":\"white\",\"ticks\":\"\"},\"baxis\":{\"gridcolor\":\"white\",\"linecolor\":\"white\",\"ticks\":\"\"},\"bgcolor\":\"#E5ECF6\",\"caxis\":{\"gridcolor\":\"white\",\"linecolor\":\"white\",\"ticks\":\"\"}},\"title\":{\"x\":0.05},\"xaxis\":{\"automargin\":true,\"gridcolor\":\"white\",\"linecolor\":\"white\",\"ticks\":\"\",\"title\":{\"standoff\":15},\"zerolinecolor\":\"white\",\"zerolinewidth\":2},\"yaxis\":{\"automargin\":true,\"gridcolor\":\"white\",\"linecolor\":\"white\",\"ticks\":\"\",\"title\":{\"standoff\":15},\"zerolinecolor\":\"white\",\"zerolinewidth\":2}}},\"xaxis\":{\"anchor\":\"y\",\"domain\":[0.0,0.49],\"title\":{\"text\":\"State\"}},\"yaxis\":{\"anchor\":\"x\",\"domain\":[0.0,1.0],\"title\":{\"text\":\"Unemployment Rate\"}},\"xaxis2\":{\"anchor\":\"y2\",\"domain\":[0.51,1.0],\"matches\":\"x\",\"title\":{\"text\":\"State\"}},\"yaxis2\":{\"anchor\":\"x2\",\"domain\":[0.0,1.0],\"matches\":\"y\",\"showticklabels\":false,\"title\":{\"text\":\"Unemployment Rate\"}},\"annotations\":[{\"font\":{},\"showarrow\":false,\"text\":\"Unemp_Year=2022\",\"x\":0.245,\"xanchor\":\"center\",\"xref\":\"paper\",\"y\":1.0,\"yanchor\":\"bottom\",\"yref\":\"paper\"},{\"font\":{},\"showarrow\":false,\"text\":\"Unemp_Year=2021\",\"x\":0.755,\"xanchor\":\"center\",\"xref\":\"paper\",\"y\":1.0,\"yanchor\":\"bottom\",\"yref\":\"paper\"}],\"legend\":{\"title\":{\"text\":\"mostPopular\"},\"tracegroupgap\":0},\"margin\":{\"t\":60},\"barmode\":\"relative\"},                        {\"responsive\": true}                    ).then(function(){\n",
              "                            \n",
              "var gd = document.getElementById('165fa787-2989-4fe4-90f4-52d744c5ce02');\n",
              "var x = new MutationObserver(function (mutations, observer) {{\n",
              "        var display = window.getComputedStyle(gd).display;\n",
              "        if (!display || display === 'none') {{\n",
              "            console.log([gd, 'removed!']);\n",
              "            Plotly.purge(gd);\n",
              "            observer.disconnect();\n",
              "        }}\n",
              "}});\n",
              "\n",
              "// Listen for the removal of the full notebook cells\n",
              "var notebookContainer = gd.closest('#notebook-container');\n",
              "if (notebookContainer) {{\n",
              "    x.observe(notebookContainer, {childList: true});\n",
              "}}\n",
              "\n",
              "// Listen for the clearing of the current output cell\n",
              "var outputEl = gd.closest('.output');\n",
              "if (outputEl) {{\n",
              "    x.observe(outputEl, {childList: true});\n",
              "}}\n",
              "\n",
              "                        })                };                            </script>        </div>\n",
              "</body>\n",
              "</html>"
            ]
          },
          "metadata": {}
        }
      ]
    },
    {
      "cell_type": "markdown",
      "source": [
        "# Side by side comparative boxplots that show the distribution of unemployment rate across each favorite fastfood restaurant for two different years (2021 and 2022)\n",
        "Here, in an effort to support our barplots in how unemployment rate correlates with fast food restaurant choice, we call the state_comp_boxplots2 function. What this does is combine necessary subsets of data from our state_unemp table with the state_fast_food table. Then, side by side comparative boxplots are created to determine how unemployment rate differs across different favorite fast food restaurants in our data.\n",
        "\n",
        "Based on the boxplots below, there doesn't appear to be much of a relationship between unemployment rate and fast food restaurant choice. There seems to be similar levels of unemployment for states that have Chick-Fil-A as their favorite restaurant, states that have McDonald's as their favorite fastfood restaurant, etc."
      ],
      "metadata": {
        "id": "JxJlhqtiiiTx"
      }
    },
    {
      "cell_type": "code",
      "source": [
        "db='US_State_Food.db'\n",
        "cols1='State,mostPopular'\n",
        "cols2='State,Unemp_Year,Unemployment_rate'\n",
        "table1='state_fast_food'\n",
        "table2='state_unemp'\n",
        "cat_var='mostPopular'\n",
        "num_var='Unemployment_rate'\n",
        "state_comp_boxplots2(db,table1,table2,cols1,cols2,cat_var,num_var,'Most Popular Fast Food Restaurant','Unemployment Rate')"
      ],
      "metadata": {
        "colab": {
          "base_uri": "https://localhost:8080/",
          "height": 542
        },
        "id": "HmtBDQX9ipy6",
        "outputId": "68730652-51ae-43e0-d346-4597a32d1a56"
      },
      "execution_count": null,
      "outputs": [
        {
          "output_type": "display_data",
          "data": {
            "text/html": [
              "<html>\n",
              "<head><meta charset=\"utf-8\" /></head>\n",
              "<body>\n",
              "    <div>            <script src=\"https://cdnjs.cloudflare.com/ajax/libs/mathjax/2.7.5/MathJax.js?config=TeX-AMS-MML_SVG\"></script><script type=\"text/javascript\">if (window.MathJax) {MathJax.Hub.Config({SVG: {font: \"STIX-Web\"}});}</script>                <script type=\"text/javascript\">window.PlotlyConfig = {MathJaxConfig: 'local'};</script>\n",
              "        <script src=\"https://cdn.plot.ly/plotly-2.8.3.min.js\"></script>                <div id=\"a851dbd3-d89b-49aa-a3bc-7d25803c9958\" class=\"plotly-graph-div\" style=\"height:525px; width:100%;\"></div>            <script type=\"text/javascript\">                                    window.PLOTLYENV=window.PLOTLYENV || {};                                    if (document.getElementById(\"a851dbd3-d89b-49aa-a3bc-7d25803c9958\")) {                    Plotly.newPlot(                        \"a851dbd3-d89b-49aa-a3bc-7d25803c9958\",                        [{\"alignmentgroup\":\"True\",\"customdata\":[[\"Alabama\"],[\"Alaska\"],[\"Arizona\"],[\"Arkansas\"],[\"California\"],[\"Colorado\"],[\"Connecticut\"],[\"Delaware\"],[\"Florida\"],[\"Georgia\"],[\"Hawaii\"],[\"Idaho\"],[\"Illinois\"],[\"Indiana\"],[\"Iowa\"],[\"Kansas\"],[\"Kentucky\"],[\"Louisiana\"],[\"Maine\"],[\"Maryland\"],[\"Massachusetts\"],[\"Michigan\"],[\"Minnesota\"],[\"Mississippi\"],[\"Missouri\"],[\"Montana\"],[\"Nebraska\"],[\"Nevada\"],[\"New Hampshire\"],[\"New Jersey\"],[\"New Mexico\"],[\"New York\"],[\"North Carolina\"],[\"North Dakota\"],[\"Ohio\"],[\"Oklahoma\"],[\"Oregon\"],[\"Pennsylvania\"],[\"Rhode Island\"],[\"South Carolina\"],[\"South Dakota\"],[\"Tennessee\"],[\"Texas\"],[\"Utah\"],[\"Vermont\"],[\"Virginia\"],[\"Washington\"],[\"West Virginia\"],[\"Wisconsin\"],[\"Wyoming\"]],\"hovertemplate\":\"Unemp_Year=2022<br>mostPopular=%{x}<br>Unemployment_rate=%{y}<br>State=%{customdata[0]}<extra></extra>\",\"legendgroup\":\"2022\",\"marker\":{\"color\":\"#636efa\"},\"name\":\"2022\",\"notched\":false,\"offsetgroup\":\"2022\",\"orientation\":\"v\",\"showlegend\":true,\"x\":[\"Chick-Fil-A\",\"McDonald's\",\"In-N-Out\",\"Chick-Fil-A\",\"In-N-Out\",\"Chick-Fil-A\",\"Panda Express\",\"Chick-Fil-A\",\"Chick-Fil-A\",\"Chick-Fil-A\",\"Panda Express\",\"Chick-Fil-A\",\"White Castle\",\"McDonald's\",\"Wendy's\",\"Jack In the Box\",\"Chick-Fil-A\",\"Chick-Fil-A\",\"McDonald's\",\"Chick-Fil-A\",\"McDonald's\",\"McDonald's\",\"Panda Express\",\"Chick-Fil-A\",\"Chick-Fil-A\",\"Sonic\",\"McDonald's\",\"In-N-Out\",\"McDonald's\",\"Panda Express\",\"Chick-Fil-A\",\"Church's\",\"Chick-Fil-A\",\"McDonald's\",\"Chick-Fil-A\",\"Chick-Fil-A\",\"Panda Express\",\"Chick-Fil-A\",\"McDonald's\",\"Chick-Fil-A\",\"McDonald's\",\"Chick-Fil-A\",\"Chick-Fil-A\",\"In-N-Out\",\"Taco Bell\",\"Chick-Fil-A\",\"Charley's\",\"McDonald's\",\"McDonald's\",\"Carl's Jr\"],\"x0\":\" \",\"xaxis\":\"x\",\"y\":[2.6,4.5,3.3,3.3,3.9,3.3,3.7,4.4,2.7,2.8,4.1,2.6,4.4,2.6,2.5,2.4,3.7,3.6,2.8,3.9,3.5,4.2,1.8,3.6,2.5,2.7,2.0,4.4,2.0,3.7,4.5,4.4,3.4,2.3,3.9,3.0,3.5,4.3,2.7,3.2,2.3,3.3,4.0,2.0,2.1,2.7,3.7,3.7,3.0,3.0],\"y0\":\" \",\"yaxis\":\"y\",\"type\":\"box\"},{\"alignmentgroup\":\"True\",\"customdata\":[[\"Alabama\"],[\"Alaska\"],[\"Arizona\"],[\"Arkansas\"],[\"California\"],[\"Colorado\"],[\"Connecticut\"],[\"Delaware\"],[\"Florida\"],[\"Georgia\"],[\"Hawaii\"],[\"Idaho\"],[\"Illinois\"],[\"Indiana\"],[\"Iowa\"],[\"Kansas\"],[\"Kentucky\"],[\"Louisiana\"],[\"Maine\"],[\"Maryland\"],[\"Massachusetts\"],[\"Michigan\"],[\"Minnesota\"],[\"Mississippi\"],[\"Missouri\"],[\"Montana\"],[\"Nebraska\"],[\"Nevada\"],[\"New Hampshire\"],[\"New Jersey\"],[\"New Mexico\"],[\"New York\"],[\"North Carolina\"],[\"North Dakota\"],[\"Ohio\"],[\"Oklahoma\"],[\"Oregon\"],[\"Pennsylvania\"],[\"Rhode Island\"],[\"South Carolina\"],[\"South Dakota\"],[\"Tennessee\"],[\"Texas\"],[\"Utah\"],[\"Vermont\"],[\"Virginia\"],[\"Washington\"],[\"West Virginia\"],[\"Wisconsin\"],[\"Wyoming\"]],\"hovertemplate\":\"Unemp_Year=2021<br>mostPopular=%{x}<br>Unemployment_rate=%{y}<br>State=%{customdata[0]}<extra></extra>\",\"legendgroup\":\"2021\",\"marker\":{\"color\":\"#EF553B\"},\"name\":\"2021\",\"notched\":false,\"offsetgroup\":\"2021\",\"orientation\":\"v\",\"showlegend\":true,\"x\":[\"Chick-Fil-A\",\"McDonald's\",\"In-N-Out\",\"Chick-Fil-A\",\"In-N-Out\",\"Chick-Fil-A\",\"Panda Express\",\"Chick-Fil-A\",\"Chick-Fil-A\",\"Chick-Fil-A\",\"Panda Express\",\"Chick-Fil-A\",\"White Castle\",\"McDonald's\",\"Wendy's\",\"Jack In the Box\",\"Chick-Fil-A\",\"Chick-Fil-A\",\"McDonald's\",\"Chick-Fil-A\",\"McDonald's\",\"McDonald's\",\"Panda Express\",\"Chick-Fil-A\",\"Chick-Fil-A\",\"Sonic\",\"McDonald's\",\"In-N-Out\",\"McDonald's\",\"Panda Express\",\"Chick-Fil-A\",\"Church's\",\"Chick-Fil-A\",\"McDonald's\",\"Chick-Fil-A\",\"Chick-Fil-A\",\"Panda Express\",\"Chick-Fil-A\",\"McDonald's\",\"Chick-Fil-A\",\"McDonald's\",\"Chick-Fil-A\",\"Chick-Fil-A\",\"In-N-Out\",\"Taco Bell\",\"Chick-Fil-A\",\"Charley's\",\"McDonald's\",\"McDonald's\",\"Carl's Jr\"],\"x0\":\" \",\"xaxis\":\"x\",\"y\":[3.4,6.5,4.9,4.0,7.4,5.6,6.3,5.5,4.5,3.9,5.5,3.6,6.2,3.7,4.4,3.4,4.8,5.5,4.9,6.1,5.7,6.2,3.3,5.6,4.3,3.5,2.5,6.6,3.5,6.6,7.0,6.9,4.9,3.4,5.1,3.9,5.1,6.4,6.0,4.0,3.2,4.2,5.6,2.7,3.3,3.8,5.2,5.1,3.8,4.5],\"y0\":\" \",\"yaxis\":\"y\",\"type\":\"box\"}],                        {\"template\":{\"data\":{\"bar\":[{\"error_x\":{\"color\":\"#2a3f5f\"},\"error_y\":{\"color\":\"#2a3f5f\"},\"marker\":{\"line\":{\"color\":\"#E5ECF6\",\"width\":0.5},\"pattern\":{\"fillmode\":\"overlay\",\"size\":10,\"solidity\":0.2}},\"type\":\"bar\"}],\"barpolar\":[{\"marker\":{\"line\":{\"color\":\"#E5ECF6\",\"width\":0.5},\"pattern\":{\"fillmode\":\"overlay\",\"size\":10,\"solidity\":0.2}},\"type\":\"barpolar\"}],\"carpet\":[{\"aaxis\":{\"endlinecolor\":\"#2a3f5f\",\"gridcolor\":\"white\",\"linecolor\":\"white\",\"minorgridcolor\":\"white\",\"startlinecolor\":\"#2a3f5f\"},\"baxis\":{\"endlinecolor\":\"#2a3f5f\",\"gridcolor\":\"white\",\"linecolor\":\"white\",\"minorgridcolor\":\"white\",\"startlinecolor\":\"#2a3f5f\"},\"type\":\"carpet\"}],\"choropleth\":[{\"colorbar\":{\"outlinewidth\":0,\"ticks\":\"\"},\"type\":\"choropleth\"}],\"contour\":[{\"colorbar\":{\"outlinewidth\":0,\"ticks\":\"\"},\"colorscale\":[[0.0,\"#0d0887\"],[0.1111111111111111,\"#46039f\"],[0.2222222222222222,\"#7201a8\"],[0.3333333333333333,\"#9c179e\"],[0.4444444444444444,\"#bd3786\"],[0.5555555555555556,\"#d8576b\"],[0.6666666666666666,\"#ed7953\"],[0.7777777777777778,\"#fb9f3a\"],[0.8888888888888888,\"#fdca26\"],[1.0,\"#f0f921\"]],\"type\":\"contour\"}],\"contourcarpet\":[{\"colorbar\":{\"outlinewidth\":0,\"ticks\":\"\"},\"type\":\"contourcarpet\"}],\"heatmap\":[{\"colorbar\":{\"outlinewidth\":0,\"ticks\":\"\"},\"colorscale\":[[0.0,\"#0d0887\"],[0.1111111111111111,\"#46039f\"],[0.2222222222222222,\"#7201a8\"],[0.3333333333333333,\"#9c179e\"],[0.4444444444444444,\"#bd3786\"],[0.5555555555555556,\"#d8576b\"],[0.6666666666666666,\"#ed7953\"],[0.7777777777777778,\"#fb9f3a\"],[0.8888888888888888,\"#fdca26\"],[1.0,\"#f0f921\"]],\"type\":\"heatmap\"}],\"heatmapgl\":[{\"colorbar\":{\"outlinewidth\":0,\"ticks\":\"\"},\"colorscale\":[[0.0,\"#0d0887\"],[0.1111111111111111,\"#46039f\"],[0.2222222222222222,\"#7201a8\"],[0.3333333333333333,\"#9c179e\"],[0.4444444444444444,\"#bd3786\"],[0.5555555555555556,\"#d8576b\"],[0.6666666666666666,\"#ed7953\"],[0.7777777777777778,\"#fb9f3a\"],[0.8888888888888888,\"#fdca26\"],[1.0,\"#f0f921\"]],\"type\":\"heatmapgl\"}],\"histogram\":[{\"marker\":{\"pattern\":{\"fillmode\":\"overlay\",\"size\":10,\"solidity\":0.2}},\"type\":\"histogram\"}],\"histogram2d\":[{\"colorbar\":{\"outlinewidth\":0,\"ticks\":\"\"},\"colorscale\":[[0.0,\"#0d0887\"],[0.1111111111111111,\"#46039f\"],[0.2222222222222222,\"#7201a8\"],[0.3333333333333333,\"#9c179e\"],[0.4444444444444444,\"#bd3786\"],[0.5555555555555556,\"#d8576b\"],[0.6666666666666666,\"#ed7953\"],[0.7777777777777778,\"#fb9f3a\"],[0.8888888888888888,\"#fdca26\"],[1.0,\"#f0f921\"]],\"type\":\"histogram2d\"}],\"histogram2dcontour\":[{\"colorbar\":{\"outlinewidth\":0,\"ticks\":\"\"},\"colorscale\":[[0.0,\"#0d0887\"],[0.1111111111111111,\"#46039f\"],[0.2222222222222222,\"#7201a8\"],[0.3333333333333333,\"#9c179e\"],[0.4444444444444444,\"#bd3786\"],[0.5555555555555556,\"#d8576b\"],[0.6666666666666666,\"#ed7953\"],[0.7777777777777778,\"#fb9f3a\"],[0.8888888888888888,\"#fdca26\"],[1.0,\"#f0f921\"]],\"type\":\"histogram2dcontour\"}],\"mesh3d\":[{\"colorbar\":{\"outlinewidth\":0,\"ticks\":\"\"},\"type\":\"mesh3d\"}],\"parcoords\":[{\"line\":{\"colorbar\":{\"outlinewidth\":0,\"ticks\":\"\"}},\"type\":\"parcoords\"}],\"pie\":[{\"automargin\":true,\"type\":\"pie\"}],\"scatter\":[{\"marker\":{\"colorbar\":{\"outlinewidth\":0,\"ticks\":\"\"}},\"type\":\"scatter\"}],\"scatter3d\":[{\"line\":{\"colorbar\":{\"outlinewidth\":0,\"ticks\":\"\"}},\"marker\":{\"colorbar\":{\"outlinewidth\":0,\"ticks\":\"\"}},\"type\":\"scatter3d\"}],\"scattercarpet\":[{\"marker\":{\"colorbar\":{\"outlinewidth\":0,\"ticks\":\"\"}},\"type\":\"scattercarpet\"}],\"scattergeo\":[{\"marker\":{\"colorbar\":{\"outlinewidth\":0,\"ticks\":\"\"}},\"type\":\"scattergeo\"}],\"scattergl\":[{\"marker\":{\"colorbar\":{\"outlinewidth\":0,\"ticks\":\"\"}},\"type\":\"scattergl\"}],\"scattermapbox\":[{\"marker\":{\"colorbar\":{\"outlinewidth\":0,\"ticks\":\"\"}},\"type\":\"scattermapbox\"}],\"scatterpolar\":[{\"marker\":{\"colorbar\":{\"outlinewidth\":0,\"ticks\":\"\"}},\"type\":\"scatterpolar\"}],\"scatterpolargl\":[{\"marker\":{\"colorbar\":{\"outlinewidth\":0,\"ticks\":\"\"}},\"type\":\"scatterpolargl\"}],\"scatterternary\":[{\"marker\":{\"colorbar\":{\"outlinewidth\":0,\"ticks\":\"\"}},\"type\":\"scatterternary\"}],\"surface\":[{\"colorbar\":{\"outlinewidth\":0,\"ticks\":\"\"},\"colorscale\":[[0.0,\"#0d0887\"],[0.1111111111111111,\"#46039f\"],[0.2222222222222222,\"#7201a8\"],[0.3333333333333333,\"#9c179e\"],[0.4444444444444444,\"#bd3786\"],[0.5555555555555556,\"#d8576b\"],[0.6666666666666666,\"#ed7953\"],[0.7777777777777778,\"#fb9f3a\"],[0.8888888888888888,\"#fdca26\"],[1.0,\"#f0f921\"]],\"type\":\"surface\"}],\"table\":[{\"cells\":{\"fill\":{\"color\":\"#EBF0F8\"},\"line\":{\"color\":\"white\"}},\"header\":{\"fill\":{\"color\":\"#C8D4E3\"},\"line\":{\"color\":\"white\"}},\"type\":\"table\"}]},\"layout\":{\"annotationdefaults\":{\"arrowcolor\":\"#2a3f5f\",\"arrowhead\":0,\"arrowwidth\":1},\"autotypenumbers\":\"strict\",\"coloraxis\":{\"colorbar\":{\"outlinewidth\":0,\"ticks\":\"\"}},\"colorscale\":{\"diverging\":[[0,\"#8e0152\"],[0.1,\"#c51b7d\"],[0.2,\"#de77ae\"],[0.3,\"#f1b6da\"],[0.4,\"#fde0ef\"],[0.5,\"#f7f7f7\"],[0.6,\"#e6f5d0\"],[0.7,\"#b8e186\"],[0.8,\"#7fbc41\"],[0.9,\"#4d9221\"],[1,\"#276419\"]],\"sequential\":[[0.0,\"#0d0887\"],[0.1111111111111111,\"#46039f\"],[0.2222222222222222,\"#7201a8\"],[0.3333333333333333,\"#9c179e\"],[0.4444444444444444,\"#bd3786\"],[0.5555555555555556,\"#d8576b\"],[0.6666666666666666,\"#ed7953\"],[0.7777777777777778,\"#fb9f3a\"],[0.8888888888888888,\"#fdca26\"],[1.0,\"#f0f921\"]],\"sequentialminus\":[[0.0,\"#0d0887\"],[0.1111111111111111,\"#46039f\"],[0.2222222222222222,\"#7201a8\"],[0.3333333333333333,\"#9c179e\"],[0.4444444444444444,\"#bd3786\"],[0.5555555555555556,\"#d8576b\"],[0.6666666666666666,\"#ed7953\"],[0.7777777777777778,\"#fb9f3a\"],[0.8888888888888888,\"#fdca26\"],[1.0,\"#f0f921\"]]},\"colorway\":[\"#636efa\",\"#EF553B\",\"#00cc96\",\"#ab63fa\",\"#FFA15A\",\"#19d3f3\",\"#FF6692\",\"#B6E880\",\"#FF97FF\",\"#FECB52\"],\"font\":{\"color\":\"#2a3f5f\"},\"geo\":{\"bgcolor\":\"white\",\"lakecolor\":\"white\",\"landcolor\":\"#E5ECF6\",\"showlakes\":true,\"showland\":true,\"subunitcolor\":\"white\"},\"hoverlabel\":{\"align\":\"left\"},\"hovermode\":\"closest\",\"mapbox\":{\"style\":\"light\"},\"paper_bgcolor\":\"white\",\"plot_bgcolor\":\"#E5ECF6\",\"polar\":{\"angularaxis\":{\"gridcolor\":\"white\",\"linecolor\":\"white\",\"ticks\":\"\"},\"bgcolor\":\"#E5ECF6\",\"radialaxis\":{\"gridcolor\":\"white\",\"linecolor\":\"white\",\"ticks\":\"\"}},\"scene\":{\"xaxis\":{\"backgroundcolor\":\"#E5ECF6\",\"gridcolor\":\"white\",\"gridwidth\":2,\"linecolor\":\"white\",\"showbackground\":true,\"ticks\":\"\",\"zerolinecolor\":\"white\"},\"yaxis\":{\"backgroundcolor\":\"#E5ECF6\",\"gridcolor\":\"white\",\"gridwidth\":2,\"linecolor\":\"white\",\"showbackground\":true,\"ticks\":\"\",\"zerolinecolor\":\"white\"},\"zaxis\":{\"backgroundcolor\":\"#E5ECF6\",\"gridcolor\":\"white\",\"gridwidth\":2,\"linecolor\":\"white\",\"showbackground\":true,\"ticks\":\"\",\"zerolinecolor\":\"white\"}},\"shapedefaults\":{\"line\":{\"color\":\"#2a3f5f\"}},\"ternary\":{\"aaxis\":{\"gridcolor\":\"white\",\"linecolor\":\"white\",\"ticks\":\"\"},\"baxis\":{\"gridcolor\":\"white\",\"linecolor\":\"white\",\"ticks\":\"\"},\"bgcolor\":\"#E5ECF6\",\"caxis\":{\"gridcolor\":\"white\",\"linecolor\":\"white\",\"ticks\":\"\"}},\"title\":{\"x\":0.05},\"xaxis\":{\"automargin\":true,\"gridcolor\":\"white\",\"linecolor\":\"white\",\"ticks\":\"\",\"title\":{\"standoff\":15},\"zerolinecolor\":\"white\",\"zerolinewidth\":2},\"yaxis\":{\"automargin\":true,\"gridcolor\":\"white\",\"linecolor\":\"white\",\"ticks\":\"\",\"title\":{\"standoff\":15},\"zerolinecolor\":\"white\",\"zerolinewidth\":2}}},\"xaxis\":{\"anchor\":\"y\",\"domain\":[0.0,1.0],\"title\":{\"text\":\"Most Popular Fast Food Restaurant\"}},\"yaxis\":{\"anchor\":\"x\",\"domain\":[0.0,1.0],\"title\":{\"text\":\"Unemployment Rate\"}},\"legend\":{\"title\":{\"text\":\"Unemp_Year\"},\"tracegroupgap\":0},\"margin\":{\"t\":60},\"boxmode\":\"group\"},                        {\"responsive\": true}                    ).then(function(){\n",
              "                            \n",
              "var gd = document.getElementById('a851dbd3-d89b-49aa-a3bc-7d25803c9958');\n",
              "var x = new MutationObserver(function (mutations, observer) {{\n",
              "        var display = window.getComputedStyle(gd).display;\n",
              "        if (!display || display === 'none') {{\n",
              "            console.log([gd, 'removed!']);\n",
              "            Plotly.purge(gd);\n",
              "            observer.disconnect();\n",
              "        }}\n",
              "}});\n",
              "\n",
              "// Listen for the removal of the full notebook cells\n",
              "var notebookContainer = gd.closest('#notebook-container');\n",
              "if (notebookContainer) {{\n",
              "    x.observe(notebookContainer, {childList: true});\n",
              "}}\n",
              "\n",
              "// Listen for the clearing of the current output cell\n",
              "var outputEl = gd.closest('.output');\n",
              "if (outputEl) {{\n",
              "    x.observe(outputEl, {childList: true});\n",
              "}}\n",
              "\n",
              "                        })                };                            </script>        </div>\n",
              "</body>\n",
              "</html>"
            ]
          },
          "metadata": {}
        }
      ]
    },
    {
      "cell_type": "markdown",
      "source": [
        "# Stacked bar plots that show the number of certain fast food restaurants per 100,000 people for each state and favorite fast food restaurant"
      ],
      "metadata": {
        "id": "XYjuX_Zri2EN"
      }
    },
    {
      "cell_type": "markdown",
      "source": [
        "This visual shows what kinds of resturants are in all of the states per 100,000 people based on favorite fast food resturant. We created these stacked barplots divided out based on favorite fast food restaurant by calling our needed data from the state_numfastfood table and the state_fast_food table in the facet_state_stackedbarplots function. There doesn't seem to be much of a correlation between the number of a given fast food restaurant per 100,000 people in each state and fast food restaurant choice. However, it does seem like there were more McDonalds per 100,000 people for states in our data that had In N Out as their favorite fast food restuarant and more Dunkin Donuts per 100,000 people for states that had McDonalds as their favorite fast food restaurant."
      ],
      "metadata": {
        "id": "Zl5n_yBTj_jV"
      }
    },
    {
      "cell_type": "code",
      "source": [
        "db='US_State_Food.db'\n",
        "table1='state_numfastfood'\n",
        "table2='state_fast_food'\n",
        "cols1='State,Fast_Food_Resturant,Number_Per_100_People'\n",
        "cols2='State,mostPopular'\n",
        "cat_var='State'\n",
        "num_var='Number_Per_100_People'\n",
        "color_var='Fast_Food_Resturant'\n",
        "column='Fast_Food_Resturant'\n",
        "facet_var='mostPopular'\n",
        "facet_state_stackedbarplots(db,table1,table2,cols1,cols2,cat_var,num_var,facet_var,color_var)"
      ],
      "metadata": {
        "id": "THZDWgCri8aq",
        "colab": {
          "base_uri": "https://localhost:8080/",
          "height": 542
        },
        "outputId": "c3e9215b-698b-4e0e-a4ac-12d601354cd3"
      },
      "execution_count": null,
      "outputs": [
        {
          "output_type": "display_data",
          "data": {
            "text/html": [
              "<html>\n",
              "<head><meta charset=\"utf-8\" /></head>\n",
              "<body>\n",
              "    <div>            <script src=\"https://cdnjs.cloudflare.com/ajax/libs/mathjax/2.7.5/MathJax.js?config=TeX-AMS-MML_SVG\"></script><script type=\"text/javascript\">if (window.MathJax) {MathJax.Hub.Config({SVG: {font: \"STIX-Web\"}});}</script>                <script type=\"text/javascript\">window.PlotlyConfig = {MathJaxConfig: 'local'};</script>\n",
              "        <script src=\"https://cdn.plot.ly/plotly-2.8.3.min.js\"></script>                <div id=\"038733b6-6ea8-4053-b397-31fe665c095c\" class=\"plotly-graph-div\" style=\"height:525px; width:100%;\"></div>            <script type=\"text/javascript\">                                    window.PLOTLYENV=window.PLOTLYENV || {};                                    if (document.getElementById(\"038733b6-6ea8-4053-b397-31fe665c095c\")) {                    Plotly.newPlot(                        \"038733b6-6ea8-4053-b397-31fe665c095c\",                        [{\"alignmentgroup\":\"True\",\"hovertemplate\":\"Fast_Food_Resturant=Subway<br>mostPopular=Chick-Fil-A<br>State=%{x}<br>Number_Per_100_People=%{y}<extra></extra>\",\"legendgroup\":\"Subway\",\"marker\":{\"color\":\"#636efa\",\"pattern\":{\"shape\":\"\"}},\"name\":\"Subway\",\"offsetgroup\":\"Subway\",\"orientation\":\"v\",\"showlegend\":true,\"textposition\":\"auto\",\"x\":[\"Alabama\",\"Arkansas\",\"Colorado\",\"Delaware\",\"Florida\",\"Georgia\",\"Idaho\",\"Kentucky\",\"Louisiana\",\"Maryland\",\"Mississippi\",\"Missouri\",\"New Mexico\",\"North Carolina\",\"Ohio\",\"Oklahoma\",\"Pennsylvania\",\"South Carolina\",\"Tennessee\",\"Texas\",\"Virginia\"],\"xaxis\":\"x9\",\"y\":[8.2,8.4,6.7,2.5,6.0,7.1,6.9,8.5,9.3,6.8,9.6,8.0,7.8,7.2,8.9,8.8,5.6,7.1,8.4,6.8,7.3],\"yaxis\":\"y9\",\"type\":\"bar\"},{\"alignmentgroup\":\"True\",\"hovertemplate\":\"Fast_Food_Resturant=Subway<br>mostPopular=McDonald's<br>State=%{x}<br>Number_Per_100_People=%{y}<extra></extra>\",\"legendgroup\":\"Subway\",\"marker\":{\"color\":\"#636efa\",\"pattern\":{\"shape\":\"\"}},\"name\":\"Subway\",\"offsetgroup\":\"Subway\",\"orientation\":\"v\",\"showlegend\":false,\"textposition\":\"auto\",\"x\":[\"Alaska\",\"Indiana\",\"Maine\",\"Massachusetts\",\"Michigan\",\"Nebraska\",\"New Hampshire\",\"North Dakota\",\"Rhode Island\",\"South Dakota\",\"West Virginia\",\"Wisconsin\"],\"xaxis\":\"x10\",\"y\":[7.2,8.9,8.2,4.7,8.0,9.6,6.3,8.7,5.9,10.1,9.7,9.1],\"yaxis\":\"y10\",\"type\":\"bar\"},{\"alignmentgroup\":\"True\",\"hovertemplate\":\"Fast_Food_Resturant=Subway<br>mostPopular=In-N-Out<br>State=%{x}<br>Number_Per_100_People=%{y}<extra></extra>\",\"legendgroup\":\"Subway\",\"marker\":{\"color\":\"#636efa\",\"pattern\":{\"shape\":\"\"}},\"name\":\"Subway\",\"offsetgroup\":\"Subway\",\"orientation\":\"v\",\"showlegend\":false,\"textposition\":\"auto\",\"x\":[\"Arizona\",\"California\",\"Nevada\",\"Utah\"],\"xaxis\":\"x11\",\"y\":[5.6,5.7,6.1,6.1],\"yaxis\":\"y11\",\"type\":\"bar\"},{\"alignmentgroup\":\"True\",\"hovertemplate\":\"Fast_Food_Resturant=Subway<br>mostPopular=Panda Express<br>State=%{x}<br>Number_Per_100_People=%{y}<extra></extra>\",\"legendgroup\":\"Subway\",\"marker\":{\"color\":\"#636efa\",\"pattern\":{\"shape\":\"\"}},\"name\":\"Subway\",\"offsetgroup\":\"Subway\",\"orientation\":\"v\",\"showlegend\":false,\"textposition\":\"auto\",\"x\":[\"Connecticut\",\"Hawaii\",\"Minnesota\",\"New Jersey\",\"Oregon\"],\"xaxis\":\"x12\",\"y\":[8.1,7.0,7.4,2.2,6.4],\"yaxis\":\"y12\",\"type\":\"bar\"},{\"alignmentgroup\":\"True\",\"hovertemplate\":\"Fast_Food_Resturant=Subway<br>mostPopular=White Castle<br>State=%{x}<br>Number_Per_100_People=%{y}<extra></extra>\",\"legendgroup\":\"Subway\",\"marker\":{\"color\":\"#636efa\",\"pattern\":{\"shape\":\"\"}},\"name\":\"Subway\",\"offsetgroup\":\"Subway\",\"orientation\":\"v\",\"showlegend\":false,\"textposition\":\"auto\",\"x\":[\"Illinois\"],\"xaxis\":\"x5\",\"y\":[7.8],\"yaxis\":\"y5\",\"type\":\"bar\"},{\"alignmentgroup\":\"True\",\"hovertemplate\":\"Fast_Food_Resturant=Subway<br>mostPopular=Wendy's<br>State=%{x}<br>Number_Per_100_People=%{y}<extra></extra>\",\"legendgroup\":\"Subway\",\"marker\":{\"color\":\"#636efa\",\"pattern\":{\"shape\":\"\"}},\"name\":\"Subway\",\"offsetgroup\":\"Subway\",\"orientation\":\"v\",\"showlegend\":false,\"textposition\":\"auto\",\"x\":[\"Iowa\"],\"xaxis\":\"x6\",\"y\":[8.9],\"yaxis\":\"y6\",\"type\":\"bar\"},{\"alignmentgroup\":\"True\",\"hovertemplate\":\"Fast_Food_Resturant=Subway<br>mostPopular=Jack In the Box<br>State=%{x}<br>Number_Per_100_People=%{y}<extra></extra>\",\"legendgroup\":\"Subway\",\"marker\":{\"color\":\"#636efa\",\"pattern\":{\"shape\":\"\"}},\"name\":\"Subway\",\"offsetgroup\":\"Subway\",\"orientation\":\"v\",\"showlegend\":false,\"textposition\":\"auto\",\"x\":[\"Kansas\"],\"xaxis\":\"x7\",\"y\":[8.0],\"yaxis\":\"y7\",\"type\":\"bar\"},{\"alignmentgroup\":\"True\",\"hovertemplate\":\"Fast_Food_Resturant=Subway<br>mostPopular=Sonic<br>State=%{x}<br>Number_Per_100_People=%{y}<extra></extra>\",\"legendgroup\":\"Subway\",\"marker\":{\"color\":\"#636efa\",\"pattern\":{\"shape\":\"\"}},\"name\":\"Subway\",\"offsetgroup\":\"Subway\",\"orientation\":\"v\",\"showlegend\":false,\"textposition\":\"auto\",\"x\":[\"Montana\"],\"xaxis\":\"x8\",\"y\":[7.0],\"yaxis\":\"y8\",\"type\":\"bar\"},{\"alignmentgroup\":\"True\",\"hovertemplate\":\"Fast_Food_Resturant=Subway<br>mostPopular=Church's<br>State=%{x}<br>Number_Per_100_People=%{y}<extra></extra>\",\"legendgroup\":\"Subway\",\"marker\":{\"color\":\"#636efa\",\"pattern\":{\"shape\":\"\"}},\"name\":\"Subway\",\"offsetgroup\":\"Subway\",\"orientation\":\"v\",\"showlegend\":false,\"textposition\":\"auto\",\"x\":[\"New York\"],\"xaxis\":\"x\",\"y\":[4.5],\"yaxis\":\"y\",\"type\":\"bar\"},{\"alignmentgroup\":\"True\",\"hovertemplate\":\"Fast_Food_Resturant=Subway<br>mostPopular=Taco Bell<br>State=%{x}<br>Number_Per_100_People=%{y}<extra></extra>\",\"legendgroup\":\"Subway\",\"marker\":{\"color\":\"#636efa\",\"pattern\":{\"shape\":\"\"}},\"name\":\"Subway\",\"offsetgroup\":\"Subway\",\"orientation\":\"v\",\"showlegend\":false,\"textposition\":\"auto\",\"x\":[\"Vermont\"],\"xaxis\":\"x2\",\"y\":[7.2],\"yaxis\":\"y2\",\"type\":\"bar\"},{\"alignmentgroup\":\"True\",\"hovertemplate\":\"Fast_Food_Resturant=Subway<br>mostPopular=Charley's<br>State=%{x}<br>Number_Per_100_People=%{y}<extra></extra>\",\"legendgroup\":\"Subway\",\"marker\":{\"color\":\"#636efa\",\"pattern\":{\"shape\":\"\"}},\"name\":\"Subway\",\"offsetgroup\":\"Subway\",\"orientation\":\"v\",\"showlegend\":false,\"textposition\":\"auto\",\"x\":[\"Washington\"],\"xaxis\":\"x3\",\"y\":[6.8],\"yaxis\":\"y3\",\"type\":\"bar\"},{\"alignmentgroup\":\"True\",\"hovertemplate\":\"Fast_Food_Resturant=Subway<br>mostPopular=Carl's Jr<br>State=%{x}<br>Number_Per_100_People=%{y}<extra></extra>\",\"legendgroup\":\"Subway\",\"marker\":{\"color\":\"#636efa\",\"pattern\":{\"shape\":\"\"}},\"name\":\"Subway\",\"offsetgroup\":\"Subway\",\"orientation\":\"v\",\"showlegend\":false,\"textposition\":\"auto\",\"x\":[\"Wyoming\"],\"xaxis\":\"x4\",\"y\":[10.0],\"yaxis\":\"y4\",\"type\":\"bar\"},{\"alignmentgroup\":\"True\",\"hovertemplate\":\"Fast_Food_Resturant=Starbucks<br>mostPopular=Chick-Fil-A<br>State=%{x}<br>Number_Per_100_People=%{y}<extra></extra>\",\"legendgroup\":\"Starbucks\",\"marker\":{\"color\":\"#EF553B\",\"pattern\":{\"shape\":\"\"}},\"name\":\"Starbucks\",\"offsetgroup\":\"Starbucks\",\"orientation\":\"v\",\"showlegend\":true,\"textposition\":\"auto\",\"x\":[\"Alabama\",\"Arkansas\",\"Colorado\",\"Delaware\",\"Florida\",\"Georgia\",\"Idaho\",\"Kentucky\",\"Louisiana\",\"Maryland\",\"Mississippi\",\"Missouri\",\"New Mexico\",\"North Carolina\",\"Ohio\",\"Oklahoma\",\"Pennsylvania\",\"South Carolina\",\"Tennessee\",\"Texas\",\"Virginia\"],\"xaxis\":\"x9\",\"y\":[1.8,2.0,8.8,3.6,3.6,3.6,4.3,3.0,2.2,4.6,1.2,3.3,4.5,3.9,3.8,2.1,3.1,3.8,3.4,4.1,5.2],\"yaxis\":\"y9\",\"type\":\"bar\"},{\"alignmentgroup\":\"True\",\"hovertemplate\":\"Fast_Food_Resturant=Starbucks<br>mostPopular=McDonald's<br>State=%{x}<br>Number_Per_100_People=%{y}<extra></extra>\",\"legendgroup\":\"Starbucks\",\"marker\":{\"color\":\"#EF553B\",\"pattern\":{\"shape\":\"\"}},\"name\":\"Starbucks\",\"offsetgroup\":\"Starbucks\",\"orientation\":\"v\",\"showlegend\":false,\"textposition\":\"auto\",\"x\":[\"Alaska\",\"Indiana\",\"Maine\",\"Massachusetts\",\"Michigan\",\"Nebraska\",\"New Hampshire\",\"North Dakota\",\"Rhode Island\",\"South Dakota\",\"West Virginia\",\"Wisconsin\"],\"xaxis\":\"x10\",\"y\":[6.6,3.9,2.3,3.9,3.0,3.6,2.4,2.5,2.4,3.3,2.2,3.0],\"yaxis\":\"y10\",\"type\":\"bar\"},{\"alignmentgroup\":\"True\",\"hovertemplate\":\"Fast_Food_Resturant=Starbucks<br>mostPopular=In-N-Out<br>State=%{x}<br>Number_Per_100_People=%{y}<extra></extra>\",\"legendgroup\":\"Starbucks\",\"marker\":{\"color\":\"#EF553B\",\"pattern\":{\"shape\":\"\"}},\"name\":\"Starbucks\",\"offsetgroup\":\"Starbucks\",\"orientation\":\"v\",\"showlegend\":false,\"textposition\":\"auto\",\"x\":[\"Arizona\",\"California\",\"Nevada\",\"Utah\"],\"xaxis\":\"x11\",\"y\":[7.3,7.4,8.2,3.7],\"yaxis\":\"y11\",\"type\":\"bar\"},{\"alignmentgroup\":\"True\",\"hovertemplate\":\"Fast_Food_Resturant=Starbucks<br>mostPopular=Panda Express<br>State=%{x}<br>Number_Per_100_People=%{y}<extra></extra>\",\"legendgroup\":\"Starbucks\",\"marker\":{\"color\":\"#EF553B\",\"pattern\":{\"shape\":\"\"}},\"name\":\"Starbucks\",\"offsetgroup\":\"Starbucks\",\"orientation\":\"v\",\"showlegend\":false,\"textposition\":\"auto\",\"x\":[\"Connecticut\",\"Hawaii\",\"Minnesota\",\"New Jersey\",\"Oregon\"],\"xaxis\":\"x12\",\"y\":[3.4,6.4,3.8,3.3,8.2],\"yaxis\":\"y12\",\"type\":\"bar\"},{\"alignmentgroup\":\"True\",\"hovertemplate\":\"Fast_Food_Resturant=Starbucks<br>mostPopular=White Castle<br>State=%{x}<br>Number_Per_100_People=%{y}<extra></extra>\",\"legendgroup\":\"Starbucks\",\"marker\":{\"color\":\"#EF553B\",\"pattern\":{\"shape\":\"\"}},\"name\":\"Starbucks\",\"offsetgroup\":\"Starbucks\",\"orientation\":\"v\",\"showlegend\":false,\"textposition\":\"auto\",\"x\":[\"Illinois\"],\"xaxis\":\"x5\",\"y\":[4.8],\"yaxis\":\"y5\",\"type\":\"bar\"},{\"alignmentgroup\":\"True\",\"hovertemplate\":\"Fast_Food_Resturant=Starbucks<br>mostPopular=Wendy's<br>State=%{x}<br>Number_Per_100_People=%{y}<extra></extra>\",\"legendgroup\":\"Starbucks\",\"marker\":{\"color\":\"#EF553B\",\"pattern\":{\"shape\":\"\"}},\"name\":\"Starbucks\",\"offsetgroup\":\"Starbucks\",\"orientation\":\"v\",\"showlegend\":false,\"textposition\":\"auto\",\"x\":[\"Iowa\"],\"xaxis\":\"x6\",\"y\":[3.7],\"yaxis\":\"y6\",\"type\":\"bar\"},{\"alignmentgroup\":\"True\",\"hovertemplate\":\"Fast_Food_Resturant=Starbucks<br>mostPopular=Jack In the Box<br>State=%{x}<br>Number_Per_100_People=%{y}<extra></extra>\",\"legendgroup\":\"Starbucks\",\"marker\":{\"color\":\"#EF553B\",\"pattern\":{\"shape\":\"\"}},\"name\":\"Starbucks\",\"offsetgroup\":\"Starbucks\",\"orientation\":\"v\",\"showlegend\":false,\"textposition\":\"auto\",\"x\":[\"Kansas\"],\"xaxis\":\"x7\",\"y\":[4.1],\"yaxis\":\"y7\",\"type\":\"bar\"},{\"alignmentgroup\":\"True\",\"hovertemplate\":\"Fast_Food_Resturant=Starbucks<br>mostPopular=Sonic<br>State=%{x}<br>Number_Per_100_People=%{y}<extra></extra>\",\"legendgroup\":\"Starbucks\",\"marker\":{\"color\":\"#EF553B\",\"pattern\":{\"shape\":\"\"}},\"name\":\"Starbucks\",\"offsetgroup\":\"Starbucks\",\"orientation\":\"v\",\"showlegend\":false,\"textposition\":\"auto\",\"x\":[\"Montana\"],\"xaxis\":\"x8\",\"y\":[3.8],\"yaxis\":\"y8\",\"type\":\"bar\"},{\"alignmentgroup\":\"True\",\"hovertemplate\":\"Fast_Food_Resturant=Starbucks<br>mostPopular=Church's<br>State=%{x}<br>Number_Per_100_People=%{y}<extra></extra>\",\"legendgroup\":\"Starbucks\",\"marker\":{\"color\":\"#EF553B\",\"pattern\":{\"shape\":\"\"}},\"name\":\"Starbucks\",\"offsetgroup\":\"Starbucks\",\"orientation\":\"v\",\"showlegend\":false,\"textposition\":\"auto\",\"x\":[\"New York\"],\"xaxis\":\"x\",\"y\":[3.3],\"yaxis\":\"y\",\"type\":\"bar\"},{\"alignmentgroup\":\"True\",\"hovertemplate\":\"Fast_Food_Resturant=Starbucks<br>mostPopular=Taco Bell<br>State=%{x}<br>Number_Per_100_People=%{y}<extra></extra>\",\"legendgroup\":\"Starbucks\",\"marker\":{\"color\":\"#EF553B\",\"pattern\":{\"shape\":\"\"}},\"name\":\"Starbucks\",\"offsetgroup\":\"Starbucks\",\"orientation\":\"v\",\"showlegend\":false,\"textposition\":\"auto\",\"x\":[\"Vermont\"],\"xaxis\":\"x2\",\"y\":[1.9],\"yaxis\":\"y2\",\"type\":\"bar\"},{\"alignmentgroup\":\"True\",\"hovertemplate\":\"Fast_Food_Resturant=Starbucks<br>mostPopular=Charley's<br>State=%{x}<br>Number_Per_100_People=%{y}<extra></extra>\",\"legendgroup\":\"Starbucks\",\"marker\":{\"color\":\"#EF553B\",\"pattern\":{\"shape\":\"\"}},\"name\":\"Starbucks\",\"offsetgroup\":\"Starbucks\",\"orientation\":\"v\",\"showlegend\":false,\"textposition\":\"auto\",\"x\":[\"Washington\"],\"xaxis\":\"x3\",\"y\":[9.7],\"yaxis\":\"y3\",\"type\":\"bar\"},{\"alignmentgroup\":\"True\",\"hovertemplate\":\"Fast_Food_Resturant=Starbucks<br>mostPopular=Carl's Jr<br>State=%{x}<br>Number_Per_100_People=%{y}<extra></extra>\",\"legendgroup\":\"Starbucks\",\"marker\":{\"color\":\"#EF553B\",\"pattern\":{\"shape\":\"\"}},\"name\":\"Starbucks\",\"offsetgroup\":\"Starbucks\",\"orientation\":\"v\",\"showlegend\":false,\"textposition\":\"auto\",\"x\":[\"Wyoming\"],\"xaxis\":\"x4\",\"y\":[4.3],\"yaxis\":\"y4\",\"type\":\"bar\"},{\"alignmentgroup\":\"True\",\"hovertemplate\":\"Fast_Food_Resturant=McDonalds<br>mostPopular=Chick-Fil-A<br>State=%{x}<br>Number_Per_100_People=%{y}<extra></extra>\",\"legendgroup\":\"McDonalds\",\"marker\":{\"color\":\"#00cc96\",\"pattern\":{\"shape\":\"\"}},\"name\":\"McDonalds\",\"offsetgroup\":\"McDonalds\",\"orientation\":\"v\",\"showlegend\":true,\"textposition\":\"auto\",\"x\":[\"Alabama\",\"Arkansas\",\"Colorado\",\"Delaware\",\"Florida\",\"Georgia\",\"Idaho\",\"Kentucky\",\"Louisiana\",\"Maryland\",\"Mississippi\",\"Missouri\",\"New Mexico\",\"North Carolina\",\"Ohio\",\"Oklahoma\",\"Pennsylvania\",\"South Carolina\",\"Tennessee\",\"Texas\",\"Virginia\"],\"xaxis\":\"x9\",\"y\":[5.0,5.7,3.6,3.7,4.2,4.2,3.5,5.6,5.1,4.7,4.7,5.1,5.1,4.6,5.2,5.2,3.8,4.4,4.8,4.1,4.7],\"yaxis\":\"y9\",\"type\":\"bar\"},{\"alignmentgroup\":\"True\",\"hovertemplate\":\"Fast_Food_Resturant=McDonalds<br>mostPopular=McDonald's<br>State=%{x}<br>Number_Per_100_People=%{y}<extra></extra>\",\"legendgroup\":\"McDonalds\",\"marker\":{\"color\":\"#00cc96\",\"pattern\":{\"shape\":\"\"}},\"name\":\"McDonalds\",\"offsetgroup\":\"McDonalds\",\"orientation\":\"v\",\"showlegend\":false,\"textposition\":\"auto\",\"x\":[\"Alaska\",\"Indiana\",\"Maine\",\"Massachusetts\",\"Michigan\",\"Nebraska\",\"New Hampshire\",\"North Dakota\",\"Rhode Island\",\"South Dakota\",\"West Virginia\",\"Wisconsin\"],\"xaxis\":\"x10\",\"y\":[4.2,5.2,4.6,3.4,5.4,4.0,4.0,3.1,2.9,3.4,5.8,5.1],\"yaxis\":\"y10\",\"type\":\"bar\"},{\"alignmentgroup\":\"True\",\"hovertemplate\":\"Fast_Food_Resturant=McDonalds<br>mostPopular=In-N-Out<br>State=%{x}<br>Number_Per_100_People=%{y}<extra></extra>\",\"legendgroup\":\"McDonalds\",\"marker\":{\"color\":\"#00cc96\",\"pattern\":{\"shape\":\"\"}},\"name\":\"McDonalds\",\"offsetgroup\":\"McDonalds\",\"orientation\":\"v\",\"showlegend\":false,\"textposition\":\"auto\",\"x\":[\"Arizona\",\"California\",\"Nevada\",\"Utah\"],\"xaxis\":\"x11\",\"y\":[3.9,3.2,4.6,3.5],\"yaxis\":\"y11\",\"type\":\"bar\"},{\"alignmentgroup\":\"True\",\"hovertemplate\":\"Fast_Food_Resturant=McDonalds<br>mostPopular=Panda Express<br>State=%{x}<br>Number_Per_100_People=%{y}<extra></extra>\",\"legendgroup\":\"McDonalds\",\"marker\":{\"color\":\"#00cc96\",\"pattern\":{\"shape\":\"\"}},\"name\":\"McDonalds\",\"offsetgroup\":\"McDonalds\",\"orientation\":\"v\",\"showlegend\":false,\"textposition\":\"auto\",\"x\":[\"Connecticut\",\"Hawaii\",\"Minnesota\",\"New Jersey\",\"Oregon\"],\"xaxis\":\"x12\",\"y\":[4.0,5.2,4.0,2.9,3.8],\"yaxis\":\"y12\",\"type\":\"bar\"},{\"alignmentgroup\":\"True\",\"hovertemplate\":\"Fast_Food_Resturant=McDonalds<br>mostPopular=White Castle<br>State=%{x}<br>Number_Per_100_People=%{y}<extra></extra>\",\"legendgroup\":\"McDonalds\",\"marker\":{\"color\":\"#00cc96\",\"pattern\":{\"shape\":\"\"}},\"name\":\"McDonalds\",\"offsetgroup\":\"McDonalds\",\"orientation\":\"v\",\"showlegend\":false,\"textposition\":\"auto\",\"x\":[\"Illinois\"],\"xaxis\":\"x5\",\"y\":[5.2],\"yaxis\":\"y5\",\"type\":\"bar\"},{\"alignmentgroup\":\"True\",\"hovertemplate\":\"Fast_Food_Resturant=McDonalds<br>mostPopular=Wendy's<br>State=%{x}<br>Number_Per_100_People=%{y}<extra></extra>\",\"legendgroup\":\"McDonalds\",\"marker\":{\"color\":\"#00cc96\",\"pattern\":{\"shape\":\"\"}},\"name\":\"McDonalds\",\"offsetgroup\":\"McDonalds\",\"orientation\":\"v\",\"showlegend\":false,\"textposition\":\"auto\",\"x\":[\"Iowa\"],\"xaxis\":\"x6\",\"y\":[4.6],\"yaxis\":\"y6\",\"type\":\"bar\"},{\"alignmentgroup\":\"True\",\"hovertemplate\":\"Fast_Food_Resturant=McDonalds<br>mostPopular=Jack In the Box<br>State=%{x}<br>Number_Per_100_People=%{y}<extra></extra>\",\"legendgroup\":\"McDonalds\",\"marker\":{\"color\":\"#00cc96\",\"pattern\":{\"shape\":\"\"}},\"name\":\"McDonalds\",\"offsetgroup\":\"McDonalds\",\"orientation\":\"v\",\"showlegend\":false,\"textposition\":\"auto\",\"x\":[\"Kansas\"],\"xaxis\":\"x7\",\"y\":[5.1],\"yaxis\":\"y7\",\"type\":\"bar\"},{\"alignmentgroup\":\"True\",\"hovertemplate\":\"Fast_Food_Resturant=McDonalds<br>mostPopular=Sonic<br>State=%{x}<br>Number_Per_100_People=%{y}<extra></extra>\",\"legendgroup\":\"McDonalds\",\"marker\":{\"color\":\"#00cc96\",\"pattern\":{\"shape\":\"\"}},\"name\":\"McDonalds\",\"offsetgroup\":\"McDonalds\",\"orientation\":\"v\",\"showlegend\":false,\"textposition\":\"auto\",\"x\":[\"Montana\"],\"xaxis\":\"x8\",\"y\":[4.5],\"yaxis\":\"y8\",\"type\":\"bar\"},{\"alignmentgroup\":\"True\",\"hovertemplate\":\"Fast_Food_Resturant=McDonalds<br>mostPopular=Church's<br>State=%{x}<br>Number_Per_100_People=%{y}<extra></extra>\",\"legendgroup\":\"McDonalds\",\"marker\":{\"color\":\"#00cc96\",\"pattern\":{\"shape\":\"\"}},\"name\":\"McDonalds\",\"offsetgroup\":\"McDonalds\",\"orientation\":\"v\",\"showlegend\":false,\"textposition\":\"auto\",\"x\":[\"New York\"],\"xaxis\":\"x\",\"y\":[3.1],\"yaxis\":\"y\",\"type\":\"bar\"},{\"alignmentgroup\":\"True\",\"hovertemplate\":\"Fast_Food_Resturant=McDonalds<br>mostPopular=Taco Bell<br>State=%{x}<br>Number_Per_100_People=%{y}<extra></extra>\",\"legendgroup\":\"McDonalds\",\"marker\":{\"color\":\"#00cc96\",\"pattern\":{\"shape\":\"\"}},\"name\":\"McDonalds\",\"offsetgroup\":\"McDonalds\",\"orientation\":\"v\",\"showlegend\":false,\"textposition\":\"auto\",\"x\":[\"Vermont\"],\"xaxis\":\"x2\",\"y\":[4.2],\"yaxis\":\"y2\",\"type\":\"bar\"},{\"alignmentgroup\":\"True\",\"hovertemplate\":\"Fast_Food_Resturant=McDonalds<br>mostPopular=Charley's<br>State=%{x}<br>Number_Per_100_People=%{y}<extra></extra>\",\"legendgroup\":\"McDonalds\",\"marker\":{\"color\":\"#00cc96\",\"pattern\":{\"shape\":\"\"}},\"name\":\"McDonalds\",\"offsetgroup\":\"McDonalds\",\"orientation\":\"v\",\"showlegend\":false,\"textposition\":\"auto\",\"x\":[\"Washington\"],\"xaxis\":\"x3\",\"y\":[3.4],\"yaxis\":\"y3\",\"type\":\"bar\"},{\"alignmentgroup\":\"True\",\"hovertemplate\":\"Fast_Food_Resturant=McDonalds<br>mostPopular=Carl's Jr<br>State=%{x}<br>Number_Per_100_People=%{y}<extra></extra>\",\"legendgroup\":\"McDonalds\",\"marker\":{\"color\":\"#00cc96\",\"pattern\":{\"shape\":\"\"}},\"name\":\"McDonalds\",\"offsetgroup\":\"McDonalds\",\"orientation\":\"v\",\"showlegend\":false,\"textposition\":\"auto\",\"x\":[\"Wyoming\"],\"xaxis\":\"x4\",\"y\":[4.8],\"yaxis\":\"y4\",\"type\":\"bar\"},{\"alignmentgroup\":\"True\",\"hovertemplate\":\"Fast_Food_Resturant=Dunkin Donut<br>mostPopular=Chick-Fil-A<br>State=%{x}<br>Number_Per_100_People=%{y}<extra></extra>\",\"legendgroup\":\"Dunkin Donut\",\"marker\":{\"color\":\"#ab63fa\",\"pattern\":{\"shape\":\"\"}},\"name\":\"Dunkin Donut\",\"offsetgroup\":\"Dunkin Donut\",\"orientation\":\"v\",\"showlegend\":true,\"textposition\":\"auto\",\"x\":[\"Alabama\",\"Arkansas\",\"Colorado\",\"Delaware\",\"Florida\",\"Georgia\",\"Idaho\",\"Kentucky\",\"Louisiana\",\"Maryland\",\"Mississippi\",\"Missouri\",\"New Mexico\",\"North Carolina\",\"Ohio\",\"Oklahoma\",\"Pennsylvania\",\"South Carolina\",\"Tennessee\",\"Texas\",\"Virginia\"],\"xaxis\":\"x9\",\"y\":[0.9,0.3,0.8,7.1,4.1,2.2,0.0,0.9,0.3,4.7,0.3,0.8,0.8,2.0,1.9,0.3,5.1,2.0,1.6,0.6,2.8],\"yaxis\":\"y9\",\"type\":\"bar\"},{\"alignmentgroup\":\"True\",\"hovertemplate\":\"Fast_Food_Resturant=Dunkin Donut<br>mostPopular=McDonald's<br>State=%{x}<br>Number_Per_100_People=%{y}<extra></extra>\",\"legendgroup\":\"Dunkin Donut\",\"marker\":{\"color\":\"#ab63fa\",\"pattern\":{\"shape\":\"\"}},\"name\":\"Dunkin Donut\",\"offsetgroup\":\"Dunkin Donut\",\"orientation\":\"v\",\"showlegend\":false,\"textposition\":\"auto\",\"x\":[\"Alaska\",\"Indiana\",\"Maine\",\"Massachusetts\",\"Michigan\",\"Nebraska\",\"New Hampshire\",\"North Dakota\",\"Rhode Island\",\"South Dakota\",\"West Virginia\",\"Wisconsin\"],\"xaxis\":\"x10\",\"y\":[0.3,1.3,12.2,16.3,0.8,1.0,16.2,0.0,16.4,0.0,1.3,1.2],\"yaxis\":\"y10\",\"type\":\"bar\"},{\"alignmentgroup\":\"True\",\"hovertemplate\":\"Fast_Food_Resturant=Dunkin Donut<br>mostPopular=In-N-Out<br>State=%{x}<br>Number_Per_100_People=%{y}<extra></extra>\",\"legendgroup\":\"Dunkin Donut\",\"marker\":{\"color\":\"#ab63fa\",\"pattern\":{\"shape\":\"\"}},\"name\":\"Dunkin Donut\",\"offsetgroup\":\"Dunkin Donut\",\"orientation\":\"v\",\"showlegend\":false,\"textposition\":\"auto\",\"x\":[\"Arizona\",\"California\",\"Nevada\",\"Utah\"],\"xaxis\":\"x11\",\"y\":[1.3,0.3,0.9,0.0],\"yaxis\":\"y11\",\"type\":\"bar\"},{\"alignmentgroup\":\"True\",\"hovertemplate\":\"Fast_Food_Resturant=Dunkin Donut<br>mostPopular=Panda Express<br>State=%{x}<br>Number_Per_100_People=%{y}<extra></extra>\",\"legendgroup\":\"Dunkin Donut\",\"marker\":{\"color\":\"#ab63fa\",\"pattern\":{\"shape\":\"\"}},\"name\":\"Dunkin Donut\",\"offsetgroup\":\"Dunkin Donut\",\"orientation\":\"v\",\"showlegend\":false,\"textposition\":\"auto\",\"x\":[\"Connecticut\",\"Hawaii\",\"Minnesota\",\"New Jersey\",\"Oregon\"],\"xaxis\":\"x12\",\"y\":[14.4,0.8,0.5,10.1,0.0],\"yaxis\":\"y12\",\"type\":\"bar\"},{\"alignmentgroup\":\"True\",\"hovertemplate\":\"Fast_Food_Resturant=Dunkin Donut<br>mostPopular=White Castle<br>State=%{x}<br>Number_Per_100_People=%{y}<extra></extra>\",\"legendgroup\":\"Dunkin Donut\",\"marker\":{\"color\":\"#ab63fa\",\"pattern\":{\"shape\":\"\"}},\"name\":\"Dunkin Donut\",\"offsetgroup\":\"Dunkin Donut\",\"orientation\":\"v\",\"showlegend\":false,\"textposition\":\"auto\",\"x\":[\"Illinois\"],\"xaxis\":\"x5\",\"y\":[5.5],\"yaxis\":\"y5\",\"type\":\"bar\"},{\"alignmentgroup\":\"True\",\"hovertemplate\":\"Fast_Food_Resturant=Dunkin Donut<br>mostPopular=Wendy's<br>State=%{x}<br>Number_Per_100_People=%{y}<extra></extra>\",\"legendgroup\":\"Dunkin Donut\",\"marker\":{\"color\":\"#ab63fa\",\"pattern\":{\"shape\":\"\"}},\"name\":\"Dunkin Donut\",\"offsetgroup\":\"Dunkin Donut\",\"orientation\":\"v\",\"showlegend\":false,\"textposition\":\"auto\",\"x\":[\"Iowa\"],\"xaxis\":\"x6\",\"y\":[1.0],\"yaxis\":\"y6\",\"type\":\"bar\"},{\"alignmentgroup\":\"True\",\"hovertemplate\":\"Fast_Food_Resturant=Dunkin Donut<br>mostPopular=Jack In the Box<br>State=%{x}<br>Number_Per_100_People=%{y}<extra></extra>\",\"legendgroup\":\"Dunkin Donut\",\"marker\":{\"color\":\"#ab63fa\",\"pattern\":{\"shape\":\"\"}},\"name\":\"Dunkin Donut\",\"offsetgroup\":\"Dunkin Donut\",\"orientation\":\"v\",\"showlegend\":false,\"textposition\":\"auto\",\"x\":[\"Kansas\"],\"xaxis\":\"x7\",\"y\":[1.0],\"yaxis\":\"y7\",\"type\":\"bar\"},{\"alignmentgroup\":\"True\",\"hovertemplate\":\"Fast_Food_Resturant=Dunkin Donut<br>mostPopular=Sonic<br>State=%{x}<br>Number_Per_100_People=%{y}<extra></extra>\",\"legendgroup\":\"Dunkin Donut\",\"marker\":{\"color\":\"#ab63fa\",\"pattern\":{\"shape\":\"\"}},\"name\":\"Dunkin Donut\",\"offsetgroup\":\"Dunkin Donut\",\"orientation\":\"v\",\"showlegend\":false,\"textposition\":\"auto\",\"x\":[\"Montana\"],\"xaxis\":\"x8\",\"y\":[0.0],\"yaxis\":\"y8\",\"type\":\"bar\"},{\"alignmentgroup\":\"True\",\"hovertemplate\":\"Fast_Food_Resturant=Dunkin Donut<br>mostPopular=Church's<br>State=%{x}<br>Number_Per_100_People=%{y}<extra></extra>\",\"legendgroup\":\"Dunkin Donut\",\"marker\":{\"color\":\"#ab63fa\",\"pattern\":{\"shape\":\"\"}},\"name\":\"Dunkin Donut\",\"offsetgroup\":\"Dunkin Donut\",\"orientation\":\"v\",\"showlegend\":false,\"textposition\":\"auto\",\"x\":[\"New York\"],\"xaxis\":\"x\",\"y\":[7.6],\"yaxis\":\"y\",\"type\":\"bar\"},{\"alignmentgroup\":\"True\",\"hovertemplate\":\"Fast_Food_Resturant=Dunkin Donut<br>mostPopular=Taco Bell<br>State=%{x}<br>Number_Per_100_People=%{y}<extra></extra>\",\"legendgroup\":\"Dunkin Donut\",\"marker\":{\"color\":\"#ab63fa\",\"pattern\":{\"shape\":\"\"}},\"name\":\"Dunkin Donut\",\"offsetgroup\":\"Dunkin Donut\",\"orientation\":\"v\",\"showlegend\":false,\"textposition\":\"auto\",\"x\":[\"Vermont\"],\"xaxis\":\"x2\",\"y\":[8.2],\"yaxis\":\"y2\",\"type\":\"bar\"},{\"alignmentgroup\":\"True\",\"hovertemplate\":\"Fast_Food_Resturant=Dunkin Donut<br>mostPopular=Charley's<br>State=%{x}<br>Number_Per_100_People=%{y}<extra></extra>\",\"legendgroup\":\"Dunkin Donut\",\"marker\":{\"color\":\"#ab63fa\",\"pattern\":{\"shape\":\"\"}},\"name\":\"Dunkin Donut\",\"offsetgroup\":\"Dunkin Donut\",\"orientation\":\"v\",\"showlegend\":false,\"textposition\":\"auto\",\"x\":[\"Washington\"],\"xaxis\":\"x3\",\"y\":[0.0],\"yaxis\":\"y3\",\"type\":\"bar\"},{\"alignmentgroup\":\"True\",\"hovertemplate\":\"Fast_Food_Resturant=Dunkin Donut<br>mostPopular=Carl's Jr<br>State=%{x}<br>Number_Per_100_People=%{y}<extra></extra>\",\"legendgroup\":\"Dunkin Donut\",\"marker\":{\"color\":\"#ab63fa\",\"pattern\":{\"shape\":\"\"}},\"name\":\"Dunkin Donut\",\"offsetgroup\":\"Dunkin Donut\",\"orientation\":\"v\",\"showlegend\":false,\"textposition\":\"auto\",\"x\":[\"Wyoming\"],\"xaxis\":\"x4\",\"y\":[0.2],\"yaxis\":\"y4\",\"type\":\"bar\"},{\"alignmentgroup\":\"True\",\"hovertemplate\":\"Fast_Food_Resturant=Burger King<br>mostPopular=Chick-Fil-A<br>State=%{x}<br>Number_Per_100_People=%{y}<extra></extra>\",\"legendgroup\":\"Burger King\",\"marker\":{\"color\":\"#FFA15A\",\"pattern\":{\"shape\":\"\"}},\"name\":\"Burger King\",\"offsetgroup\":\"Burger King\",\"orientation\":\"v\",\"showlegend\":true,\"textposition\":\"auto\",\"x\":[\"Alabama\",\"Arkansas\",\"Colorado\",\"Delaware\",\"Florida\",\"Georgia\",\"Idaho\",\"Kentucky\",\"Louisiana\",\"Maryland\",\"Mississippi\",\"Missouri\",\"New Mexico\",\"North Carolina\",\"Ohio\",\"Oklahoma\",\"Pennsylvania\",\"South Carolina\",\"Tennessee\",\"Texas\",\"Virginia\"],\"xaxis\":\"x9\",\"y\":[3.5,2.7,2.0,2.1,2.7,2.6,2.0,2.3,3.4,2.0,3.0,2.1,2.6,2.3,2.9,1.6,2.1,2.9,2.7,2.0,2.3],\"yaxis\":\"y9\",\"type\":\"bar\"},{\"alignmentgroup\":\"True\",\"hovertemplate\":\"Fast_Food_Resturant=Burger King<br>mostPopular=McDonald's<br>State=%{x}<br>Number_Per_100_People=%{y}<extra></extra>\",\"legendgroup\":\"Burger King\",\"marker\":{\"color\":\"#FFA15A\",\"pattern\":{\"shape\":\"\"}},\"name\":\"Burger King\",\"offsetgroup\":\"Burger King\",\"orientation\":\"v\",\"showlegend\":false,\"textposition\":\"auto\",\"x\":[\"Alaska\",\"Indiana\",\"Maine\",\"Massachusetts\",\"Michigan\",\"Nebraska\",\"New Hampshire\",\"North Dakota\",\"Rhode Island\",\"South Dakota\",\"West Virginia\",\"Wisconsin\"],\"xaxis\":\"x10\",\"y\":[1.1,2.9,2.5,1.7,2.9,3.4,2.3,2.8,2.3,3.1,3.5,2.1],\"yaxis\":\"y10\",\"type\":\"bar\"},{\"alignmentgroup\":\"True\",\"hovertemplate\":\"Fast_Food_Resturant=Burger King<br>mostPopular=In-N-Out<br>State=%{x}<br>Number_Per_100_People=%{y}<extra></extra>\",\"legendgroup\":\"Burger King\",\"marker\":{\"color\":\"#FFA15A\",\"pattern\":{\"shape\":\"\"}},\"name\":\"Burger King\",\"offsetgroup\":\"Burger King\",\"orientation\":\"v\",\"showlegend\":false,\"textposition\":\"auto\",\"x\":[\"Arizona\",\"California\",\"Nevada\",\"Utah\"],\"xaxis\":\"x11\",\"y\":[2.5,1.4,2.1,2.2],\"yaxis\":\"y11\",\"type\":\"bar\"},{\"alignmentgroup\":\"True\",\"hovertemplate\":\"Fast_Food_Resturant=Burger King<br>mostPopular=Panda Express<br>State=%{x}<br>Number_Per_100_People=%{y}<extra></extra>\",\"legendgroup\":\"Burger King\",\"marker\":{\"color\":\"#FFA15A\",\"pattern\":{\"shape\":\"\"}},\"name\":\"Burger King\",\"offsetgroup\":\"Burger King\",\"orientation\":\"v\",\"showlegend\":false,\"textposition\":\"auto\",\"x\":[\"Connecticut\",\"Hawaii\",\"Minnesota\",\"New Jersey\",\"Oregon\"],\"xaxis\":\"x12\",\"y\":[1.8,2.0,2.1,2.1,2.0],\"yaxis\":\"y12\",\"type\":\"bar\"},{\"alignmentgroup\":\"True\",\"hovertemplate\":\"Fast_Food_Resturant=Burger King<br>mostPopular=White Castle<br>State=%{x}<br>Number_Per_100_People=%{y}<extra></extra>\",\"legendgroup\":\"Burger King\",\"marker\":{\"color\":\"#FFA15A\",\"pattern\":{\"shape\":\"\"}},\"name\":\"Burger King\",\"offsetgroup\":\"Burger King\",\"orientation\":\"v\",\"showlegend\":false,\"textposition\":\"auto\",\"x\":[\"Illinois\"],\"xaxis\":\"x5\",\"y\":[2.4],\"yaxis\":\"y5\",\"type\":\"bar\"},{\"alignmentgroup\":\"True\",\"hovertemplate\":\"Fast_Food_Resturant=Burger King<br>mostPopular=Wendy's<br>State=%{x}<br>Number_Per_100_People=%{y}<extra></extra>\",\"legendgroup\":\"Burger King\",\"marker\":{\"color\":\"#FFA15A\",\"pattern\":{\"shape\":\"\"}},\"name\":\"Burger King\",\"offsetgroup\":\"Burger King\",\"orientation\":\"v\",\"showlegend\":false,\"textposition\":\"auto\",\"x\":[\"Iowa\"],\"xaxis\":\"x6\",\"y\":[2.6],\"yaxis\":\"y6\",\"type\":\"bar\"},{\"alignmentgroup\":\"True\",\"hovertemplate\":\"Fast_Food_Resturant=Burger King<br>mostPopular=Jack In the Box<br>State=%{x}<br>Number_Per_100_People=%{y}<extra></extra>\",\"legendgroup\":\"Burger King\",\"marker\":{\"color\":\"#FFA15A\",\"pattern\":{\"shape\":\"\"}},\"name\":\"Burger King\",\"offsetgroup\":\"Burger King\",\"orientation\":\"v\",\"showlegend\":false,\"textposition\":\"auto\",\"x\":[\"Kansas\"],\"xaxis\":\"x7\",\"y\":[2.3],\"yaxis\":\"y7\",\"type\":\"bar\"},{\"alignmentgroup\":\"True\",\"hovertemplate\":\"Fast_Food_Resturant=Burger King<br>mostPopular=Sonic<br>State=%{x}<br>Number_Per_100_People=%{y}<extra></extra>\",\"legendgroup\":\"Burger King\",\"marker\":{\"color\":\"#FFA15A\",\"pattern\":{\"shape\":\"\"}},\"name\":\"Burger King\",\"offsetgroup\":\"Burger King\",\"orientation\":\"v\",\"showlegend\":false,\"textposition\":\"auto\",\"x\":[\"Montana\"],\"xaxis\":\"x8\",\"y\":[2.2],\"yaxis\":\"y8\",\"type\":\"bar\"},{\"alignmentgroup\":\"True\",\"hovertemplate\":\"Fast_Food_Resturant=Burger King<br>mostPopular=Church's<br>State=%{x}<br>Number_Per_100_People=%{y}<extra></extra>\",\"legendgroup\":\"Burger King\",\"marker\":{\"color\":\"#FFA15A\",\"pattern\":{\"shape\":\"\"}},\"name\":\"Burger King\",\"offsetgroup\":\"Burger King\",\"orientation\":\"v\",\"showlegend\":false,\"textposition\":\"auto\",\"x\":[\"New York\"],\"xaxis\":\"x\",\"y\":[1.8],\"yaxis\":\"y\",\"type\":\"bar\"},{\"alignmentgroup\":\"True\",\"hovertemplate\":\"Fast_Food_Resturant=Burger King<br>mostPopular=Taco Bell<br>State=%{x}<br>Number_Per_100_People=%{y}<extra></extra>\",\"legendgroup\":\"Burger King\",\"marker\":{\"color\":\"#FFA15A\",\"pattern\":{\"shape\":\"\"}},\"name\":\"Burger King\",\"offsetgroup\":\"Burger King\",\"orientation\":\"v\",\"showlegend\":false,\"textposition\":\"auto\",\"x\":[\"Vermont\"],\"xaxis\":\"x2\",\"y\":[1.1],\"yaxis\":\"y2\",\"type\":\"bar\"},{\"alignmentgroup\":\"True\",\"hovertemplate\":\"Fast_Food_Resturant=Burger King<br>mostPopular=Charley's<br>State=%{x}<br>Number_Per_100_People=%{y}<extra></extra>\",\"legendgroup\":\"Burger King\",\"marker\":{\"color\":\"#FFA15A\",\"pattern\":{\"shape\":\"\"}},\"name\":\"Burger King\",\"offsetgroup\":\"Burger King\",\"orientation\":\"v\",\"showlegend\":false,\"textposition\":\"auto\",\"x\":[\"Washington\"],\"xaxis\":\"x3\",\"y\":[1.6],\"yaxis\":\"y3\",\"type\":\"bar\"},{\"alignmentgroup\":\"True\",\"hovertemplate\":\"Fast_Food_Resturant=Burger King<br>mostPopular=Carl's Jr<br>State=%{x}<br>Number_Per_100_People=%{y}<extra></extra>\",\"legendgroup\":\"Burger King\",\"marker\":{\"color\":\"#FFA15A\",\"pattern\":{\"shape\":\"\"}},\"name\":\"Burger King\",\"offsetgroup\":\"Burger King\",\"orientation\":\"v\",\"showlegend\":false,\"textposition\":\"auto\",\"x\":[\"Wyoming\"],\"xaxis\":\"x4\",\"y\":[2.8],\"yaxis\":\"y4\",\"type\":\"bar\"},{\"alignmentgroup\":\"True\",\"hovertemplate\":\"Fast_Food_Resturant=Taco Bell<br>mostPopular=Chick-Fil-A<br>State=%{x}<br>Number_Per_100_People=%{y}<extra></extra>\",\"legendgroup\":\"Taco Bell\",\"marker\":{\"color\":\"#19d3f3\",\"pattern\":{\"shape\":\"\"}},\"name\":\"Taco Bell\",\"offsetgroup\":\"Taco Bell\",\"orientation\":\"v\",\"showlegend\":true,\"textposition\":\"auto\",\"x\":[\"Alabama\",\"Arkansas\",\"Colorado\",\"Delaware\",\"Florida\",\"Georgia\",\"Idaho\",\"Kentucky\",\"Louisiana\",\"Maryland\",\"Mississippi\",\"Missouri\",\"New Mexico\",\"North Carolina\",\"Ohio\",\"Oklahoma\",\"Pennsylvania\",\"South Carolina\",\"Tennessee\",\"Texas\",\"Virginia\"],\"xaxis\":\"x9\",\"y\":[2.8,3.5,2.6,1.5,2.1,2.3,1.8,3.3,2.9,1.5,2.8,3.5,2.8,2.4,3.2,2.8,1.4,2.2,3.5,2.3,2.4],\"yaxis\":\"y9\",\"type\":\"bar\"},{\"alignmentgroup\":\"True\",\"hovertemplate\":\"Fast_Food_Resturant=Taco Bell<br>mostPopular=McDonald's<br>State=%{x}<br>Number_Per_100_People=%{y}<extra></extra>\",\"legendgroup\":\"Taco Bell\",\"marker\":{\"color\":\"#19d3f3\",\"pattern\":{\"shape\":\"\"}},\"name\":\"Taco Bell\",\"offsetgroup\":\"Taco Bell\",\"orientation\":\"v\",\"showlegend\":false,\"textposition\":\"auto\",\"x\":[\"Alaska\",\"Indiana\",\"Maine\",\"Massachusetts\",\"Michigan\",\"Nebraska\",\"New Hampshire\",\"North Dakota\",\"Rhode Island\",\"South Dakota\",\"West Virginia\",\"Wisconsin\"],\"xaxis\":\"x10\",\"y\":[2.1,3.5,1.5,1.0,3.0,2.2,1.5,1.4,1.5,1.8,3.5,2.3],\"yaxis\":\"y10\",\"type\":\"bar\"},{\"alignmentgroup\":\"True\",\"hovertemplate\":\"Fast_Food_Resturant=Taco Bell<br>mostPopular=In-N-Out<br>State=%{x}<br>Number_Per_100_People=%{y}<extra></extra>\",\"legendgroup\":\"Taco Bell\",\"marker\":{\"color\":\"#19d3f3\",\"pattern\":{\"shape\":\"\"}},\"name\":\"Taco Bell\",\"offsetgroup\":\"Taco Bell\",\"orientation\":\"v\",\"showlegend\":false,\"textposition\":\"auto\",\"x\":[\"Arizona\",\"California\",\"Nevada\",\"Utah\"],\"xaxis\":\"x11\",\"y\":[2.5,2.1,2.6,1.9],\"yaxis\":\"y11\",\"type\":\"bar\"},{\"alignmentgroup\":\"True\",\"hovertemplate\":\"Fast_Food_Resturant=Taco Bell<br>mostPopular=Panda Express<br>State=%{x}<br>Number_Per_100_People=%{y}<extra></extra>\",\"legendgroup\":\"Taco Bell\",\"marker\":{\"color\":\"#19d3f3\",\"pattern\":{\"shape\":\"\"}},\"name\":\"Taco Bell\",\"offsetgroup\":\"Taco Bell\",\"orientation\":\"v\",\"showlegend\":false,\"textposition\":\"auto\",\"x\":[\"Connecticut\",\"Hawaii\",\"Minnesota\",\"New Jersey\",\"Oregon\"],\"xaxis\":\"x12\",\"y\":[1.4,2.1,1.5,1.1,2.7],\"yaxis\":\"y12\",\"type\":\"bar\"},{\"alignmentgroup\":\"True\",\"hovertemplate\":\"Fast_Food_Resturant=Taco Bell<br>mostPopular=White Castle<br>State=%{x}<br>Number_Per_100_People=%{y}<extra></extra>\",\"legendgroup\":\"Taco Bell\",\"marker\":{\"color\":\"#19d3f3\",\"pattern\":{\"shape\":\"\"}},\"name\":\"Taco Bell\",\"offsetgroup\":\"Taco Bell\",\"orientation\":\"v\",\"showlegend\":false,\"textposition\":\"auto\",\"x\":[\"Illinois\"],\"xaxis\":\"x5\",\"y\":[2.1],\"yaxis\":\"y5\",\"type\":\"bar\"},{\"alignmentgroup\":\"True\",\"hovertemplate\":\"Fast_Food_Resturant=Taco Bell<br>mostPopular=Wendy's<br>State=%{x}<br>Number_Per_100_People=%{y}<extra></extra>\",\"legendgroup\":\"Taco Bell\",\"marker\":{\"color\":\"#19d3f3\",\"pattern\":{\"shape\":\"\"}},\"name\":\"Taco Bell\",\"offsetgroup\":\"Taco Bell\",\"orientation\":\"v\",\"showlegend\":false,\"textposition\":\"auto\",\"x\":[\"Iowa\"],\"xaxis\":\"x6\",\"y\":[1.7],\"yaxis\":\"y6\",\"type\":\"bar\"},{\"alignmentgroup\":\"True\",\"hovertemplate\":\"Fast_Food_Resturant=Taco Bell<br>mostPopular=Jack In the Box<br>State=%{x}<br>Number_Per_100_People=%{y}<extra></extra>\",\"legendgroup\":\"Taco Bell\",\"marker\":{\"color\":\"#19d3f3\",\"pattern\":{\"shape\":\"\"}},\"name\":\"Taco Bell\",\"offsetgroup\":\"Taco Bell\",\"orientation\":\"v\",\"showlegend\":false,\"textposition\":\"auto\",\"x\":[\"Kansas\"],\"xaxis\":\"x7\",\"y\":[3.2],\"yaxis\":\"y7\",\"type\":\"bar\"},{\"alignmentgroup\":\"True\",\"hovertemplate\":\"Fast_Food_Resturant=Taco Bell<br>mostPopular=Sonic<br>State=%{x}<br>Number_Per_100_People=%{y}<extra></extra>\",\"legendgroup\":\"Taco Bell\",\"marker\":{\"color\":\"#19d3f3\",\"pattern\":{\"shape\":\"\"}},\"name\":\"Taco Bell\",\"offsetgroup\":\"Taco Bell\",\"orientation\":\"v\",\"showlegend\":false,\"textposition\":\"auto\",\"x\":[\"Montana\"],\"xaxis\":\"x8\",\"y\":[1.9],\"yaxis\":\"y8\",\"type\":\"bar\"},{\"alignmentgroup\":\"True\",\"hovertemplate\":\"Fast_Food_Resturant=Taco Bell<br>mostPopular=Church's<br>State=%{x}<br>Number_Per_100_People=%{y}<extra></extra>\",\"legendgroup\":\"Taco Bell\",\"marker\":{\"color\":\"#19d3f3\",\"pattern\":{\"shape\":\"\"}},\"name\":\"Taco Bell\",\"offsetgroup\":\"Taco Bell\",\"orientation\":\"v\",\"showlegend\":false,\"textposition\":\"auto\",\"x\":[\"New York\"],\"xaxis\":\"x\",\"y\":[1.0],\"yaxis\":\"y\",\"type\":\"bar\"},{\"alignmentgroup\":\"True\",\"hovertemplate\":\"Fast_Food_Resturant=Taco Bell<br>mostPopular=Taco Bell<br>State=%{x}<br>Number_Per_100_People=%{y}<extra></extra>\",\"legendgroup\":\"Taco Bell\",\"marker\":{\"color\":\"#19d3f3\",\"pattern\":{\"shape\":\"\"}},\"name\":\"Taco Bell\",\"offsetgroup\":\"Taco Bell\",\"orientation\":\"v\",\"showlegend\":false,\"textposition\":\"auto\",\"x\":[\"Vermont\"],\"xaxis\":\"x2\",\"y\":[0.8],\"yaxis\":\"y2\",\"type\":\"bar\"},{\"alignmentgroup\":\"True\",\"hovertemplate\":\"Fast_Food_Resturant=Taco Bell<br>mostPopular=Charley's<br>State=%{x}<br>Number_Per_100_People=%{y}<extra></extra>\",\"legendgroup\":\"Taco Bell\",\"marker\":{\"color\":\"#19d3f3\",\"pattern\":{\"shape\":\"\"}},\"name\":\"Taco Bell\",\"offsetgroup\":\"Taco Bell\",\"orientation\":\"v\",\"showlegend\":false,\"textposition\":\"auto\",\"x\":[\"Washington\"],\"xaxis\":\"x3\",\"y\":[1.9],\"yaxis\":\"y3\",\"type\":\"bar\"},{\"alignmentgroup\":\"True\",\"hovertemplate\":\"Fast_Food_Resturant=Taco Bell<br>mostPopular=Carl's Jr<br>State=%{x}<br>Number_Per_100_People=%{y}<extra></extra>\",\"legendgroup\":\"Taco Bell\",\"marker\":{\"color\":\"#19d3f3\",\"pattern\":{\"shape\":\"\"}},\"name\":\"Taco Bell\",\"offsetgroup\":\"Taco Bell\",\"orientation\":\"v\",\"showlegend\":false,\"textposition\":\"auto\",\"x\":[\"Wyoming\"],\"xaxis\":\"x4\",\"y\":[2.4],\"yaxis\":\"y4\",\"type\":\"bar\"},{\"alignmentgroup\":\"True\",\"hovertemplate\":\"Fast_Food_Resturant=Dominos<br>mostPopular=Chick-Fil-A<br>State=%{x}<br>Number_Per_100_People=%{y}<extra></extra>\",\"legendgroup\":\"Dominos\",\"marker\":{\"color\":\"#FF6692\",\"pattern\":{\"shape\":\"\"}},\"name\":\"Dominos\",\"offsetgroup\":\"Dominos\",\"orientation\":\"v\",\"showlegend\":true,\"textposition\":\"auto\",\"x\":[\"Alabama\",\"Arkansas\",\"Colorado\",\"Delaware\",\"Florida\",\"Georgia\",\"Idaho\",\"Kentucky\",\"Louisiana\",\"Maryland\",\"Mississippi\",\"Missouri\",\"New Mexico\",\"North Carolina\",\"Ohio\",\"Oklahoma\",\"Pennsylvania\",\"South Carolina\",\"Tennessee\",\"Texas\",\"Virginia\"],\"xaxis\":\"x9\",\"y\":[2.5,2.2,2.3,2.7,1.9,2.1,2.4,2.1,2.3,2.0,2.4,2.4,2.9,2.7,2.2,1.9,1.8,2.2,2.3,2.3,2.6],\"yaxis\":\"y9\",\"type\":\"bar\"},{\"alignmentgroup\":\"True\",\"hovertemplate\":\"Fast_Food_Resturant=Dominos<br>mostPopular=McDonald's<br>State=%{x}<br>Number_Per_100_People=%{y}<extra></extra>\",\"legendgroup\":\"Dominos\",\"marker\":{\"color\":\"#FF6692\",\"pattern\":{\"shape\":\"\"}},\"name\":\"Dominos\",\"offsetgroup\":\"Dominos\",\"orientation\":\"v\",\"showlegend\":false,\"textposition\":\"auto\",\"x\":[\"Alaska\",\"Indiana\",\"Maine\",\"Massachusetts\",\"Michigan\",\"Nebraska\",\"New Hampshire\",\"North Dakota\",\"Rhode Island\",\"South Dakota\",\"West Virginia\",\"Wisconsin\"],\"xaxis\":\"x10\",\"y\":[1.4,1.7,1.9,1.9,1.3,1.4,2.1,2.1,2.5,1.9,2.3,1.8],\"yaxis\":\"y10\",\"type\":\"bar\"},{\"alignmentgroup\":\"True\",\"hovertemplate\":\"Fast_Food_Resturant=Dominos<br>mostPopular=In-N-Out<br>State=%{x}<br>Number_Per_100_People=%{y}<extra></extra>\",\"legendgroup\":\"Dominos\",\"marker\":{\"color\":\"#FF6692\",\"pattern\":{\"shape\":\"\"}},\"name\":\"Dominos\",\"offsetgroup\":\"Dominos\",\"orientation\":\"v\",\"showlegend\":false,\"textposition\":\"auto\",\"x\":[\"Arizona\",\"California\",\"Nevada\",\"Utah\"],\"xaxis\":\"x11\",\"y\":[1.6,1.4,1.8,2.2],\"yaxis\":\"y11\",\"type\":\"bar\"},{\"alignmentgroup\":\"True\",\"hovertemplate\":\"Fast_Food_Resturant=Dominos<br>mostPopular=Panda Express<br>State=%{x}<br>Number_Per_100_People=%{y}<extra></extra>\",\"legendgroup\":\"Dominos\",\"marker\":{\"color\":\"#FF6692\",\"pattern\":{\"shape\":\"\"}},\"name\":\"Dominos\",\"offsetgroup\":\"Dominos\",\"orientation\":\"v\",\"showlegend\":false,\"textposition\":\"auto\",\"x\":[\"Connecticut\",\"Hawaii\",\"Minnesota\",\"New Jersey\",\"Oregon\"],\"xaxis\":\"x12\",\"y\":[1.5,1.6,2.3,1.8,1.9],\"yaxis\":\"y12\",\"type\":\"bar\"},{\"alignmentgroup\":\"True\",\"hovertemplate\":\"Fast_Food_Resturant=Dominos<br>mostPopular=White Castle<br>State=%{x}<br>Number_Per_100_People=%{y}<extra></extra>\",\"legendgroup\":\"Dominos\",\"marker\":{\"color\":\"#FF6692\",\"pattern\":{\"shape\":\"\"}},\"name\":\"Dominos\",\"offsetgroup\":\"Dominos\",\"orientation\":\"v\",\"showlegend\":false,\"textposition\":\"auto\",\"x\":[\"Illinois\"],\"xaxis\":\"x5\",\"y\":[1.6],\"yaxis\":\"y5\",\"type\":\"bar\"},{\"alignmentgroup\":\"True\",\"hovertemplate\":\"Fast_Food_Resturant=Dominos<br>mostPopular=Wendy's<br>State=%{x}<br>Number_Per_100_People=%{y}<extra></extra>\",\"legendgroup\":\"Dominos\",\"marker\":{\"color\":\"#FF6692\",\"pattern\":{\"shape\":\"\"}},\"name\":\"Dominos\",\"offsetgroup\":\"Dominos\",\"orientation\":\"v\",\"showlegend\":false,\"textposition\":\"auto\",\"x\":[\"Iowa\"],\"xaxis\":\"x6\",\"y\":[1.3],\"yaxis\":\"y6\",\"type\":\"bar\"},{\"alignmentgroup\":\"True\",\"hovertemplate\":\"Fast_Food_Resturant=Dominos<br>mostPopular=Jack In the Box<br>State=%{x}<br>Number_Per_100_People=%{y}<extra></extra>\",\"legendgroup\":\"Dominos\",\"marker\":{\"color\":\"#FF6692\",\"pattern\":{\"shape\":\"\"}},\"name\":\"Dominos\",\"offsetgroup\":\"Dominos\",\"orientation\":\"v\",\"showlegend\":false,\"textposition\":\"auto\",\"x\":[\"Kansas\"],\"xaxis\":\"x7\",\"y\":[1.5],\"yaxis\":\"y7\",\"type\":\"bar\"},{\"alignmentgroup\":\"True\",\"hovertemplate\":\"Fast_Food_Resturant=Dominos<br>mostPopular=Sonic<br>State=%{x}<br>Number_Per_100_People=%{y}<extra></extra>\",\"legendgroup\":\"Dominos\",\"marker\":{\"color\":\"#FF6692\",\"pattern\":{\"shape\":\"\"}},\"name\":\"Dominos\",\"offsetgroup\":\"Dominos\",\"orientation\":\"v\",\"showlegend\":false,\"textposition\":\"auto\",\"x\":[\"Montana\"],\"xaxis\":\"x8\",\"y\":[2.1],\"yaxis\":\"y8\",\"type\":\"bar\"},{\"alignmentgroup\":\"True\",\"hovertemplate\":\"Fast_Food_Resturant=Dominos<br>mostPopular=Church's<br>State=%{x}<br>Number_Per_100_People=%{y}<extra></extra>\",\"legendgroup\":\"Dominos\",\"marker\":{\"color\":\"#FF6692\",\"pattern\":{\"shape\":\"\"}},\"name\":\"Dominos\",\"offsetgroup\":\"Dominos\",\"orientation\":\"v\",\"showlegend\":false,\"textposition\":\"auto\",\"x\":[\"New York\"],\"xaxis\":\"x\",\"y\":[1.2],\"yaxis\":\"y\",\"type\":\"bar\"},{\"alignmentgroup\":\"True\",\"hovertemplate\":\"Fast_Food_Resturant=Dominos<br>mostPopular=Taco Bell<br>State=%{x}<br>Number_Per_100_People=%{y}<extra></extra>\",\"legendgroup\":\"Dominos\",\"marker\":{\"color\":\"#FF6692\",\"pattern\":{\"shape\":\"\"}},\"name\":\"Dominos\",\"offsetgroup\":\"Dominos\",\"orientation\":\"v\",\"showlegend\":false,\"textposition\":\"auto\",\"x\":[\"Vermont\"],\"xaxis\":\"x2\",\"y\":[2.4],\"yaxis\":\"y2\",\"type\":\"bar\"},{\"alignmentgroup\":\"True\",\"hovertemplate\":\"Fast_Food_Resturant=Dominos<br>mostPopular=Charley's<br>State=%{x}<br>Number_Per_100_People=%{y}<extra></extra>\",\"legendgroup\":\"Dominos\",\"marker\":{\"color\":\"#FF6692\",\"pattern\":{\"shape\":\"\"}},\"name\":\"Dominos\",\"offsetgroup\":\"Dominos\",\"orientation\":\"v\",\"showlegend\":false,\"textposition\":\"auto\",\"x\":[\"Washington\"],\"xaxis\":\"x3\",\"y\":[2.0],\"yaxis\":\"y3\",\"type\":\"bar\"},{\"alignmentgroup\":\"True\",\"hovertemplate\":\"Fast_Food_Resturant=Dominos<br>mostPopular=Carl's Jr<br>State=%{x}<br>Number_Per_100_People=%{y}<extra></extra>\",\"legendgroup\":\"Dominos\",\"marker\":{\"color\":\"#FF6692\",\"pattern\":{\"shape\":\"\"}},\"name\":\"Dominos\",\"offsetgroup\":\"Dominos\",\"orientation\":\"v\",\"showlegend\":false,\"textposition\":\"auto\",\"x\":[\"Wyoming\"],\"xaxis\":\"x4\",\"y\":[3.8],\"yaxis\":\"y4\",\"type\":\"bar\"},{\"alignmentgroup\":\"True\",\"hovertemplate\":\"Fast_Food_Resturant=Wendys<br>mostPopular=Chick-Fil-A<br>State=%{x}<br>Number_Per_100_People=%{y}<extra></extra>\",\"legendgroup\":\"Wendys\",\"marker\":{\"color\":\"#B6E880\",\"pattern\":{\"shape\":\"\"}},\"name\":\"Wendys\",\"offsetgroup\":\"Wendys\",\"orientation\":\"v\",\"showlegend\":true,\"textposition\":\"auto\",\"x\":[\"Alabama\",\"Arkansas\",\"Colorado\",\"Delaware\",\"Florida\",\"Georgia\",\"Idaho\",\"Kentucky\",\"Louisiana\",\"Maryland\",\"Mississippi\",\"Missouri\",\"New Mexico\",\"North Carolina\",\"Ohio\",\"Oklahoma\",\"Pennsylvania\",\"South Carolina\",\"Tennessee\",\"Texas\",\"Virginia\"],\"xaxis\":\"x9\",\"y\":[2.0,2.1,2.3,1.2,2.5,2.7,1.7,3.2,2.7,1.6,3.2,1.6,2.0,2.5,3.5,1.2,2.0,2.5,2.5,1.5,2.6],\"yaxis\":\"y9\",\"type\":\"bar\"},{\"alignmentgroup\":\"True\",\"hovertemplate\":\"Fast_Food_Resturant=Wendys<br>mostPopular=McDonald's<br>State=%{x}<br>Number_Per_100_People=%{y}<extra></extra>\",\"legendgroup\":\"Wendys\",\"marker\":{\"color\":\"#B6E880\",\"pattern\":{\"shape\":\"\"}},\"name\":\"Wendys\",\"offsetgroup\":\"Wendys\",\"orientation\":\"v\",\"showlegend\":false,\"textposition\":\"auto\",\"x\":[\"Alaska\",\"Indiana\",\"Maine\",\"Massachusetts\",\"Michigan\",\"Nebraska\",\"New Hampshire\",\"North Dakota\",\"Rhode Island\",\"South Dakota\",\"West Virginia\",\"Wisconsin\"],\"xaxis\":\"x10\",\"y\":[1.2,2.7,1.2,1.4,2.4,1.3,1.7,1.0,1.7,0.8,3.9,0.9],\"yaxis\":\"y10\",\"type\":\"bar\"},{\"alignmentgroup\":\"True\",\"hovertemplate\":\"Fast_Food_Resturant=Wendys<br>mostPopular=In-N-Out<br>State=%{x}<br>Number_Per_100_People=%{y}<extra></extra>\",\"legendgroup\":\"Wendys\",\"marker\":{\"color\":\"#B6E880\",\"pattern\":{\"shape\":\"\"}},\"name\":\"Wendys\",\"offsetgroup\":\"Wendys\",\"orientation\":\"v\",\"showlegend\":false,\"textposition\":\"auto\",\"x\":[\"Arizona\",\"California\",\"Nevada\",\"Utah\"],\"xaxis\":\"x11\",\"y\":[1.4,0.7,1.4,2.6],\"yaxis\":\"y11\",\"type\":\"bar\"},{\"alignmentgroup\":\"True\",\"hovertemplate\":\"Fast_Food_Resturant=Wendys<br>mostPopular=Panda Express<br>State=%{x}<br>Number_Per_100_People=%{y}<extra></extra>\",\"legendgroup\":\"Wendys\",\"marker\":{\"color\":\"#B6E880\",\"pattern\":{\"shape\":\"\"}},\"name\":\"Wendys\",\"offsetgroup\":\"Wendys\",\"orientation\":\"v\",\"showlegend\":false,\"textposition\":\"auto\",\"x\":[\"Connecticut\",\"Hawaii\",\"Minnesota\",\"New Jersey\",\"Oregon\"],\"xaxis\":\"x12\",\"y\":[1.5,0.7,1.0,1.6,1.0],\"yaxis\":\"y12\",\"type\":\"bar\"},{\"alignmentgroup\":\"True\",\"hovertemplate\":\"Fast_Food_Resturant=Wendys<br>mostPopular=White Castle<br>State=%{x}<br>Number_Per_100_People=%{y}<extra></extra>\",\"legendgroup\":\"Wendys\",\"marker\":{\"color\":\"#B6E880\",\"pattern\":{\"shape\":\"\"}},\"name\":\"Wendys\",\"offsetgroup\":\"Wendys\",\"orientation\":\"v\",\"showlegend\":false,\"textposition\":\"auto\",\"x\":[\"Illinois\"],\"xaxis\":\"x5\",\"y\":[1.6],\"yaxis\":\"y5\",\"type\":\"bar\"},{\"alignmentgroup\":\"True\",\"hovertemplate\":\"Fast_Food_Resturant=Wendys<br>mostPopular=Wendy's<br>State=%{x}<br>Number_Per_100_People=%{y}<extra></extra>\",\"legendgroup\":\"Wendys\",\"marker\":{\"color\":\"#B6E880\",\"pattern\":{\"shape\":\"\"}},\"name\":\"Wendys\",\"offsetgroup\":\"Wendys\",\"orientation\":\"v\",\"showlegend\":false,\"textposition\":\"auto\",\"x\":[\"Iowa\"],\"xaxis\":\"x6\",\"y\":[1.3],\"yaxis\":\"y6\",\"type\":\"bar\"},{\"alignmentgroup\":\"True\",\"hovertemplate\":\"Fast_Food_Resturant=Wendys<br>mostPopular=Jack In the Box<br>State=%{x}<br>Number_Per_100_People=%{y}<extra></extra>\",\"legendgroup\":\"Wendys\",\"marker\":{\"color\":\"#B6E880\",\"pattern\":{\"shape\":\"\"}},\"name\":\"Wendys\",\"offsetgroup\":\"Wendys\",\"orientation\":\"v\",\"showlegend\":false,\"textposition\":\"auto\",\"x\":[\"Kansas\"],\"xaxis\":\"x7\",\"y\":[2.4],\"yaxis\":\"y7\",\"type\":\"bar\"},{\"alignmentgroup\":\"True\",\"hovertemplate\":\"Fast_Food_Resturant=Wendys<br>mostPopular=Sonic<br>State=%{x}<br>Number_Per_100_People=%{y}<extra></extra>\",\"legendgroup\":\"Wendys\",\"marker\":{\"color\":\"#B6E880\",\"pattern\":{\"shape\":\"\"}},\"name\":\"Wendys\",\"offsetgroup\":\"Wendys\",\"orientation\":\"v\",\"showlegend\":false,\"textposition\":\"auto\",\"x\":[\"Montana\"],\"xaxis\":\"x8\",\"y\":[1.5],\"yaxis\":\"y8\",\"type\":\"bar\"},{\"alignmentgroup\":\"True\",\"hovertemplate\":\"Fast_Food_Resturant=Wendys<br>mostPopular=Church's<br>State=%{x}<br>Number_Per_100_People=%{y}<extra></extra>\",\"legendgroup\":\"Wendys\",\"marker\":{\"color\":\"#B6E880\",\"pattern\":{\"shape\":\"\"}},\"name\":\"Wendys\",\"offsetgroup\":\"Wendys\",\"orientation\":\"v\",\"showlegend\":false,\"textposition\":\"auto\",\"x\":[\"New York\"],\"xaxis\":\"x\",\"y\":[1.1],\"yaxis\":\"y\",\"type\":\"bar\"},{\"alignmentgroup\":\"True\",\"hovertemplate\":\"Fast_Food_Resturant=Wendys<br>mostPopular=Taco Bell<br>State=%{x}<br>Number_Per_100_People=%{y}<extra></extra>\",\"legendgroup\":\"Wendys\",\"marker\":{\"color\":\"#B6E880\",\"pattern\":{\"shape\":\"\"}},\"name\":\"Wendys\",\"offsetgroup\":\"Wendys\",\"orientation\":\"v\",\"showlegend\":false,\"textposition\":\"auto\",\"x\":[\"Vermont\"],\"xaxis\":\"x2\",\"y\":[0.6],\"yaxis\":\"y2\",\"type\":\"bar\"},{\"alignmentgroup\":\"True\",\"hovertemplate\":\"Fast_Food_Resturant=Wendys<br>mostPopular=Charley's<br>State=%{x}<br>Number_Per_100_People=%{y}<extra></extra>\",\"legendgroup\":\"Wendys\",\"marker\":{\"color\":\"#B6E880\",\"pattern\":{\"shape\":\"\"}},\"name\":\"Wendys\",\"offsetgroup\":\"Wendys\",\"orientation\":\"v\",\"showlegend\":false,\"textposition\":\"auto\",\"x\":[\"Washington\"],\"xaxis\":\"x3\",\"y\":[1.0],\"yaxis\":\"y3\",\"type\":\"bar\"},{\"alignmentgroup\":\"True\",\"hovertemplate\":\"Fast_Food_Resturant=Wendys<br>mostPopular=Carl's Jr<br>State=%{x}<br>Number_Per_100_People=%{y}<extra></extra>\",\"legendgroup\":\"Wendys\",\"marker\":{\"color\":\"#B6E880\",\"pattern\":{\"shape\":\"\"}},\"name\":\"Wendys\",\"offsetgroup\":\"Wendys\",\"orientation\":\"v\",\"showlegend\":false,\"textposition\":\"auto\",\"x\":[\"Wyoming\"],\"xaxis\":\"x4\",\"y\":[2.4],\"yaxis\":\"y4\",\"type\":\"bar\"},{\"alignmentgroup\":\"True\",\"hovertemplate\":\"Fast_Food_Resturant=Dairy Queen<br>mostPopular=Chick-Fil-A<br>State=%{x}<br>Number_Per_100_People=%{y}<extra></extra>\",\"legendgroup\":\"Dairy Queen\",\"marker\":{\"color\":\"#FF97FF\",\"pattern\":{\"shape\":\"\"}},\"name\":\"Dairy Queen\",\"offsetgroup\":\"Dairy Queen\",\"orientation\":\"v\",\"showlegend\":true,\"textposition\":\"auto\",\"x\":[\"Alabama\",\"Arkansas\",\"Colorado\",\"Delaware\",\"Florida\",\"Georgia\",\"Idaho\",\"Kentucky\",\"Louisiana\",\"Maryland\",\"Mississippi\",\"Missouri\",\"New Mexico\",\"North Carolina\",\"Ohio\",\"Oklahoma\",\"Pennsylvania\",\"South Carolina\",\"Tennessee\",\"Texas\",\"Virginia\"],\"xaxis\":\"x9\",\"y\":[1.3,1.0,1.5,1.5,0.7,2.0,1.3,3.1,0.7,0.5,0.9,1.7,1.6,0.9,2.2,0.5,1.5,0.6,1.2,2.0,1.1],\"yaxis\":\"y9\",\"type\":\"bar\"},{\"alignmentgroup\":\"True\",\"hovertemplate\":\"Fast_Food_Resturant=Dairy Queen<br>mostPopular=McDonald's<br>State=%{x}<br>Number_Per_100_People=%{y}<extra></extra>\",\"legendgroup\":\"Dairy Queen\",\"marker\":{\"color\":\"#FF97FF\",\"pattern\":{\"shape\":\"\"}},\"name\":\"Dairy Queen\",\"offsetgroup\":\"Dairy Queen\",\"orientation\":\"v\",\"showlegend\":false,\"textposition\":\"auto\",\"x\":[\"Alaska\",\"Indiana\",\"Maine\",\"Massachusetts\",\"Michigan\",\"Nebraska\",\"New Hampshire\",\"North Dakota\",\"Rhode Island\",\"South Dakota\",\"West Virginia\",\"Wisconsin\"],\"xaxis\":\"x10\",\"y\":[0.7,3.1,1.7,0.5,1.6,2.9,0.9,5.0,0.2,4.5,3.9,2.2],\"yaxis\":\"y10\",\"type\":\"bar\"},{\"alignmentgroup\":\"True\",\"hovertemplate\":\"Fast_Food_Resturant=Dairy Queen<br>mostPopular=In-N-Out<br>State=%{x}<br>Number_Per_100_People=%{y}<extra></extra>\",\"legendgroup\":\"Dairy Queen\",\"marker\":{\"color\":\"#FF97FF\",\"pattern\":{\"shape\":\"\"}},\"name\":\"Dairy Queen\",\"offsetgroup\":\"Dairy Queen\",\"orientation\":\"v\",\"showlegend\":false,\"textposition\":\"auto\",\"x\":[\"Arizona\",\"California\",\"Nevada\",\"Utah\"],\"xaxis\":\"x11\",\"y\":[1.5,0.2,1.2,0.8],\"yaxis\":\"y11\",\"type\":\"bar\"},{\"alignmentgroup\":\"True\",\"hovertemplate\":\"Fast_Food_Resturant=Dairy Queen<br>mostPopular=Panda Express<br>State=%{x}<br>Number_Per_100_People=%{y}<extra></extra>\",\"legendgroup\":\"Dairy Queen\",\"marker\":{\"color\":\"#FF97FF\",\"pattern\":{\"shape\":\"\"}},\"name\":\"Dairy Queen\",\"offsetgroup\":\"Dairy Queen\",\"orientation\":\"v\",\"showlegend\":false,\"textposition\":\"auto\",\"x\":[\"Connecticut\",\"Hawaii\",\"Minnesota\",\"New Jersey\",\"Oregon\"],\"xaxis\":\"x12\",\"y\":[1.1,0.5,4.0,0.9,2.3],\"yaxis\":\"y12\",\"type\":\"bar\"},{\"alignmentgroup\":\"True\",\"hovertemplate\":\"Fast_Food_Resturant=Dairy Queen<br>mostPopular=White Castle<br>State=%{x}<br>Number_Per_100_People=%{y}<extra></extra>\",\"legendgroup\":\"Dairy Queen\",\"marker\":{\"color\":\"#FF97FF\",\"pattern\":{\"shape\":\"\"}},\"name\":\"Dairy Queen\",\"offsetgroup\":\"Dairy Queen\",\"orientation\":\"v\",\"showlegend\":false,\"textposition\":\"auto\",\"x\":[\"Illinois\"],\"xaxis\":\"x5\",\"y\":[2.0],\"yaxis\":\"y5\",\"type\":\"bar\"},{\"alignmentgroup\":\"True\",\"hovertemplate\":\"Fast_Food_Resturant=Dairy Queen<br>mostPopular=Wendy's<br>State=%{x}<br>Number_Per_100_People=%{y}<extra></extra>\",\"legendgroup\":\"Dairy Queen\",\"marker\":{\"color\":\"#FF97FF\",\"pattern\":{\"shape\":\"\"}},\"name\":\"Dairy Queen\",\"offsetgroup\":\"Dairy Queen\",\"orientation\":\"v\",\"showlegend\":false,\"textposition\":\"auto\",\"x\":[\"Iowa\"],\"xaxis\":\"x6\",\"y\":[3.3],\"yaxis\":\"y6\",\"type\":\"bar\"},{\"alignmentgroup\":\"True\",\"hovertemplate\":\"Fast_Food_Resturant=Dairy Queen<br>mostPopular=Jack In the Box<br>State=%{x}<br>Number_Per_100_People=%{y}<extra></extra>\",\"legendgroup\":\"Dairy Queen\",\"marker\":{\"color\":\"#FF97FF\",\"pattern\":{\"shape\":\"\"}},\"name\":\"Dairy Queen\",\"offsetgroup\":\"Dairy Queen\",\"orientation\":\"v\",\"showlegend\":false,\"textposition\":\"auto\",\"x\":[\"Kansas\"],\"xaxis\":\"x7\",\"y\":[2.2],\"yaxis\":\"y7\",\"type\":\"bar\"},{\"alignmentgroup\":\"True\",\"hovertemplate\":\"Fast_Food_Resturant=Dairy Queen<br>mostPopular=Sonic<br>State=%{x}<br>Number_Per_100_People=%{y}<extra></extra>\",\"legendgroup\":\"Dairy Queen\",\"marker\":{\"color\":\"#FF97FF\",\"pattern\":{\"shape\":\"\"}},\"name\":\"Dairy Queen\",\"offsetgroup\":\"Dairy Queen\",\"orientation\":\"v\",\"showlegend\":false,\"textposition\":\"auto\",\"x\":[\"Montana\"],\"xaxis\":\"x8\",\"y\":[3.4],\"yaxis\":\"y8\",\"type\":\"bar\"},{\"alignmentgroup\":\"True\",\"hovertemplate\":\"Fast_Food_Resturant=Dairy Queen<br>mostPopular=Church's<br>State=%{x}<br>Number_Per_100_People=%{y}<extra></extra>\",\"legendgroup\":\"Dairy Queen\",\"marker\":{\"color\":\"#FF97FF\",\"pattern\":{\"shape\":\"\"}},\"name\":\"Dairy Queen\",\"offsetgroup\":\"Dairy Queen\",\"orientation\":\"v\",\"showlegend\":false,\"textposition\":\"auto\",\"x\":[\"New York\"],\"xaxis\":\"x\",\"y\":[0.2],\"yaxis\":\"y\",\"type\":\"bar\"},{\"alignmentgroup\":\"True\",\"hovertemplate\":\"Fast_Food_Resturant=Dairy Queen<br>mostPopular=Taco Bell<br>State=%{x}<br>Number_Per_100_People=%{y}<extra></extra>\",\"legendgroup\":\"Dairy Queen\",\"marker\":{\"color\":\"#FF97FF\",\"pattern\":{\"shape\":\"\"}},\"name\":\"Dairy Queen\",\"offsetgroup\":\"Dairy Queen\",\"orientation\":\"v\",\"showlegend\":false,\"textposition\":\"auto\",\"x\":[\"Vermont\"],\"xaxis\":\"x2\",\"y\":[0.0],\"yaxis\":\"y2\",\"type\":\"bar\"},{\"alignmentgroup\":\"True\",\"hovertemplate\":\"Fast_Food_Resturant=Dairy Queen<br>mostPopular=Charley's<br>State=%{x}<br>Number_Per_100_People=%{y}<extra></extra>\",\"legendgroup\":\"Dairy Queen\",\"marker\":{\"color\":\"#FF97FF\",\"pattern\":{\"shape\":\"\"}},\"name\":\"Dairy Queen\",\"offsetgroup\":\"Dairy Queen\",\"orientation\":\"v\",\"showlegend\":false,\"textposition\":\"auto\",\"x\":[\"Washington\"],\"xaxis\":\"x3\",\"y\":[1.3],\"yaxis\":\"y3\",\"type\":\"bar\"},{\"alignmentgroup\":\"True\",\"hovertemplate\":\"Fast_Food_Resturant=Dairy Queen<br>mostPopular=Carl's Jr<br>State=%{x}<br>Number_Per_100_People=%{y}<extra></extra>\",\"legendgroup\":\"Dairy Queen\",\"marker\":{\"color\":\"#FF97FF\",\"pattern\":{\"shape\":\"\"}},\"name\":\"Dairy Queen\",\"offsetgroup\":\"Dairy Queen\",\"orientation\":\"v\",\"showlegend\":false,\"textposition\":\"auto\",\"x\":[\"Wyoming\"],\"xaxis\":\"x4\",\"y\":[1.6],\"yaxis\":\"y4\",\"type\":\"bar\"},{\"alignmentgroup\":\"True\",\"hovertemplate\":\"Fast_Food_Resturant=KFC<br>mostPopular=Chick-Fil-A<br>State=%{x}<br>Number_Per_100_People=%{y}<extra></extra>\",\"legendgroup\":\"KFC\",\"marker\":{\"color\":\"#FECB52\",\"pattern\":{\"shape\":\"\"}},\"name\":\"KFC\",\"offsetgroup\":\"KFC\",\"orientation\":\"v\",\"showlegend\":true,\"textposition\":\"auto\",\"x\":[\"Alabama\",\"Arkansas\",\"Colorado\",\"Delaware\",\"Florida\",\"Georgia\",\"Idaho\",\"Kentucky\",\"Louisiana\",\"Maryland\",\"Mississippi\",\"Missouri\",\"New Mexico\",\"North Carolina\",\"Ohio\",\"Oklahoma\",\"Pennsylvania\",\"South Carolina\",\"Tennessee\",\"Texas\",\"Virginia\"],\"xaxis\":\"x9\",\"y\":[1.8,2.0,1.2,1.1,1.2,1.5,0.8,2.3,1.0,1.1,2.3,1.2,1.8,1.7,1.7,1.7,1.0,1.9,1.9,1.0,1.4],\"yaxis\":\"y9\",\"type\":\"bar\"},{\"alignmentgroup\":\"True\",\"hovertemplate\":\"Fast_Food_Resturant=KFC<br>mostPopular=McDonald's<br>State=%{x}<br>Number_Per_100_People=%{y}<extra></extra>\",\"legendgroup\":\"KFC\",\"marker\":{\"color\":\"#FECB52\",\"pattern\":{\"shape\":\"\"}},\"name\":\"KFC\",\"offsetgroup\":\"KFC\",\"orientation\":\"v\",\"showlegend\":false,\"textposition\":\"auto\",\"x\":[\"Alaska\",\"Indiana\",\"Maine\",\"Massachusetts\",\"Michigan\",\"Nebraska\",\"New Hampshire\",\"North Dakota\",\"Rhode Island\",\"South Dakota\",\"West Virginia\",\"Wisconsin\"],\"xaxis\":\"x10\",\"y\":[0.8,1.8,1.3,0.7,1.6,1.2,1.0,1.0,1.3,0.8,2.1,1.1],\"yaxis\":\"y10\",\"type\":\"bar\"},{\"alignmentgroup\":\"True\",\"hovertemplate\":\"Fast_Food_Resturant=KFC<br>mostPopular=In-N-Out<br>State=%{x}<br>Number_Per_100_People=%{y}<extra></extra>\",\"legendgroup\":\"KFC\",\"marker\":{\"color\":\"#FECB52\",\"pattern\":{\"shape\":\"\"}},\"name\":\"KFC\",\"offsetgroup\":\"KFC\",\"orientation\":\"v\",\"showlegend\":false,\"textposition\":\"auto\",\"x\":[\"Arizona\",\"California\",\"Nevada\",\"Utah\"],\"xaxis\":\"x11\",\"y\":[0.8,1.1,1.3,1.2],\"yaxis\":\"y11\",\"type\":\"bar\"},{\"alignmentgroup\":\"True\",\"hovertemplate\":\"Fast_Food_Resturant=KFC<br>mostPopular=Panda Express<br>State=%{x}<br>Number_Per_100_People=%{y}<extra></extra>\",\"legendgroup\":\"KFC\",\"marker\":{\"color\":\"#FECB52\",\"pattern\":{\"shape\":\"\"}},\"name\":\"KFC\",\"offsetgroup\":\"KFC\",\"orientation\":\"v\",\"showlegend\":false,\"textposition\":\"auto\",\"x\":[\"Connecticut\",\"Hawaii\",\"Minnesota\",\"New Jersey\",\"Oregon\"],\"xaxis\":\"x12\",\"y\":[1.0,1.1,0.7,0.6,1.2],\"yaxis\":\"y12\",\"type\":\"bar\"},{\"alignmentgroup\":\"True\",\"hovertemplate\":\"Fast_Food_Resturant=KFC<br>mostPopular=White Castle<br>State=%{x}<br>Number_Per_100_People=%{y}<extra></extra>\",\"legendgroup\":\"KFC\",\"marker\":{\"color\":\"#FECB52\",\"pattern\":{\"shape\":\"\"}},\"name\":\"KFC\",\"offsetgroup\":\"KFC\",\"orientation\":\"v\",\"showlegend\":false,\"textposition\":\"auto\",\"x\":[\"Illinois\"],\"xaxis\":\"x5\",\"y\":[1.2],\"yaxis\":\"y5\",\"type\":\"bar\"},{\"alignmentgroup\":\"True\",\"hovertemplate\":\"Fast_Food_Resturant=KFC<br>mostPopular=Wendy's<br>State=%{x}<br>Number_Per_100_People=%{y}<extra></extra>\",\"legendgroup\":\"KFC\",\"marker\":{\"color\":\"#FECB52\",\"pattern\":{\"shape\":\"\"}},\"name\":\"KFC\",\"offsetgroup\":\"KFC\",\"orientation\":\"v\",\"showlegend\":false,\"textposition\":\"auto\",\"x\":[\"Iowa\"],\"xaxis\":\"x6\",\"y\":[1.3],\"yaxis\":\"y6\",\"type\":\"bar\"},{\"alignmentgroup\":\"True\",\"hovertemplate\":\"Fast_Food_Resturant=KFC<br>mostPopular=Jack In the Box<br>State=%{x}<br>Number_Per_100_People=%{y}<extra></extra>\",\"legendgroup\":\"KFC\",\"marker\":{\"color\":\"#FECB52\",\"pattern\":{\"shape\":\"\"}},\"name\":\"KFC\",\"offsetgroup\":\"KFC\",\"orientation\":\"v\",\"showlegend\":false,\"textposition\":\"auto\",\"x\":[\"Kansas\"],\"xaxis\":\"x7\",\"y\":[1.3],\"yaxis\":\"y7\",\"type\":\"bar\"},{\"alignmentgroup\":\"True\",\"hovertemplate\":\"Fast_Food_Resturant=KFC<br>mostPopular=Sonic<br>State=%{x}<br>Number_Per_100_People=%{y}<extra></extra>\",\"legendgroup\":\"KFC\",\"marker\":{\"color\":\"#FECB52\",\"pattern\":{\"shape\":\"\"}},\"name\":\"KFC\",\"offsetgroup\":\"KFC\",\"orientation\":\"v\",\"showlegend\":false,\"textposition\":\"auto\",\"x\":[\"Montana\"],\"xaxis\":\"x8\",\"y\":[0.9],\"yaxis\":\"y8\",\"type\":\"bar\"},{\"alignmentgroup\":\"True\",\"hovertemplate\":\"Fast_Food_Resturant=KFC<br>mostPopular=Church's<br>State=%{x}<br>Number_Per_100_People=%{y}<extra></extra>\",\"legendgroup\":\"KFC\",\"marker\":{\"color\":\"#FECB52\",\"pattern\":{\"shape\":\"\"}},\"name\":\"KFC\",\"offsetgroup\":\"KFC\",\"orientation\":\"v\",\"showlegend\":false,\"textposition\":\"auto\",\"x\":[\"New York\"],\"xaxis\":\"x\",\"y\":[0.8],\"yaxis\":\"y\",\"type\":\"bar\"},{\"alignmentgroup\":\"True\",\"hovertemplate\":\"Fast_Food_Resturant=KFC<br>mostPopular=Taco Bell<br>State=%{x}<br>Number_Per_100_People=%{y}<extra></extra>\",\"legendgroup\":\"KFC\",\"marker\":{\"color\":\"#FECB52\",\"pattern\":{\"shape\":\"\"}},\"name\":\"KFC\",\"offsetgroup\":\"KFC\",\"orientation\":\"v\",\"showlegend\":false,\"textposition\":\"auto\",\"x\":[\"Vermont\"],\"xaxis\":\"x2\",\"y\":[1.1],\"yaxis\":\"y2\",\"type\":\"bar\"},{\"alignmentgroup\":\"True\",\"hovertemplate\":\"Fast_Food_Resturant=KFC<br>mostPopular=Charley's<br>State=%{x}<br>Number_Per_100_People=%{y}<extra></extra>\",\"legendgroup\":\"KFC\",\"marker\":{\"color\":\"#FECB52\",\"pattern\":{\"shape\":\"\"}},\"name\":\"KFC\",\"offsetgroup\":\"KFC\",\"orientation\":\"v\",\"showlegend\":false,\"textposition\":\"auto\",\"x\":[\"Washington\"],\"xaxis\":\"x3\",\"y\":[1.0],\"yaxis\":\"y3\",\"type\":\"bar\"},{\"alignmentgroup\":\"True\",\"hovertemplate\":\"Fast_Food_Resturant=KFC<br>mostPopular=Carl's Jr<br>State=%{x}<br>Number_Per_100_People=%{y}<extra></extra>\",\"legendgroup\":\"KFC\",\"marker\":{\"color\":\"#FECB52\",\"pattern\":{\"shape\":\"\"}},\"name\":\"KFC\",\"offsetgroup\":\"KFC\",\"orientation\":\"v\",\"showlegend\":false,\"textposition\":\"auto\",\"x\":[\"Wyoming\"],\"xaxis\":\"x4\",\"y\":[1.0],\"yaxis\":\"y4\",\"type\":\"bar\"}],                        {\"template\":{\"data\":{\"bar\":[{\"error_x\":{\"color\":\"#2a3f5f\"},\"error_y\":{\"color\":\"#2a3f5f\"},\"marker\":{\"line\":{\"color\":\"#E5ECF6\",\"width\":0.5},\"pattern\":{\"fillmode\":\"overlay\",\"size\":10,\"solidity\":0.2}},\"type\":\"bar\"}],\"barpolar\":[{\"marker\":{\"line\":{\"color\":\"#E5ECF6\",\"width\":0.5},\"pattern\":{\"fillmode\":\"overlay\",\"size\":10,\"solidity\":0.2}},\"type\":\"barpolar\"}],\"carpet\":[{\"aaxis\":{\"endlinecolor\":\"#2a3f5f\",\"gridcolor\":\"white\",\"linecolor\":\"white\",\"minorgridcolor\":\"white\",\"startlinecolor\":\"#2a3f5f\"},\"baxis\":{\"endlinecolor\":\"#2a3f5f\",\"gridcolor\":\"white\",\"linecolor\":\"white\",\"minorgridcolor\":\"white\",\"startlinecolor\":\"#2a3f5f\"},\"type\":\"carpet\"}],\"choropleth\":[{\"colorbar\":{\"outlinewidth\":0,\"ticks\":\"\"},\"type\":\"choropleth\"}],\"contour\":[{\"colorbar\":{\"outlinewidth\":0,\"ticks\":\"\"},\"colorscale\":[[0.0,\"#0d0887\"],[0.1111111111111111,\"#46039f\"],[0.2222222222222222,\"#7201a8\"],[0.3333333333333333,\"#9c179e\"],[0.4444444444444444,\"#bd3786\"],[0.5555555555555556,\"#d8576b\"],[0.6666666666666666,\"#ed7953\"],[0.7777777777777778,\"#fb9f3a\"],[0.8888888888888888,\"#fdca26\"],[1.0,\"#f0f921\"]],\"type\":\"contour\"}],\"contourcarpet\":[{\"colorbar\":{\"outlinewidth\":0,\"ticks\":\"\"},\"type\":\"contourcarpet\"}],\"heatmap\":[{\"colorbar\":{\"outlinewidth\":0,\"ticks\":\"\"},\"colorscale\":[[0.0,\"#0d0887\"],[0.1111111111111111,\"#46039f\"],[0.2222222222222222,\"#7201a8\"],[0.3333333333333333,\"#9c179e\"],[0.4444444444444444,\"#bd3786\"],[0.5555555555555556,\"#d8576b\"],[0.6666666666666666,\"#ed7953\"],[0.7777777777777778,\"#fb9f3a\"],[0.8888888888888888,\"#fdca26\"],[1.0,\"#f0f921\"]],\"type\":\"heatmap\"}],\"heatmapgl\":[{\"colorbar\":{\"outlinewidth\":0,\"ticks\":\"\"},\"colorscale\":[[0.0,\"#0d0887\"],[0.1111111111111111,\"#46039f\"],[0.2222222222222222,\"#7201a8\"],[0.3333333333333333,\"#9c179e\"],[0.4444444444444444,\"#bd3786\"],[0.5555555555555556,\"#d8576b\"],[0.6666666666666666,\"#ed7953\"],[0.7777777777777778,\"#fb9f3a\"],[0.8888888888888888,\"#fdca26\"],[1.0,\"#f0f921\"]],\"type\":\"heatmapgl\"}],\"histogram\":[{\"marker\":{\"pattern\":{\"fillmode\":\"overlay\",\"size\":10,\"solidity\":0.2}},\"type\":\"histogram\"}],\"histogram2d\":[{\"colorbar\":{\"outlinewidth\":0,\"ticks\":\"\"},\"colorscale\":[[0.0,\"#0d0887\"],[0.1111111111111111,\"#46039f\"],[0.2222222222222222,\"#7201a8\"],[0.3333333333333333,\"#9c179e\"],[0.4444444444444444,\"#bd3786\"],[0.5555555555555556,\"#d8576b\"],[0.6666666666666666,\"#ed7953\"],[0.7777777777777778,\"#fb9f3a\"],[0.8888888888888888,\"#fdca26\"],[1.0,\"#f0f921\"]],\"type\":\"histogram2d\"}],\"histogram2dcontour\":[{\"colorbar\":{\"outlinewidth\":0,\"ticks\":\"\"},\"colorscale\":[[0.0,\"#0d0887\"],[0.1111111111111111,\"#46039f\"],[0.2222222222222222,\"#7201a8\"],[0.3333333333333333,\"#9c179e\"],[0.4444444444444444,\"#bd3786\"],[0.5555555555555556,\"#d8576b\"],[0.6666666666666666,\"#ed7953\"],[0.7777777777777778,\"#fb9f3a\"],[0.8888888888888888,\"#fdca26\"],[1.0,\"#f0f921\"]],\"type\":\"histogram2dcontour\"}],\"mesh3d\":[{\"colorbar\":{\"outlinewidth\":0,\"ticks\":\"\"},\"type\":\"mesh3d\"}],\"parcoords\":[{\"line\":{\"colorbar\":{\"outlinewidth\":0,\"ticks\":\"\"}},\"type\":\"parcoords\"}],\"pie\":[{\"automargin\":true,\"type\":\"pie\"}],\"scatter\":[{\"marker\":{\"colorbar\":{\"outlinewidth\":0,\"ticks\":\"\"}},\"type\":\"scatter\"}],\"scatter3d\":[{\"line\":{\"colorbar\":{\"outlinewidth\":0,\"ticks\":\"\"}},\"marker\":{\"colorbar\":{\"outlinewidth\":0,\"ticks\":\"\"}},\"type\":\"scatter3d\"}],\"scattercarpet\":[{\"marker\":{\"colorbar\":{\"outlinewidth\":0,\"ticks\":\"\"}},\"type\":\"scattercarpet\"}],\"scattergeo\":[{\"marker\":{\"colorbar\":{\"outlinewidth\":0,\"ticks\":\"\"}},\"type\":\"scattergeo\"}],\"scattergl\":[{\"marker\":{\"colorbar\":{\"outlinewidth\":0,\"ticks\":\"\"}},\"type\":\"scattergl\"}],\"scattermapbox\":[{\"marker\":{\"colorbar\":{\"outlinewidth\":0,\"ticks\":\"\"}},\"type\":\"scattermapbox\"}],\"scatterpolar\":[{\"marker\":{\"colorbar\":{\"outlinewidth\":0,\"ticks\":\"\"}},\"type\":\"scatterpolar\"}],\"scatterpolargl\":[{\"marker\":{\"colorbar\":{\"outlinewidth\":0,\"ticks\":\"\"}},\"type\":\"scatterpolargl\"}],\"scatterternary\":[{\"marker\":{\"colorbar\":{\"outlinewidth\":0,\"ticks\":\"\"}},\"type\":\"scatterternary\"}],\"surface\":[{\"colorbar\":{\"outlinewidth\":0,\"ticks\":\"\"},\"colorscale\":[[0.0,\"#0d0887\"],[0.1111111111111111,\"#46039f\"],[0.2222222222222222,\"#7201a8\"],[0.3333333333333333,\"#9c179e\"],[0.4444444444444444,\"#bd3786\"],[0.5555555555555556,\"#d8576b\"],[0.6666666666666666,\"#ed7953\"],[0.7777777777777778,\"#fb9f3a\"],[0.8888888888888888,\"#fdca26\"],[1.0,\"#f0f921\"]],\"type\":\"surface\"}],\"table\":[{\"cells\":{\"fill\":{\"color\":\"#EBF0F8\"},\"line\":{\"color\":\"white\"}},\"header\":{\"fill\":{\"color\":\"#C8D4E3\"},\"line\":{\"color\":\"white\"}},\"type\":\"table\"}]},\"layout\":{\"annotationdefaults\":{\"arrowcolor\":\"#2a3f5f\",\"arrowhead\":0,\"arrowwidth\":1},\"autotypenumbers\":\"strict\",\"coloraxis\":{\"colorbar\":{\"outlinewidth\":0,\"ticks\":\"\"}},\"colorscale\":{\"diverging\":[[0,\"#8e0152\"],[0.1,\"#c51b7d\"],[0.2,\"#de77ae\"],[0.3,\"#f1b6da\"],[0.4,\"#fde0ef\"],[0.5,\"#f7f7f7\"],[0.6,\"#e6f5d0\"],[0.7,\"#b8e186\"],[0.8,\"#7fbc41\"],[0.9,\"#4d9221\"],[1,\"#276419\"]],\"sequential\":[[0.0,\"#0d0887\"],[0.1111111111111111,\"#46039f\"],[0.2222222222222222,\"#7201a8\"],[0.3333333333333333,\"#9c179e\"],[0.4444444444444444,\"#bd3786\"],[0.5555555555555556,\"#d8576b\"],[0.6666666666666666,\"#ed7953\"],[0.7777777777777778,\"#fb9f3a\"],[0.8888888888888888,\"#fdca26\"],[1.0,\"#f0f921\"]],\"sequentialminus\":[[0.0,\"#0d0887\"],[0.1111111111111111,\"#46039f\"],[0.2222222222222222,\"#7201a8\"],[0.3333333333333333,\"#9c179e\"],[0.4444444444444444,\"#bd3786\"],[0.5555555555555556,\"#d8576b\"],[0.6666666666666666,\"#ed7953\"],[0.7777777777777778,\"#fb9f3a\"],[0.8888888888888888,\"#fdca26\"],[1.0,\"#f0f921\"]]},\"colorway\":[\"#636efa\",\"#EF553B\",\"#00cc96\",\"#ab63fa\",\"#FFA15A\",\"#19d3f3\",\"#FF6692\",\"#B6E880\",\"#FF97FF\",\"#FECB52\"],\"font\":{\"color\":\"#2a3f5f\"},\"geo\":{\"bgcolor\":\"white\",\"lakecolor\":\"white\",\"landcolor\":\"#E5ECF6\",\"showlakes\":true,\"showland\":true,\"subunitcolor\":\"white\"},\"hoverlabel\":{\"align\":\"left\"},\"hovermode\":\"closest\",\"mapbox\":{\"style\":\"light\"},\"paper_bgcolor\":\"white\",\"plot_bgcolor\":\"#E5ECF6\",\"polar\":{\"angularaxis\":{\"gridcolor\":\"white\",\"linecolor\":\"white\",\"ticks\":\"\"},\"bgcolor\":\"#E5ECF6\",\"radialaxis\":{\"gridcolor\":\"white\",\"linecolor\":\"white\",\"ticks\":\"\"}},\"scene\":{\"xaxis\":{\"backgroundcolor\":\"#E5ECF6\",\"gridcolor\":\"white\",\"gridwidth\":2,\"linecolor\":\"white\",\"showbackground\":true,\"ticks\":\"\",\"zerolinecolor\":\"white\"},\"yaxis\":{\"backgroundcolor\":\"#E5ECF6\",\"gridcolor\":\"white\",\"gridwidth\":2,\"linecolor\":\"white\",\"showbackground\":true,\"ticks\":\"\",\"zerolinecolor\":\"white\"},\"zaxis\":{\"backgroundcolor\":\"#E5ECF6\",\"gridcolor\":\"white\",\"gridwidth\":2,\"linecolor\":\"white\",\"showbackground\":true,\"ticks\":\"\",\"zerolinecolor\":\"white\"}},\"shapedefaults\":{\"line\":{\"color\":\"#2a3f5f\"}},\"ternary\":{\"aaxis\":{\"gridcolor\":\"white\",\"linecolor\":\"white\",\"ticks\":\"\"},\"baxis\":{\"gridcolor\":\"white\",\"linecolor\":\"white\",\"ticks\":\"\"},\"bgcolor\":\"#E5ECF6\",\"caxis\":{\"gridcolor\":\"white\",\"linecolor\":\"white\",\"ticks\":\"\"}},\"title\":{\"x\":0.05},\"xaxis\":{\"automargin\":true,\"gridcolor\":\"white\",\"linecolor\":\"white\",\"ticks\":\"\",\"title\":{\"standoff\":15},\"zerolinecolor\":\"white\",\"zerolinewidth\":2},\"yaxis\":{\"automargin\":true,\"gridcolor\":\"white\",\"linecolor\":\"white\",\"ticks\":\"\",\"title\":{\"standoff\":15},\"zerolinecolor\":\"white\",\"zerolinewidth\":2}}},\"xaxis\":{\"anchor\":\"y\",\"domain\":[0.0,0.235],\"title\":{\"text\":\"State\"}},\"yaxis\":{\"anchor\":\"x\",\"domain\":[0.0,0.2866666666666666],\"title\":{\"text\":\"Number_Per_100_People\"}},\"xaxis2\":{\"anchor\":\"y2\",\"domain\":[0.255,0.49],\"matches\":\"x\",\"title\":{\"text\":\"State\"}},\"yaxis2\":{\"anchor\":\"x2\",\"domain\":[0.0,0.2866666666666666],\"matches\":\"y\",\"showticklabels\":false},\"xaxis3\":{\"anchor\":\"y3\",\"domain\":[0.51,0.745],\"matches\":\"x\",\"title\":{\"text\":\"State\"}},\"yaxis3\":{\"anchor\":\"x3\",\"domain\":[0.0,0.2866666666666666],\"matches\":\"y\",\"showticklabels\":false},\"xaxis4\":{\"anchor\":\"y4\",\"domain\":[0.7649999999999999,0.9999999999999999],\"matches\":\"x\",\"title\":{\"text\":\"State\"}},\"yaxis4\":{\"anchor\":\"x4\",\"domain\":[0.0,0.2866666666666666],\"matches\":\"y\",\"showticklabels\":false},\"xaxis5\":{\"anchor\":\"y5\",\"domain\":[0.0,0.235],\"matches\":\"x\",\"showticklabels\":false},\"yaxis5\":{\"anchor\":\"x5\",\"domain\":[0.35666666666666663,0.6433333333333333],\"matches\":\"y\",\"title\":{\"text\":\"Number_Per_100_People\"}},\"xaxis6\":{\"anchor\":\"y6\",\"domain\":[0.255,0.49],\"matches\":\"x\",\"showticklabels\":false},\"yaxis6\":{\"anchor\":\"x6\",\"domain\":[0.35666666666666663,0.6433333333333333],\"matches\":\"y\",\"showticklabels\":false},\"xaxis7\":{\"anchor\":\"y7\",\"domain\":[0.51,0.745],\"matches\":\"x\",\"showticklabels\":false},\"yaxis7\":{\"anchor\":\"x7\",\"domain\":[0.35666666666666663,0.6433333333333333],\"matches\":\"y\",\"showticklabels\":false},\"xaxis8\":{\"anchor\":\"y8\",\"domain\":[0.7649999999999999,0.9999999999999999],\"matches\":\"x\",\"showticklabels\":false},\"yaxis8\":{\"anchor\":\"x8\",\"domain\":[0.35666666666666663,0.6433333333333333],\"matches\":\"y\",\"showticklabels\":false},\"xaxis9\":{\"anchor\":\"y9\",\"domain\":[0.0,0.235],\"matches\":\"x\",\"showticklabels\":false},\"yaxis9\":{\"anchor\":\"x9\",\"domain\":[0.7133333333333333,0.9999999999999999],\"matches\":\"y\",\"title\":{\"text\":\"Number_Per_100_People\"}},\"xaxis10\":{\"anchor\":\"y10\",\"domain\":[0.255,0.49],\"matches\":\"x\",\"showticklabels\":false},\"yaxis10\":{\"anchor\":\"x10\",\"domain\":[0.7133333333333333,0.9999999999999999],\"matches\":\"y\",\"showticklabels\":false},\"xaxis11\":{\"anchor\":\"y11\",\"domain\":[0.51,0.745],\"matches\":\"x\",\"showticklabels\":false},\"yaxis11\":{\"anchor\":\"x11\",\"domain\":[0.7133333333333333,0.9999999999999999],\"matches\":\"y\",\"showticklabels\":false},\"xaxis12\":{\"anchor\":\"y12\",\"domain\":[0.7649999999999999,0.9999999999999999],\"matches\":\"x\",\"showticklabels\":false},\"yaxis12\":{\"anchor\":\"x12\",\"domain\":[0.7133333333333333,0.9999999999999999],\"matches\":\"y\",\"showticklabels\":false},\"annotations\":[{\"font\":{},\"showarrow\":false,\"text\":\"mostPopular=Church's\",\"x\":0.1175,\"xanchor\":\"center\",\"xref\":\"paper\",\"y\":0.2866666666666666,\"yanchor\":\"bottom\",\"yref\":\"paper\"},{\"font\":{},\"showarrow\":false,\"text\":\"mostPopular=Taco Bell\",\"x\":0.3725,\"xanchor\":\"center\",\"xref\":\"paper\",\"y\":0.2866666666666666,\"yanchor\":\"bottom\",\"yref\":\"paper\"},{\"font\":{},\"showarrow\":false,\"text\":\"mostPopular=Charley's\",\"x\":0.6275,\"xanchor\":\"center\",\"xref\":\"paper\",\"y\":0.2866666666666666,\"yanchor\":\"bottom\",\"yref\":\"paper\"},{\"font\":{},\"showarrow\":false,\"text\":\"mostPopular=Carl's Jr\",\"x\":0.8824999999999998,\"xanchor\":\"center\",\"xref\":\"paper\",\"y\":0.2866666666666666,\"yanchor\":\"bottom\",\"yref\":\"paper\"},{\"font\":{},\"showarrow\":false,\"text\":\"mostPopular=White Castle\",\"x\":0.1175,\"xanchor\":\"center\",\"xref\":\"paper\",\"y\":0.6433333333333333,\"yanchor\":\"bottom\",\"yref\":\"paper\"},{\"font\":{},\"showarrow\":false,\"text\":\"mostPopular=Wendy's\",\"x\":0.3725,\"xanchor\":\"center\",\"xref\":\"paper\",\"y\":0.6433333333333333,\"yanchor\":\"bottom\",\"yref\":\"paper\"},{\"font\":{},\"showarrow\":false,\"text\":\"mostPopular=Jack In the Box\",\"x\":0.6275,\"xanchor\":\"center\",\"xref\":\"paper\",\"y\":0.6433333333333333,\"yanchor\":\"bottom\",\"yref\":\"paper\"},{\"font\":{},\"showarrow\":false,\"text\":\"mostPopular=Sonic\",\"x\":0.8824999999999998,\"xanchor\":\"center\",\"xref\":\"paper\",\"y\":0.6433333333333333,\"yanchor\":\"bottom\",\"yref\":\"paper\"},{\"font\":{},\"showarrow\":false,\"text\":\"mostPopular=Chick-Fil-A\",\"x\":0.1175,\"xanchor\":\"center\",\"xref\":\"paper\",\"y\":0.9999999999999999,\"yanchor\":\"bottom\",\"yref\":\"paper\"},{\"font\":{},\"showarrow\":false,\"text\":\"mostPopular=McDonald's\",\"x\":0.3725,\"xanchor\":\"center\",\"xref\":\"paper\",\"y\":0.9999999999999999,\"yanchor\":\"bottom\",\"yref\":\"paper\"},{\"font\":{},\"showarrow\":false,\"text\":\"mostPopular=In-N-Out\",\"x\":0.6275,\"xanchor\":\"center\",\"xref\":\"paper\",\"y\":0.9999999999999999,\"yanchor\":\"bottom\",\"yref\":\"paper\"},{\"font\":{},\"showarrow\":false,\"text\":\"mostPopular=Panda Express\",\"x\":0.8824999999999998,\"xanchor\":\"center\",\"xref\":\"paper\",\"y\":0.9999999999999999,\"yanchor\":\"bottom\",\"yref\":\"paper\"}],\"legend\":{\"title\":{\"text\":\"Fast_Food_Resturant\"},\"tracegroupgap\":0},\"margin\":{\"t\":60},\"barmode\":\"relative\"},                        {\"responsive\": true}                    ).then(function(){\n",
              "                            \n",
              "var gd = document.getElementById('038733b6-6ea8-4053-b397-31fe665c095c');\n",
              "var x = new MutationObserver(function (mutations, observer) {{\n",
              "        var display = window.getComputedStyle(gd).display;\n",
              "        if (!display || display === 'none') {{\n",
              "            console.log([gd, 'removed!']);\n",
              "            Plotly.purge(gd);\n",
              "            observer.disconnect();\n",
              "        }}\n",
              "}});\n",
              "\n",
              "// Listen for the removal of the full notebook cells\n",
              "var notebookContainer = gd.closest('#notebook-container');\n",
              "if (notebookContainer) {{\n",
              "    x.observe(notebookContainer, {childList: true});\n",
              "}}\n",
              "\n",
              "// Listen for the clearing of the current output cell\n",
              "var outputEl = gd.closest('.output');\n",
              "if (outputEl) {{\n",
              "    x.observe(outputEl, {childList: true});\n",
              "}}\n",
              "\n",
              "                        })                };                            </script>        </div>\n",
              "</body>\n",
              "</html>"
            ]
          },
          "metadata": {}
        }
      ]
    },
    {
      "cell_type": "markdown",
      "source": [
        "# Conclusion:\n",
        "To conclude all of our results...\n",
        "* On average, states who had Chick-fil-a or McDonalds as their most popular fast food restaurant saw higher obesity scores. This finding is based on our barplots showing state obesity scores categorized by the most popular fast food restaurant for each specific state and our comparative boxplots that showed the distribution of obesity score across each favorite fast food restaurant.\n",
        "* There is a correlation between median income and total obesity scores. The lower a state's median income, the higher a state's obesity score was.\n",
        "* Generally, states who had In-N-Out or Panda Express as their most popular fast food restaurant saw higher median household income. Chick-Fil-A saw lower median household income. This makes sense considering the negative correlation we saw between median income and obesity score, and that states that had Chick-Fil-A as their favorite were more obese. This finding is based on our barplots showing median income categorized by the most popular fast food restaurant for each specific state and our comparative boxplots that showed the distribution of median household income across each favorite food restaurant.\n",
        "* There seemed to be more Dunkin Donuts per 100,000 people in the states that had McDonalds as their favorite fast food restaurant. There seemed to be more McDonalds per 100,000 people in the states that had In-N-Out as their favorite fast food restaurant. Other than that, the number of different fast food restaurants per 100,000 people in each state doesn't really seem to correlate with fast food restaurant choice.\n",
        "* We didn’t find much of a correlation between unemployment rate and fast food restaurant choice. This finding is based on our bar plots showing the unemployment rate (for 2021 and 2022) categorized by the most popular fast food restaurant for each specific state and our comparative boxplots that showed the distribution of unemployment rate (for 2021 and 2022) across each favorite fast food restaurant.\n",
        "* 2021 saw much higher average unemployment rates than 2022 did. We can see this based on all of the graphs in which we used unemployment rates because in every year compared with different variables, 2021 always had higher unemployment rates than 2022.\n",
        "* All of the states in the southeast and southwest region with the exception of West Virginia all had Chick-fil-a as their most popular fast food restaurant.\n",
        "\n",
        "* The least healthy states based on our data are:\n",
        "  1. West Virginia\n",
        "  2. Mississippi\n",
        "  3. Kentucky\n",
        "  4. Alabama\n",
        "  5. Arkansas\n",
        "\n",
        "  We determined this based on our stacked bar plot that contained the    rankings of each state for all three categories.\n",
        "* The highest median household income states are:\n",
        "  1. Maryland\n",
        "  2. New Jersey\n",
        "  3. Massachusetts\n",
        "  4. Hawaii\n",
        "  5. Connecticut\n",
        "\n",
        "  We determined this by using a query that organized median household income from highest to lowest.\n",
        "\n"
      ],
      "metadata": {
        "id": "-XG-S1f2S_m2"
      }
    },
    {
      "cell_type": "markdown",
      "source": [
        "# Answering our central question:\n",
        "Now we return to our main question-**How is fast food restaurant choice across the US states affected by the number of given fast food restaurants in each state, obesity rates, unemployment rates, and median household income?**"
      ],
      "metadata": {
        "id": "McHvEEh_UHUH"
      }
    },
    {
      "cell_type": "markdown",
      "source": [
        "We can determine that the most obese states in our data had Chick-Fil-A and McDonalds as their most popular fast food restaurant. Also, we saw that since household median incomes had such a high correlation with total obesity scores, median household income also has an effect on fast food restaurant choice with In-N-Out and Panda Express being fast food restaurants more wealthy states generally have as their favorite. Unfortunately, based on all of the comparative plots we did based on unemployment rate, we found that unemployment rate really didn't have much of an effect on fast food restaurant choice. We also didn't really see much of a correlation between the number of given fast food restaurants in each state and fast food restaurant choice. Yet, we did see that states that had McDonalds as their favorite fast food restaurant had an above average amount of Dunkin Donuts per 100,000 people. States that had In-N-Out as their favorite fast food restaurant had an above average amount of McDonalds per 100,000 people."
      ],
      "metadata": {
        "id": "D7Qo7LYMUUSD"
      }
    }
  ]
}
